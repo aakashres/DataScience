{
 "cells": [
  {
   "cell_type": "markdown",
   "id": "282dd623",
   "metadata": {},
   "source": [
    "# Assignment 1\n",
    "\n",
    "## Learning Outcomes\n",
    "1. Obtain a data set from a public source, and use its documentation to understand it\n",
    "2. Set up a Jupyter notebook and data set to begin a new analysis\n",
    "3. Carry out an exploratory analysis to understand a data set’s contents and communicate them to others.\n"
   ]
  },
  {
   "cell_type": "code",
   "execution_count": null,
   "id": "bec7255a",
   "metadata": {},
   "outputs": [],
   "source": []
  }
 ],
 "metadata": {
  "kernelspec": {
   "display_name": "Python 3",
   "language": "python",
   "name": "python3"
  },
  "language_info": {
   "codemirror_mode": {
    "name": "ipython",
    "version": 3
   },
   "file_extension": ".py",
   "mimetype": "text/x-python",
   "name": "python",
   "nbconvert_exporter": "python",
   "pygments_lexer": "ipython3",
   "version": "3.8.8"
  }
 },
 "nbformat": 4,
 "nbformat_minor": 5
}
