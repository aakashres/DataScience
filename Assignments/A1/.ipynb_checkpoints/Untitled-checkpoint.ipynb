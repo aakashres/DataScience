{
 "cells": [
  {
   "cell_type": "markdown",
   "metadata": {},
   "source": [
    "## Setup\n",
    "Importing the common Python data science modules"
   ]
  },
  {
   "cell_type": "code",
   "execution_count": 1,
   "metadata": {},
   "outputs": [],
   "source": [
    "import pandas as pd\n",
    "import seaborn as sns\n",
    "import matplotlib.pyplot as plt"
   ]
  },
  {
   "cell_type": "markdown",
   "metadata": {},
   "source": [
    "\n",
    "\n",
    "## Loading the data\n",
    "\n",
    "\n",
    "Loading the most recent cohort's data set from Departmen of Education’s College Scorecard: https://collegescorecard.ed.gov/data/\n",
    "\n",
    "The memory usage to load the whole file is very high (630 MB). So it is practical to load just the required columns that would describe the data set's basic characteristics.\n",
    "\n",
    "Loading columns UNITID, INSTNM, STABBR and MAIN\n",
    "\n",
    "UNITID : this is a unique identification number assigned to postsecondary institutions as surveyed through IPEDS, type :    Integer\n",
    "\n",
    "INSTNM : the institution's name , type : String\n",
    "\n",
    "STABBR :  state abbreviation , type : String\n",
    "\n",
    "MAIN :  identifies whether data elements represent main campus of the institution or not, where 1 is a main campus and 0 is not , type : Boolean or Integer\n",
    "\n",
    "\n",
    "\n"
   ]
  },
  {
   "cell_type": "code",
   "execution_count": 2,
   "metadata": {},
   "outputs": [],
   "source": [
    "df = pd.read_csv('Most-Recent-Cohorts-All-Data-Elements.csv', usecols = ['UNITID', 'INSTNM', 'STABBR', 'MAIN'])"
   ]
  },
  {
   "cell_type": "code",
   "execution_count": 3,
   "metadata": {},
   "outputs": [
    {
     "name": "stdout",
     "output_type": "stream",
     "text": [
      "<class 'pandas.core.frame.DataFrame'>\n",
      "RangeIndex: 7115 entries, 0 to 7114\n",
      "Data columns (total 4 columns):\n",
      "UNITID    7115 non-null int64\n",
      "INSTNM    7115 non-null object\n",
      "STABBR    7115 non-null object\n",
      "MAIN      7115 non-null int64\n",
      "dtypes: int64(2), object(2)\n",
      "memory usage: 1.1 MB\n"
     ]
    }
   ],
   "source": [
    "df.info(memory_usage = 'deep')"
   ]
  },
  {
   "cell_type": "markdown",
   "metadata": {},
   "source": [
    "We need to find out:\n",
    "\n",
    "1. total number of schools\n",
    "2. number of main and branch schools\n",
    "3. number of schools per state\n",
    "4. how schools per state are distributed"
   ]
  },
  {
   "cell_type": "markdown",
   "metadata": {},
   "source": [
    "As there are 7115 entries, the total number of schools is 7115."
   ]
  },
  {
   "cell_type": "code",
   "execution_count": 4,
   "metadata": {},
   "outputs": [
    {
     "data": {
      "text/html": [
       "<div>\n",
       "<style scoped>\n",
       "    .dataframe tbody tr th:only-of-type {\n",
       "        vertical-align: middle;\n",
       "    }\n",
       "\n",
       "    .dataframe tbody tr th {\n",
       "        vertical-align: top;\n",
       "    }\n",
       "\n",
       "    .dataframe thead th {\n",
       "        text-align: right;\n",
       "    }\n",
       "</style>\n",
       "<table border=\"1\" class=\"dataframe\">\n",
       "  <thead>\n",
       "    <tr style=\"text-align: right;\">\n",
       "      <th></th>\n",
       "      <th>UNITID</th>\n",
       "      <th>INSTNM</th>\n",
       "      <th>STABBR</th>\n",
       "      <th>MAIN</th>\n",
       "    </tr>\n",
       "  </thead>\n",
       "  <tbody>\n",
       "    <tr>\n",
       "      <th>0</th>\n",
       "      <td>100654</td>\n",
       "      <td>Alabama A &amp; M University</td>\n",
       "      <td>AL</td>\n",
       "      <td>1</td>\n",
       "    </tr>\n",
       "    <tr>\n",
       "      <th>1</th>\n",
       "      <td>100663</td>\n",
       "      <td>University of Alabama at Birmingham</td>\n",
       "      <td>AL</td>\n",
       "      <td>1</td>\n",
       "    </tr>\n",
       "    <tr>\n",
       "      <th>2</th>\n",
       "      <td>100690</td>\n",
       "      <td>Amridge University</td>\n",
       "      <td>AL</td>\n",
       "      <td>1</td>\n",
       "    </tr>\n",
       "    <tr>\n",
       "      <th>3</th>\n",
       "      <td>100706</td>\n",
       "      <td>University of Alabama in Huntsville</td>\n",
       "      <td>AL</td>\n",
       "      <td>1</td>\n",
       "    </tr>\n",
       "    <tr>\n",
       "      <th>4</th>\n",
       "      <td>100724</td>\n",
       "      <td>Alabama State University</td>\n",
       "      <td>AL</td>\n",
       "      <td>1</td>\n",
       "    </tr>\n",
       "  </tbody>\n",
       "</table>\n",
       "</div>"
      ],
      "text/plain": [
       "   UNITID                               INSTNM STABBR  MAIN\n",
       "0  100654             Alabama A & M University     AL     1\n",
       "1  100663  University of Alabama at Birmingham     AL     1\n",
       "2  100690                   Amridge University     AL     1\n",
       "3  100706  University of Alabama in Huntsville     AL     1\n",
       "4  100724             Alabama State University     AL     1"
      ]
     },
     "execution_count": 4,
     "metadata": {},
     "output_type": "execute_result"
    }
   ],
   "source": [
    "df.head()"
   ]
  },
  {
   "cell_type": "markdown",
   "metadata": {},
   "source": [
    "We can rename the column names so it is a little bit easier to work with"
   ]
  },
  {
   "cell_type": "code",
   "execution_count": 5,
   "metadata": {},
   "outputs": [
    {
     "data": {
      "text/html": [
       "<div>\n",
       "<style scoped>\n",
       "    .dataframe tbody tr th:only-of-type {\n",
       "        vertical-align: middle;\n",
       "    }\n",
       "\n",
       "    .dataframe tbody tr th {\n",
       "        vertical-align: top;\n",
       "    }\n",
       "\n",
       "    .dataframe thead th {\n",
       "        text-align: right;\n",
       "    }\n",
       "</style>\n",
       "<table border=\"1\" class=\"dataframe\">\n",
       "  <thead>\n",
       "    <tr style=\"text-align: right;\">\n",
       "      <th></th>\n",
       "      <th>id</th>\n",
       "      <th>name</th>\n",
       "      <th>state</th>\n",
       "      <th>main</th>\n",
       "    </tr>\n",
       "  </thead>\n",
       "  <tbody>\n",
       "    <tr>\n",
       "      <th>0</th>\n",
       "      <td>100654</td>\n",
       "      <td>Alabama A &amp; M University</td>\n",
       "      <td>AL</td>\n",
       "      <td>1</td>\n",
       "    </tr>\n",
       "    <tr>\n",
       "      <th>1</th>\n",
       "      <td>100663</td>\n",
       "      <td>University of Alabama at Birmingham</td>\n",
       "      <td>AL</td>\n",
       "      <td>1</td>\n",
       "    </tr>\n",
       "    <tr>\n",
       "      <th>2</th>\n",
       "      <td>100690</td>\n",
       "      <td>Amridge University</td>\n",
       "      <td>AL</td>\n",
       "      <td>1</td>\n",
       "    </tr>\n",
       "    <tr>\n",
       "      <th>3</th>\n",
       "      <td>100706</td>\n",
       "      <td>University of Alabama in Huntsville</td>\n",
       "      <td>AL</td>\n",
       "      <td>1</td>\n",
       "    </tr>\n",
       "    <tr>\n",
       "      <th>4</th>\n",
       "      <td>100724</td>\n",
       "      <td>Alabama State University</td>\n",
       "      <td>AL</td>\n",
       "      <td>1</td>\n",
       "    </tr>\n",
       "  </tbody>\n",
       "</table>\n",
       "</div>"
      ],
      "text/plain": [
       "       id                                 name state  main\n",
       "0  100654             Alabama A & M University    AL     1\n",
       "1  100663  University of Alabama at Birmingham    AL     1\n",
       "2  100690                   Amridge University    AL     1\n",
       "3  100706  University of Alabama in Huntsville    AL     1\n",
       "4  100724             Alabama State University    AL     1"
      ]
     },
     "execution_count": 5,
     "metadata": {},
     "output_type": "execute_result"
    }
   ],
   "source": [
    "df.rename(columns = {\n",
    "    'UNITID' : 'id',\n",
    "    'INSTNM' : 'name',\n",
    "    'STABBR' : 'state',\n",
    "    'MAIN' : 'main'\n",
    "}, inplace = True)\n",
    "\n",
    "df.head()"
   ]
  },
  {
   "cell_type": "markdown",
   "metadata": {},
   "source": [
    "How many main and branch schools are there?\n",
    "\n",
    "The main column has value 1 for all the main schools. Counting the number of rows using len() that has value 1 for attribute main"
   ]
  },
  {
   "cell_type": "code",
   "execution_count": 6,
   "metadata": {},
   "outputs": [
    {
     "data": {
      "text/plain": [
       "5489"
      ]
     },
     "execution_count": 6,
     "metadata": {},
     "output_type": "execute_result"
    }
   ],
   "source": [
    "len(df[df['main'] == 1])\n"
   ]
  },
  {
   "cell_type": "markdown",
   "metadata": {},
   "source": [
    "There are 5489 main schools. Similarly doing so for branch schools which has value 0 for attribute main\n",
    "\n"
   ]
  },
  {
   "cell_type": "code",
   "execution_count": 7,
   "metadata": {},
   "outputs": [
    {
     "data": {
      "text/plain": [
       "1626"
      ]
     },
     "execution_count": 7,
     "metadata": {},
     "output_type": "execute_result"
    }
   ],
   "source": [
    "len(df[df['main'] == 0 ])"
   ]
  },
  {
   "cell_type": "markdown",
   "metadata": {},
   "source": [
    "There are 1626 branch schools."
   ]
  },
  {
   "cell_type": "markdown",
   "metadata": {},
   "source": [
    "How many schools are there per state?"
   ]
  },
  {
   "cell_type": "markdown",
   "metadata": {},
   "source": [
    "So, we groupby state the id"
   ]
  },
  {
   "cell_type": "code",
   "execution_count": 8,
   "metadata": {},
   "outputs": [
    {
     "data": {
      "text/html": [
       "<div>\n",
       "<style scoped>\n",
       "    .dataframe tbody tr th:only-of-type {\n",
       "        vertical-align: middle;\n",
       "    }\n",
       "\n",
       "    .dataframe tbody tr th {\n",
       "        vertical-align: top;\n",
       "    }\n",
       "\n",
       "    .dataframe thead th {\n",
       "        text-align: right;\n",
       "    }\n",
       "</style>\n",
       "<table border=\"1\" class=\"dataframe\">\n",
       "  <thead>\n",
       "    <tr style=\"text-align: right;\">\n",
       "      <th></th>\n",
       "      <th>count</th>\n",
       "      <th>stateIndex</th>\n",
       "    </tr>\n",
       "    <tr>\n",
       "      <th>state</th>\n",
       "      <th></th>\n",
       "      <th></th>\n",
       "    </tr>\n",
       "  </thead>\n",
       "  <tbody>\n",
       "    <tr>\n",
       "      <th>AK</th>\n",
       "      <td>9</td>\n",
       "      <td>1</td>\n",
       "    </tr>\n",
       "    <tr>\n",
       "      <th>AL</th>\n",
       "      <td>94</td>\n",
       "      <td>2</td>\n",
       "    </tr>\n",
       "    <tr>\n",
       "      <th>AR</th>\n",
       "      <td>89</td>\n",
       "      <td>3</td>\n",
       "    </tr>\n",
       "    <tr>\n",
       "      <th>AS</th>\n",
       "      <td>1</td>\n",
       "      <td>4</td>\n",
       "    </tr>\n",
       "    <tr>\n",
       "      <th>AZ</th>\n",
       "      <td>125</td>\n",
       "      <td>5</td>\n",
       "    </tr>\n",
       "  </tbody>\n",
       "</table>\n",
       "</div>"
      ],
      "text/plain": [
       "       count  stateIndex\n",
       "state                   \n",
       "AK         9           1\n",
       "AL        94           2\n",
       "AR        89           3\n",
       "AS         1           4\n",
       "AZ       125           5"
      ]
     },
     "execution_count": 8,
     "metadata": {},
     "output_type": "execute_result"
    }
   ],
   "source": [
    "school_stats = df.groupby('state')['id'].agg(['count'])\n",
    "school_stats['stateIndex'] = range(1, len(school_stats) + 1)\n",
    "school_stats.head()"
   ]
  },
  {
   "cell_type": "markdown",
   "metadata": {},
   "source": [
    "I grouped the dataframe by state, which is the state abbreviation. This gives us the total number of schools in each state. I introduced a new column stateIndex which I think will help me in to visualize above information in a bar plot."
   ]
  },
  {
   "cell_type": "code",
   "execution_count": 9,
   "metadata": {},
   "outputs": [
    {
     "data": {
      "text/plain": [
       "count     59.000000\n",
       "mean     120.593220\n",
       "std      135.336123\n",
       "min        1.000000\n",
       "25%       29.500000\n",
       "50%       88.000000\n",
       "75%      158.500000\n",
       "max      716.000000\n",
       "Name: count, dtype: float64"
      ]
     },
     "execution_count": 9,
     "metadata": {},
     "output_type": "execute_result"
    }
   ],
   "source": [
    "school_stats['count'].describe()"
   ]
  },
  {
   "cell_type": "code",
   "execution_count": 10,
   "metadata": {},
   "outputs": [
    {
     "data": {
      "text/plain": [
       "Text(0, 0.5, '# of schools')"
      ]
     },
     "execution_count": 10,
     "metadata": {},
     "output_type": "execute_result"
    },
    {
     "data": {
      "image/png": "[encoded data removed]",
      "text/plain": [
       "<Figure size 432x288 with 1 Axes>"
      ]
     },
     "metadata": {
      "needs_background": "light"
     },
     "output_type": "display_data"
    }
   ],
   "source": [
    "plt.bar(school_stats['stateIndex'], school_stats['count'])\n",
    "plt.xlabel('state')\n",
    "plt.ylabel('# of schools')"
   ]
  },
  {
   "cell_type": "code",
   "execution_count": 11,
   "metadata": {},
   "outputs": [
    {
     "data": {
      "text/plain": [
       "<matplotlib.axes._subplots.AxesSubplot at 0x16b0c9e9cc0>"
      ]
     },
     "execution_count": 11,
     "metadata": {},
     "output_type": "execute_result"
    },
    {
     "data": {
      "image/png": "[encoded data removed]",
      "text/plain": [
       "<Figure size 432x288 with 1 Axes>"
      ]
     },
     "metadata": {
      "needs_background": "light"
     },
     "output_type": "display_data"
    }
   ],
   "source": [
    "school_stats['count'].hist()"
   ]
  },
  {
   "cell_type": "markdown",
   "metadata": {},
   "source": [
    "Looking at the number of schools per state in a histogram"
   ]
  },
  {
   "cell_type": "markdown",
   "metadata": {},
   "source": [
    "## Numeric Statistics\n",
    "\n",
    "1. School Enrollment\n",
    "2. Completion rate\n",
    "3. Admission rate\n",
    "4. Cost\n",
    "\n",
    "\n"
   ]
  },
  {
   "cell_type": "markdown",
   "metadata": {},
   "source": [
    "We will use columns\n",
    "\n",
    "UGDS for Enrollment of undergraduate certificate/degree seeking students\n",
    "\n",
    "C100_4_POOLED for Completion rate for first-time, full-time students at four-year institutions (100% of expected time to completion), pooled for two year rolling averages\n",
    "\n",
    "C150_4_POOLED for Completion rate for first-time, full-time students at four-year institutions (150% of expected time to completion), pooled for two year rolling averages\n",
    "\n",
    "C200_4_POOLED for Completion rate for first-time, full-time students at four-year institutions (200% of expected time to completion), pooled for two year rolling averages\n",
    "\n",
    "\n",
    "C100_L4_POOLED for Completion rate for first-time, full-time students at less-than-four-year institutions (100% of expected time to completion), pooled for two year rolling averages\n",
    "\n",
    "C150_L4_POOLED for Completion rate for first-time, full-time students at less-than-four-year institutions (150% of expected time to completion), pooled for two year rolling averages\n",
    "\n",
    "C200_L4_POOLED for Completion rate for first-time, full-time students at less-than-four-year institutions (200% of expected time to completion), pooled for two year rolling averages\n",
    "\n",
    "ADM_RATE for Admission rate\n",
    "\n",
    "COSTT4_A for Average cost of attendance (academic year institutions)\n",
    "\n",
    "COSTT4_P for Average cost of attendance (program-year institutions)\n"
   ]
  },
  {
   "cell_type": "code",
   "execution_count": 12,
   "metadata": {},
   "outputs": [
    {
     "data": {
      "text/html": [
       "<div>\n",
       "<style scoped>\n",
       "    .dataframe tbody tr th:only-of-type {\n",
       "        vertical-align: middle;\n",
       "    }\n",
       "\n",
       "    .dataframe tbody tr th {\n",
       "        vertical-align: top;\n",
       "    }\n",
       "\n",
       "    .dataframe thead th {\n",
       "        text-align: right;\n",
       "    }\n",
       "</style>\n",
       "<table border=\"1\" class=\"dataframe\">\n",
       "  <thead>\n",
       "    <tr style=\"text-align: right;\">\n",
       "      <th></th>\n",
       "      <th>UNITID</th>\n",
       "      <th>ADM_RATE</th>\n",
       "      <th>UGDS</th>\n",
       "      <th>COSTT4_A</th>\n",
       "      <th>COSTT4_P</th>\n",
       "      <th>C150_4_POOLED</th>\n",
       "      <th>C150_L4_POOLED</th>\n",
       "      <th>C200_4_POOLED</th>\n",
       "      <th>C200_L4_POOLED</th>\n",
       "      <th>C100_4_POOLED</th>\n",
       "      <th>C100_L4_POOLED</th>\n",
       "    </tr>\n",
       "  </thead>\n",
       "  <tbody>\n",
       "    <tr>\n",
       "      <th>0</th>\n",
       "      <td>100654</td>\n",
       "      <td>0.9027</td>\n",
       "      <td>4824.0</td>\n",
       "      <td>22886.0</td>\n",
       "      <td>NaN</td>\n",
       "      <td>0.2594</td>\n",
       "      <td>NaN</td>\n",
       "      <td>0.3629</td>\n",
       "      <td>NaN</td>\n",
       "      <td>0.0528</td>\n",
       "      <td>NaN</td>\n",
       "    </tr>\n",
       "    <tr>\n",
       "      <th>1</th>\n",
       "      <td>100663</td>\n",
       "      <td>0.9181</td>\n",
       "      <td>12866.0</td>\n",
       "      <td>24129.0</td>\n",
       "      <td>NaN</td>\n",
       "      <td>0.5300</td>\n",
       "      <td>NaN</td>\n",
       "      <td>0.5844</td>\n",
       "      <td>NaN</td>\n",
       "      <td>0.3100</td>\n",
       "      <td>NaN</td>\n",
       "    </tr>\n",
       "    <tr>\n",
       "      <th>2</th>\n",
       "      <td>100690</td>\n",
       "      <td>NaN</td>\n",
       "      <td>322.0</td>\n",
       "      <td>15080.0</td>\n",
       "      <td>NaN</td>\n",
       "      <td>0.2424</td>\n",
       "      <td>NaN</td>\n",
       "      <td>0.3044</td>\n",
       "      <td>NaN</td>\n",
       "      <td>0.0370</td>\n",
       "      <td>NaN</td>\n",
       "    </tr>\n",
       "    <tr>\n",
       "      <th>3</th>\n",
       "      <td>100706</td>\n",
       "      <td>0.8123</td>\n",
       "      <td>6917.0</td>\n",
       "      <td>22108.0</td>\n",
       "      <td>NaN</td>\n",
       "      <td>0.4864</td>\n",
       "      <td>NaN</td>\n",
       "      <td>0.5198</td>\n",
       "      <td>NaN</td>\n",
       "      <td>0.1917</td>\n",
       "      <td>NaN</td>\n",
       "    </tr>\n",
       "    <tr>\n",
       "      <th>4</th>\n",
       "      <td>100724</td>\n",
       "      <td>0.9787</td>\n",
       "      <td>4189.0</td>\n",
       "      <td>19413.0</td>\n",
       "      <td>NaN</td>\n",
       "      <td>0.2468</td>\n",
       "      <td>NaN</td>\n",
       "      <td>0.2927</td>\n",
       "      <td>NaN</td>\n",
       "      <td>0.0928</td>\n",
       "      <td>NaN</td>\n",
       "    </tr>\n",
       "  </tbody>\n",
       "</table>\n",
       "</div>"
      ],
      "text/plain": [
       "   UNITID  ADM_RATE     UGDS  COSTT4_A  COSTT4_P  C150_4_POOLED  \\\n",
       "0  100654    0.9027   4824.0   22886.0       NaN         0.2594   \n",
       "1  100663    0.9181  12866.0   24129.0       NaN         0.5300   \n",
       "2  100690       NaN    322.0   15080.0       NaN         0.2424   \n",
       "3  100706    0.8123   6917.0   22108.0       NaN         0.4864   \n",
       "4  100724    0.9787   4189.0   19413.0       NaN         0.2468   \n",
       "\n",
       "   C150_L4_POOLED  C200_4_POOLED  C200_L4_POOLED  C100_4_POOLED  \\\n",
       "0             NaN         0.3629             NaN         0.0528   \n",
       "1             NaN         0.5844             NaN         0.3100   \n",
       "2             NaN         0.3044             NaN         0.0370   \n",
       "3             NaN         0.5198             NaN         0.1917   \n",
       "4             NaN         0.2927             NaN         0.0928   \n",
       "\n",
       "   C100_L4_POOLED  \n",
       "0             NaN  \n",
       "1             NaN  \n",
       "2             NaN  \n",
       "3             NaN  \n",
       "4             NaN  "
      ]
     },
     "execution_count": 12,
     "metadata": {},
     "output_type": "execute_result"
    }
   ],
   "source": [
    "num_stats = pd.read_csv('Most-Recent-Cohorts-All-Data-Elements.csv', \n",
    "                        usecols = ['UNITID','UGDS', 'C100_4_POOLED', 'C100_L4_POOLED',\n",
    "                                   'C150_4_POOLED', 'C150_L4_POOLED', \n",
    "                                   'C200_4_POOLED', 'C200_L4_POOLED' ,\n",
    "                                   'ADM_RATE', 'COSTT4_A', 'COSTT4_P' ])\n",
    "num_stats.head()"
   ]
  },
  {
   "cell_type": "code",
   "execution_count": 13,
   "metadata": {},
   "outputs": [],
   "source": [
    "num_stats['C100_COMBINED'] = num_stats['C100_4_POOLED'].combine_first(num_stats['C100_L4_POOLED'])\n",
    "num_stats['C150_COMBINED'] = num_stats['C150_4_POOLED'].combine_first(num_stats['C150_L4_POOLED'])\n",
    "num_stats['C200_COMBINED'] = num_stats['C200_4_POOLED'].combine_first(num_stats['C200_L4_POOLED'])"
   ]
  },
  {
   "cell_type": "code",
   "execution_count": 14,
   "metadata": {},
   "outputs": [],
   "source": [
    "num_stats['COST_COMBINED'] = num_stats['COSTT4_A'].combine_first(num_stats['COSTT4_P'])"
   ]
  },
  {
   "cell_type": "code",
   "execution_count": 15,
   "metadata": {},
   "outputs": [
    {
     "data": {
      "text/html": [
       "<div>\n",
       "<style scoped>\n",
       "    .dataframe tbody tr th:only-of-type {\n",
       "        vertical-align: middle;\n",
       "    }\n",
       "\n",
       "    .dataframe tbody tr th {\n",
       "        vertical-align: top;\n",
       "    }\n",
       "\n",
       "    .dataframe thead th {\n",
       "        text-align: right;\n",
       "    }\n",
       "</style>\n",
       "<table border=\"1\" class=\"dataframe\">\n",
       "  <thead>\n",
       "    <tr style=\"text-align: right;\">\n",
       "      <th></th>\n",
       "      <th>UNITID</th>\n",
       "      <th>ADM_RATE</th>\n",
       "      <th>UGDS</th>\n",
       "      <th>COSTT4_A</th>\n",
       "      <th>COSTT4_P</th>\n",
       "      <th>C150_4_POOLED</th>\n",
       "      <th>C150_L4_POOLED</th>\n",
       "      <th>C200_4_POOLED</th>\n",
       "      <th>C200_L4_POOLED</th>\n",
       "      <th>C100_4_POOLED</th>\n",
       "      <th>C100_L4_POOLED</th>\n",
       "      <th>C100_COMBINED</th>\n",
       "      <th>C150_COMBINED</th>\n",
       "      <th>C200_COMBINED</th>\n",
       "      <th>COST_COMBINED</th>\n",
       "    </tr>\n",
       "  </thead>\n",
       "  <tbody>\n",
       "    <tr>\n",
       "      <th>0</th>\n",
       "      <td>100654</td>\n",
       "      <td>0.9027</td>\n",
       "      <td>4824.0</td>\n",
       "      <td>22886.0</td>\n",
       "      <td>NaN</td>\n",
       "      <td>0.2594</td>\n",
       "      <td>NaN</td>\n",
       "      <td>0.3629</td>\n",
       "      <td>NaN</td>\n",
       "      <td>0.0528</td>\n",
       "      <td>NaN</td>\n",
       "      <td>0.0528</td>\n",
       "      <td>0.2594</td>\n",
       "      <td>0.3629</td>\n",
       "      <td>22886.0</td>\n",
       "    </tr>\n",
       "    <tr>\n",
       "      <th>1</th>\n",
       "      <td>100663</td>\n",
       "      <td>0.9181</td>\n",
       "      <td>12866.0</td>\n",
       "      <td>24129.0</td>\n",
       "      <td>NaN</td>\n",
       "      <td>0.5300</td>\n",
       "      <td>NaN</td>\n",
       "      <td>0.5844</td>\n",
       "      <td>NaN</td>\n",
       "      <td>0.3100</td>\n",
       "      <td>NaN</td>\n",
       "      <td>0.3100</td>\n",
       "      <td>0.5300</td>\n",
       "      <td>0.5844</td>\n",
       "      <td>24129.0</td>\n",
       "    </tr>\n",
       "    <tr>\n",
       "      <th>2</th>\n",
       "      <td>100690</td>\n",
       "      <td>NaN</td>\n",
       "      <td>322.0</td>\n",
       "      <td>15080.0</td>\n",
       "      <td>NaN</td>\n",
       "      <td>0.2424</td>\n",
       "      <td>NaN</td>\n",
       "      <td>0.3044</td>\n",
       "      <td>NaN</td>\n",
       "      <td>0.0370</td>\n",
       "      <td>NaN</td>\n",
       "      <td>0.0370</td>\n",
       "      <td>0.2424</td>\n",
       "      <td>0.3044</td>\n",
       "      <td>15080.0</td>\n",
       "    </tr>\n",
       "    <tr>\n",
       "      <th>3</th>\n",
       "      <td>100706</td>\n",
       "      <td>0.8123</td>\n",
       "      <td>6917.0</td>\n",
       "      <td>22108.0</td>\n",
       "      <td>NaN</td>\n",
       "      <td>0.4864</td>\n",
       "      <td>NaN</td>\n",
       "      <td>0.5198</td>\n",
       "      <td>NaN</td>\n",
       "      <td>0.1917</td>\n",
       "      <td>NaN</td>\n",
       "      <td>0.1917</td>\n",
       "      <td>0.4864</td>\n",
       "      <td>0.5198</td>\n",
       "      <td>22108.0</td>\n",
       "    </tr>\n",
       "    <tr>\n",
       "      <th>4</th>\n",
       "      <td>100724</td>\n",
       "      <td>0.9787</td>\n",
       "      <td>4189.0</td>\n",
       "      <td>19413.0</td>\n",
       "      <td>NaN</td>\n",
       "      <td>0.2468</td>\n",
       "      <td>NaN</td>\n",
       "      <td>0.2927</td>\n",
       "      <td>NaN</td>\n",
       "      <td>0.0928</td>\n",
       "      <td>NaN</td>\n",
       "      <td>0.0928</td>\n",
       "      <td>0.2468</td>\n",
       "      <td>0.2927</td>\n",
       "      <td>19413.0</td>\n",
       "    </tr>\n",
       "  </tbody>\n",
       "</table>\n",
       "</div>"
      ],
      "text/plain": [
       "   UNITID  ADM_RATE     UGDS  COSTT4_A  COSTT4_P  C150_4_POOLED  \\\n",
       "0  100654    0.9027   4824.0   22886.0       NaN         0.2594   \n",
       "1  100663    0.9181  12866.0   24129.0       NaN         0.5300   \n",
       "2  100690       NaN    322.0   15080.0       NaN         0.2424   \n",
       "3  100706    0.8123   6917.0   22108.0       NaN         0.4864   \n",
       "4  100724    0.9787   4189.0   19413.0       NaN         0.2468   \n",
       "\n",
       "   C150_L4_POOLED  C200_4_POOLED  C200_L4_POOLED  C100_4_POOLED  \\\n",
       "0             NaN         0.3629             NaN         0.0528   \n",
       "1             NaN         0.5844             NaN         0.3100   \n",
       "2             NaN         0.3044             NaN         0.0370   \n",
       "3             NaN         0.5198             NaN         0.1917   \n",
       "4             NaN         0.2927             NaN         0.0928   \n",
       "\n",
       "   C100_L4_POOLED  C100_COMBINED  C150_COMBINED  C200_COMBINED  COST_COMBINED  \n",
       "0             NaN         0.0528         0.2594         0.3629        22886.0  \n",
       "1             NaN         0.3100         0.5300         0.5844        24129.0  \n",
       "2             NaN         0.0370         0.2424         0.3044        15080.0  \n",
       "3             NaN         0.1917         0.4864         0.5198        22108.0  \n",
       "4             NaN         0.0928         0.2468         0.2927        19413.0  "
      ]
     },
     "execution_count": 15,
     "metadata": {},
     "output_type": "execute_result"
    }
   ],
   "source": [
    "num_stats.head()"
   ]
  },
  {
   "cell_type": "code",
   "execution_count": 16,
   "metadata": {},
   "outputs": [
    {
     "data": {
      "text/html": [
       "<div>\n",
       "<style scoped>\n",
       "    .dataframe tbody tr th:only-of-type {\n",
       "        vertical-align: middle;\n",
       "    }\n",
       "\n",
       "    .dataframe tbody tr th {\n",
       "        vertical-align: top;\n",
       "    }\n",
       "\n",
       "    .dataframe thead th {\n",
       "        text-align: right;\n",
       "    }\n",
       "</style>\n",
       "<table border=\"1\" class=\"dataframe\">\n",
       "  <thead>\n",
       "    <tr style=\"text-align: right;\">\n",
       "      <th></th>\n",
       "      <th>UNITID</th>\n",
       "      <th>ADM_RATE</th>\n",
       "      <th>UGDS</th>\n",
       "      <th>C100_COMBINED</th>\n",
       "      <th>C150_COMBINED</th>\n",
       "      <th>C200_COMBINED</th>\n",
       "      <th>COST_COMBINED</th>\n",
       "    </tr>\n",
       "  </thead>\n",
       "  <tbody>\n",
       "    <tr>\n",
       "      <th>0</th>\n",
       "      <td>100654</td>\n",
       "      <td>0.9027</td>\n",
       "      <td>4824.0</td>\n",
       "      <td>0.0528</td>\n",
       "      <td>0.2594</td>\n",
       "      <td>0.3629</td>\n",
       "      <td>22886.0</td>\n",
       "    </tr>\n",
       "    <tr>\n",
       "      <th>1</th>\n",
       "      <td>100663</td>\n",
       "      <td>0.9181</td>\n",
       "      <td>12866.0</td>\n",
       "      <td>0.3100</td>\n",
       "      <td>0.5300</td>\n",
       "      <td>0.5844</td>\n",
       "      <td>24129.0</td>\n",
       "    </tr>\n",
       "    <tr>\n",
       "      <th>2</th>\n",
       "      <td>100690</td>\n",
       "      <td>NaN</td>\n",
       "      <td>322.0</td>\n",
       "      <td>0.0370</td>\n",
       "      <td>0.2424</td>\n",
       "      <td>0.3044</td>\n",
       "      <td>15080.0</td>\n",
       "    </tr>\n",
       "    <tr>\n",
       "      <th>3</th>\n",
       "      <td>100706</td>\n",
       "      <td>0.8123</td>\n",
       "      <td>6917.0</td>\n",
       "      <td>0.1917</td>\n",
       "      <td>0.4864</td>\n",
       "      <td>0.5198</td>\n",
       "      <td>22108.0</td>\n",
       "    </tr>\n",
       "    <tr>\n",
       "      <th>4</th>\n",
       "      <td>100724</td>\n",
       "      <td>0.9787</td>\n",
       "      <td>4189.0</td>\n",
       "      <td>0.0928</td>\n",
       "      <td>0.2468</td>\n",
       "      <td>0.2927</td>\n",
       "      <td>19413.0</td>\n",
       "    </tr>\n",
       "  </tbody>\n",
       "</table>\n",
       "</div>"
      ],
      "text/plain": [
       "   UNITID  ADM_RATE     UGDS  C100_COMBINED  C150_COMBINED  C200_COMBINED  \\\n",
       "0  100654    0.9027   4824.0         0.0528         0.2594         0.3629   \n",
       "1  100663    0.9181  12866.0         0.3100         0.5300         0.5844   \n",
       "2  100690       NaN    322.0         0.0370         0.2424         0.3044   \n",
       "3  100706    0.8123   6917.0         0.1917         0.4864         0.5198   \n",
       "4  100724    0.9787   4189.0         0.0928         0.2468         0.2927   \n",
       "\n",
       "   COST_COMBINED  \n",
       "0        22886.0  \n",
       "1        24129.0  \n",
       "2        15080.0  \n",
       "3        22108.0  \n",
       "4        19413.0  "
      ]
     },
     "execution_count": 16,
     "metadata": {},
     "output_type": "execute_result"
    }
   ],
   "source": [
    "num_stats.drop(columns=['COSTT4_A', 'COSTT4_P', 'C100_4_POOLED', 'C100_L4_POOLED',\n",
    "                        'C150_4_POOLED', 'C150_L4_POOLED', 'C200_4_POOLED','C200_L4_POOLED'], inplace = True)\n",
    "num_stats.head()"
   ]
  },
  {
   "cell_type": "code",
   "execution_count": 17,
   "metadata": {},
   "outputs": [
    {
     "data": {
      "text/html": [
       "<div>\n",
       "<style scoped>\n",
       "    .dataframe tbody tr th:only-of-type {\n",
       "        vertical-align: middle;\n",
       "    }\n",
       "\n",
       "    .dataframe tbody tr th {\n",
       "        vertical-align: top;\n",
       "    }\n",
       "\n",
       "    .dataframe thead th {\n",
       "        text-align: right;\n",
       "    }\n",
       "</style>\n",
       "<table border=\"1\" class=\"dataframe\">\n",
       "  <thead>\n",
       "    <tr style=\"text-align: right;\">\n",
       "      <th></th>\n",
       "      <th>ADM_RATE</th>\n",
       "      <th>UGDS</th>\n",
       "      <th>C100_COMBINED</th>\n",
       "      <th>C150_COMBINED</th>\n",
       "      <th>C200_COMBINED</th>\n",
       "    </tr>\n",
       "  </thead>\n",
       "  <tbody>\n",
       "    <tr>\n",
       "      <th>count</th>\n",
       "      <td>2037.000000</td>\n",
       "      <td>6367.000000</td>\n",
       "      <td>5753.000000</td>\n",
       "      <td>5978.000000</td>\n",
       "      <td>5597.000000</td>\n",
       "    </tr>\n",
       "    <tr>\n",
       "      <th>mean</th>\n",
       "      <td>0.681822</td>\n",
       "      <td>2426.058426</td>\n",
       "      <td>0.355694</td>\n",
       "      <td>0.537964</td>\n",
       "      <td>0.555050</td>\n",
       "    </tr>\n",
       "    <tr>\n",
       "      <th>std</th>\n",
       "      <td>0.212179</td>\n",
       "      <td>5481.326798</td>\n",
       "      <td>0.259574</td>\n",
       "      <td>0.231834</td>\n",
       "      <td>0.229369</td>\n",
       "    </tr>\n",
       "    <tr>\n",
       "      <th>min</th>\n",
       "      <td>0.000000</td>\n",
       "      <td>0.000000</td>\n",
       "      <td>0.000000</td>\n",
       "      <td>0.000000</td>\n",
       "      <td>0.000000</td>\n",
       "    </tr>\n",
       "    <tr>\n",
       "      <th>25%</th>\n",
       "      <td>0.550000</td>\n",
       "      <td>106.000000</td>\n",
       "      <td>0.136300</td>\n",
       "      <td>0.345625</td>\n",
       "      <td>0.372600</td>\n",
       "    </tr>\n",
       "    <tr>\n",
       "      <th>50%</th>\n",
       "      <td>0.707600</td>\n",
       "      <td>401.000000</td>\n",
       "      <td>0.307700</td>\n",
       "      <td>0.559800</td>\n",
       "      <td>0.574700</td>\n",
       "    </tr>\n",
       "    <tr>\n",
       "      <th>75%</th>\n",
       "      <td>0.838400</td>\n",
       "      <td>2018.000000</td>\n",
       "      <td>0.545900</td>\n",
       "      <td>0.719775</td>\n",
       "      <td>0.736100</td>\n",
       "    </tr>\n",
       "    <tr>\n",
       "      <th>max</th>\n",
       "      <td>1.000000</td>\n",
       "      <td>77269.000000</td>\n",
       "      <td>1.000000</td>\n",
       "      <td>1.000000</td>\n",
       "      <td>1.000000</td>\n",
       "    </tr>\n",
       "  </tbody>\n",
       "</table>\n",
       "</div>"
      ],
      "text/plain": [
       "          ADM_RATE          UGDS  C100_COMBINED  C150_COMBINED  C200_COMBINED\n",
       "count  2037.000000   6367.000000    5753.000000    5978.000000    5597.000000\n",
       "mean      0.681822   2426.058426       0.355694       0.537964       0.555050\n",
       "std       0.212179   5481.326798       0.259574       0.231834       0.229369\n",
       "min       0.000000      0.000000       0.000000       0.000000       0.000000\n",
       "25%       0.550000    106.000000       0.136300       0.345625       0.372600\n",
       "50%       0.707600    401.000000       0.307700       0.559800       0.574700\n",
       "75%       0.838400   2018.000000       0.545900       0.719775       0.736100\n",
       "max       1.000000  77269.000000       1.000000       1.000000       1.000000"
      ]
     },
     "execution_count": 17,
     "metadata": {},
     "output_type": "execute_result"
    }
   ],
   "source": [
    "num_stats[['ADM_RATE', 'UGDS', 'C100_COMBINED', 'C150_COMBINED', 'C200_COMBINED']].describe()"
   ]
  },
  {
   "cell_type": "code",
   "execution_count": 18,
   "metadata": {},
   "outputs": [
    {
     "data": {
      "text/plain": [
       "<matplotlib.axes._subplots.AxesSubplot at 0x16b0caf1400>"
      ]
     },
     "execution_count": 18,
     "metadata": {},
     "output_type": "execute_result"
    },
    {
     "data": {
      "image/png": "[encoded data removed]",
      "text/plain": [
       "<Figure size 432x288 with 1 Axes>"
      ]
     },
     "metadata": {
      "needs_background": "light"
     },
     "output_type": "display_data"
    }
   ],
   "source": [
    "num_stats['ADM_RATE'].hist()"
   ]
  },
  {
   "cell_type": "code",
   "execution_count": 19,
   "metadata": {},
   "outputs": [
    {
     "data": {
      "text/plain": [
       "<matplotlib.axes._subplots.AxesSubplot at 0x16b0c9e92b0>"
      ]
     },
     "execution_count": 19,
     "metadata": {},
     "output_type": "execute_result"
    },
    {
     "data": {
      "image/png": "[encoded data removed]",
      "text/plain": [
       "<Figure size 432x288 with 1 Axes>"
      ]
     },
     "metadata": {
      "needs_background": "light"
     },
     "output_type": "display_data"
    }
   ],
   "source": [
    "num_stats['UGDS'].hist()"
   ]
  },
  {
   "cell_type": "code",
   "execution_count": 20,
   "metadata": {},
   "outputs": [
    {
     "data": {
      "text/plain": [
       "<matplotlib.axes._subplots.AxesSubplot at 0x16b0cc027b8>"
      ]
     },
     "execution_count": 20,
     "metadata": {},
     "output_type": "execute_result"
    },
    {
     "data": {
      "image/png": "[encoded data removed]",
      "text/plain": [
       "<Figure size 432x288 with 1 Axes>"
      ]
     },
     "metadata": {
      "needs_background": "light"
     },
     "output_type": "display_data"
    }
   ],
   "source": [
    "num_stats['C100_COMBINED'].hist()"
   ]
  },
  {
   "cell_type": "code",
   "execution_count": 21,
   "metadata": {},
   "outputs": [
    {
     "data": {
      "text/plain": [
       "<matplotlib.axes._subplots.AxesSubplot at 0x16b0cc711d0>"
      ]
     },
     "execution_count": 21,
     "metadata": {},
     "output_type": "execute_result"
    },
    {
     "data": {
      "image/png": "[encoded data removed]",
      "text/plain": [
       "<Figure size 432x288 with 1 Axes>"
      ]
     },
     "metadata": {
      "needs_background": "light"
     },
     "output_type": "display_data"
    }
   ],
   "source": [
    "num_stats['C150_COMBINED'].hist()"
   ]
  },
  {
   "cell_type": "code",
   "execution_count": 22,
   "metadata": {},
   "outputs": [
    {
     "data": {
      "text/plain": [
       "<matplotlib.axes._subplots.AxesSubplot at 0x16b0ccfb470>"
      ]
     },
     "execution_count": 22,
     "metadata": {},
     "output_type": "execute_result"
    },
    {
     "data": {
      "image/png": "[encoded data removed]",
      "text/plain": [
       "<Figure size 432x288 with 1 Axes>"
      ]
     },
     "metadata": {
      "needs_background": "light"
     },
     "output_type": "display_data"
    }
   ],
   "source": [
    "num_stats['C200_COMBINED'].hist()"
   ]
  },
  {
   "cell_type": "code",
   "execution_count": 23,
   "metadata": {},
   "outputs": [
    {
     "data": {
      "text/plain": [
       "<matplotlib.axes._subplots.AxesSubplot at 0x16b0cd716d8>"
      ]
     },
     "execution_count": 23,
     "metadata": {},
     "output_type": "execute_result"
    },
    {
     "data": {
      "image/png": "[encoded data removed]",
      "text/plain": [
       "<Figure size 432x288 with 1 Axes>"
      ]
     },
     "metadata": {
      "needs_background": "light"
     },
     "output_type": "display_data"
    }
   ],
   "source": [
    "num_stats['COST_COMBINED'].hist()"
   ]
  },
  {
   "cell_type": "markdown",
   "metadata": {},
   "source": [
    "## Completion rates\n",
    "\n",
    "1. By state\n",
    "2. BY control/ownership(public, non-profit, for-profit )\n",
    "3. Carnegie classification\n",
    "\n",
    "Loading UNITID, INSTM, STABBR, SCHTYPE, CCBASIC into dataframe\n",
    "\n",
    "SCHTYPE : Control of institution, 1 - Public, 2 - Private,non-profit, 3 - Proprietary\n",
    "CCBASIC : Carnegie Classification -- basic, values can be -2, 1 to 33"
   ]
  },
  {
   "cell_type": "code",
   "execution_count": 24,
   "metadata": {},
   "outputs": [
    {
     "data": {
      "text/html": [
       "<div>\n",
       "<style scoped>\n",
       "    .dataframe tbody tr th:only-of-type {\n",
       "        vertical-align: middle;\n",
       "    }\n",
       "\n",
       "    .dataframe tbody tr th {\n",
       "        vertical-align: top;\n",
       "    }\n",
       "\n",
       "    .dataframe thead th {\n",
       "        text-align: right;\n",
       "    }\n",
       "</style>\n",
       "<table border=\"1\" class=\"dataframe\">\n",
       "  <thead>\n",
       "    <tr style=\"text-align: right;\">\n",
       "      <th></th>\n",
       "      <th>UNITID</th>\n",
       "      <th>INSTNM</th>\n",
       "      <th>STABBR</th>\n",
       "      <th>CCBASIC</th>\n",
       "      <th>SCHTYPE</th>\n",
       "    </tr>\n",
       "  </thead>\n",
       "  <tbody>\n",
       "    <tr>\n",
       "      <th>0</th>\n",
       "      <td>100654</td>\n",
       "      <td>Alabama A &amp; M University</td>\n",
       "      <td>AL</td>\n",
       "      <td>18.0</td>\n",
       "      <td>1.0</td>\n",
       "    </tr>\n",
       "    <tr>\n",
       "      <th>1</th>\n",
       "      <td>100663</td>\n",
       "      <td>University of Alabama at Birmingham</td>\n",
       "      <td>AL</td>\n",
       "      <td>15.0</td>\n",
       "      <td>1.0</td>\n",
       "    </tr>\n",
       "    <tr>\n",
       "      <th>2</th>\n",
       "      <td>100690</td>\n",
       "      <td>Amridge University</td>\n",
       "      <td>AL</td>\n",
       "      <td>20.0</td>\n",
       "      <td>2.0</td>\n",
       "    </tr>\n",
       "    <tr>\n",
       "      <th>3</th>\n",
       "      <td>100706</td>\n",
       "      <td>University of Alabama in Huntsville</td>\n",
       "      <td>AL</td>\n",
       "      <td>16.0</td>\n",
       "      <td>1.0</td>\n",
       "    </tr>\n",
       "    <tr>\n",
       "      <th>4</th>\n",
       "      <td>100724</td>\n",
       "      <td>Alabama State University</td>\n",
       "      <td>AL</td>\n",
       "      <td>19.0</td>\n",
       "      <td>1.0</td>\n",
       "    </tr>\n",
       "  </tbody>\n",
       "</table>\n",
       "</div>"
      ],
      "text/plain": [
       "   UNITID                               INSTNM STABBR  CCBASIC  SCHTYPE\n",
       "0  100654             Alabama A & M University     AL     18.0      1.0\n",
       "1  100663  University of Alabama at Birmingham     AL     15.0      1.0\n",
       "2  100690                   Amridge University     AL     20.0      2.0\n",
       "3  100706  University of Alabama in Huntsville     AL     16.0      1.0\n",
       "4  100724             Alabama State University     AL     19.0      1.0"
      ]
     },
     "execution_count": 24,
     "metadata": {},
     "output_type": "execute_result"
    }
   ],
   "source": [
    "bc = pd.read_csv('Most-Recent-Cohorts-All-Data-Elements.csv',\n",
    "                           usecols = ['UNITID', 'INSTNM', 'STABBR', 'SCHTYPE', 'CCBASIC'])\n",
    "bc.head()"
   ]
  },
  {
   "cell_type": "markdown",
   "metadata": {},
   "source": [
    "Merging num_stats and bc on column UNITID and performing groupby state operation on the completion rates."
   ]
  },
  {
   "cell_type": "code",
   "execution_count": 33,
   "metadata": {},
   "outputs": [
    {
     "data": {
      "text/html": [
       "<div>\n",
       "<style scoped>\n",
       "    .dataframe tbody tr th:only-of-type {\n",
       "        vertical-align: middle;\n",
       "    }\n",
       "\n",
       "    .dataframe tbody tr th {\n",
       "        vertical-align: top;\n",
       "    }\n",
       "\n",
       "    .dataframe thead th {\n",
       "        text-align: right;\n",
       "    }\n",
       "</style>\n",
       "<table border=\"1\" class=\"dataframe\">\n",
       "  <thead>\n",
       "    <tr style=\"text-align: right;\">\n",
       "      <th></th>\n",
       "      <th>UNITID</th>\n",
       "      <th>INSTNM</th>\n",
       "      <th>STABBR</th>\n",
       "      <th>CCBASIC</th>\n",
       "      <th>SCHTYPE</th>\n",
       "      <th>ADM_RATE</th>\n",
       "      <th>UGDS</th>\n",
       "      <th>C100_COMBINED</th>\n",
       "      <th>C150_COMBINED</th>\n",
       "      <th>C200_COMBINED</th>\n",
       "      <th>COST_COMBINED</th>\n",
       "    </tr>\n",
       "  </thead>\n",
       "  <tbody>\n",
       "    <tr>\n",
       "      <th>0</th>\n",
       "      <td>100654</td>\n",
       "      <td>Alabama A &amp; M University</td>\n",
       "      <td>AL</td>\n",
       "      <td>18.0</td>\n",
       "      <td>1.0</td>\n",
       "      <td>0.9027</td>\n",
       "      <td>4824.0</td>\n",
       "      <td>0.0528</td>\n",
       "      <td>0.2594</td>\n",
       "      <td>0.3629</td>\n",
       "      <td>22886.0</td>\n",
       "    </tr>\n",
       "    <tr>\n",
       "      <th>1</th>\n",
       "      <td>100663</td>\n",
       "      <td>University of Alabama at Birmingham</td>\n",
       "      <td>AL</td>\n",
       "      <td>15.0</td>\n",
       "      <td>1.0</td>\n",
       "      <td>0.9181</td>\n",
       "      <td>12866.0</td>\n",
       "      <td>0.3100</td>\n",
       "      <td>0.5300</td>\n",
       "      <td>0.5844</td>\n",
       "      <td>24129.0</td>\n",
       "    </tr>\n",
       "    <tr>\n",
       "      <th>2</th>\n",
       "      <td>100690</td>\n",
       "      <td>Amridge University</td>\n",
       "      <td>AL</td>\n",
       "      <td>20.0</td>\n",
       "      <td>2.0</td>\n",
       "      <td>NaN</td>\n",
       "      <td>322.0</td>\n",
       "      <td>0.0370</td>\n",
       "      <td>0.2424</td>\n",
       "      <td>0.3044</td>\n",
       "      <td>15080.0</td>\n",
       "    </tr>\n",
       "    <tr>\n",
       "      <th>3</th>\n",
       "      <td>100706</td>\n",
       "      <td>University of Alabama in Huntsville</td>\n",
       "      <td>AL</td>\n",
       "      <td>16.0</td>\n",
       "      <td>1.0</td>\n",
       "      <td>0.8123</td>\n",
       "      <td>6917.0</td>\n",
       "      <td>0.1917</td>\n",
       "      <td>0.4864</td>\n",
       "      <td>0.5198</td>\n",
       "      <td>22108.0</td>\n",
       "    </tr>\n",
       "    <tr>\n",
       "      <th>4</th>\n",
       "      <td>100724</td>\n",
       "      <td>Alabama State University</td>\n",
       "      <td>AL</td>\n",
       "      <td>19.0</td>\n",
       "      <td>1.0</td>\n",
       "      <td>0.9787</td>\n",
       "      <td>4189.0</td>\n",
       "      <td>0.0928</td>\n",
       "      <td>0.2468</td>\n",
       "      <td>0.2927</td>\n",
       "      <td>19413.0</td>\n",
       "    </tr>\n",
       "  </tbody>\n",
       "</table>\n",
       "</div>"
      ],
      "text/plain": [
       "   UNITID                               INSTNM STABBR  CCBASIC  SCHTYPE  \\\n",
       "0  100654             Alabama A & M University     AL     18.0      1.0   \n",
       "1  100663  University of Alabama at Birmingham     AL     15.0      1.0   \n",
       "2  100690                   Amridge University     AL     20.0      2.0   \n",
       "3  100706  University of Alabama in Huntsville     AL     16.0      1.0   \n",
       "4  100724             Alabama State University     AL     19.0      1.0   \n",
       "\n",
       "   ADM_RATE     UGDS  C100_COMBINED  C150_COMBINED  C200_COMBINED  \\\n",
       "0    0.9027   4824.0         0.0528         0.2594         0.3629   \n",
       "1    0.9181  12866.0         0.3100         0.5300         0.5844   \n",
       "2       NaN    322.0         0.0370         0.2424         0.3044   \n",
       "3    0.8123   6917.0         0.1917         0.4864         0.5198   \n",
       "4    0.9787   4189.0         0.0928         0.2468         0.2927   \n",
       "\n",
       "   COST_COMBINED  \n",
       "0        22886.0  \n",
       "1        24129.0  \n",
       "2        15080.0  \n",
       "3        22108.0  \n",
       "4        19413.0  "
      ]
     },
     "execution_count": 33,
     "metadata": {},
     "output_type": "execute_result"
    }
   ],
   "source": [
    "\n",
    "\n",
    "bc1 = pd.merge(bc, num_stats, on = 'UNITID') \n",
    "bc1.head()"
   ]
  },
  {
   "cell_type": "code",
   "execution_count": 26,
   "metadata": {},
   "outputs": [
    {
     "data": {
      "text/html": [
       "<div>\n",
       "<style scoped>\n",
       "    .dataframe tbody tr th:only-of-type {\n",
       "        vertical-align: middle;\n",
       "    }\n",
       "\n",
       "    .dataframe tbody tr th {\n",
       "        vertical-align: top;\n",
       "    }\n",
       "\n",
       "    .dataframe thead tr th {\n",
       "        text-align: left;\n",
       "    }\n",
       "\n",
       "    .dataframe thead tr:last-of-type th {\n",
       "        text-align: right;\n",
       "    }\n",
       "</style>\n",
       "<table border=\"1\" class=\"dataframe\">\n",
       "  <thead>\n",
       "    <tr>\n",
       "      <th></th>\n",
       "      <th colspan=\"2\" halign=\"left\">C100_COMBINED</th>\n",
       "      <th colspan=\"2\" halign=\"left\">C150_COMBINED</th>\n",
       "      <th colspan=\"2\" halign=\"left\">C200_COMBINED</th>\n",
       "    </tr>\n",
       "    <tr>\n",
       "      <th></th>\n",
       "      <th>mean</th>\n",
       "      <th>std</th>\n",
       "      <th>mean</th>\n",
       "      <th>std</th>\n",
       "      <th>mean</th>\n",
       "      <th>std</th>\n",
       "    </tr>\n",
       "    <tr>\n",
       "      <th>STABBR</th>\n",
       "      <th></th>\n",
       "      <th></th>\n",
       "      <th></th>\n",
       "      <th></th>\n",
       "      <th></th>\n",
       "      <th></th>\n",
       "    </tr>\n",
       "  </thead>\n",
       "  <tbody>\n",
       "    <tr>\n",
       "      <th>AK</th>\n",
       "      <td>0.317050</td>\n",
       "      <td>0.331369</td>\n",
       "      <td>0.422775</td>\n",
       "      <td>0.265308</td>\n",
       "      <td>0.490286</td>\n",
       "      <td>0.249345</td>\n",
       "    </tr>\n",
       "    <tr>\n",
       "      <th>AL</th>\n",
       "      <td>0.163011</td>\n",
       "      <td>0.129437</td>\n",
       "      <td>0.371412</td>\n",
       "      <td>0.187990</td>\n",
       "      <td>0.378444</td>\n",
       "      <td>0.179970</td>\n",
       "    </tr>\n",
       "    <tr>\n",
       "      <th>AR</th>\n",
       "      <td>0.234576</td>\n",
       "      <td>0.161084</td>\n",
       "      <td>0.436364</td>\n",
       "      <td>0.199061</td>\n",
       "      <td>0.473692</td>\n",
       "      <td>0.214457</td>\n",
       "    </tr>\n",
       "    <tr>\n",
       "      <th>AS</th>\n",
       "      <td>NaN</td>\n",
       "      <td>NaN</td>\n",
       "      <td>0.319800</td>\n",
       "      <td>NaN</td>\n",
       "      <td>NaN</td>\n",
       "      <td>NaN</td>\n",
       "    </tr>\n",
       "    <tr>\n",
       "      <th>AZ</th>\n",
       "      <td>0.326769</td>\n",
       "      <td>0.260985</td>\n",
       "      <td>0.508448</td>\n",
       "      <td>0.250139</td>\n",
       "      <td>0.507256</td>\n",
       "      <td>0.244839</td>\n",
       "    </tr>\n",
       "    <tr>\n",
       "      <th>CA</th>\n",
       "      <td>0.353130</td>\n",
       "      <td>0.267844</td>\n",
       "      <td>0.589306</td>\n",
       "      <td>0.230579</td>\n",
       "      <td>0.624775</td>\n",
       "      <td>0.216033</td>\n",
       "    </tr>\n",
       "    <tr>\n",
       "      <th>CO</th>\n",
       "      <td>0.388516</td>\n",
       "      <td>0.262199</td>\n",
       "      <td>0.541029</td>\n",
       "      <td>0.234681</td>\n",
       "      <td>0.555573</td>\n",
       "      <td>0.228376</td>\n",
       "    </tr>\n",
       "    <tr>\n",
       "      <th>CT</th>\n",
       "      <td>0.414119</td>\n",
       "      <td>0.287087</td>\n",
       "      <td>0.583229</td>\n",
       "      <td>0.252869</td>\n",
       "      <td>0.592170</td>\n",
       "      <td>0.251527</td>\n",
       "    </tr>\n",
       "    <tr>\n",
       "      <th>DC</th>\n",
       "      <td>0.397850</td>\n",
       "      <td>0.311489</td>\n",
       "      <td>0.500069</td>\n",
       "      <td>0.286848</td>\n",
       "      <td>0.536269</td>\n",
       "      <td>0.269789</td>\n",
       "    </tr>\n",
       "    <tr>\n",
       "      <th>DE</th>\n",
       "      <td>0.386743</td>\n",
       "      <td>0.258193</td>\n",
       "      <td>0.584287</td>\n",
       "      <td>0.239067</td>\n",
       "      <td>0.585607</td>\n",
       "      <td>0.212257</td>\n",
       "    </tr>\n",
       "    <tr>\n",
       "      <th>FL</th>\n",
       "      <td>0.407618</td>\n",
       "      <td>0.254622</td>\n",
       "      <td>0.588701</td>\n",
       "      <td>0.209583</td>\n",
       "      <td>0.614453</td>\n",
       "      <td>0.212933</td>\n",
       "    </tr>\n",
       "    <tr>\n",
       "      <th>FM</th>\n",
       "      <td>0.052400</td>\n",
       "      <td>NaN</td>\n",
       "      <td>0.223100</td>\n",
       "      <td>NaN</td>\n",
       "      <td>0.282200</td>\n",
       "      <td>NaN</td>\n",
       "    </tr>\n",
       "    <tr>\n",
       "      <th>GA</th>\n",
       "      <td>0.282025</td>\n",
       "      <td>0.236547</td>\n",
       "      <td>0.442562</td>\n",
       "      <td>0.223076</td>\n",
       "      <td>0.486571</td>\n",
       "      <td>0.208501</td>\n",
       "    </tr>\n",
       "    <tr>\n",
       "      <th>GU</th>\n",
       "      <td>0.034567</td>\n",
       "      <td>0.042134</td>\n",
       "      <td>0.391233</td>\n",
       "      <td>0.255319</td>\n",
       "      <td>0.464833</td>\n",
       "      <td>0.327889</td>\n",
       "    </tr>\n",
       "    <tr>\n",
       "      <th>HI</th>\n",
       "      <td>0.249048</td>\n",
       "      <td>0.256687</td>\n",
       "      <td>0.417805</td>\n",
       "      <td>0.241582</td>\n",
       "      <td>0.470652</td>\n",
       "      <td>0.223856</td>\n",
       "    </tr>\n",
       "    <tr>\n",
       "      <th>IA</th>\n",
       "      <td>0.384715</td>\n",
       "      <td>0.211635</td>\n",
       "      <td>0.564155</td>\n",
       "      <td>0.187893</td>\n",
       "      <td>0.547701</td>\n",
       "      <td>0.178763</td>\n",
       "    </tr>\n",
       "    <tr>\n",
       "      <th>ID</th>\n",
       "      <td>0.335853</td>\n",
       "      <td>0.281894</td>\n",
       "      <td>0.577322</td>\n",
       "      <td>0.241559</td>\n",
       "      <td>0.586631</td>\n",
       "      <td>0.246554</td>\n",
       "    </tr>\n",
       "    <tr>\n",
       "      <th>IL</th>\n",
       "      <td>0.336470</td>\n",
       "      <td>0.252487</td>\n",
       "      <td>0.534219</td>\n",
       "      <td>0.226031</td>\n",
       "      <td>0.556759</td>\n",
       "      <td>0.228819</td>\n",
       "    </tr>\n",
       "    <tr>\n",
       "      <th>IN</th>\n",
       "      <td>0.342421</td>\n",
       "      <td>0.256457</td>\n",
       "      <td>0.528224</td>\n",
       "      <td>0.228824</td>\n",
       "      <td>0.531064</td>\n",
       "      <td>0.228210</td>\n",
       "    </tr>\n",
       "    <tr>\n",
       "      <th>KS</th>\n",
       "      <td>0.303551</td>\n",
       "      <td>0.173452</td>\n",
       "      <td>0.473941</td>\n",
       "      <td>0.192003</td>\n",
       "      <td>0.487890</td>\n",
       "      <td>0.192700</td>\n",
       "    </tr>\n",
       "    <tr>\n",
       "      <th>KY</th>\n",
       "      <td>0.296200</td>\n",
       "      <td>0.226164</td>\n",
       "      <td>0.468157</td>\n",
       "      <td>0.197210</td>\n",
       "      <td>0.475888</td>\n",
       "      <td>0.194635</td>\n",
       "    </tr>\n",
       "    <tr>\n",
       "      <th>LA</th>\n",
       "      <td>0.332812</td>\n",
       "      <td>0.250252</td>\n",
       "      <td>0.546999</td>\n",
       "      <td>0.216221</td>\n",
       "      <td>0.562212</td>\n",
       "      <td>0.213302</td>\n",
       "    </tr>\n",
       "    <tr>\n",
       "      <th>MA</th>\n",
       "      <td>0.458344</td>\n",
       "      <td>0.289608</td>\n",
       "      <td>0.617901</td>\n",
       "      <td>0.245635</td>\n",
       "      <td>0.635156</td>\n",
       "      <td>0.235458</td>\n",
       "    </tr>\n",
       "    <tr>\n",
       "      <th>MD</th>\n",
       "      <td>0.344049</td>\n",
       "      <td>0.266234</td>\n",
       "      <td>0.513892</td>\n",
       "      <td>0.243514</td>\n",
       "      <td>0.528679</td>\n",
       "      <td>0.235178</td>\n",
       "    </tr>\n",
       "    <tr>\n",
       "      <th>ME</th>\n",
       "      <td>0.390326</td>\n",
       "      <td>0.263300</td>\n",
       "      <td>0.544677</td>\n",
       "      <td>0.242074</td>\n",
       "      <td>0.553006</td>\n",
       "      <td>0.223972</td>\n",
       "    </tr>\n",
       "    <tr>\n",
       "      <th>MH</th>\n",
       "      <td>0.030700</td>\n",
       "      <td>NaN</td>\n",
       "      <td>0.057900</td>\n",
       "      <td>NaN</td>\n",
       "      <td>0.141900</td>\n",
       "      <td>NaN</td>\n",
       "    </tr>\n",
       "    <tr>\n",
       "      <th>MI</th>\n",
       "      <td>0.318009</td>\n",
       "      <td>0.238956</td>\n",
       "      <td>0.525969</td>\n",
       "      <td>0.254389</td>\n",
       "      <td>0.554986</td>\n",
       "      <td>0.233787</td>\n",
       "    </tr>\n",
       "    <tr>\n",
       "      <th>MN</th>\n",
       "      <td>0.344977</td>\n",
       "      <td>0.226207</td>\n",
       "      <td>0.485501</td>\n",
       "      <td>0.211671</td>\n",
       "      <td>0.473617</td>\n",
       "      <td>0.237371</td>\n",
       "    </tr>\n",
       "    <tr>\n",
       "      <th>MO</th>\n",
       "      <td>0.402001</td>\n",
       "      <td>0.278192</td>\n",
       "      <td>0.562328</td>\n",
       "      <td>0.222751</td>\n",
       "      <td>0.566417</td>\n",
       "      <td>0.228821</td>\n",
       "    </tr>\n",
       "    <tr>\n",
       "      <th>MP</th>\n",
       "      <td>0.007900</td>\n",
       "      <td>NaN</td>\n",
       "      <td>0.161500</td>\n",
       "      <td>NaN</td>\n",
       "      <td>0.185200</td>\n",
       "      <td>NaN</td>\n",
       "    </tr>\n",
       "    <tr>\n",
       "      <th>MS</th>\n",
       "      <td>0.354665</td>\n",
       "      <td>0.243975</td>\n",
       "      <td>0.540443</td>\n",
       "      <td>0.208167</td>\n",
       "      <td>0.536466</td>\n",
       "      <td>0.196337</td>\n",
       "    </tr>\n",
       "    <tr>\n",
       "      <th>MT</th>\n",
       "      <td>0.298325</td>\n",
       "      <td>0.243510</td>\n",
       "      <td>0.440707</td>\n",
       "      <td>0.226296</td>\n",
       "      <td>0.460839</td>\n",
       "      <td>0.201968</td>\n",
       "    </tr>\n",
       "    <tr>\n",
       "      <th>NC</th>\n",
       "      <td>0.252990</td>\n",
       "      <td>0.226524</td>\n",
       "      <td>0.421530</td>\n",
       "      <td>0.222048</td>\n",
       "      <td>0.438515</td>\n",
       "      <td>0.227162</td>\n",
       "    </tr>\n",
       "    <tr>\n",
       "      <th>ND</th>\n",
       "      <td>0.316300</td>\n",
       "      <td>0.248415</td>\n",
       "      <td>0.453607</td>\n",
       "      <td>0.225422</td>\n",
       "      <td>0.515344</td>\n",
       "      <td>0.225631</td>\n",
       "    </tr>\n",
       "    <tr>\n",
       "      <th>NE</th>\n",
       "      <td>0.375440</td>\n",
       "      <td>0.219032</td>\n",
       "      <td>0.536277</td>\n",
       "      <td>0.212155</td>\n",
       "      <td>0.527768</td>\n",
       "      <td>0.220108</td>\n",
       "    </tr>\n",
       "    <tr>\n",
       "      <th>NH</th>\n",
       "      <td>0.363375</td>\n",
       "      <td>0.265047</td>\n",
       "      <td>0.573592</td>\n",
       "      <td>0.217772</td>\n",
       "      <td>0.559694</td>\n",
       "      <td>0.188306</td>\n",
       "    </tr>\n",
       "    <tr>\n",
       "      <th>NJ</th>\n",
       "      <td>0.336877</td>\n",
       "      <td>0.267951</td>\n",
       "      <td>0.566357</td>\n",
       "      <td>0.241954</td>\n",
       "      <td>0.583293</td>\n",
       "      <td>0.231885</td>\n",
       "    </tr>\n",
       "    <tr>\n",
       "      <th>NM</th>\n",
       "      <td>0.170791</td>\n",
       "      <td>0.149084</td>\n",
       "      <td>0.353430</td>\n",
       "      <td>0.220567</td>\n",
       "      <td>0.347558</td>\n",
       "      <td>0.204016</td>\n",
       "    </tr>\n",
       "    <tr>\n",
       "      <th>NV</th>\n",
       "      <td>0.272422</td>\n",
       "      <td>0.227658</td>\n",
       "      <td>0.553456</td>\n",
       "      <td>0.232626</td>\n",
       "      <td>0.591168</td>\n",
       "      <td>0.231632</td>\n",
       "    </tr>\n",
       "    <tr>\n",
       "      <th>NY</th>\n",
       "      <td>0.415547</td>\n",
       "      <td>0.290398</td>\n",
       "      <td>0.584431</td>\n",
       "      <td>0.244079</td>\n",
       "      <td>0.602538</td>\n",
       "      <td>0.235998</td>\n",
       "    </tr>\n",
       "    <tr>\n",
       "      <th>OH</th>\n",
       "      <td>0.388258</td>\n",
       "      <td>0.269607</td>\n",
       "      <td>0.545228</td>\n",
       "      <td>0.231690</td>\n",
       "      <td>0.557910</td>\n",
       "      <td>0.232537</td>\n",
       "    </tr>\n",
       "    <tr>\n",
       "      <th>OK</th>\n",
       "      <td>0.368518</td>\n",
       "      <td>0.238643</td>\n",
       "      <td>0.530494</td>\n",
       "      <td>0.232830</td>\n",
       "      <td>0.536656</td>\n",
       "      <td>0.228651</td>\n",
       "    </tr>\n",
       "    <tr>\n",
       "      <th>OR</th>\n",
       "      <td>0.314323</td>\n",
       "      <td>0.221412</td>\n",
       "      <td>0.525255</td>\n",
       "      <td>0.232105</td>\n",
       "      <td>0.547837</td>\n",
       "      <td>0.227450</td>\n",
       "    </tr>\n",
       "    <tr>\n",
       "      <th>PA</th>\n",
       "      <td>0.454171</td>\n",
       "      <td>0.264727</td>\n",
       "      <td>0.607027</td>\n",
       "      <td>0.196129</td>\n",
       "      <td>0.621798</td>\n",
       "      <td>0.195944</td>\n",
       "    </tr>\n",
       "    <tr>\n",
       "      <th>PR</th>\n",
       "      <td>0.347843</td>\n",
       "      <td>0.281186</td>\n",
       "      <td>0.513336</td>\n",
       "      <td>0.203317</td>\n",
       "      <td>0.521403</td>\n",
       "      <td>0.214925</td>\n",
       "    </tr>\n",
       "    <tr>\n",
       "      <th>PW</th>\n",
       "      <td>0.171200</td>\n",
       "      <td>NaN</td>\n",
       "      <td>0.171200</td>\n",
       "      <td>NaN</td>\n",
       "      <td>0.226900</td>\n",
       "      <td>NaN</td>\n",
       "    </tr>\n",
       "    <tr>\n",
       "      <th>RI</th>\n",
       "      <td>0.481080</td>\n",
       "      <td>0.305722</td>\n",
       "      <td>0.709705</td>\n",
       "      <td>0.180005</td>\n",
       "      <td>0.752040</td>\n",
       "      <td>0.185819</td>\n",
       "    </tr>\n",
       "    <tr>\n",
       "      <th>SC</th>\n",
       "      <td>0.262900</td>\n",
       "      <td>0.243044</td>\n",
       "      <td>0.464465</td>\n",
       "      <td>0.250107</td>\n",
       "      <td>0.472502</td>\n",
       "      <td>0.236886</td>\n",
       "    </tr>\n",
       "    <tr>\n",
       "      <th>SD</th>\n",
       "      <td>0.273817</td>\n",
       "      <td>0.193400</td>\n",
       "      <td>0.434992</td>\n",
       "      <td>0.208267</td>\n",
       "      <td>0.442017</td>\n",
       "      <td>0.225329</td>\n",
       "    </tr>\n",
       "    <tr>\n",
       "      <th>TN</th>\n",
       "      <td>0.349178</td>\n",
       "      <td>0.241062</td>\n",
       "      <td>0.546265</td>\n",
       "      <td>0.210304</td>\n",
       "      <td>0.550063</td>\n",
       "      <td>0.212014</td>\n",
       "    </tr>\n",
       "    <tr>\n",
       "      <th>TX</th>\n",
       "      <td>0.319739</td>\n",
       "      <td>0.231952</td>\n",
       "      <td>0.508916</td>\n",
       "      <td>0.229424</td>\n",
       "      <td>0.520042</td>\n",
       "      <td>0.228101</td>\n",
       "    </tr>\n",
       "    <tr>\n",
       "      <th>UT</th>\n",
       "      <td>0.386169</td>\n",
       "      <td>0.259667</td>\n",
       "      <td>0.592226</td>\n",
       "      <td>0.218957</td>\n",
       "      <td>0.630997</td>\n",
       "      <td>0.248004</td>\n",
       "    </tr>\n",
       "    <tr>\n",
       "      <th>VA</th>\n",
       "      <td>0.370278</td>\n",
       "      <td>0.262810</td>\n",
       "      <td>0.525895</td>\n",
       "      <td>0.225289</td>\n",
       "      <td>0.545693</td>\n",
       "      <td>0.227988</td>\n",
       "    </tr>\n",
       "    <tr>\n",
       "      <th>VI</th>\n",
       "      <td>0.077400</td>\n",
       "      <td>NaN</td>\n",
       "      <td>0.222500</td>\n",
       "      <td>NaN</td>\n",
       "      <td>0.301400</td>\n",
       "      <td>NaN</td>\n",
       "    </tr>\n",
       "    <tr>\n",
       "      <th>VT</th>\n",
       "      <td>0.425510</td>\n",
       "      <td>0.225396</td>\n",
       "      <td>0.543805</td>\n",
       "      <td>0.206099</td>\n",
       "      <td>0.535315</td>\n",
       "      <td>0.214489</td>\n",
       "    </tr>\n",
       "    <tr>\n",
       "      <th>WA</th>\n",
       "      <td>0.431711</td>\n",
       "      <td>0.258407</td>\n",
       "      <td>0.545299</td>\n",
       "      <td>0.236140</td>\n",
       "      <td>0.623999</td>\n",
       "      <td>0.219215</td>\n",
       "    </tr>\n",
       "    <tr>\n",
       "      <th>WI</th>\n",
       "      <td>0.328406</td>\n",
       "      <td>0.211846</td>\n",
       "      <td>0.517550</td>\n",
       "      <td>0.211248</td>\n",
       "      <td>0.553052</td>\n",
       "      <td>0.211567</td>\n",
       "    </tr>\n",
       "    <tr>\n",
       "      <th>WV</th>\n",
       "      <td>0.438397</td>\n",
       "      <td>0.286103</td>\n",
       "      <td>0.563786</td>\n",
       "      <td>0.247018</td>\n",
       "      <td>0.550021</td>\n",
       "      <td>0.244292</td>\n",
       "    </tr>\n",
       "    <tr>\n",
       "      <th>WY</th>\n",
       "      <td>0.343540</td>\n",
       "      <td>0.216446</td>\n",
       "      <td>0.478690</td>\n",
       "      <td>0.203125</td>\n",
       "      <td>0.487520</td>\n",
       "      <td>0.210958</td>\n",
       "    </tr>\n",
       "  </tbody>\n",
       "</table>\n",
       "</div>"
      ],
      "text/plain": [
       "       C100_COMBINED           C150_COMBINED           C200_COMBINED          \n",
       "                mean       std          mean       std          mean       std\n",
       "STABBR                                                                        \n",
       "AK          0.317050  0.331369      0.422775  0.265308      0.490286  0.249345\n",
       "AL          0.163011  0.129437      0.371412  0.187990      0.378444  0.179970\n",
       "AR          0.234576  0.161084      0.436364  0.199061      0.473692  0.214457\n",
       "AS               NaN       NaN      0.319800       NaN           NaN       NaN\n",
       "AZ          0.326769  0.260985      0.508448  0.250139      0.507256  0.244839\n",
       "CA          0.353130  0.267844      0.589306  0.230579      0.624775  0.216033\n",
       "CO          0.388516  0.262199      0.541029  0.234681      0.555573  0.228376\n",
       "CT          0.414119  0.287087      0.583229  0.252869      0.592170  0.251527\n",
       "DC          0.397850  0.311489      0.500069  0.286848      0.536269  0.269789\n",
       "DE          0.386743  0.258193      0.584287  0.239067      0.585607  0.212257\n",
       "FL          0.407618  0.254622      0.588701  0.209583      0.614453  0.212933\n",
       "FM          0.052400       NaN      0.223100       NaN      0.282200       NaN\n",
       "GA          0.282025  0.236547      0.442562  0.223076      0.486571  0.208501\n",
       "GU          0.034567  0.042134      0.391233  0.255319      0.464833  0.327889\n",
       "HI          0.249048  0.256687      0.417805  0.241582      0.470652  0.223856\n",
       "IA          0.384715  0.211635      0.564155  0.187893      0.547701  0.178763\n",
       "ID          0.335853  0.281894      0.577322  0.241559      0.586631  0.246554\n",
       "IL          0.336470  0.252487      0.534219  0.226031      0.556759  0.228819\n",
       "IN          0.342421  0.256457      0.528224  0.228824      0.531064  0.228210\n",
       "KS          0.303551  0.173452      0.473941  0.192003      0.487890  0.192700\n",
       "KY          0.296200  0.226164      0.468157  0.197210      0.475888  0.194635\n",
       "LA          0.332812  0.250252      0.546999  0.216221      0.562212  0.213302\n",
       "MA          0.458344  0.289608      0.617901  0.245635      0.635156  0.235458\n",
       "MD          0.344049  0.266234      0.513892  0.243514      0.528679  0.235178\n",
       "ME          0.390326  0.263300      0.544677  0.242074      0.553006  0.223972\n",
       "MH          0.030700       NaN      0.057900       NaN      0.141900       NaN\n",
       "MI          0.318009  0.238956      0.525969  0.254389      0.554986  0.233787\n",
       "MN          0.344977  0.226207      0.485501  0.211671      0.473617  0.237371\n",
       "MO          0.402001  0.278192      0.562328  0.222751      0.566417  0.228821\n",
       "MP          0.007900       NaN      0.161500       NaN      0.185200       NaN\n",
       "MS          0.354665  0.243975      0.540443  0.208167      0.536466  0.196337\n",
       "MT          0.298325  0.243510      0.440707  0.226296      0.460839  0.201968\n",
       "NC          0.252990  0.226524      0.421530  0.222048      0.438515  0.227162\n",
       "ND          0.316300  0.248415      0.453607  0.225422      0.515344  0.225631\n",
       "NE          0.375440  0.219032      0.536277  0.212155      0.527768  0.220108\n",
       "NH          0.363375  0.265047      0.573592  0.217772      0.559694  0.188306\n",
       "NJ          0.336877  0.267951      0.566357  0.241954      0.583293  0.231885\n",
       "NM          0.170791  0.149084      0.353430  0.220567      0.347558  0.204016\n",
       "NV          0.272422  0.227658      0.553456  0.232626      0.591168  0.231632\n",
       "NY          0.415547  0.290398      0.584431  0.244079      0.602538  0.235998\n",
       "OH          0.388258  0.269607      0.545228  0.231690      0.557910  0.232537\n",
       "OK          0.368518  0.238643      0.530494  0.232830      0.536656  0.228651\n",
       "OR          0.314323  0.221412      0.525255  0.232105      0.547837  0.227450\n",
       "PA          0.454171  0.264727      0.607027  0.196129      0.621798  0.195944\n",
       "PR          0.347843  0.281186      0.513336  0.203317      0.521403  0.214925\n",
       "PW          0.171200       NaN      0.171200       NaN      0.226900       NaN\n",
       "RI          0.481080  0.305722      0.709705  0.180005      0.752040  0.185819\n",
       "SC          0.262900  0.243044      0.464465  0.250107      0.472502  0.236886\n",
       "SD          0.273817  0.193400      0.434992  0.208267      0.442017  0.225329\n",
       "TN          0.349178  0.241062      0.546265  0.210304      0.550063  0.212014\n",
       "TX          0.319739  0.231952      0.508916  0.229424      0.520042  0.228101\n",
       "UT          0.386169  0.259667      0.592226  0.218957      0.630997  0.248004\n",
       "VA          0.370278  0.262810      0.525895  0.225289      0.545693  0.227988\n",
       "VI          0.077400       NaN      0.222500       NaN      0.301400       NaN\n",
       "VT          0.425510  0.225396      0.543805  0.206099      0.535315  0.214489\n",
       "WA          0.431711  0.258407      0.545299  0.236140      0.623999  0.219215\n",
       "WI          0.328406  0.211846      0.517550  0.211248      0.553052  0.211567\n",
       "WV          0.438397  0.286103      0.563786  0.247018      0.550021  0.244292\n",
       "WY          0.343540  0.216446      0.478690  0.203125      0.487520  0.210958"
      ]
     },
     "execution_count": 26,
     "metadata": {},
     "output_type": "execute_result"
    }
   ],
   "source": [
    "\n",
    "bc1.groupby('STABBR')['C100_COMBINED','C150_COMBINED','C200_COMBINED'].agg(['mean','std'])\n"
   ]
  },
  {
   "cell_type": "code",
   "execution_count": 34,
   "metadata": {},
   "outputs": [
    {
     "data": {
      "text/plain": [
       "<matplotlib.axes._subplots.AxesSubplot at 0x16bae96c588>"
      ]
     },
     "execution_count": 34,
     "metadata": {},
     "output_type": "execute_result"
    },
    {
     "data": {
      "image/png": "[encoded data removed]",
      "text/plain": [
       "<Figure size 432x288 with 1 Axes>"
      ]
     },
     "metadata": {
      "needs_background": "light"
     },
     "output_type": "display_data"
    }
   ],
   "source": [
    "sns.boxplot(y = bc1['C100_COMBINED'], x = bc1['SCHTYPE'], data = bc1)"
   ]
  },
  {
   "cell_type": "code",
   "execution_count": 28,
   "metadata": {},
   "outputs": [
    {
     "data": {
      "text/plain": [
       "<matplotlib.axes._subplots.AxesSubplot at 0x16b0cde7cf8>"
      ]
     },
     "execution_count": 28,
     "metadata": {},
     "output_type": "execute_result"
    },
    {
     "data": {
      "image/png": "[encoded data removed]",
      "text/plain": [
       "<Figure size 432x288 with 1 Axes>"
      ]
     },
     "metadata": {
      "needs_background": "light"
     },
     "output_type": "display_data"
    }
   ],
   "source": [
    "sns.boxplot(x = bc1['C150_COMBINED'], y = bc1['SCHTYPE'], data = bc1)"
   ]
  },
  {
   "cell_type": "code",
   "execution_count": 29,
   "metadata": {},
   "outputs": [
    {
     "data": {
      "text/plain": [
       "<matplotlib.axes._subplots.AxesSubplot at 0x16b429215f8>"
      ]
     },
     "execution_count": 29,
     "metadata": {},
     "output_type": "execute_result"
    },
    {
     "data": {
      "image/png": "[encoded data removed]",
      "text/plain": [
       "<Figure size 432x288 with 1 Axes>"
      ]
     },
     "metadata": {
      "needs_background": "light"
     },
     "output_type": "display_data"
    }
   ],
   "source": [
    "sns.boxplot(x = bc1['C200_COMBINED'], y = bc1['SCHTYPE'], data = bc1)"
   ]
  },
  {
   "cell_type": "code",
   "execution_count": 30,
   "metadata": {},
   "outputs": [
    {
     "data": {
      "text/plain": [
       "<matplotlib.axes._subplots.AxesSubplot at 0x16b5bc55ba8>"
      ]
     },
     "execution_count": 30,
     "metadata": {},
     "output_type": "execute_result"
    },
    {
     "data": {
      "image/png": "[encoded data removed]",
      "text/plain": [
       "<Figure size 432x288 with 1 Axes>"
      ]
     },
     "metadata": {
      "needs_background": "light"
     },
     "output_type": "display_data"
    }
   ],
   "source": [
    "sns.boxplot(x = bc1['C100_COMBINED'], y = bc1['CCBASIC'], data = bc1)"
   ]
  },
  {
   "cell_type": "code",
   "execution_count": 31,
   "metadata": {},
   "outputs": [
    {
     "data": {
      "text/plain": [
       "<matplotlib.axes._subplots.AxesSubplot at 0x16b796bde10>"
      ]
     },
     "execution_count": 31,
     "metadata": {},
     "output_type": "execute_result"
    },
    {
     "data": {
      "image/png": "[encoded data removed]",
      "text/plain": [
       "<Figure size 432x288 with 1 Axes>"
      ]
     },
     "metadata": {
      "needs_background": "light"
     },
     "output_type": "display_data"
    }
   ],
   "source": [
    "sns.boxplot(x = bc1['C150_COMBINED'], y = bc1['CCBASIC'], data = bc1)"
   ]
  },
  {
   "cell_type": "code",
   "execution_count": 32,
   "metadata": {},
   "outputs": [
    {
     "data": {
      "text/plain": [
       "<matplotlib.axes._subplots.AxesSubplot at 0x16b92c2c6d8>"
      ]
     },
     "execution_count": 32,
     "metadata": {},
     "output_type": "execute_result"
    },
    {
     "data": {
      "image/png": "[encoded data removed]",
      "text/plain": [
       "<Figure size 432x288 with 1 Axes>"
      ]
     },
     "metadata": {
      "needs_background": "light"
     },
     "output_type": "display_data"
    }
   ],
   "source": [
    "sns.boxplot(x = bc1['C200_COMBINED'], y = bc1['CCBASIC'], data = bc1)"
   ]
  },
  {
   "cell_type": "code",
   "execution_count": null,
   "metadata": {},
   "outputs": [],
   "source": []
  },
  {
   "cell_type": "code",
   "execution_count": null,
   "metadata": {},
   "outputs": [],
   "source": []
  }
 ],
 "metadata": {
  "kernelspec": {
   "display_name": "Python 3",
   "language": "python",
   "name": "python3"
  },
  "language_info": {
   "codemirror_mode": {
    "name": "ipython",
    "version": 3
   },
   "file_extension": ".py",
   "mimetype": "text/x-python",
   "name": "python",
   "nbconvert_exporter": "python",
   "pygments_lexer": "ipython3",
   "version": "3.8.8"
  }
 },
 "nbformat": 4,
 "nbformat_minor": 2
}
