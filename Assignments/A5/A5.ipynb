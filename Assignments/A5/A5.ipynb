{
 "cells": [
  {
   "cell_type": "markdown",
   "metadata": {},
   "source": [
    "# Exploratory data analysis and Feature Engineering"
   ]
  },
  {
   "cell_type": "markdown",
   "metadata": {},
   "source": [
    "## Environment Setup"
   ]
  },
  {
   "cell_type": "code",
   "execution_count": 2,
   "metadata": {},
   "outputs": [],
   "source": [
    "import pandas as pd\n",
    "import numpy as np\n",
    "import seaborn as sns\n",
    "from sklearn.model_selection import train_test_split\n",
    "from sklearn.metrics import confusion_matrix, classification_report\n",
    "\n",
    "from sklearn.preprocessing import FunctionTransformer, OneHotEncoder, StandardScaler, PolynomialFeatures\n",
    "from sklearn.compose import ColumnTransformer\n",
    "from sklearn.pipeline import Pipeline\n",
    "from sklearn.linear_model import LinearRegression, ElasticNetCV\n",
    "from sklearn.model_selection import train_test_split\n",
    "from sklearn.metrics import mean_squared_error"
   ]
  },
  {
   "cell_type": "markdown",
   "metadata": {},
   "source": [
    "## Data Prep and Exploration\n",
    "\n",
    "The dataset is from the U.S. Small Business Administration (SBA)\n",
    "\n",
    "The U.S. SBA was founded in 1953 on the principle of promoting and assisting small enterprises in the U.S. credit market (SBA Overview and History, US Small Business Administration (2015)). Small businesses have been a primary source of job creation in the United States; therefore, fostering small business formation and growth has social benefits by creating job opportunities and reducing unemployment.\n",
    "\n",
    "There have been many success stories of start-ups receiving SBA loan guarantees such as FedEx and Apple Computer. However, there have also been stories of small businesses and/or start-ups that have defaulted on their SBA-guaranteed loans.\n",
    "\n",
    "1. Load the data and do your initial preparation. How many observations and variables do you have?"
   ]
  },
  {
   "cell_type": "code",
   "execution_count": 3,
   "metadata": {},
   "outputs": [
    {
     "data": {
      "text/html": [
       "<div>\n",
       "<style scoped>\n",
       "    .dataframe tbody tr th:only-of-type {\n",
       "        vertical-align: middle;\n",
       "    }\n",
       "\n",
       "    .dataframe tbody tr th {\n",
       "        vertical-align: top;\n",
       "    }\n",
       "\n",
       "    .dataframe thead th {\n",
       "        text-align: right;\n",
       "    }\n",
       "</style>\n",
       "<table border=\"1\" class=\"dataframe\">\n",
       "  <thead>\n",
       "    <tr style=\"text-align: right;\">\n",
       "      <th></th>\n",
       "      <th>LoanNr_ChkDgt</th>\n",
       "      <th>Name</th>\n",
       "      <th>City</th>\n",
       "      <th>State</th>\n",
       "      <th>Zip</th>\n",
       "      <th>Bank</th>\n",
       "      <th>BankState</th>\n",
       "      <th>NAICS</th>\n",
       "      <th>ApprovalDate</th>\n",
       "      <th>ApprovalFY</th>\n",
       "      <th>...</th>\n",
       "      <th>RevLineCr</th>\n",
       "      <th>LowDoc</th>\n",
       "      <th>ChgOffDate</th>\n",
       "      <th>DisbursementDate</th>\n",
       "      <th>DisbursementGross</th>\n",
       "      <th>BalanceGross</th>\n",
       "      <th>MIS_Status</th>\n",
       "      <th>ChgOffPrinGr</th>\n",
       "      <th>GrAppv</th>\n",
       "      <th>SBA_Appv</th>\n",
       "    </tr>\n",
       "  </thead>\n",
       "  <tbody>\n",
       "    <tr>\n",
       "      <th>0</th>\n",
       "      <td>1000014003</td>\n",
       "      <td>ABC HOBBYCRAFT</td>\n",
       "      <td>EVANSVILLE</td>\n",
       "      <td>IN</td>\n",
       "      <td>47711</td>\n",
       "      <td>FIFTH THIRD BANK</td>\n",
       "      <td>OH</td>\n",
       "      <td>451120</td>\n",
       "      <td>28-Feb-97</td>\n",
       "      <td>1997</td>\n",
       "      <td>...</td>\n",
       "      <td>N</td>\n",
       "      <td>Y</td>\n",
       "      <td>NaN</td>\n",
       "      <td>28-Feb-99</td>\n",
       "      <td>$60,000.00</td>\n",
       "      <td>$0.00</td>\n",
       "      <td>P I F</td>\n",
       "      <td>$0.00</td>\n",
       "      <td>$60,000.00</td>\n",
       "      <td>$48,000.00</td>\n",
       "    </tr>\n",
       "    <tr>\n",
       "      <th>1</th>\n",
       "      <td>1000024006</td>\n",
       "      <td>LANDMARK BAR &amp; GRILLE (THE)</td>\n",
       "      <td>NEW PARIS</td>\n",
       "      <td>IN</td>\n",
       "      <td>46526</td>\n",
       "      <td>1ST SOURCE BANK</td>\n",
       "      <td>IN</td>\n",
       "      <td>722410</td>\n",
       "      <td>28-Feb-97</td>\n",
       "      <td>1997</td>\n",
       "      <td>...</td>\n",
       "      <td>N</td>\n",
       "      <td>Y</td>\n",
       "      <td>NaN</td>\n",
       "      <td>31-May-97</td>\n",
       "      <td>$40,000.00</td>\n",
       "      <td>$0.00</td>\n",
       "      <td>P I F</td>\n",
       "      <td>$0.00</td>\n",
       "      <td>$40,000.00</td>\n",
       "      <td>$32,000.00</td>\n",
       "    </tr>\n",
       "    <tr>\n",
       "      <th>2</th>\n",
       "      <td>1000034009</td>\n",
       "      <td>WHITLOCK DDS, TODD M.</td>\n",
       "      <td>BLOOMINGTON</td>\n",
       "      <td>IN</td>\n",
       "      <td>47401</td>\n",
       "      <td>GRANT COUNTY STATE BANK</td>\n",
       "      <td>IN</td>\n",
       "      <td>621210</td>\n",
       "      <td>28-Feb-97</td>\n",
       "      <td>1997</td>\n",
       "      <td>...</td>\n",
       "      <td>N</td>\n",
       "      <td>N</td>\n",
       "      <td>NaN</td>\n",
       "      <td>31-Dec-97</td>\n",
       "      <td>$287,000.00</td>\n",
       "      <td>$0.00</td>\n",
       "      <td>P I F</td>\n",
       "      <td>$0.00</td>\n",
       "      <td>$287,000.00</td>\n",
       "      <td>$215,250.00</td>\n",
       "    </tr>\n",
       "    <tr>\n",
       "      <th>3</th>\n",
       "      <td>1000044001</td>\n",
       "      <td>BIG BUCKS PAWN &amp; JEWELRY, LLC</td>\n",
       "      <td>BROKEN ARROW</td>\n",
       "      <td>OK</td>\n",
       "      <td>74012</td>\n",
       "      <td>1ST NATL BK &amp; TR CO OF BROKEN</td>\n",
       "      <td>OK</td>\n",
       "      <td>0</td>\n",
       "      <td>28-Feb-97</td>\n",
       "      <td>1997</td>\n",
       "      <td>...</td>\n",
       "      <td>N</td>\n",
       "      <td>Y</td>\n",
       "      <td>NaN</td>\n",
       "      <td>30-Jun-97</td>\n",
       "      <td>$35,000.00</td>\n",
       "      <td>$0.00</td>\n",
       "      <td>P I F</td>\n",
       "      <td>$0.00</td>\n",
       "      <td>$35,000.00</td>\n",
       "      <td>$28,000.00</td>\n",
       "    </tr>\n",
       "    <tr>\n",
       "      <th>4</th>\n",
       "      <td>1000054004</td>\n",
       "      <td>ANASTASIA CONFECTIONS, INC.</td>\n",
       "      <td>ORLANDO</td>\n",
       "      <td>FL</td>\n",
       "      <td>32801</td>\n",
       "      <td>FLORIDA BUS. DEVEL CORP</td>\n",
       "      <td>FL</td>\n",
       "      <td>0</td>\n",
       "      <td>28-Feb-97</td>\n",
       "      <td>1997</td>\n",
       "      <td>...</td>\n",
       "      <td>N</td>\n",
       "      <td>N</td>\n",
       "      <td>NaN</td>\n",
       "      <td>14-May-97</td>\n",
       "      <td>$229,000.00</td>\n",
       "      <td>$0.00</td>\n",
       "      <td>P I F</td>\n",
       "      <td>$0.00</td>\n",
       "      <td>$229,000.00</td>\n",
       "      <td>$229,000.00</td>\n",
       "    </tr>\n",
       "  </tbody>\n",
       "</table>\n",
       "<p>5 rows × 27 columns</p>\n",
       "</div>"
      ],
      "text/plain": [
       "   LoanNr_ChkDgt                           Name          City State    Zip  \\\n",
       "0     1000014003                 ABC HOBBYCRAFT    EVANSVILLE    IN  47711   \n",
       "1     1000024006    LANDMARK BAR & GRILLE (THE)     NEW PARIS    IN  46526   \n",
       "2     1000034009          WHITLOCK DDS, TODD M.   BLOOMINGTON    IN  47401   \n",
       "3     1000044001  BIG BUCKS PAWN & JEWELRY, LLC  BROKEN ARROW    OK  74012   \n",
       "4     1000054004    ANASTASIA CONFECTIONS, INC.       ORLANDO    FL  32801   \n",
       "\n",
       "                            Bank BankState   NAICS ApprovalDate ApprovalFY  \\\n",
       "0               FIFTH THIRD BANK        OH  451120    28-Feb-97       1997   \n",
       "1                1ST SOURCE BANK        IN  722410    28-Feb-97       1997   \n",
       "2        GRANT COUNTY STATE BANK        IN  621210    28-Feb-97       1997   \n",
       "3  1ST NATL BK & TR CO OF BROKEN        OK       0    28-Feb-97       1997   \n",
       "4        FLORIDA BUS. DEVEL CORP        FL       0    28-Feb-97       1997   \n",
       "\n",
       "   ...  RevLineCr  LowDoc  ChgOffDate  DisbursementDate  DisbursementGross  \\\n",
       "0  ...          N       Y         NaN         28-Feb-99        $60,000.00    \n",
       "1  ...          N       Y         NaN         31-May-97        $40,000.00    \n",
       "2  ...          N       N         NaN         31-Dec-97       $287,000.00    \n",
       "3  ...          N       Y         NaN         30-Jun-97        $35,000.00    \n",
       "4  ...          N       N         NaN         14-May-97       $229,000.00    \n",
       "\n",
       "   BalanceGross  MIS_Status ChgOffPrinGr        GrAppv      SBA_Appv  \n",
       "0        $0.00        P I F       $0.00    $60,000.00    $48,000.00   \n",
       "1        $0.00        P I F       $0.00    $40,000.00    $32,000.00   \n",
       "2        $0.00        P I F       $0.00   $287,000.00   $215,250.00   \n",
       "3        $0.00        P I F       $0.00    $35,000.00    $28,000.00   \n",
       "4        $0.00        P I F       $0.00   $229,000.00   $229,000.00   \n",
       "\n",
       "[5 rows x 27 columns]"
      ]
     },
     "execution_count": 3,
     "metadata": {},
     "output_type": "execute_result"
    }
   ],
   "source": [
    "SBA = pd.read_csv(\"SBA/SBAnational.csv\", low_memory=False)\n",
    "SBA.head()"
   ]
  },
  {
   "cell_type": "code",
   "execution_count": 3,
   "metadata": {},
   "outputs": [
    {
     "name": "stdout",
     "output_type": "stream",
     "text": [
      "<class 'pandas.core.frame.DataFrame'>\n",
      "RangeIndex: 899164 entries, 0 to 899163\n",
      "Data columns (total 27 columns):\n",
      " #   Column             Non-Null Count   Dtype  \n",
      "---  ------             --------------   -----  \n",
      " 0   LoanNr_ChkDgt      899164 non-null  int64  \n",
      " 1   Name               899150 non-null  object \n",
      " 2   City               899134 non-null  object \n",
      " 3   State              899150 non-null  object \n",
      " 4   Zip                899164 non-null  int64  \n",
      " 5   Bank               897605 non-null  object \n",
      " 6   BankState          897598 non-null  object \n",
      " 7   NAICS              899164 non-null  int64  \n",
      " 8   ApprovalDate       899164 non-null  object \n",
      " 9   ApprovalFY         899164 non-null  object \n",
      " 10  Term               899164 non-null  int64  \n",
      " 11  NoEmp              899164 non-null  int64  \n",
      " 12  NewExist           899028 non-null  float64\n",
      " 13  CreateJob          899164 non-null  int64  \n",
      " 14  RetainedJob        899164 non-null  int64  \n",
      " 15  FranchiseCode      899164 non-null  int64  \n",
      " 16  UrbanRural         899164 non-null  int64  \n",
      " 17  RevLineCr          894636 non-null  object \n",
      " 18  LowDoc             896582 non-null  object \n",
      " 19  ChgOffDate         162699 non-null  object \n",
      " 20  DisbursementDate   896796 non-null  object \n",
      " 21  DisbursementGross  899164 non-null  object \n",
      " 22  BalanceGross       899164 non-null  object \n",
      " 23  MIS_Status         897167 non-null  object \n",
      " 24  ChgOffPrinGr       899164 non-null  object \n",
      " 25  GrAppv             899164 non-null  object \n",
      " 26  SBA_Appv           899164 non-null  object \n",
      "dtypes: float64(1), int64(9), object(17)\n",
      "memory usage: 185.2+ MB\n"
     ]
    }
   ],
   "source": [
    "SBA.info()"
   ]
  },
  {
   "cell_type": "code",
   "execution_count": 6,
   "metadata": {},
   "outputs": [],
   "source": [
    "predictable = SBA[SBA[\"MIS_Status\"].notnull()]\n",
    "approve_loan = pd.get_dummies(predictable[\"MIS_Status\"], drop_first=True).rename(columns={\"P I F\": \"Approve\"})\n",
    "predictable = pd.concat([predictable,approve_loan], axis=1)"
   ]
  },
  {
   "cell_type": "code",
   "execution_count": 10,
   "metadata": {},
   "outputs": [
    {
     "data": {
      "text/plain": [
       "(897167, 1312)"
      ]
     },
     "execution_count": 10,
     "metadata": {},
     "output_type": "execute_result"
    }
   ],
   "source": [
    "OneHotEncoder().fit_transform(predictable[[\"NAICS\"]]).toarray().shape"
   ]
  },
  {
   "cell_type": "markdown",
   "metadata": {},
   "source": [
    "With the given dataset, we have around 899164 rows of SBA Loan historical data and 27 feature columns.\n",
    "\n",
    "1. LoanNr_ChkDgt : Identifier\n",
    "2. Name : Borrower Name\n",
    "3. City : Borrower City\n",
    "4. State : Borrower State\n",
    "5. Zip : Borrower Zip Code\n",
    "6. Bank : Bank Name\n",
    "7. BankState : Bank State\n",
    "8. NAICS : North American industry classification system code.\n",
    "9. ApprovalDate : Date SBA commitment issued\n",
    "10. ApprovalFY : Fiscal year of commitment\n",
    "11. Term : Loan term in months\n",
    "12. NoEmp : Number of Business Employees\n",
    "13. NewExist : 1 = Existing business, 2 = New business\n",
    "14. CreateJob : Number of Jobs Created\n",
    "15. RetainedJob : Number of jobs retained\n",
    "16. FranchiseCode : Franchise code, (00000 or 00001) = No franchise\n",
    "17. UrbanRural : 1 = Urban, 2 = rural, 0 = undefined\n",
    "18. RevLineCr : Revolving line of credit: Y = Yes, N = No\n",
    "19. LowDoc : LowDoc Loan Program: Y = Yes, N = No\n",
    "20. ChgOffDate : The date when a loan is declared to be in default\n",
    "21. DisbursementDate : Disbursement date\n",
    "22. DisbursementGross : Amount disbursed\n",
    "23. BalanceGross : Gross amount outstanding\n",
    "24. MIS_Status : Loan status charged off = CHGOFF, Paid in full = PIF\n",
    "25. ChgOffPrinGr : Charged-off amount\n",
    "26. GrAppv : Gross amount of loan approved by bank\n",
    "27. SBA_Appv : SBA's guaranteed amount of approved loan"
   ]
  },
  {
   "cell_type": "markdown",
   "metadata": {},
   "source": [
    "2. Select a 25% sample of the data for use in testing."
   ]
  },
  {
   "cell_type": "code",
   "execution_count": 4,
   "metadata": {},
   "outputs": [],
   "source": [
    "train, test = train_test_split(SBA,test_size=.25, random_state=42)"
   ]
  },
  {
   "cell_type": "markdown",
   "metadata": {},
   "source": [
    "3. Describe the distribution of the outcome variable. What is the majority class?"
   ]
  },
  {
   "cell_type": "code",
   "execution_count": 5,
   "metadata": {},
   "outputs": [],
   "source": [
    "approve_loan = pd.get_dummies(train[\"MIS_Status\"], drop_first=True).rename(columns={\"P I F\": \"Approve\"})\n",
    "train = pd.concat([train,approve_loan], axis=1)"
   ]
  },
  {
   "cell_type": "code",
   "execution_count": 6,
   "metadata": {},
   "outputs": [
    {
     "data": {
      "text/plain": [
       "<AxesSubplot:>"
      ]
     },
     "execution_count": 6,
     "metadata": {},
     "output_type": "execute_result"
    },
    {
     "data": {
      "image/png": "[encoded data removed]",
      "text/plain": [
       "<Figure size 432x288 with 1 Axes>"
      ]
     },
     "metadata": {
      "needs_background": "light"
     },
     "output_type": "display_data"
    }
   ],
   "source": [
    "train[\"Approve\"].value_counts().rename({1: \"Paid in full\", 0: \"Default\"}).plot.bar()"
   ]
  },
  {
   "cell_type": "markdown",
   "metadata": {},
   "source": [
    "Paid in full is the Majority class."
   ]
  },
  {
   "cell_type": "markdown",
   "metadata": {},
   "source": [
    "4. What is the accuracy, precision, and recall of the majority-class classifier on the test data?"
   ]
  },
  {
   "cell_type": "code",
   "execution_count": 7,
   "metadata": {},
   "outputs": [],
   "source": [
    "approve_loan = pd.get_dummies(test[\"MIS_Status\"], drop_first=True).rename(columns={\"P I F\": \"Approve\"})\n",
    "test = pd.concat([test,approve_loan], axis=1)"
   ]
  },
  {
   "cell_type": "code",
   "execution_count": 8,
   "metadata": {},
   "outputs": [
    {
     "name": "stdout",
     "output_type": "stream",
     "text": [
      "[[     0  39880]\n",
      " [     0 184911]]\n",
      "Accuracy: 0.8225907620856707\n",
      "Recall: 1.0\n",
      "Precision: 0.8225907620856707\n"
     ]
    }
   ],
   "source": [
    "test_y = test[\"Approve\"]\n",
    "test_d = pd.Series(1, index=test.index)\n",
    "\n",
    "tn, fp, fn, tp = confusion_matrix(test_y, test_d).ravel()\n",
    "print(confusion_matrix(test_y, test_d))\n",
    "print(\"Accuracy:\", (tp+tn)/(tp+tn+fp+fn))\n",
    "print(\"Recall:\", tp/(tp+fn))\n",
    "print(\"Precision:\", tp/(tp+fp))"
   ]
  },
  {
   "cell_type": "markdown",
   "metadata": {},
   "source": [
    "## Feature Selection\n",
    "\n",
    "After conducting exploratory data analysis, the next step is to do a feature selection by analyzing the relation between all features and target features."
   ]
  },
  {
   "cell_type": "markdown",
   "metadata": {},
   "source": [
    "### Target Feature (Y)\n",
    "The feature that will be labeled as the target is the MIS_Status feature. Where in this feature explains which borrower cannot repay loans."
   ]
  },
  {
   "cell_type": "markdown",
   "metadata": {},
   "source": [
    "### Training Feature (X)"
   ]
  },
  {
   "cell_type": "markdown",
   "metadata": {},
   "source": [
    "#### 1. Personal & Institution Information Feature\n",
    "\n",
    "From SBA Data Frame we can make a conclusion that there are seven column that give personal and institution information\n",
    "\n",
    "* LoanNr_ChkDgt as borrower Identifier\n",
    "* Name as Borrower Name\n",
    "* City as Borrower City\n",
    "* State as Borrower State\n",
    "* Zip as Borrower Zip Code\n",
    "* Bank as Bank Name\n",
    "* BankState as Bank State\n",
    "* FranchiseCode as FranchiseCode\n",
    "* UrbanRural as information about business\n",
    "  \n",
    "This information is used only to identify the borrower and the Bank. With that reason we not use this feature for future modeling. \n",
    "\n",
    "But it might be interesting to know the effect of Urban/Rural business in the loan approval scenario."
   ]
  },
  {
   "cell_type": "code",
   "execution_count": 9,
   "metadata": {},
   "outputs": [
    {
     "data": {
      "text/plain": [
       "<AxesSubplot:xlabel='UrbanRural', ylabel='count'>"
      ]
     },
     "execution_count": 9,
     "metadata": {},
     "output_type": "execute_result"
    },
    {
     "data": {
      "image/png": "[encoded data removed]",
      "text/plain": [
       "<Figure size 432x288 with 1 Axes>"
      ]
     },
     "metadata": {
      "needs_background": "light"
     },
     "output_type": "display_data"
    }
   ],
   "source": [
    "sns.countplot(x=\"UrbanRural\", data=train)"
   ]
  },
  {
   "cell_type": "code",
   "execution_count": 10,
   "metadata": {},
   "outputs": [
    {
     "data": {
      "text/plain": [
       "1    353230\n",
       "0    242187\n",
       "2     78956\n",
       "Name: UrbanRural, dtype: int64"
      ]
     },
     "execution_count": 10,
     "metadata": {},
     "output_type": "execute_result"
    }
   ],
   "source": [
    "train[\"UrbanRural\"].value_counts()"
   ]
  },
  {
   "cell_type": "markdown",
   "metadata": {},
   "source": [
    "Urban/Rural (1= Urban, 2= Rural, 0 = Undefined) as a lot of values that are undefined. If we are to drop these value, we will loss almost 36% of data."
   ]
  },
  {
   "cell_type": "markdown",
   "metadata": {},
   "source": [
    "#### 2. NAICS (North American industry classification system code)\n",
    "\n",
    "NAICS is a classification system of several types of industries registered in America. The first two digits of NAICS explained the type of business industries.\n",
    "\n",
    "NAICS itself has the potential for decision making. The type of industry will affect the company's performance in business. So that this feature will be used later in the model."
   ]
  },
  {
   "cell_type": "code",
   "execution_count": 11,
   "metadata": {},
   "outputs": [
    {
     "data": {
      "text/plain": [
       "<AxesSubplot:>"
      ]
     },
     "execution_count": 11,
     "metadata": {},
     "output_type": "execute_result"
    },
    {
     "data": {
      "image/png": "[encoded data removed]",
      "text/plain": [
       "<Figure size 432x288 with 1 Axes>"
      ]
     },
     "metadata": {
      "needs_background": "light"
     },
     "output_type": "display_data"
    }
   ],
   "source": [
    "train[\"NAICS\"].map(lambda x: x != 0).value_counts().plot.bar()"
   ]
  },
  {
   "cell_type": "markdown",
   "metadata": {},
   "source": [
    "The NAICS field is a six digit code field but has around 22.5% of data that has undefined values. "
   ]
  },
  {
   "cell_type": "markdown",
   "metadata": {},
   "source": [
    "#### 3. Date and Time Feature\n",
    "\n",
    "It's dataset contained some feature that explains the date of commitment and disbursement.\n",
    "\n",
    "* ApprovalDate : Date SBA commitment issued\n",
    "* ApprovalFY : Fiscal year of commitment\n",
    "* ChgOffDate : The date when a loan is declared to be in default\n",
    "* DisbursementDate : Disbursement date\n",
    "\n",
    "\n",
    "Because the model will be deployed following the operating time of the Bank, this feature is used only for additional information and not for modeling.\n",
    "\n",
    "One of the risk factor to keep in mind while approving loan might be the economy. Small business loans are affected by the economy in general, and more small business loans tend to default right before and during an economic recession. Thus Disbursement Date along with Loan term can be used to see whether loan were active during great recession."
   ]
  },
  {
   "cell_type": "code",
   "execution_count": 12,
   "metadata": {},
   "outputs": [
    {
     "data": {
      "text/plain": [
       "<AxesSubplot:xlabel='Recession', ylabel='count'>"
      ]
     },
     "execution_count": 12,
     "metadata": {},
     "output_type": "execute_result"
    },
    {
     "data": {
      "image/png": "[encoded data removed]",
      "text/plain": [
       "<Figure size 432x288 with 1 Axes>"
      ]
     },
     "metadata": {
      "needs_background": "light"
     },
     "output_type": "display_data"
    }
   ],
   "source": [
    "demo = train[[\"MIS_Status\", \"DisbursementDate\", \"Term\"]].copy()\n",
    "demo.dropna(inplace=True)\n",
    "rec_date = pd.to_datetime(demo[\"DisbursementDate\"]) + pd.to_timedelta(demo[\"Term\"]*30, unit=\"D\")\n",
    "recession = pd.Series(\"Inactive during recession\", index=demo.index)\n",
    "recession[(rec_date >= pd.to_datetime(\"2007-12-01\")) & (rec_date <= pd.to_datetime(\"2009-06-30\"))] = \"Active during recession\"\n",
    "demo.drop([\"DisbursementDate\", \"Term\"], axis=1, inplace=True)\n",
    "demo[\"Recession\"] = recession\n",
    "demo[\"MIS_Status\"] = demo[\"MIS_Status\"].replace({\"P I F\": \"Paid In Full\", \"CHGOFF\":\"Default\"})\n",
    "sns.countplot(x=\"Recession\", hue=\"MIS_Status\", data=demo)\n"
   ]
  },
  {
   "cell_type": "markdown",
   "metadata": {},
   "source": [
    "#### 4. \n",
    "\n",
    "\n",
    "The term provides information on how long the loan will take. Concerning the rules of risk management, the longer the duration, the greater the uncertainty that will lead to risk. So this feature will be used as a reference for modeling."
   ]
  },
  {
   "cell_type": "code",
   "execution_count": 13,
   "metadata": {},
   "outputs": [
    {
     "data": {
      "text/plain": [
       "<AxesSubplot:xlabel='Term', ylabel='count'>"
      ]
     },
     "execution_count": 13,
     "metadata": {},
     "output_type": "execute_result"
    },
    {
     "data": {
      "image/png": "[encoded data removed]",
      "text/plain": [
       "<Figure size 432x288 with 1 Axes>"
      ]
     },
     "metadata": {
      "needs_background": "light"
     },
     "output_type": "display_data"
    }
   ],
   "source": [
    "demo = train[[\"MIS_Status\", \"Term\"]].copy()\n",
    "demo[\"MIS_Status\"] = demo[\"MIS_Status\"].replace({\"P I F\": \"Paid In Full\", \"CHGOFF\":\"Default\"})\n",
    "demo.dropna(inplace=True)\n",
    "demo[\"Term\"] = demo[\"Term\"] < 240\n",
    "demo[\"Term\"] = demo[\"Term\"].replace({True: \"Not Backed by Real Estate\", False:\"Backed by Real Estate\"})\n",
    "sns.countplot(x=\"Term\", hue=\"MIS_Status\", data=demo)"
   ]
  },
  {
   "cell_type": "markdown",
   "metadata": {},
   "source": [
    "#### 5. Loan Transaction Type Feature\n",
    "\n",
    "There are two features for loan transaction:\n",
    "\n",
    "* RevLineCr : Revolving line of credit which means that if the loan has been paid, the borrower can be able to immediately borrow again.\n",
    "* LowDoc : LowDoc Loan Program means the borrower can borrow with little administration.\n",
    "\n",
    "\n",
    "The loan transaction type will affects the level of risk and financial psychology. Then this feature will be used as consideration in the approval mode"
   ]
  },
  {
   "cell_type": "code",
   "execution_count": 14,
   "metadata": {},
   "outputs": [
    {
     "data": {
      "text/plain": [
       "<AxesSubplot:xlabel='RevLineCr', ylabel='count'>"
      ]
     },
     "execution_count": 14,
     "metadata": {},
     "output_type": "execute_result"
    },
    {
     "data": {
      "image/png": "[encoded data removed]",
      "text/plain": [
       "<Figure size 432x288 with 1 Axes>"
      ]
     },
     "metadata": {
      "needs_background": "light"
     },
     "output_type": "display_data"
    }
   ],
   "source": [
    "sns.countplot(x =\"RevLineCr\", data = train)"
   ]
  },
  {
   "cell_type": "markdown",
   "metadata": {},
   "source": [
    "RevLine Credit features should have been categorical variable with categories Y and N. But it consists a lot of undefined values."
   ]
  },
  {
   "cell_type": "code",
   "execution_count": 15,
   "metadata": {},
   "outputs": [
    {
     "data": {
      "text/plain": [
       "<AxesSubplot:xlabel='LowDoc', ylabel='count'>"
      ]
     },
     "execution_count": 15,
     "metadata": {},
     "output_type": "execute_result"
    },
    {
     "data": {
      "image/png": "[encoded data removed]",
      "text/plain": [
       "<Figure size 432x288 with 1 Axes>"
      ]
     },
     "metadata": {
      "needs_background": "light"
     },
     "output_type": "display_data"
    }
   ],
   "source": [
    "sns.countplot(x =\"LowDoc\", data = train)"
   ]
  },
  {
   "cell_type": "code",
   "execution_count": 16,
   "metadata": {},
   "outputs": [
    {
     "data": {
      "text/plain": [
       "<AxesSubplot:xlabel='LowDoc', ylabel='count'>"
      ]
     },
     "execution_count": 16,
     "metadata": {},
     "output_type": "execute_result"
    },
    {
     "data": {
      "image/png": "[encoded data removed]",
      "text/plain": [
       "<Figure size 432x288 with 1 Axes>"
      ]
     },
     "metadata": {
      "needs_background": "light"
     },
     "output_type": "display_data"
    }
   ],
   "source": [
    "demo = train[[\"MIS_Status\", \"LowDoc\"]].copy()\n",
    "demo[\"MIS_Status\"] = demo[\"MIS_Status\"].replace({\"P I F\": \"Paid In Full\", \"CHGOFF\":\"Default\"})\n",
    "demo.dropna(inplace=True)\n",
    "demo = demo[(demo[\"LowDoc\"] == \"Y\") | (demo[\"LowDoc\"] == \"N\")]\n",
    "sns.countplot(x=\"LowDoc\", hue=\"MIS_Status\", data=demo)"
   ]
  },
  {
   "cell_type": "markdown",
   "metadata": {},
   "source": [
    "#### 6. Amount of Loan\n",
    "\n",
    "All this five feature explains the amount of loan and its payment balance.\n",
    "\n",
    "* DisbursementGross : Amount disbursed\n",
    "* BalanceGross : Gross amount outstanding\n",
    "* ChgOffPrinGr : Charged-off amount\n",
    "* GrAppv : Gross amount of loan approved by bank\n",
    "* SBA_Appv : SBA's guaranteed amount of approved loan\n",
    "\n",
    "Gross Disbursement can be one of the factor that can be considered as indicator. It indicates the size of loan that might explain the size of the underlying business. Larger the loan, higher the possibility of business being established and expanding, thereby increasing the likelihood of paying of the loan.\n",
    "\n",
    "The SBA approved amount can be one of the factor to build a model. Along with gross amount of loan approved by the bank, a ratio of SBA guaranteed to Bank approved can be calculated. "
   ]
  },
  {
   "cell_type": "code",
   "execution_count": 17,
   "metadata": {},
   "outputs": [
    {
     "data": {
      "text/html": [
       "<div>\n",
       "<style scoped>\n",
       "    .dataframe tbody tr th:only-of-type {\n",
       "        vertical-align: middle;\n",
       "    }\n",
       "\n",
       "    .dataframe tbody tr th {\n",
       "        vertical-align: top;\n",
       "    }\n",
       "\n",
       "    .dataframe thead th {\n",
       "        text-align: right;\n",
       "    }\n",
       "</style>\n",
       "<table border=\"1\" class=\"dataframe\">\n",
       "  <thead>\n",
       "    <tr style=\"text-align: right;\">\n",
       "      <th></th>\n",
       "      <th>count</th>\n",
       "      <th>mean</th>\n",
       "      <th>std</th>\n",
       "      <th>min</th>\n",
       "      <th>25%</th>\n",
       "      <th>50%</th>\n",
       "      <th>75%</th>\n",
       "      <th>max</th>\n",
       "    </tr>\n",
       "    <tr>\n",
       "      <th>MIS_Status</th>\n",
       "      <th></th>\n",
       "      <th></th>\n",
       "      <th></th>\n",
       "      <th></th>\n",
       "      <th></th>\n",
       "      <th></th>\n",
       "      <th></th>\n",
       "      <th></th>\n",
       "    </tr>\n",
       "  </thead>\n",
       "  <tbody>\n",
       "    <tr>\n",
       "      <th>Default</th>\n",
       "      <td>118202.0</td>\n",
       "      <td>0.643908</td>\n",
       "      <td>0.163631</td>\n",
       "      <td>0.12190</td>\n",
       "      <td>0.5</td>\n",
       "      <td>0.50</td>\n",
       "      <td>0.85</td>\n",
       "      <td>1.0</td>\n",
       "    </tr>\n",
       "    <tr>\n",
       "      <th>Paid In Full</th>\n",
       "      <td>554698.0</td>\n",
       "      <td>0.723566</td>\n",
       "      <td>0.172580</td>\n",
       "      <td>0.02814</td>\n",
       "      <td>0.5</td>\n",
       "      <td>0.75</td>\n",
       "      <td>0.85</td>\n",
       "      <td>1.0</td>\n",
       "    </tr>\n",
       "  </tbody>\n",
       "</table>\n",
       "</div>"
      ],
      "text/plain": [
       "                 count      mean       std      min  25%   50%   75%  max\n",
       "MIS_Status                                                               \n",
       "Default       118202.0  0.643908  0.163631  0.12190  0.5  0.50  0.85  1.0\n",
       "Paid In Full  554698.0  0.723566  0.172580  0.02814  0.5  0.75  0.85  1.0"
      ]
     },
     "execution_count": 17,
     "metadata": {},
     "output_type": "execute_result"
    }
   ],
   "source": [
    "currency_cleaning = lambda x: int(float(x[1:].replace(\",\", \"\")))\n",
    "\n",
    "demo = train[[\"GrAppv\", \"SBA_Appv\", \"MIS_Status\", \"DisbursementGross\"]].copy()\n",
    "demo[\"GrAppv\"] = demo[\"GrAppv\"].apply(currency_cleaning).astype(int)\n",
    "demo[\"SBA_Appv\"] = demo[\"SBA_Appv\"].apply(currency_cleaning).astype(int)\n",
    "demo[\"DisbursementGross\"] = demo[\"DisbursementGross\"].apply(currency_cleaning).astype(int)\n",
    "\n",
    "demo[\"Portion\"] = demo[\"SBA_Appv\"]/demo[\"GrAppv\"]\n",
    "demo[\"MIS_Status\"] = demo[\"MIS_Status\"].replace({\"P I F\": \"Paid In Full\", \"CHGOFF\":\"Default\"})\n",
    "demo.dropna(inplace=True)\n",
    "demo.groupby(\"MIS_Status\")[\"Portion\"].describe()"
   ]
  },
  {
   "cell_type": "code",
   "execution_count": 18,
   "metadata": {},
   "outputs": [
    {
     "data": {
      "text/plain": [
       "<AxesSubplot:xlabel='MIS_Status', ylabel='Portion'>"
      ]
     },
     "execution_count": 18,
     "metadata": {},
     "output_type": "execute_result"
    },
    {
     "data": {
      "image/png": "[encoded data removed]",
      "text/plain": [
       "<Figure size 432x288 with 1 Axes>"
      ]
     },
     "metadata": {
      "needs_background": "light"
     },
     "output_type": "display_data"
    }
   ],
   "source": [
    "sns.boxplot(x=\"MIS_Status\", y=\"Portion\", data=demo)"
   ]
  },
  {
   "cell_type": "code",
   "execution_count": 19,
   "metadata": {},
   "outputs": [
    {
     "data": {
      "text/html": [
       "<div>\n",
       "<style scoped>\n",
       "    .dataframe tbody tr th:only-of-type {\n",
       "        vertical-align: middle;\n",
       "    }\n",
       "\n",
       "    .dataframe tbody tr th {\n",
       "        vertical-align: top;\n",
       "    }\n",
       "\n",
       "    .dataframe thead th {\n",
       "        text-align: right;\n",
       "    }\n",
       "</style>\n",
       "<table border=\"1\" class=\"dataframe\">\n",
       "  <thead>\n",
       "    <tr style=\"text-align: right;\">\n",
       "      <th></th>\n",
       "      <th>count</th>\n",
       "      <th>mean</th>\n",
       "      <th>std</th>\n",
       "      <th>min</th>\n",
       "      <th>25%</th>\n",
       "      <th>50%</th>\n",
       "      <th>75%</th>\n",
       "      <th>max</th>\n",
       "    </tr>\n",
       "    <tr>\n",
       "      <th>MIS_Status</th>\n",
       "      <th></th>\n",
       "      <th></th>\n",
       "      <th></th>\n",
       "      <th></th>\n",
       "      <th></th>\n",
       "      <th></th>\n",
       "      <th></th>\n",
       "      <th></th>\n",
       "    </tr>\n",
       "  </thead>\n",
       "  <tbody>\n",
       "    <tr>\n",
       "      <th>Default</th>\n",
       "      <td>118202.0</td>\n",
       "      <td>132088.424688</td>\n",
       "      <td>211772.251561</td>\n",
       "      <td>4000.0</td>\n",
       "      <td>27037.25</td>\n",
       "      <td>61033.0</td>\n",
       "      <td>140000.0</td>\n",
       "      <td>4362157.0</td>\n",
       "    </tr>\n",
       "    <tr>\n",
       "      <th>Paid In Full</th>\n",
       "      <td>554698.0</td>\n",
       "      <td>216458.629126</td>\n",
       "      <td>299790.656027</td>\n",
       "      <td>4000.0</td>\n",
       "      <td>49000.00</td>\n",
       "      <td>100000.0</td>\n",
       "      <td>256000.0</td>\n",
       "      <td>11446325.0</td>\n",
       "    </tr>\n",
       "  </tbody>\n",
       "</table>\n",
       "</div>"
      ],
      "text/plain": [
       "                 count           mean            std     min       25%  \\\n",
       "MIS_Status                                                               \n",
       "Default       118202.0  132088.424688  211772.251561  4000.0  27037.25   \n",
       "Paid In Full  554698.0  216458.629126  299790.656027  4000.0  49000.00   \n",
       "\n",
       "                   50%       75%         max  \n",
       "MIS_Status                                    \n",
       "Default        61033.0  140000.0   4362157.0  \n",
       "Paid In Full  100000.0  256000.0  11446325.0  "
      ]
     },
     "execution_count": 19,
     "metadata": {},
     "output_type": "execute_result"
    }
   ],
   "source": [
    "demo.groupby(\"MIS_Status\")[\"DisbursementGross\"].describe()\n"
   ]
  },
  {
   "cell_type": "markdown",
   "metadata": {},
   "source": [
    "#### 7. New Exist\n",
    "Explains the business conditions, is it a new or existing business. New and existing businesses have different risks in the business condition. This can be used as feature for modeling."
   ]
  },
  {
   "cell_type": "code",
   "execution_count": 20,
   "metadata": {},
   "outputs": [
    {
     "data": {
      "text/plain": [
       "<AxesSubplot:xlabel='NewExist', ylabel='count'>"
      ]
     },
     "execution_count": 20,
     "metadata": {},
     "output_type": "execute_result"
    },
    {
     "data": {
      "image/png": "[encoded data removed]",
      "text/plain": [
       "<Figure size 432x288 with 1 Axes>"
      ]
     },
     "metadata": {
      "needs_background": "light"
     },
     "output_type": "display_data"
    }
   ],
   "source": [
    "demo = train[[\"MIS_Status\", \"NewExist\"]].copy()\n",
    "demo[\"MIS_Status\"] = demo[\"MIS_Status\"].replace({\"P I F\": \"Paid In Full\", \"CHGOFF\":\"Default\"})\n",
    "demo[\"NewExist\"] = demo[\"NewExist\"].replace({1.0: \"Existing Business\", 2.0:\"New Business\"})\n",
    "demo.dropna(inplace=True)\n",
    "sns.countplot(x=\"NewExist\", hue=\"MIS_Status\", data=demo[demo[\"NewExist\"]!= 0])"
   ]
  },
  {
   "cell_type": "markdown",
   "metadata": {},
   "source": [
    "Features we will be using will are as follows:\n",
    "1. NewExists\n",
    "2. DisbursementGross\n",
    "3. SBA approved portion using GrAppv and SBA_Appv\n",
    "4. LowDoc\n",
    "5. Term\n",
    "6. DisbursementDate to evaluate during the Great Recession"
   ]
  },
  {
   "cell_type": "markdown",
   "metadata": {},
   "source": [
    "## Data Cleaning"
   ]
  },
  {
   "cell_type": "markdown",
   "metadata": {},
   "source": [
    "Dropping feature that might never be used"
   ]
  },
  {
   "cell_type": "code",
   "execution_count": 21,
   "metadata": {},
   "outputs": [],
   "source": [
    "\n",
    "# Drop unused feature\n",
    "data = train[[\"DisbursementGross\", \"DisbursementDate\", \"Term\", \"LowDoc\", \"GrAppv\", \"SBA_Appv\", \"NewExist\", \"MIS_Status\", \"NAICS\"]].copy()"
   ]
  },
  {
   "cell_type": "markdown",
   "metadata": {},
   "source": [
    "### Null and NaN\n",
    "From the EDA before, we know that there are some NaN and Null data. Since only a few data with NaN and Null condition, we can drop the data with this condition."
   ]
  },
  {
   "cell_type": "code",
   "execution_count": 22,
   "metadata": {},
   "outputs": [
    {
     "name": "stdout",
     "output_type": "stream",
     "text": [
      "<class 'pandas.core.frame.DataFrame'>\n",
      "Int64Index: 674373 entries, 811798 to 121958\n",
      "Data columns (total 9 columns):\n",
      " #   Column             Non-Null Count   Dtype  \n",
      "---  ------             --------------   -----  \n",
      " 0   DisbursementGross  674373 non-null  object \n",
      " 1   DisbursementDate   672654 non-null  object \n",
      " 2   Term               674373 non-null  int64  \n",
      " 3   LowDoc             672426 non-null  object \n",
      " 4   GrAppv             674373 non-null  object \n",
      " 5   SBA_Appv           674373 non-null  object \n",
      " 6   NewExist           674271 non-null  float64\n",
      " 7   MIS_Status         672900 non-null  object \n",
      " 8   NAICS              674373 non-null  int64  \n",
      "dtypes: float64(1), int64(2), object(6)\n",
      "memory usage: 67.6+ MB\n"
     ]
    }
   ],
   "source": [
    "data.info()"
   ]
  },
  {
   "cell_type": "code",
   "execution_count": 23,
   "metadata": {},
   "outputs": [
    {
     "name": "stdout",
     "output_type": "stream",
     "text": [
      "<class 'pandas.core.frame.DataFrame'>\n",
      "Int64Index: 669299 entries, 811798 to 121958\n",
      "Data columns (total 9 columns):\n",
      " #   Column             Non-Null Count   Dtype  \n",
      "---  ------             --------------   -----  \n",
      " 0   DisbursementGross  669299 non-null  object \n",
      " 1   DisbursementDate   669299 non-null  object \n",
      " 2   Term               669299 non-null  int64  \n",
      " 3   LowDoc             669299 non-null  object \n",
      " 4   GrAppv             669299 non-null  object \n",
      " 5   SBA_Appv           669299 non-null  object \n",
      " 6   NewExist           669299 non-null  float64\n",
      " 7   MIS_Status         669299 non-null  object \n",
      " 8   NAICS              669299 non-null  int64  \n",
      "dtypes: float64(1), int64(2), object(6)\n",
      "memory usage: 51.1+ MB\n"
     ]
    }
   ],
   "source": [
    "data.dropna(inplace=True)\n",
    "data.info()"
   ]
  },
  {
   "cell_type": "markdown",
   "metadata": {},
   "source": [
    "### Variable cleaning"
   ]
  },
  {
   "cell_type": "markdown",
   "metadata": {},
   "source": [
    "#### NAICS\n",
    "The North American Industry Classification System (NAICS) is the standard used by Federal statistical agencies in classifying business establishments for the purpose of collecting, analyzing, and publishing statistical data related to the U.S. business economy. We need to make sure all samples have six digits NAICS code, so the data that don't have any NAICS code can be drop."
   ]
  },
  {
   "cell_type": "code",
   "execution_count": 24,
   "metadata": {},
   "outputs": [
    {
     "data": {
      "text/plain": [
       "<AxesSubplot:>"
      ]
     },
     "execution_count": 24,
     "metadata": {},
     "output_type": "execute_result"
    },
    {
     "data": {
      "image/png": "[encoded data removed]",
      "text/plain": [
       "<Figure size 432x288 with 1 Axes>"
      ]
     },
     "metadata": {
      "needs_background": "light"
     },
     "output_type": "display_data"
    }
   ],
   "source": [
    "data[\"NAICS\"].map(lambda x: x != 0).value_counts().plot.bar()"
   ]
  },
  {
   "cell_type": "code",
   "execution_count": 25,
   "metadata": {},
   "outputs": [
    {
     "name": "stdout",
     "output_type": "stream",
     "text": [
      "<class 'pandas.core.frame.DataFrame'>\n",
      "Int64Index: 669299 entries, 811798 to 121958\n",
      "Data columns (total 9 columns):\n",
      " #   Column             Non-Null Count   Dtype  \n",
      "---  ------             --------------   -----  \n",
      " 0   DisbursementGross  669299 non-null  object \n",
      " 1   DisbursementDate   669299 non-null  object \n",
      " 2   Term               669299 non-null  int64  \n",
      " 3   LowDoc             669299 non-null  object \n",
      " 4   GrAppv             669299 non-null  object \n",
      " 5   SBA_Appv           669299 non-null  object \n",
      " 6   NewExist           669299 non-null  float64\n",
      " 7   MIS_Status         669299 non-null  object \n",
      " 8   NAICS              669299 non-null  int64  \n",
      "dtypes: float64(1), int64(2), object(6)\n",
      "memory usage: 51.1+ MB\n"
     ]
    }
   ],
   "source": [
    "# data = data[data.NAICS != 0]\n",
    "data.info()"
   ]
  },
  {
   "cell_type": "markdown",
   "metadata": {},
   "source": [
    "#### NewExist\n",
    "We can only classify business with new and existing business. Others data with different code can be ignored"
   ]
  },
  {
   "cell_type": "code",
   "execution_count": 26,
   "metadata": {},
   "outputs": [
    {
     "data": {
      "text/plain": [
       "<AxesSubplot:>"
      ]
     },
     "execution_count": 26,
     "metadata": {},
     "output_type": "execute_result"
    },
    {
     "data": {
      "image/png": "[encoded data removed]",
      "text/plain": [
       "<Figure size 432x288 with 1 Axes>"
      ]
     },
     "metadata": {
      "needs_background": "light"
     },
     "output_type": "display_data"
    }
   ],
   "source": [
    "data[\"NewExist\"].value_counts().plot.bar()"
   ]
  },
  {
   "cell_type": "code",
   "execution_count": 27,
   "metadata": {},
   "outputs": [
    {
     "name": "stdout",
     "output_type": "stream",
     "text": [
      "<class 'pandas.core.frame.DataFrame'>\n",
      "Int64Index: 668538 entries, 811798 to 121958\n",
      "Data columns (total 9 columns):\n",
      " #   Column             Non-Null Count   Dtype  \n",
      "---  ------             --------------   -----  \n",
      " 0   DisbursementGross  668538 non-null  object \n",
      " 1   DisbursementDate   668538 non-null  object \n",
      " 2   Term               668538 non-null  int64  \n",
      " 3   LowDoc             668538 non-null  object \n",
      " 4   GrAppv             668538 non-null  object \n",
      " 5   SBA_Appv           668538 non-null  object \n",
      " 6   NewExist           668538 non-null  float64\n",
      " 7   MIS_Status         668538 non-null  object \n",
      " 8   NAICS              668538 non-null  int64  \n",
      "dtypes: float64(1), int64(2), object(6)\n",
      "memory usage: 51.0+ MB\n"
     ]
    }
   ],
   "source": [
    "data = data[(data.NewExist == 1.0) | (data.NewExist == 2.0)]\n",
    "data.info()"
   ]
  },
  {
   "cell_type": "markdown",
   "metadata": {},
   "source": [
    "#### LowDoc Feature\n",
    "Since there are only two condition for the LowDoc condition, other data must be drop from dataset."
   ]
  },
  {
   "cell_type": "code",
   "execution_count": 28,
   "metadata": {},
   "outputs": [
    {
     "data": {
      "text/plain": [
       "<AxesSubplot:>"
      ]
     },
     "execution_count": 28,
     "metadata": {},
     "output_type": "execute_result"
    },
    {
     "data": {
      "image/png": "[encoded data removed]",
      "text/plain": [
       "<Figure size 432x288 with 1 Axes>"
      ]
     },
     "metadata": {
      "needs_background": "light"
     },
     "output_type": "display_data"
    }
   ],
   "source": [
    "data[\"LowDoc\"].value_counts().plot.bar()"
   ]
  },
  {
   "cell_type": "code",
   "execution_count": 29,
   "metadata": {},
   "outputs": [
    {
     "name": "stdout",
     "output_type": "stream",
     "text": [
      "<class 'pandas.core.frame.DataFrame'>\n",
      "Int64Index: 666016 entries, 811798 to 121958\n",
      "Data columns (total 9 columns):\n",
      " #   Column             Non-Null Count   Dtype  \n",
      "---  ------             --------------   -----  \n",
      " 0   DisbursementGross  666016 non-null  object \n",
      " 1   DisbursementDate   666016 non-null  object \n",
      " 2   Term               666016 non-null  int64  \n",
      " 3   LowDoc             666016 non-null  object \n",
      " 4   GrAppv             666016 non-null  object \n",
      " 5   SBA_Appv           666016 non-null  object \n",
      " 6   NewExist           666016 non-null  float64\n",
      " 7   MIS_Status         666016 non-null  object \n",
      " 8   NAICS              666016 non-null  int64  \n",
      "dtypes: float64(1), int64(2), object(6)\n",
      "memory usage: 50.8+ MB\n"
     ]
    }
   ],
   "source": [
    "data = data[(data[\"LowDoc\"] == \"Y\") | (data[\"LowDoc\"] == \"N\")]\n",
    "data.info()"
   ]
  },
  {
   "cell_type": "markdown",
   "metadata": {},
   "source": [
    "## Data processing"
   ]
  },
  {
   "cell_type": "markdown",
   "metadata": {},
   "source": [
    "#### Dummy encoding\n",
    "\n",
    "MIS_Status field, which is ‘PIF’ if the loan is paid in full and ‘CHGOFF’ if the borrower defaulted (the loan was charged off) is the deciding factor to approve the loan. PIF will be treated as positive class."
   ]
  },
  {
   "cell_type": "code",
   "execution_count": 69,
   "metadata": {},
   "outputs": [],
   "source": [
    "outcome_encoder = OneHotEncoder(drop='first')\n",
    "a = outcome_encoder.fit_transform(data[[\"MIS_Status\"]])\n",
    "def portion_calculate(mat):\n",
    "    currency_cleaning = lambda x: int(float(x[1:].replace(\",\", \"\")))\n",
    "    rows, cols = mat.shape\n",
    "    assert cols == 2  # if we don't have 2 columns, things are unexpected\n",
    "    \n",
    "    if hasattr(mat, 'iloc'):\n",
    "        mat.iloc[:, 0] = mat.iloc[:, 0].apply(currency_cleaning).astype(int)\n",
    "        mat.iloc[:, 1] = mat.iloc[:, 1].apply(currency_cleaning).astype(int)\n",
    "        res = mat.iloc[:, 0] / mat.iloc[:, 1]\n",
    "        return res.to_frame()\n",
    "    else:\n",
    "        mat[:, 0] = mat[:, 0].apply(currency_cleaning).astype(int)\n",
    "        mat[:, 1] = mat[:, 1].apply(currency_cleaning).astype(int)\n",
    "        res = mat[:, 0] / mat[:, 1]\n",
    "        return res.reshape((rows, 1))\n",
    "\n",
    "def clean_currency(mat):\n",
    "    assert len(mat.shape) == 1\n",
    "    print\n",
    "    currency_cleaning = lambda x: int(float(x[1:].replace(\",\", \"\")))\n",
    "    if hasattr(mat, 'iloc'):\n",
    "        return mat.apply(currency_cleaning).astype(int).to_frame()\n",
    "    else:\n",
    "        return mat.apply(currency_cleaning).astype(int).reshape((mat.shape, 1))\n",
    "\n",
    "sba_portion = FunctionTransformer(portion_calculate)\n",
    "currency_clean = FunctionTransformer(clean_currency)\n",
    "\n",
    "disburstmentgross = Pipeline(\n",
    "    steps=[(\"clean_data\", currency_clean), (\"scaler\", StandardScaler())]\n",
    ")\n",
    "\n",
    "\n",
    "tf_pipe = ColumnTransformer(\n",
    "    transformers=[\n",
    "    ('SBA_portion', sba_portion, ['SBA_Appv', 'GrAppv']),\n",
    "    ('DisbursementGross', disburstmentgross, 'DisbursementGross'),\n",
    "    (\"MIS_Status\", OneHotEncoder(drop='first'), ['MIS_Status'])\n",
    "])\n"
   ]
  },
  {
   "cell_type": "code",
   "execution_count": 70,
   "metadata": {},
   "outputs": [
    {
     "data": {
      "text/plain": [
       "array([[ 0.5       , -0.42635397,  0.        ,  0.        ],\n",
       "       [ 1.        ,  0.96135326,  1.        ,  0.        ],\n",
       "       [ 0.85000392, -0.38854565,  1.        ,  0.        ],\n",
       "       ...,\n",
       "       [ 0.9       , -0.52513977,  1.        ,  0.        ],\n",
       "       [ 0.5       , -0.57723649,  0.        ,  0.        ],\n",
       "       [ 0.5       ,  1.72795994,  1.        ,  0.        ]])"
      ]
     },
     "execution_count": 70,
     "metadata": {},
     "output_type": "execute_result"
    }
   ],
   "source": [
    "targets = tf_pipe.fit_transform(train)\n",
    "targets"
   ]
  },
  {
   "cell_type": "code",
   "execution_count": 31,
   "metadata": {},
   "outputs": [],
   "source": [
    "# approve_loan = pd.get_dummies(data[\"MIS_Status\"], drop_first=True).rename(columns={\"P I F\": \"Approve\"})\n",
    "# data.drop([\"MIS_Status\"], axis=1, inplace=True)\n",
    "# data = pd.concat([data,approve_loan], axis=1)"
   ]
  },
  {
   "cell_type": "code",
   "execution_count": 32,
   "metadata": {},
   "outputs": [],
   "source": [
    "# urban = pd.get_dummies(data[\"UrbanRural\"])\n",
    "# urban.drop(urban.columns[1], axis=1, inplace=True)\n",
    "# urban.rename(columns={1: \"Urban\"}, inplace=True)\n",
    "# data.drop([\"UrbanRural\"], axis=1, inplace=True)\n",
    "# data = pd.concat([data,urban], axis=1)\n"
   ]
  },
  {
   "cell_type": "code",
   "execution_count": 33,
   "metadata": {},
   "outputs": [],
   "source": [
    "# rev_line = pd.get_dummies(data[\"RevLineCr\"], drop_first=True).rename(columns={\"Y\": \"RevLine\"})\n",
    "# data.drop([\"RevLineCr\"], axis=1, inplace=True)\n",
    "# data = pd.concat([data,rev_line], axis=1)\n"
   ]
  },
  {
   "cell_type": "code",
   "execution_count": 34,
   "metadata": {},
   "outputs": [],
   "source": [
    "# low_doc = pd.get_dummies(data[\"LowDoc\"], drop_first=True).rename(columns={\"Y\": \"LowDoc\"})\n",
    "# data.drop([\"LowDoc\"], axis=1, inplace=True)\n",
    "# data = pd.concat([data,low_doc], axis=1)\n"
   ]
  },
  {
   "cell_type": "code",
   "execution_count": 35,
   "metadata": {},
   "outputs": [],
   "source": [
    "# new = pd.get_dummies(data[\"NewExist\"], drop_first=True).rename(columns={2.0: \"New\"})\n",
    "# data.drop([\"NewExist\"], axis=1, inplace=True)\n",
    "# data = pd.concat([data,new], axis=1)"
   ]
  },
  {
   "cell_type": "markdown",
   "metadata": {},
   "source": [
    "#### Real Estate and Recession effect"
   ]
  },
  {
   "cell_type": "code",
   "execution_count": 36,
   "metadata": {},
   "outputs": [],
   "source": [
    "# realestate = pd.Series(0, index=data.index)\n",
    "# realestate[data[\"Term\"] >= 240 ] = 1\n",
    "# data[\"RealEstate\"] = realestate"
   ]
  },
  {
   "cell_type": "code",
   "execution_count": 37,
   "metadata": {},
   "outputs": [],
   "source": [
    "# rec_date = pd.to_datetime(data[\"DisbursementDate\"]) + pd.to_timedelta(data[\"Term\"]*30, unit=\"D\")\n",
    "# recession = pd.Series(0, index=data.index)\n",
    "# recession[(rec_date >= pd.to_datetime(\"2007-12-01\")) & (rec_date <= pd.to_datetime(\"2009-06-30\"))] = 1 \n",
    "# data.drop([\"DisbursementDate\"], axis=1, inplace=True)\n",
    "# data[\"Recession\"] = recession"
   ]
  },
  {
   "cell_type": "code",
   "execution_count": 38,
   "metadata": {},
   "outputs": [
    {
     "data": {
      "text/html": [
       "<div>\n",
       "<style scoped>\n",
       "    .dataframe tbody tr th:only-of-type {\n",
       "        vertical-align: middle;\n",
       "    }\n",
       "\n",
       "    .dataframe tbody tr th {\n",
       "        vertical-align: top;\n",
       "    }\n",
       "\n",
       "    .dataframe thead th {\n",
       "        text-align: right;\n",
       "    }\n",
       "</style>\n",
       "<table border=\"1\" class=\"dataframe\">\n",
       "  <thead>\n",
       "    <tr style=\"text-align: right;\">\n",
       "      <th></th>\n",
       "      <th>DisbursementGross</th>\n",
       "      <th>DisbursementDate</th>\n",
       "      <th>Term</th>\n",
       "      <th>LowDoc</th>\n",
       "      <th>GrAppv</th>\n",
       "      <th>SBA_Appv</th>\n",
       "      <th>NewExist</th>\n",
       "      <th>MIS_Status</th>\n",
       "      <th>NAICS</th>\n",
       "    </tr>\n",
       "  </thead>\n",
       "  <tbody>\n",
       "    <tr>\n",
       "      <th>811798</th>\n",
       "      <td>$78,443.00</td>\n",
       "      <td>31-Mar-05</td>\n",
       "      <td>27</td>\n",
       "      <td>N</td>\n",
       "      <td>$25,000.00</td>\n",
       "      <td>$12,500.00</td>\n",
       "      <td>2.0</td>\n",
       "      <td>CHGOFF</td>\n",
       "      <td>451110</td>\n",
       "    </tr>\n",
       "    <tr>\n",
       "      <th>385253</th>\n",
       "      <td>$478,000.00</td>\n",
       "      <td>13-Jun-01</td>\n",
       "      <td>240</td>\n",
       "      <td>N</td>\n",
       "      <td>$478,000.00</td>\n",
       "      <td>$478,000.00</td>\n",
       "      <td>1.0</td>\n",
       "      <td>P I F</td>\n",
       "      <td>452110</td>\n",
       "    </tr>\n",
       "    <tr>\n",
       "      <th>246469</th>\n",
       "      <td>$89,329.00</td>\n",
       "      <td>31-Aug-07</td>\n",
       "      <td>120</td>\n",
       "      <td>N</td>\n",
       "      <td>$89,329.00</td>\n",
       "      <td>$75,930.00</td>\n",
       "      <td>2.0</td>\n",
       "      <td>P I F</td>\n",
       "      <td>722110</td>\n",
       "    </tr>\n",
       "    <tr>\n",
       "      <th>51293</th>\n",
       "      <td>$150,000.00</td>\n",
       "      <td>31-Aug-05</td>\n",
       "      <td>120</td>\n",
       "      <td>N</td>\n",
       "      <td>$150,000.00</td>\n",
       "      <td>$75,000.00</td>\n",
       "      <td>1.0</td>\n",
       "      <td>P I F</td>\n",
       "      <td>311330</td>\n",
       "    </tr>\n",
       "    <tr>\n",
       "      <th>414383</th>\n",
       "      <td>$390,000.00</td>\n",
       "      <td>1-Apr-10</td>\n",
       "      <td>108</td>\n",
       "      <td>N</td>\n",
       "      <td>$390,000.00</td>\n",
       "      <td>$351,000.00</td>\n",
       "      <td>1.0</td>\n",
       "      <td>P I F</td>\n",
       "      <td>326291</td>\n",
       "    </tr>\n",
       "    <tr>\n",
       "      <th>...</th>\n",
       "      <td>...</td>\n",
       "      <td>...</td>\n",
       "      <td>...</td>\n",
       "      <td>...</td>\n",
       "      <td>...</td>\n",
       "      <td>...</td>\n",
       "      <td>...</td>\n",
       "      <td>...</td>\n",
       "      <td>...</td>\n",
       "    </tr>\n",
       "    <tr>\n",
       "      <th>259178</th>\n",
       "      <td>$26,432.00</td>\n",
       "      <td>31-Dec-07</td>\n",
       "      <td>84</td>\n",
       "      <td>N</td>\n",
       "      <td>$3,000.00</td>\n",
       "      <td>$1,500.00</td>\n",
       "      <td>2.0</td>\n",
       "      <td>P I F</td>\n",
       "      <td>531210</td>\n",
       "    </tr>\n",
       "    <tr>\n",
       "      <th>365838</th>\n",
       "      <td>$30,000.00</td>\n",
       "      <td>29-Feb-00</td>\n",
       "      <td>36</td>\n",
       "      <td>N</td>\n",
       "      <td>$30,000.00</td>\n",
       "      <td>$15,000.00</td>\n",
       "      <td>1.0</td>\n",
       "      <td>P I F</td>\n",
       "      <td>448310</td>\n",
       "    </tr>\n",
       "    <tr>\n",
       "      <th>131932</th>\n",
       "      <td>$50,000.00</td>\n",
       "      <td>31-May-98</td>\n",
       "      <td>12</td>\n",
       "      <td>N</td>\n",
       "      <td>$50,000.00</td>\n",
       "      <td>$45,000.00</td>\n",
       "      <td>1.0</td>\n",
       "      <td>P I F</td>\n",
       "      <td>0</td>\n",
       "    </tr>\n",
       "    <tr>\n",
       "      <th>671155</th>\n",
       "      <td>$35,000.00</td>\n",
       "      <td>31-Dec-03</td>\n",
       "      <td>49</td>\n",
       "      <td>N</td>\n",
       "      <td>$35,000.00</td>\n",
       "      <td>$17,500.00</td>\n",
       "      <td>1.0</td>\n",
       "      <td>CHGOFF</td>\n",
       "      <td>812112</td>\n",
       "    </tr>\n",
       "    <tr>\n",
       "      <th>121958</th>\n",
       "      <td>$698,726.00</td>\n",
       "      <td>31-Jul-06</td>\n",
       "      <td>84</td>\n",
       "      <td>N</td>\n",
       "      <td>$350,000.00</td>\n",
       "      <td>$175,000.00</td>\n",
       "      <td>1.0</td>\n",
       "      <td>P I F</td>\n",
       "      <td>339999</td>\n",
       "    </tr>\n",
       "  </tbody>\n",
       "</table>\n",
       "<p>666016 rows × 9 columns</p>\n",
       "</div>"
      ],
      "text/plain": [
       "       DisbursementGross DisbursementDate  Term LowDoc        GrAppv  \\\n",
       "811798       $78,443.00         31-Mar-05    27      N   $25,000.00    \n",
       "385253      $478,000.00         13-Jun-01   240      N  $478,000.00    \n",
       "246469       $89,329.00         31-Aug-07   120      N   $89,329.00    \n",
       "51293       $150,000.00         31-Aug-05   120      N  $150,000.00    \n",
       "414383      $390,000.00          1-Apr-10   108      N  $390,000.00    \n",
       "...                  ...              ...   ...    ...           ...   \n",
       "259178       $26,432.00         31-Dec-07    84      N    $3,000.00    \n",
       "365838       $30,000.00         29-Feb-00    36      N   $30,000.00    \n",
       "131932       $50,000.00         31-May-98    12      N   $50,000.00    \n",
       "671155       $35,000.00         31-Dec-03    49      N   $35,000.00    \n",
       "121958      $698,726.00         31-Jul-06    84      N  $350,000.00    \n",
       "\n",
       "            SBA_Appv  NewExist MIS_Status   NAICS  \n",
       "811798   $12,500.00        2.0     CHGOFF  451110  \n",
       "385253  $478,000.00        1.0      P I F  452110  \n",
       "246469   $75,930.00        2.0      P I F  722110  \n",
       "51293    $75,000.00        1.0      P I F  311330  \n",
       "414383  $351,000.00        1.0      P I F  326291  \n",
       "...              ...       ...        ...     ...  \n",
       "259178    $1,500.00        2.0      P I F  531210  \n",
       "365838   $15,000.00        1.0      P I F  448310  \n",
       "131932   $45,000.00        1.0      P I F       0  \n",
       "671155   $17,500.00        1.0     CHGOFF  812112  \n",
       "121958  $175,000.00        1.0      P I F  339999  \n",
       "\n",
       "[666016 rows x 9 columns]"
      ]
     },
     "execution_count": 38,
     "metadata": {},
     "output_type": "execute_result"
    }
   ],
   "source": [
    "data"
   ]
  },
  {
   "cell_type": "markdown",
   "metadata": {},
   "source": [
    "#### Loan amount\n",
    "GrAppv and SBA_Appv can be used to calculate the fraction of loan guaranteed by SBA."
   ]
  },
  {
   "cell_type": "code",
   "execution_count": 39,
   "metadata": {},
   "outputs": [],
   "source": [
    "# currency_cleaning = lambda x: int(float(x[1:].replace(\",\", \"\")))\n",
    "# data[\"GrAppv\"] = data[\"GrAppv\"].apply(currency_cleaning).astype(int)\n",
    "# data[\"SBA_Appv\"] = data[\"SBA_Appv\"].apply(currency_cleaning).astype(int)    \n",
    "# data[\"DisbursementGross\"] = data[\"DisbursementGross\"].apply(currency_cleaning).astype(int)    "
   ]
  },
  {
   "cell_type": "code",
   "execution_count": 40,
   "metadata": {},
   "outputs": [],
   "source": [
    "# data[\"SBA_Guaranteed\"] = data[\"SBA_Appv\"]/data[\"GrAppv\"]"
   ]
  },
  {
   "cell_type": "code",
   "execution_count": 41,
   "metadata": {},
   "outputs": [],
   "source": [
    "# data.drop([\"GrAppv\", \"SBA_Appv\"], axis=1, inplace=True)\n",
    "# data"
   ]
  },
  {
   "cell_type": "markdown",
   "metadata": {},
   "source": [
    "#### NAICS coding\n",
    "Because machine learning algorithm use numerical data for considering the model. We need to do feature engineeing to modifiy the feature for modeling.\n",
    "\n",
    "NAICS\n",
    "\n",
    "* 11 : Agriculture, forestry, fishing and hunting\n",
    "* 21 : Mining, quarrying, and oil and gas extraction\n",
    "* 22 : Utilities\n",
    "* 23 : Construction\n",
    "* 31-33 : Manufacturing\n",
    "* 42 : Wholesale trade\n",
    "* 44-45 : Retail trade\n",
    "* 48-49 : Transportation and warehousing\n",
    "* 51 : Information\n",
    "* 52 : Finance and insurance\n",
    "* 53 : Real estate and rental and leasing\n",
    "* 54 : Professional, scientific, and technical services\n",
    "* 55 : Management of companies and enterprises\n",
    "* 56 : Administrative/support & waste management/remediation Service\n",
    "* 61 : Educational services\n",
    "* 62 : Health care and social assistance\n",
    "* 71 : Arts, entertainment, and recreation\n",
    "* 72 : Accommodation and food services\n",
    "* 81 : Other services (except public administration)\n",
    "* 92 : Public administration"
   ]
  },
  {
   "cell_type": "code",
   "execution_count": 42,
   "metadata": {},
   "outputs": [],
   "source": [
    "# def NAICS_Coding(x):\n",
    "#     x = str(x)\n",
    "#     x = x[:2]\n",
    "#     if (x == '31') | (x == '32') | (x == '33'):\n",
    "#         x = '31-33'\n",
    "#     elif (x == '44') | (x == '45'):\n",
    "#         x = '44-45'\n",
    "#     elif (x == '48') | (x == '49'):\n",
    "#         x = '48-49'\n",
    "#     return x\n",
    "\n",
    "# data[\"NAICS\"] = data[\"NAICS\"].apply(NAICS_Coding)\n",
    "# NAICS = pd.get_dummies(data['NAICS'], prefix='NAICS', drop_first=False)\n",
    "# data = pd.concat([data, NAICS], axis=1)\n",
    "# data.drop([\"NAICS\"], axis=1, inplace=True)"
   ]
  },
  {
   "cell_type": "code",
   "execution_count": 43,
   "metadata": {},
   "outputs": [
    {
     "ename": "KeyError",
     "evalue": "'Approve'",
     "output_type": "error",
     "traceback": [
      "\u001b[1;31m---------------------------------------------------------------------------\u001b[0m",
      "\u001b[1;31mKeyError\u001b[0m                                  Traceback (most recent call last)",
      "\u001b[1;32m~\\anaconda3\\lib\\site-packages\\pandas\\core\\indexes\\base.py\u001b[0m in \u001b[0;36mget_loc\u001b[1;34m(self, key, method, tolerance)\u001b[0m\n\u001b[0;32m   3079\u001b[0m             \u001b[1;32mtry\u001b[0m\u001b[1;33m:\u001b[0m\u001b[1;33m\u001b[0m\u001b[1;33m\u001b[0m\u001b[0m\n\u001b[1;32m-> 3080\u001b[1;33m                 \u001b[1;32mreturn\u001b[0m \u001b[0mself\u001b[0m\u001b[1;33m.\u001b[0m\u001b[0m_engine\u001b[0m\u001b[1;33m.\u001b[0m\u001b[0mget_loc\u001b[0m\u001b[1;33m(\u001b[0m\u001b[0mcasted_key\u001b[0m\u001b[1;33m)\u001b[0m\u001b[1;33m\u001b[0m\u001b[1;33m\u001b[0m\u001b[0m\n\u001b[0m\u001b[0;32m   3081\u001b[0m             \u001b[1;32mexcept\u001b[0m \u001b[0mKeyError\u001b[0m \u001b[1;32mas\u001b[0m \u001b[0merr\u001b[0m\u001b[1;33m:\u001b[0m\u001b[1;33m\u001b[0m\u001b[1;33m\u001b[0m\u001b[0m\n",
      "\u001b[1;32mpandas\\_libs\\index.pyx\u001b[0m in \u001b[0;36mpandas._libs.index.IndexEngine.get_loc\u001b[1;34m()\u001b[0m\n",
      "\u001b[1;32mpandas\\_libs\\index.pyx\u001b[0m in \u001b[0;36mpandas._libs.index.IndexEngine.get_loc\u001b[1;34m()\u001b[0m\n",
      "\u001b[1;32mpandas\\_libs\\hashtable_class_helper.pxi\u001b[0m in \u001b[0;36mpandas._libs.hashtable.PyObjectHashTable.get_item\u001b[1;34m()\u001b[0m\n",
      "\u001b[1;32mpandas\\_libs\\hashtable_class_helper.pxi\u001b[0m in \u001b[0;36mpandas._libs.hashtable.PyObjectHashTable.get_item\u001b[1;34m()\u001b[0m\n",
      "\u001b[1;31mKeyError\u001b[0m: 'Approve'",
      "\nThe above exception was the direct cause of the following exception:\n",
      "\u001b[1;31mKeyError\u001b[0m                                  Traceback (most recent call last)",
      "\u001b[1;32m<ipython-input-43-08d4fe9edb0e>\u001b[0m in \u001b[0;36m<module>\u001b[1;34m\u001b[0m\n\u001b[1;32m----> 1\u001b[1;33m \u001b[0mdata\u001b[0m\u001b[1;33m[\u001b[0m\u001b[1;34m\"Approve\"\u001b[0m\u001b[1;33m]\u001b[0m\u001b[1;33m.\u001b[0m\u001b[0mvalue_counts\u001b[0m\u001b[1;33m(\u001b[0m\u001b[1;33m)\u001b[0m\u001b[1;33m.\u001b[0m\u001b[0mplot\u001b[0m\u001b[1;33m.\u001b[0m\u001b[0mbar\u001b[0m\u001b[1;33m(\u001b[0m\u001b[1;33m)\u001b[0m\u001b[1;33m\u001b[0m\u001b[1;33m\u001b[0m\u001b[0m\n\u001b[0m",
      "\u001b[1;32m~\\anaconda3\\lib\\site-packages\\pandas\\core\\frame.py\u001b[0m in \u001b[0;36m__getitem__\u001b[1;34m(self, key)\u001b[0m\n\u001b[0;32m   3022\u001b[0m             \u001b[1;32mif\u001b[0m \u001b[0mself\u001b[0m\u001b[1;33m.\u001b[0m\u001b[0mcolumns\u001b[0m\u001b[1;33m.\u001b[0m\u001b[0mnlevels\u001b[0m \u001b[1;33m>\u001b[0m \u001b[1;36m1\u001b[0m\u001b[1;33m:\u001b[0m\u001b[1;33m\u001b[0m\u001b[1;33m\u001b[0m\u001b[0m\n\u001b[0;32m   3023\u001b[0m                 \u001b[1;32mreturn\u001b[0m \u001b[0mself\u001b[0m\u001b[1;33m.\u001b[0m\u001b[0m_getitem_multilevel\u001b[0m\u001b[1;33m(\u001b[0m\u001b[0mkey\u001b[0m\u001b[1;33m)\u001b[0m\u001b[1;33m\u001b[0m\u001b[1;33m\u001b[0m\u001b[0m\n\u001b[1;32m-> 3024\u001b[1;33m             \u001b[0mindexer\u001b[0m \u001b[1;33m=\u001b[0m \u001b[0mself\u001b[0m\u001b[1;33m.\u001b[0m\u001b[0mcolumns\u001b[0m\u001b[1;33m.\u001b[0m\u001b[0mget_loc\u001b[0m\u001b[1;33m(\u001b[0m\u001b[0mkey\u001b[0m\u001b[1;33m)\u001b[0m\u001b[1;33m\u001b[0m\u001b[1;33m\u001b[0m\u001b[0m\n\u001b[0m\u001b[0;32m   3025\u001b[0m             \u001b[1;32mif\u001b[0m \u001b[0mis_integer\u001b[0m\u001b[1;33m(\u001b[0m\u001b[0mindexer\u001b[0m\u001b[1;33m)\u001b[0m\u001b[1;33m:\u001b[0m\u001b[1;33m\u001b[0m\u001b[1;33m\u001b[0m\u001b[0m\n\u001b[0;32m   3026\u001b[0m                 \u001b[0mindexer\u001b[0m \u001b[1;33m=\u001b[0m \u001b[1;33m[\u001b[0m\u001b[0mindexer\u001b[0m\u001b[1;33m]\u001b[0m\u001b[1;33m\u001b[0m\u001b[1;33m\u001b[0m\u001b[0m\n",
      "\u001b[1;32m~\\anaconda3\\lib\\site-packages\\pandas\\core\\indexes\\base.py\u001b[0m in \u001b[0;36mget_loc\u001b[1;34m(self, key, method, tolerance)\u001b[0m\n\u001b[0;32m   3080\u001b[0m                 \u001b[1;32mreturn\u001b[0m \u001b[0mself\u001b[0m\u001b[1;33m.\u001b[0m\u001b[0m_engine\u001b[0m\u001b[1;33m.\u001b[0m\u001b[0mget_loc\u001b[0m\u001b[1;33m(\u001b[0m\u001b[0mcasted_key\u001b[0m\u001b[1;33m)\u001b[0m\u001b[1;33m\u001b[0m\u001b[1;33m\u001b[0m\u001b[0m\n\u001b[0;32m   3081\u001b[0m             \u001b[1;32mexcept\u001b[0m \u001b[0mKeyError\u001b[0m \u001b[1;32mas\u001b[0m \u001b[0merr\u001b[0m\u001b[1;33m:\u001b[0m\u001b[1;33m\u001b[0m\u001b[1;33m\u001b[0m\u001b[0m\n\u001b[1;32m-> 3082\u001b[1;33m                 \u001b[1;32mraise\u001b[0m \u001b[0mKeyError\u001b[0m\u001b[1;33m(\u001b[0m\u001b[0mkey\u001b[0m\u001b[1;33m)\u001b[0m \u001b[1;32mfrom\u001b[0m \u001b[0merr\u001b[0m\u001b[1;33m\u001b[0m\u001b[1;33m\u001b[0m\u001b[0m\n\u001b[0m\u001b[0;32m   3083\u001b[0m \u001b[1;33m\u001b[0m\u001b[0m\n\u001b[0;32m   3084\u001b[0m         \u001b[1;32mif\u001b[0m \u001b[0mtolerance\u001b[0m \u001b[1;32mis\u001b[0m \u001b[1;32mnot\u001b[0m \u001b[1;32mNone\u001b[0m\u001b[1;33m:\u001b[0m\u001b[1;33m\u001b[0m\u001b[1;33m\u001b[0m\u001b[0m\n",
      "\u001b[1;31mKeyError\u001b[0m: 'Approve'"
     ]
    }
   ],
   "source": [
    "data[\"Approve\"].value_counts().plot.bar()   "
   ]
  },
  {
   "cell_type": "code",
   "execution_count": null,
   "metadata": {},
   "outputs": [],
   "source": [
    "def testing_model_features(train_data, feature, outcome):\n",
    "    from sklearn.inspection import permutation_importance\n",
    "    train_data, tune_data = train_test_split(train_data, test_size=0.1, random_state=42)\n",
    "    lg_mod = LogisticRegression(penalty='none', max_iter=1000)\n",
    "    train_x = train_data[feature]\n",
    "    train_y = train_data[outcome]\n",
    "    a = lg_mod.fit(train_x, train_y)\n",
    "    result = permutation_importance(a, train_x, train_y, n_repeats=10, random_state=0)\n",
    "    print(result.importances_mean)\n",
    "    test_x = tune_data[feature]\n",
    "    test_y = tune_data[outcome]\n",
    "    train_d = lg_mod.predict(train_x)\n",
    "    print(f\"Training Accuracy: {np.mean(train_d == train_y)}\")\n",
    "\n",
    "    test_d = lg_mod.predict(test_x)\n",
    "    print(f\"Tuning Accuracy: {np.mean(test_d == test_y)}\")\n",
    "    \n",
    "    tn, fp, fn, tp = confusion_matrix(test_y, test_d).ravel()\n",
    "    print(confusion_matrix(test_y, test_d))\n",
    "    print(\"Accuracy:\", (tp+tn)/(tp+tn+fp+fn))\n",
    "    print(\"Recall:\", tp/(tp+fn))\n",
    "    print(\"Precision:\", tp/(tp+fp))"
   ]
  },
  {
   "cell_type": "code",
   "execution_count": null,
   "metadata": {},
   "outputs": [],
   "source": [
    "data"
   ]
  },
  {
   "cell_type": "code",
   "execution_count": null,
   "metadata": {},
   "outputs": [],
   "source": [
    "feat_cols = [\"New\", \"Term\", \"SBA_Guaranteed\"]\n",
    "out_col = 'Approve'\n",
    "testing_model_features(data, feat_cols, out_col)"
   ]
  },
  {
   "cell_type": "code",
   "execution_count": null,
   "metadata": {},
   "outputs": [],
   "source": [
    "feat_cols = [\"Recession\", \"SBA_Guaranteed\", \"Term\", \"New\"]\n",
    "out_col = 'Approve'\n",
    "testing_model_features(data, feat_cols, out_col)"
   ]
  },
  {
   "cell_type": "code",
   "execution_count": null,
   "metadata": {},
   "outputs": [],
   "source": [
    "feat_cols = [\"Recession\", \"SBA_Guaranteed\", \"Term\", \"New\", \"DisbursementGross\"]\n",
    "out_col = 'Approve'\n",
    "testing_model_features(data, feat_cols, out_col)"
   ]
  },
  {
   "cell_type": "markdown",
   "metadata": {},
   "source": [
    "## The model\n"
   ]
  },
  {
   "cell_type": "code",
   "execution_count": null,
   "metadata": {},
   "outputs": [],
   "source": [
    "def test_acccuracy(train_data, test_data, feature, outcome):\n",
    "    lg_mod = LogisticRegression(penalty='none', max_iter=1000)\n",
    "    train_x = train_data[feature]\n",
    "    train_y = train_data[outcome]\n",
    "    lg_mod.fit(train_x, train_y)\n",
    "\n",
    "    test_x = test_data[feature]\n",
    "    test_y = test_data[outcome]\n",
    "    train_d = lg_mod.predict(train_x)\n",
    "    print(f\"Training Accuracy: {np.mean(train_d == train_y)}\")\n",
    "\n",
    "    test_d = lg_mod.predict(test_x)\n",
    "    print(f\"Testing Accuracy: {np.mean(test_d == test_y)}\")\n",
    "    \n",
    "    tn, fp, fn, tp = confusion_matrix(test_y, test_d).ravel()\n",
    "    print(confusion_matrix(test_y, test_d))\n",
    "    print(\"Accuracy:\", (tp+tn)/(tp+tn+fp+fn))\n",
    "    print(\"Recall:\", tp/(tp+fn))\n",
    "    print(\"Precision:\", tp/(tp+fp))"
   ]
  },
  {
   "cell_type": "code",
   "execution_count": null,
   "metadata": {},
   "outputs": [],
   "source": [
    "# feat_cols = [\"New\", \"Recession\", \"SBA_Guaranteed\", \"RealEstate\"]\n",
    "# out_col = 'Approve'\n",
    "# testing_model_features(train, test, feat_cols, out_col)"
   ]
  },
  {
   "cell_type": "code",
   "execution_count": null,
   "metadata": {},
   "outputs": [],
   "source": [
    "# feat_cols = [\"New\", \"Recession\", \"SBA_Guaranteed\", \"RealEstate\", \"Urban\"]\n",
    "# out_col = 'Approve'\n",
    "# testing_model_features(train, test, feat_cols, out_col)"
   ]
  },
  {
   "cell_type": "code",
   "execution_count": null,
   "metadata": {},
   "outputs": [],
   "source": [
    "# feat_cols = [\"New\", \"Recession\", \"SBA_Guaranteed\", \"RealEstate\", \"Urban\", \"RevLine\", \"LowDoc\"]\n",
    "# out_col = 'Approve'\n",
    "# testing_model_features(train, test, feat_cols, out_col)"
   ]
  },
  {
   "cell_type": "code",
   "execution_count": null,
   "metadata": {},
   "outputs": [],
   "source": [
    "# feat_cols = [c for c in train.columns if c not in [\"Approve\"]]\n",
    "# out_col = 'Approve'\n",
    "# testing_model_features(train, test, feat_cols, out_col)"
   ]
  }
 ],
 "metadata": {
  "interpreter": {
   "hash": "f58de355eaeeab151c79699a18b610ce44b8eeda43c73b39c5888f617d036b90"
  },
  "kernelspec": {
   "display_name": "Python 3.8.8 64-bit ('base': conda)",
   "name": "python3"
  },
  "language_info": {
   "codemirror_mode": {
    "name": "ipython",
    "version": 3
   },
   "file_extension": ".py",
   "mimetype": "text/x-python",
   "name": "python",
   "nbconvert_exporter": "python",
   "pygments_lexer": "ipython3",
   "version": "3.8.8"
  },
  "orig_nbformat": 4
 },
 "nbformat": 4,
 "nbformat_minor": 2
}
