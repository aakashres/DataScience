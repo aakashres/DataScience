{
 "cells": [
  {
   "cell_type": "markdown",
   "metadata": {},
   "source": [
    "# Assignment 5\n",
    "\n",
    "## Introduction\n",
    "\n",
    "This assignment is about building a classifier and reason their effectiveness.\n",
    "\n",
    "## Environment Setup"
   ]
  },
  {
   "cell_type": "code",
   "execution_count": 1,
   "metadata": {},
   "outputs": [],
   "source": [
    "import numpy as np\n",
    "import pandas as pd\n",
    "import seaborn as sns\n",
    "from matplotlib import pyplot as plt\n",
    "from sklearn.model_selection import train_test_split, GridSearchCV\n",
    "from sklearn.metrics import confusion_matrix, classification_report, f1_score, accuracy_score, roc_curve, auc\n",
    "from sklearn.preprocessing import FunctionTransformer, OneHotEncoder, StandardScaler, PolynomialFeatures\n",
    "from sklearn.compose import ColumnTransformer\n",
    "from sklearn.pipeline import Pipeline\n",
    "from sklearn.linear_model import LogisticRegression\n",
    "from sklearn.ensemble import RandomForestClassifier\n",
    "\n",
    "\n",
    "import warnings\n",
    "warnings.filterwarnings(\"ignore\")"
   ]
  },
  {
   "cell_type": "markdown",
   "metadata": {},
   "source": [
    "## Data \n",
    "\n",
    "Created in 1953, the U.S. Small Business Administration (SBA) continues to help small business owners and entrepreneurs pursue the American dream. The SBA is the only cabinet-level federal agency fully dedicated to small business and provides counseling, capital, and contracting expertise as the nation’s only go-to resource and voice for small businesses. \n",
    "\n",
    "The loans based on the situation in the current era, where the need for loans increases is influenced by various factors. The increasing need for loans has led to the emergence of various types of organizations / business units to lend funds such as P2P, banks, etc. The problem that will arise is whether the loans that have been disbursed will be paid in full or not.\n",
    "\n",
    "This Notebook is about exploring the data set to look for the feature related to the loan payment."
   ]
  },
  {
   "cell_type": "code",
   "execution_count": 2,
   "metadata": {},
   "outputs": [
    {
     "data": {
      "text/html": [
       "<div>\n",
       "<style scoped>\n",
       "    .dataframe tbody tr th:only-of-type {\n",
       "        vertical-align: middle;\n",
       "    }\n",
       "\n",
       "    .dataframe tbody tr th {\n",
       "        vertical-align: top;\n",
       "    }\n",
       "\n",
       "    .dataframe thead th {\n",
       "        text-align: right;\n",
       "    }\n",
       "</style>\n",
       "<table border=\"1\" class=\"dataframe\">\n",
       "  <thead>\n",
       "    <tr style=\"text-align: right;\">\n",
       "      <th></th>\n",
       "      <th>LoanNr_ChkDgt</th>\n",
       "      <th>Name</th>\n",
       "      <th>City</th>\n",
       "      <th>State</th>\n",
       "      <th>Zip</th>\n",
       "      <th>Bank</th>\n",
       "      <th>BankState</th>\n",
       "      <th>NAICS</th>\n",
       "      <th>ApprovalDate</th>\n",
       "      <th>ApprovalFY</th>\n",
       "      <th>...</th>\n",
       "      <th>RevLineCr</th>\n",
       "      <th>LowDoc</th>\n",
       "      <th>ChgOffDate</th>\n",
       "      <th>DisbursementDate</th>\n",
       "      <th>DisbursementGross</th>\n",
       "      <th>BalanceGross</th>\n",
       "      <th>MIS_Status</th>\n",
       "      <th>ChgOffPrinGr</th>\n",
       "      <th>GrAppv</th>\n",
       "      <th>SBA_Appv</th>\n",
       "    </tr>\n",
       "  </thead>\n",
       "  <tbody>\n",
       "    <tr>\n",
       "      <th>0</th>\n",
       "      <td>1000014003</td>\n",
       "      <td>ABC HOBBYCRAFT</td>\n",
       "      <td>EVANSVILLE</td>\n",
       "      <td>IN</td>\n",
       "      <td>47711</td>\n",
       "      <td>FIFTH THIRD BANK</td>\n",
       "      <td>OH</td>\n",
       "      <td>451120</td>\n",
       "      <td>28-Feb-97</td>\n",
       "      <td>1997</td>\n",
       "      <td>...</td>\n",
       "      <td>N</td>\n",
       "      <td>Y</td>\n",
       "      <td>NaN</td>\n",
       "      <td>28-Feb-99</td>\n",
       "      <td>$60,000.00</td>\n",
       "      <td>$0.00</td>\n",
       "      <td>P I F</td>\n",
       "      <td>$0.00</td>\n",
       "      <td>$60,000.00</td>\n",
       "      <td>$48,000.00</td>\n",
       "    </tr>\n",
       "    <tr>\n",
       "      <th>1</th>\n",
       "      <td>1000024006</td>\n",
       "      <td>LANDMARK BAR &amp; GRILLE (THE)</td>\n",
       "      <td>NEW PARIS</td>\n",
       "      <td>IN</td>\n",
       "      <td>46526</td>\n",
       "      <td>1ST SOURCE BANK</td>\n",
       "      <td>IN</td>\n",
       "      <td>722410</td>\n",
       "      <td>28-Feb-97</td>\n",
       "      <td>1997</td>\n",
       "      <td>...</td>\n",
       "      <td>N</td>\n",
       "      <td>Y</td>\n",
       "      <td>NaN</td>\n",
       "      <td>31-May-97</td>\n",
       "      <td>$40,000.00</td>\n",
       "      <td>$0.00</td>\n",
       "      <td>P I F</td>\n",
       "      <td>$0.00</td>\n",
       "      <td>$40,000.00</td>\n",
       "      <td>$32,000.00</td>\n",
       "    </tr>\n",
       "    <tr>\n",
       "      <th>2</th>\n",
       "      <td>1000034009</td>\n",
       "      <td>WHITLOCK DDS, TODD M.</td>\n",
       "      <td>BLOOMINGTON</td>\n",
       "      <td>IN</td>\n",
       "      <td>47401</td>\n",
       "      <td>GRANT COUNTY STATE BANK</td>\n",
       "      <td>IN</td>\n",
       "      <td>621210</td>\n",
       "      <td>28-Feb-97</td>\n",
       "      <td>1997</td>\n",
       "      <td>...</td>\n",
       "      <td>N</td>\n",
       "      <td>N</td>\n",
       "      <td>NaN</td>\n",
       "      <td>31-Dec-97</td>\n",
       "      <td>$287,000.00</td>\n",
       "      <td>$0.00</td>\n",
       "      <td>P I F</td>\n",
       "      <td>$0.00</td>\n",
       "      <td>$287,000.00</td>\n",
       "      <td>$215,250.00</td>\n",
       "    </tr>\n",
       "    <tr>\n",
       "      <th>3</th>\n",
       "      <td>1000044001</td>\n",
       "      <td>BIG BUCKS PAWN &amp; JEWELRY, LLC</td>\n",
       "      <td>BROKEN ARROW</td>\n",
       "      <td>OK</td>\n",
       "      <td>74012</td>\n",
       "      <td>1ST NATL BK &amp; TR CO OF BROKEN</td>\n",
       "      <td>OK</td>\n",
       "      <td>0</td>\n",
       "      <td>28-Feb-97</td>\n",
       "      <td>1997</td>\n",
       "      <td>...</td>\n",
       "      <td>N</td>\n",
       "      <td>Y</td>\n",
       "      <td>NaN</td>\n",
       "      <td>30-Jun-97</td>\n",
       "      <td>$35,000.00</td>\n",
       "      <td>$0.00</td>\n",
       "      <td>P I F</td>\n",
       "      <td>$0.00</td>\n",
       "      <td>$35,000.00</td>\n",
       "      <td>$28,000.00</td>\n",
       "    </tr>\n",
       "    <tr>\n",
       "      <th>4</th>\n",
       "      <td>1000054004</td>\n",
       "      <td>ANASTASIA CONFECTIONS, INC.</td>\n",
       "      <td>ORLANDO</td>\n",
       "      <td>FL</td>\n",
       "      <td>32801</td>\n",
       "      <td>FLORIDA BUS. DEVEL CORP</td>\n",
       "      <td>FL</td>\n",
       "      <td>0</td>\n",
       "      <td>28-Feb-97</td>\n",
       "      <td>1997</td>\n",
       "      <td>...</td>\n",
       "      <td>N</td>\n",
       "      <td>N</td>\n",
       "      <td>NaN</td>\n",
       "      <td>14-May-97</td>\n",
       "      <td>$229,000.00</td>\n",
       "      <td>$0.00</td>\n",
       "      <td>P I F</td>\n",
       "      <td>$0.00</td>\n",
       "      <td>$229,000.00</td>\n",
       "      <td>$229,000.00</td>\n",
       "    </tr>\n",
       "  </tbody>\n",
       "</table>\n",
       "<p>5 rows × 27 columns</p>\n",
       "</div>"
      ],
      "text/plain": [
       "   LoanNr_ChkDgt                           Name          City State    Zip  \\\n",
       "0     1000014003                 ABC HOBBYCRAFT    EVANSVILLE    IN  47711   \n",
       "1     1000024006    LANDMARK BAR & GRILLE (THE)     NEW PARIS    IN  46526   \n",
       "2     1000034009          WHITLOCK DDS, TODD M.   BLOOMINGTON    IN  47401   \n",
       "3     1000044001  BIG BUCKS PAWN & JEWELRY, LLC  BROKEN ARROW    OK  74012   \n",
       "4     1000054004    ANASTASIA CONFECTIONS, INC.       ORLANDO    FL  32801   \n",
       "\n",
       "                            Bank BankState   NAICS ApprovalDate ApprovalFY  \\\n",
       "0               FIFTH THIRD BANK        OH  451120    28-Feb-97       1997   \n",
       "1                1ST SOURCE BANK        IN  722410    28-Feb-97       1997   \n",
       "2        GRANT COUNTY STATE BANK        IN  621210    28-Feb-97       1997   \n",
       "3  1ST NATL BK & TR CO OF BROKEN        OK       0    28-Feb-97       1997   \n",
       "4        FLORIDA BUS. DEVEL CORP        FL       0    28-Feb-97       1997   \n",
       "\n",
       "   ...  RevLineCr  LowDoc  ChgOffDate  DisbursementDate  DisbursementGross  \\\n",
       "0  ...          N       Y         NaN         28-Feb-99        $60,000.00    \n",
       "1  ...          N       Y         NaN         31-May-97        $40,000.00    \n",
       "2  ...          N       N         NaN         31-Dec-97       $287,000.00    \n",
       "3  ...          N       Y         NaN         30-Jun-97        $35,000.00    \n",
       "4  ...          N       N         NaN         14-May-97       $229,000.00    \n",
       "\n",
       "   BalanceGross  MIS_Status ChgOffPrinGr        GrAppv      SBA_Appv  \n",
       "0        $0.00        P I F       $0.00    $60,000.00    $48,000.00   \n",
       "1        $0.00        P I F       $0.00    $40,000.00    $32,000.00   \n",
       "2        $0.00        P I F       $0.00   $287,000.00   $215,250.00   \n",
       "3        $0.00        P I F       $0.00    $35,000.00    $28,000.00   \n",
       "4        $0.00        P I F       $0.00   $229,000.00   $229,000.00   \n",
       "\n",
       "[5 rows x 27 columns]"
      ]
     },
     "execution_count": 2,
     "metadata": {},
     "output_type": "execute_result"
    }
   ],
   "source": [
    "SBA = pd.read_csv(\"SBA/SBAnational.csv\", low_memory=False)\n",
    "SBA.head()"
   ]
  },
  {
   "cell_type": "code",
   "execution_count": 3,
   "metadata": {},
   "outputs": [
    {
     "name": "stdout",
     "output_type": "stream",
     "text": [
      "<class 'pandas.core.frame.DataFrame'>\n",
      "RangeIndex: 899164 entries, 0 to 899163\n",
      "Data columns (total 27 columns):\n",
      " #   Column             Non-Null Count   Dtype  \n",
      "---  ------             --------------   -----  \n",
      " 0   LoanNr_ChkDgt      899164 non-null  int64  \n",
      " 1   Name               899150 non-null  object \n",
      " 2   City               899134 non-null  object \n",
      " 3   State              899150 non-null  object \n",
      " 4   Zip                899164 non-null  int64  \n",
      " 5   Bank               897605 non-null  object \n",
      " 6   BankState          897598 non-null  object \n",
      " 7   NAICS              899164 non-null  int64  \n",
      " 8   ApprovalDate       899164 non-null  object \n",
      " 9   ApprovalFY         899164 non-null  object \n",
      " 10  Term               899164 non-null  int64  \n",
      " 11  NoEmp              899164 non-null  int64  \n",
      " 12  NewExist           899028 non-null  float64\n",
      " 13  CreateJob          899164 non-null  int64  \n",
      " 14  RetainedJob        899164 non-null  int64  \n",
      " 15  FranchiseCode      899164 non-null  int64  \n",
      " 16  UrbanRural         899164 non-null  int64  \n",
      " 17  RevLineCr          894636 non-null  object \n",
      " 18  LowDoc             896582 non-null  object \n",
      " 19  ChgOffDate         162699 non-null  object \n",
      " 20  DisbursementDate   896796 non-null  object \n",
      " 21  DisbursementGross  899164 non-null  object \n",
      " 22  BalanceGross       899164 non-null  object \n",
      " 23  MIS_Status         897167 non-null  object \n",
      " 24  ChgOffPrinGr       899164 non-null  object \n",
      " 25  GrAppv             899164 non-null  object \n",
      " 26  SBA_Appv           899164 non-null  object \n",
      "dtypes: float64(1), int64(9), object(17)\n",
      "memory usage: 185.2+ MB\n"
     ]
    }
   ],
   "source": [
    "SBA.info()"
   ]
  },
  {
   "cell_type": "markdown",
   "metadata": {},
   "source": [
    "Splitting the data set into train and test set so that Exploratory analasis can be carried out in the train set. Train and test set will be saved in different csv files so that Exploratory data analysis can be carried out in train set only."
   ]
  },
  {
   "cell_type": "code",
   "execution_count": 4,
   "metadata": {},
   "outputs": [],
   "source": [
    "train, test = train_test_split(SBA, test_size=.25, random_state=42)"
   ]
  },
  {
   "cell_type": "code",
   "execution_count": 5,
   "metadata": {},
   "outputs": [],
   "source": [
    "train.to_csv(\"SBA/train.csv\", index=False)\n",
    "test.to_csv(\"SBA/test.csv\", index=False)"
   ]
  },
  {
   "cell_type": "markdown",
   "metadata": {},
   "source": [
    "## Analysis\n",
    "\n",
    "### Data Prep and Exploration\n",
    "Most of the exploratory data analysis is done in another Jupyter Notebook. It is submitted along side with this. I will use all the derived information from that analysis. As per EDA we are using only few variables. So I am loading only few features that I will be using to build models with. They are as follows:\n",
    "1. NewExist\n",
    "2. Term\n",
    "3. LowDoc\n",
    "4. NoEmp\n",
    "5. DisbursementGross\n",
    "6. SBA_Appv\n",
    "7. GrAppv\n",
    "8. DisbursementDate\n",
    "9. FranchiseCode\n",
    "10. ApprovalFY\n",
    "11. NAICS\n",
    "12. State\n",
    "13. MIS_Status\n",
    "\n",
    "\n",
    "Q: How many observations and variables do you have?\n",
    "\n",
    "A: 899164 observations and 27 variables."
   ]
  },
  {
   "cell_type": "code",
   "execution_count": 6,
   "metadata": {},
   "outputs": [],
   "source": [
    "# Cleaning train data set\n",
    "# cleaning data to remove null values\n",
    "sba_train = train[[\"NewExist\", \"Term\", \"LowDoc\", \"NoEmp\", \"DisbursementGross\", \"SBA_Appv\", \"GrAppv\", \"DisbursementDate\", \"FranchiseCode\", \"ApprovalFY\", \"NAICS\", \"State\", \"MIS_Status\"]].copy()\n",
    "\n",
    "sba_train = sba_train[sba_train[\"MIS_Status\"].notnull()]\n",
    "sba_train = sba_train[(sba_train[\"NewExist\"] == 1.0) | (sba_train[\"NewExist\"] == 2.0)]\n",
    "sba_train = sba_train[sba_train[\"Term\"].notnull()]\n",
    "sba_train = sba_train[(sba_train[\"LowDoc\"] == \"Y\") | (sba_train[\"LowDoc\"] == \"N\")]\n",
    "sba_train =  sba_train[sba_train[\"NoEmp\"] <= 1500]\n",
    "sba_train =  sba_train[sba_train[\"DisbursementGross\"].notnull()]\n",
    "sba_train =  sba_train[sba_train[\"SBA_Appv\"].notnull()]\n",
    "sba_train =  sba_train[sba_train[\"GrAppv\"].notnull()]\n",
    "sba_train =  sba_train[sba_train[\"DisbursementDate\"].notnull()]\n",
    "sba_train =  sba_train[sba_train[\"FranchiseCode\"].notnull()]\n",
    "sba_train =  sba_train[sba_train[\"ApprovalFY\"].notnull()]\n",
    "sba_train =  sba_train[sba_train[\"NAICS\"].notnull()]\n",
    "sba_train =  sba_train[sba_train[\"State\"].notnull()]"
   ]
  },
  {
   "cell_type": "code",
   "execution_count": 7,
   "metadata": {},
   "outputs": [],
   "source": [
    "# cleaning data to remove null values\n",
    "sba_test = test[[\"NewExist\", \"Term\", \"LowDoc\", \"NoEmp\", \"DisbursementGross\", \"SBA_Appv\", \"GrAppv\", \"DisbursementDate\", \"FranchiseCode\", \"ApprovalFY\", \"NAICS\", \"State\", \"MIS_Status\"]].copy()\n",
    "\n",
    "sba_test = sba_test[sba_test[\"MIS_Status\"].notnull()]\n",
    "sba_test = sba_test[(sba_test[\"NewExist\"] == 1.0) | (sba_test[\"NewExist\"] == 2.0)]\n",
    "sba_test = sba_test[sba_test[\"Term\"].notnull()]\n",
    "sba_test = sba_test[(sba_test[\"LowDoc\"] == \"Y\") | (sba_test[\"LowDoc\"] == \"N\")]\n",
    "sba_test =  sba_test[sba_test[\"NoEmp\"] <= 1500]\n",
    "sba_test =  sba_test[sba_test[\"DisbursementGross\"].notnull()]\n",
    "sba_test =  sba_test[sba_test[\"SBA_Appv\"].notnull()]\n",
    "sba_test =  sba_test[sba_test[\"GrAppv\"].notnull()]\n",
    "sba_test =  sba_test[sba_test[\"DisbursementDate\"].notnull()]\n",
    "sba_test =  sba_test[sba_test[\"FranchiseCode\"].notnull()]\n",
    "sba_test =  sba_test[sba_test[\"ApprovalFY\"].notnull()]\n",
    "sba_test =  sba_test[sba_test[\"NAICS\"].notnull()]\n",
    "sba_test =  sba_test[sba_test[\"State\"].notnull()]\n"
   ]
  },
  {
   "cell_type": "markdown",
   "metadata": {},
   "source": [
    "We drop minimal number of observations to clean null and un-necessary values."
   ]
  },
  {
   "cell_type": "code",
   "execution_count": 8,
   "metadata": {},
   "outputs": [],
   "source": [
    "approve_loan = pd.get_dummies(sba_test[\"MIS_Status\"], drop_first=True).rename(columns={\"P I F\": \"Approve\"})\n",
    "sba_test = pd.concat([sba_test,approve_loan], axis=1)\n",
    "sba_test.drop([\"MIS_Status\"], axis=1, inplace=True)"
   ]
  },
  {
   "cell_type": "code",
   "execution_count": 9,
   "metadata": {},
   "outputs": [],
   "source": [
    "approve_loan = pd.get_dummies(sba_train[\"MIS_Status\"], drop_first=True).rename(columns={\"P I F\": \"Approve\"})\n",
    "sba_train = pd.concat([sba_train,approve_loan], axis=1)\n",
    "sba_train.drop([\"MIS_Status\"], axis=1, inplace=True)"
   ]
  },
  {
   "cell_type": "code",
   "execution_count": 10,
   "metadata": {},
   "outputs": [
    {
     "name": "stdout",
     "output_type": "stream",
     "text": [
      "<class 'pandas.core.frame.DataFrame'>\n",
      "Int64Index: 665872 entries, 811798 to 121958\n",
      "Data columns (total 13 columns):\n",
      " #   Column             Non-Null Count   Dtype  \n",
      "---  ------             --------------   -----  \n",
      " 0   NewExist           665872 non-null  float64\n",
      " 1   Term               665872 non-null  int64  \n",
      " 2   LowDoc             665872 non-null  object \n",
      " 3   NoEmp              665872 non-null  int64  \n",
      " 4   DisbursementGross  665872 non-null  object \n",
      " 5   SBA_Appv           665872 non-null  object \n",
      " 6   GrAppv             665872 non-null  object \n",
      " 7   DisbursementDate   665872 non-null  object \n",
      " 8   FranchiseCode      665872 non-null  int64  \n",
      " 9   ApprovalFY         665872 non-null  object \n",
      " 10  NAICS              665872 non-null  int64  \n",
      " 11  State              665872 non-null  object \n",
      " 12  Approve            665872 non-null  uint8  \n",
      "dtypes: float64(1), int64(4), object(7), uint8(1)\n",
      "memory usage: 66.7+ MB\n"
     ]
    }
   ],
   "source": [
    "sba_train.info()"
   ]
  },
  {
   "cell_type": "code",
   "execution_count": 11,
   "metadata": {},
   "outputs": [
    {
     "name": "stdout",
     "output_type": "stream",
     "text": [
      "<class 'pandas.core.frame.DataFrame'>\n",
      "Int64Index: 221812 entries, 614156 to 539802\n",
      "Data columns (total 13 columns):\n",
      " #   Column             Non-Null Count   Dtype  \n",
      "---  ------             --------------   -----  \n",
      " 0   NewExist           221812 non-null  float64\n",
      " 1   Term               221812 non-null  int64  \n",
      " 2   LowDoc             221812 non-null  object \n",
      " 3   NoEmp              221812 non-null  int64  \n",
      " 4   DisbursementGross  221812 non-null  object \n",
      " 5   SBA_Appv           221812 non-null  object \n",
      " 6   GrAppv             221812 non-null  object \n",
      " 7   DisbursementDate   221812 non-null  object \n",
      " 8   FranchiseCode      221812 non-null  int64  \n",
      " 9   ApprovalFY         221812 non-null  object \n",
      " 10  NAICS              221812 non-null  int64  \n",
      " 11  State              221812 non-null  object \n",
      " 12  Approve            221812 non-null  uint8  \n",
      "dtypes: float64(1), int64(4), object(7), uint8(1)\n",
      "memory usage: 22.2+ MB\n"
     ]
    }
   ],
   "source": [
    "sba_test.info()"
   ]
  },
  {
   "cell_type": "markdown",
   "metadata": {},
   "source": [
    "#### Distribution of outcome variable"
   ]
  },
  {
   "cell_type": "code",
   "execution_count": 12,
   "metadata": {},
   "outputs": [
    {
     "data": {
      "text/plain": [
       "1    549166\n",
       "0    116706\n",
       "Name: Approve, dtype: int64"
      ]
     },
     "execution_count": 12,
     "metadata": {},
     "output_type": "execute_result"
    }
   ],
   "source": [
    "sba_train[\"Approve\"].value_counts()"
   ]
  },
  {
   "cell_type": "code",
   "execution_count": 13,
   "metadata": {},
   "outputs": [
    {
     "data": {
      "text/plain": [
       "<AxesSubplot:>"
      ]
     },
     "execution_count": 13,
     "metadata": {},
     "output_type": "execute_result"
    },
    {
     "data": {
      "image/png": "[encoded data removed]",
      "text/plain": [
       "<Figure size 432x288 with 1 Axes>"
      ]
     },
     "metadata": {
      "needs_background": "light"
     },
     "output_type": "display_data"
    }
   ],
   "source": [
    "sba_train[\"Approve\"].value_counts().rename({1: \"Paid in full\", 0: \"Charged Off\"}).plot(kind=\"bar\")"
   ]
  },
  {
   "cell_type": "markdown",
   "metadata": {},
   "source": [
    "The bar chart shows that Paid in full is the Majority Class."
   ]
  },
  {
   "cell_type": "code",
   "execution_count": 14,
   "metadata": {},
   "outputs": [
    {
     "data": {
      "text/plain": [
       "array([[     0,  38860],\n",
       "       [     0, 182952]], dtype=int64)"
      ]
     },
     "execution_count": 14,
     "metadata": {},
     "output_type": "execute_result"
    }
   ],
   "source": [
    "test_majority_pred = pd.Series(1, index=sba_test.index)\n",
    "confusion_matrix(sba_test[\"Approve\"], test_majority_pred)"
   ]
  },
  {
   "cell_type": "code",
   "execution_count": 15,
   "metadata": {},
   "outputs": [
    {
     "name": "stdout",
     "output_type": "stream",
     "text": [
      "              precision    recall  f1-score   support\n",
      "\n",
      "           0       0.00      0.00      0.00     38860\n",
      "           1       0.82      1.00      0.90    182952\n",
      "\n",
      "    accuracy                           0.82    221812\n",
      "   macro avg       0.41      0.50      0.45    221812\n",
      "weighted avg       0.68      0.82      0.75    221812\n",
      "\n"
     ]
    }
   ],
   "source": [
    "print(classification_report(sba_test[\"Approve\"], test_majority_pred))"
   ]
  },
  {
   "cell_type": "markdown",
   "metadata": {},
   "source": [
    "The accuracy for majority classifier is 0.82 which is same as the precision."
   ]
  },
  {
   "cell_type": "code",
   "execution_count": 16,
   "metadata": {},
   "outputs": [],
   "source": [
    "## Feature Engineering and Data Preprocessing using transformers\n",
    "\n",
    "def approvalyear(mat):\n",
    "    rows, cols = mat.shape\n",
    "    assert cols == 1  # if we don\"t have 2 columns, things are unexpected\n",
    "\n",
    "    if hasattr(mat, \"iloc\"):\n",
    "        return mat.iloc[:, 0].apply(lambda x: 1976 if x == \"1976A\" else int(x)).astype(int).to_frame()\n",
    "    else:\n",
    "        return  mat[:, 1].apply(lambda x: 1976 if x == \"1976A\" else int(x)).astype(int).reshape((rows, 1))\n",
    "\n",
    "def backed_by_real_estate(mat):\n",
    "    rows, cols = mat.shape\n",
    "    assert cols == 1\n",
    "    def encode(x):\n",
    "        return 0 if x < 240 else 1\n",
    "\n",
    "    if hasattr(mat, \"iloc\"):\n",
    "        return mat.iloc[:, 0].apply(encode).to_frame()\n",
    "    else:\n",
    "        return mat[:, 0].apply(encode).reshape((rows, 1))\n",
    "\n",
    "\n",
    "def clean_currency(mat):\n",
    "    rows, cols = mat.shape\n",
    "    assert cols == 1  # if we don\"t have 2 columns, things are unexpected\n",
    "\n",
    "    currency_cleaning = lambda x: int(float(x[1:].replace(\",\", \"\")))\n",
    "    if hasattr(mat, \"iloc\"):\n",
    "        return mat.iloc[:, 0].apply(currency_cleaning).astype(int).to_frame()\n",
    "    else:\n",
    "        return  mat[:, 1].apply(currency_cleaning).astype(int).reshape((rows, 1))\n",
    "\n",
    "def SBA_approved_portion(mat):\n",
    "    currency_cleaning = lambda x: int(float(x[1:].replace(\",\", \"\")))\n",
    "    rows, cols = mat.shape\n",
    "    assert cols == 2  # if we don\"t have 2 columns, things are unexpected\n",
    "    \n",
    "    if hasattr(mat, \"iloc\"):\n",
    "        mat.iloc[:, 0] = mat.iloc[:, 0].apply(currency_cleaning).astype(int)\n",
    "        mat.iloc[:, 1] = mat.iloc[:, 1].apply(currency_cleaning).astype(int)\n",
    "        res = mat.iloc[:, 0] / mat.iloc[:, 1]\n",
    "        return res.to_frame()\n",
    "    else:\n",
    "        mat[:, 0] = mat[:, 0].apply(currency_cleaning).astype(int)\n",
    "        mat[:, 1] = mat[:, 1].apply(currency_cleaning).astype(int)\n",
    "        res = mat[:, 0] / mat[:, 1]\n",
    "        return res.reshape((rows, 1))\n",
    "\n",
    "def loan_active_during_recession(mat):\n",
    "    rows, cols = mat.shape\n",
    "    assert cols == 2  # if we don\"t have 2 columns, things are unexpected\n",
    "    \n",
    "    if hasattr(mat, \"iloc\"):\n",
    "        rec_date = pd.to_datetime(mat.iloc[:, 0]) + pd.to_timedelta(mat.iloc[:, 1]*30, unit=\"D\")\n",
    "        recession = pd.Series(0, index=mat.index)\n",
    "        recession[(rec_date >= pd.to_datetime(\"2007-12-01\")) & (rec_date <= pd.to_datetime(\"2009-06-30\"))] = 1 \n",
    "        return recession.to_frame()\n",
    "    else:\n",
    "        rec_date = pd.to_datetime(mat[:, 0]) + pd.to_timedelta(mat[:, 1]*30, unit=\"D\")\n",
    "        recession = pd.Series(0, index=mat.index)\n",
    "        recession[(rec_date >= pd.to_datetime(\"2007-12-01\")) & (rec_date <= pd.to_datetime(\"2009-06-30\"))] = 1 \n",
    "\n",
    "def franchise_classifier(mat):\n",
    "    rows, cols = mat.shape\n",
    "    assert cols == 1  # if we don\"t have 2 columns, things are unexpected\n",
    "    def classify(x):\n",
    "        return 0  if x == 1 or x == 0 else 1\n",
    "\n",
    "    if hasattr(mat, \"iloc\"):\n",
    "        return mat.iloc[:, 0].apply(classify).to_frame()\n",
    "    else:\n",
    "        return  mat[:, 0].apply(classify).reshape((rows, 1))\n",
    "\n",
    "def naics_classifier(mat):\n",
    "    rows, cols = mat.shape\n",
    "    assert cols == 1\n",
    "    def encode(x):\n",
    "        mapping = {\n",
    "            \"0\": \"0\",\n",
    "            \"31\": \"31-33\",\n",
    "            \"32\": \"31-33\",\n",
    "            \"33\": \"31-33\",\n",
    "            \"44\": \"44-45\",\n",
    "            \"48\": \"48-49\",\n",
    "            \"49\": \"48-49\",\n",
    "        }\n",
    "        x = str(x)\n",
    "        x = \"0\" if x[0] == \"0\" else x[:2]\n",
    "        return mapping.get(x, x)\n",
    "\n",
    "    if hasattr(mat, \"iloc\"):\n",
    "        return mat.iloc[:, 0].apply(encode).to_frame()\n",
    "    else:\n",
    "        return mat[:, 0].apply(encode).reshape((rows, 1))\n",
    "    \n",
    "naics_pipeline = Pipeline(\n",
    "    steps=[\n",
    "        (\"naics_class\", FunctionTransformer(naics_classifier)), \n",
    "        (\"encoding\", OneHotEncoder(sparse=False, drop=\"first\"))\n",
    "        ]\n",
    ")\n",
    "\n",
    "disbrustment_gross_pipeline = Pipeline(\n",
    "    steps=[\n",
    "        (\"clean_data\", FunctionTransformer(clean_currency)), \n",
    "        (\"scaler\", StandardScaler())\n",
    "        ]\n",
    ")"
   ]
  },
  {
   "cell_type": "markdown",
   "metadata": {},
   "source": [
    "## Initial Model"
   ]
  },
  {
   "cell_type": "markdown",
   "metadata": {},
   "source": [
    "Splitting test data into train and tune set to play around with some models."
   ]
  },
  {
   "cell_type": "code",
   "execution_count": 17,
   "metadata": {},
   "outputs": [],
   "source": [
    "training_data, tuning_data = train_test_split(sba_train, test_size=0.1, random_state=42)"
   ]
  },
  {
   "cell_type": "code",
   "execution_count": 18,
   "metadata": {},
   "outputs": [
    {
     "name": "stdout",
     "output_type": "stream",
     "text": [
      "[[   10 11542]\n",
      " [    6 55030]]\n",
      "              precision    recall  f1-score   support\n",
      "\n",
      "           0       0.62      0.00      0.00     11552\n",
      "           1       0.83      1.00      0.91     55036\n",
      "\n",
      "    accuracy                           0.83     66588\n",
      "   macro avg       0.73      0.50      0.45     66588\n",
      "weighted avg       0.79      0.83      0.75     66588\n",
      "\n"
     ]
    }
   ],
   "source": [
    "features = [\"NAICS\", \"Term\", \"SBA_Appv\", \"GrAppv\", \"NewExist\", \"DisbursementDate\"]\n",
    "tf_pipe = ColumnTransformer(\n",
    "    transformers=[\n",
    "    (\"naics\", naics_pipeline, [\"NAICS\"]),\n",
    "    (\"real_estate\", FunctionTransformer(backed_by_real_estate), [\"Term\"]),\n",
    "    (\"sba_portion\", FunctionTransformer(SBA_approved_portion), [\"SBA_Appv\", \"GrAppv\"]),\n",
    "    (\"new\", OneHotEncoder(sparse=False, drop=\"first\"), [\"NewExist\"]),\n",
    "    (\"recession\", FunctionTransformer(loan_active_during_recession), [\"DisbursementDate\", \"Term\"])\n",
    "    ],\n",
    "    remainder=\"passthrough\"\n",
    ")\n",
    "lm_pipe = Pipeline([\n",
    "    (\"columns\", tf_pipe),\n",
    "    (\"model\", LogisticRegression(penalty=\"none\", max_iter=1000))\n",
    "\n",
    "])\n",
    "\n",
    "lm_pipe.fit(training_data[features], training_data[\"Approve\"])\n",
    "predicted = lm_pipe.predict(tuning_data[features])\n",
    "print(confusion_matrix(tuning_data[\"Approve\"], predicted))\n",
    "print(classification_report(tuning_data[\"Approve\"], predicted))"
   ]
  },
  {
   "cell_type": "markdown",
   "metadata": {},
   "source": [
    "Little improvement over Majority classifier."
   ]
  },
  {
   "cell_type": "code",
   "execution_count": 19,
   "metadata": {},
   "outputs": [
    {
     "name": "stdout",
     "output_type": "stream",
     "text": [
      "[[    0 11552]\n",
      " [    0 55036]]\n",
      "              precision    recall  f1-score   support\n",
      "\n",
      "           0       0.00      0.00      0.00     11552\n",
      "           1       0.83      1.00      0.91     55036\n",
      "\n",
      "    accuracy                           0.83     66588\n",
      "   macro avg       0.41      0.50      0.45     66588\n",
      "weighted avg       0.68      0.83      0.75     66588\n",
      "\n"
     ]
    }
   ],
   "source": [
    "features = [\"State\", \"Term\", \"SBA_Appv\", \"GrAppv\", \"NewExist\", \"ApprovalFY\", \"DisbursementGross\"]\n",
    "tf_pipe = ColumnTransformer(\n",
    "    transformers=[\n",
    "    (\"state\", OneHotEncoder(sparse=False), [\"State\"]),\n",
    "    (\"real_estate\", FunctionTransformer(backed_by_real_estate), [\"Term\"]),\n",
    "    (\"sba_portion\", FunctionTransformer(SBA_approved_portion), [\"SBA_Appv\", \"GrAppv\"]),\n",
    "    (\"new\", OneHotEncoder(sparse=False, drop=\"first\"), [\"NewExist\"]),\n",
    "    (\"disbursmentgross\", disbrustment_gross_pipeline, [\"DisbursementGross\"]),\n",
    "    (\"approvalfy\", FunctionTransformer(approvalyear), [\"ApprovalFY\"])\n",
    "    ],\n",
    "    remainder=\"passthrough\"\n",
    ")\n",
    "lm_pipe = Pipeline([\n",
    "    (\"columns\", tf_pipe),\n",
    "    (\"model\", LogisticRegression(penalty=\"none\", max_iter=1000))\n",
    "\n",
    "])\n",
    "\n",
    "lm_pipe.fit(training_data[features], training_data[\"Approve\"])\n",
    "predicted = lm_pipe.predict(tuning_data[features])\n",
    "print(confusion_matrix(tuning_data[\"Approve\"], predicted))\n",
    "print(classification_report(tuning_data[\"Approve\"], predicted))"
   ]
  },
  {
   "cell_type": "markdown",
   "metadata": {},
   "source": [
    "Same results as Majority classifier."
   ]
  },
  {
   "cell_type": "code",
   "execution_count": 20,
   "metadata": {},
   "outputs": [
    {
     "name": "stdout",
     "output_type": "stream",
     "text": [
      "[[    0 11552]\n",
      " [    0 55036]]\n",
      "              precision    recall  f1-score   support\n",
      "\n",
      "           0       0.00      0.00      0.00     11552\n",
      "           1       0.83      1.00      0.91     55036\n",
      "\n",
      "    accuracy                           0.83     66588\n",
      "   macro avg       0.41      0.50      0.45     66588\n",
      "weighted avg       0.68      0.83      0.75     66588\n",
      "\n"
     ]
    }
   ],
   "source": [
    "features = [\"FranchiseCode\",\"ApprovalFY\", \"Term\", \"SBA_Appv\", \"GrAppv\", \"NewExist\", \"DisbursementDate\"]\n",
    "tf_pipe = ColumnTransformer(\n",
    "    transformers=[\n",
    "    (\"franchise\", FunctionTransformer(franchise_classifier), [\"FranchiseCode\"]),\n",
    "    (\"approvalfy\", FunctionTransformer(approvalyear), [\"ApprovalFY\"]),\n",
    "    (\"real_estate\", FunctionTransformer(backed_by_real_estate), [\"Term\"]),\n",
    "    (\"sba_portion\", FunctionTransformer(SBA_approved_portion), [\"SBA_Appv\", \"GrAppv\"]),\n",
    "    (\"new\", OneHotEncoder(sparse=False, drop=\"first\"), [\"NewExist\"]),\n",
    "    (\"recession\", FunctionTransformer(loan_active_during_recession), [\"DisbursementDate\", \"Term\"])\n",
    "    ],\n",
    "    remainder=\"passthrough\"\n",
    ")\n",
    "lm_pipe = Pipeline([\n",
    "    (\"columns\", tf_pipe),\n",
    "    (\"model\", LogisticRegression(penalty=\"none\", max_iter=1000))\n",
    "\n",
    "])\n",
    "\n",
    "lm_pipe.fit(training_data[features], training_data[\"Approve\"])\n",
    "predicted = lm_pipe.predict(tuning_data[features])\n",
    "print(confusion_matrix(tuning_data[\"Approve\"], predicted))\n",
    "print(classification_report(tuning_data[\"Approve\"], predicted))"
   ]
  },
  {
   "cell_type": "markdown",
   "metadata": {},
   "source": [
    "Same results as majority classifier."
   ]
  },
  {
   "cell_type": "code",
   "execution_count": 21,
   "metadata": {},
   "outputs": [
    {
     "name": "stdout",
     "output_type": "stream",
     "text": [
      "[[  152 11400]\n",
      " [   87 54949]]\n",
      "              precision    recall  f1-score   support\n",
      "\n",
      "           0       0.64      0.01      0.03     11552\n",
      "           1       0.83      1.00      0.91     55036\n",
      "\n",
      "    accuracy                           0.83     66588\n",
      "   macro avg       0.73      0.51      0.47     66588\n",
      "weighted avg       0.79      0.83      0.75     66588\n",
      "\n"
     ]
    }
   ],
   "source": [
    "features = [\"NewExist\", \"Term\", \"LowDoc\", \"NoEmp\", \"DisbursementGross\", \"SBA_Appv\", \"GrAppv\", \"DisbursementDate\", \"FranchiseCode\", \"ApprovalFY\", \"NAICS\", \"State\"]\n",
    "\n",
    "tf_pipe = ColumnTransformer(\n",
    "    transformers=[\n",
    "    (\"new\", OneHotEncoder(sparse=False, drop=\"first\"), [\"NewExist\"]),\n",
    "    (\"real_estate\", FunctionTransformer(backed_by_real_estate), [\"Term\"]),\n",
    "    (\"lowdoc\", OneHotEncoder(sparse=False, drop=\"first\"), [\"LowDoc\"]),\n",
    "    (\"noemp\", StandardScaler(), [\"NoEmp\"]),\n",
    "    (\"disbursmentgross\", disbrustment_gross_pipeline, [\"DisbursementGross\"]),\n",
    "    (\"sba_portion\", FunctionTransformer(SBA_approved_portion), [\"SBA_Appv\", \"GrAppv\"]),\n",
    "    (\"franchise\", FunctionTransformer(franchise_classifier), [\"FranchiseCode\"]),\n",
    "    (\"approvalfy\", FunctionTransformer(approvalyear), [\"ApprovalFY\"]),\n",
    "    (\"recession\", FunctionTransformer(loan_active_during_recession), [\"DisbursementDate\", \"Term\"]),\n",
    "    (\"naics\", naics_pipeline, [\"NAICS\"]),\n",
    "    (\"state\", OneHotEncoder(sparse=False), [\"State\"]),\n",
    "    ]\n",
    ")\n",
    "lm_pipe = Pipeline([\n",
    "    (\"columns\", tf_pipe),\n",
    "    (\"model\", LogisticRegression(penalty=\"none\", max_iter=1000))\n",
    "\n",
    "])\n",
    "\n",
    "lm_pipe.fit(training_data[features], training_data[\"Approve\"])\n",
    "predicted = lm_pipe.predict(tuning_data[features])\n",
    "print(confusion_matrix(tuning_data[\"Approve\"], predicted))\n",
    "print(classification_report(tuning_data[\"Approve\"], predicted))"
   ]
  },
  {
   "cell_type": "markdown",
   "metadata": {},
   "source": [
    "A few more true negative along with increased false negative."
   ]
  },
  {
   "cell_type": "markdown",
   "metadata": {},
   "source": [
    "##### Final Model"
   ]
  },
  {
   "cell_type": "code",
   "execution_count": 22,
   "metadata": {},
   "outputs": [
    {
     "name": "stdout",
     "output_type": "stream",
     "text": [
      "[[  147 11405]\n",
      " [   72 54964]]\n",
      "              precision    recall  f1-score   support\n",
      "\n",
      "           0       0.67      0.01      0.02     11552\n",
      "           1       0.83      1.00      0.91     55036\n",
      "\n",
      "    accuracy                           0.83     66588\n",
      "   macro avg       0.75      0.51      0.47     66588\n",
      "weighted avg       0.80      0.83      0.75     66588\n",
      "\n"
     ]
    }
   ],
   "source": [
    "\n",
    "features = [\"NewExist\", \"Term\", \"LowDoc\", \"DisbursementGross\", \"SBA_Appv\", \"GrAppv\", \"DisbursementDate\", \"FranchiseCode\", \"State\"]\n",
    "\n",
    "tf_pipe = ColumnTransformer(\n",
    "    transformers=[\n",
    "    (\"new\", OneHotEncoder(sparse=False, drop=\"first\"), [\"NewExist\"]),\n",
    "    (\"real_estate\", FunctionTransformer(backed_by_real_estate), [\"Term\"]),\n",
    "    (\"lowdoc\", OneHotEncoder(sparse=False, drop=\"first\"), [\"LowDoc\"]),\n",
    "    (\"disbursmentgross\", disbrustment_gross_pipeline, [\"DisbursementGross\"]),\n",
    "    (\"sba_portion\", FunctionTransformer(SBA_approved_portion), [\"SBA_Appv\", \"GrAppv\"]),\n",
    "    (\"recession\", FunctionTransformer(loan_active_during_recession), [\"DisbursementDate\", \"Term\"]),\n",
    "    (\"franchise\", FunctionTransformer(franchise_classifier), [\"FranchiseCode\"]),\n",
    "    (\"state\", OneHotEncoder(sparse=False), [\"State\"]),\n",
    "    ]\n",
    ")\n",
    "lm_pipe = Pipeline([\n",
    "    (\"columns\", tf_pipe),\n",
    "    (\"model\", LogisticRegression(penalty=\"none\", max_iter=1000))\n",
    "\n",
    "])\n",
    "\n",
    "lm_pipe.fit(training_data[features], training_data[\"Approve\"])\n",
    "predicted = lm_pipe.predict(tuning_data[features])\n",
    "print(confusion_matrix(tuning_data[\"Approve\"], predicted))\n",
    "print(classification_report(tuning_data[\"Approve\"], predicted))"
   ]
  },
  {
   "cell_type": "markdown",
   "metadata": {},
   "source": [
    "Similarly to previous, Few false negatives along with some true positives. Lets test over the Test data."
   ]
  },
  {
   "cell_type": "code",
   "execution_count": 23,
   "metadata": {},
   "outputs": [
    {
     "name": "stdout",
     "output_type": "stream",
     "text": [
      "[[   536  38324]\n",
      " [   254 182698]]\n",
      "              precision    recall  f1-score   support\n",
      "\n",
      "           0       0.68      0.01      0.03     38860\n",
      "           1       0.83      1.00      0.90    182952\n",
      "\n",
      "    accuracy                           0.83    221812\n",
      "   macro avg       0.75      0.51      0.47    221812\n",
      "weighted avg       0.80      0.83      0.75    221812\n",
      "\n"
     ]
    }
   ],
   "source": [
    "# Testing final model on test data\n",
    "\n",
    "predicted = lm_pipe.predict(sba_test[features])\n",
    "lr_tn, lr_fp, lr_fn, lr_tp = confusion_matrix(sba_test[\"Approve\"], predicted).ravel()\n",
    "print(confusion_matrix(sba_test[\"Approve\"], predicted))\n",
    "print(classification_report(sba_test[\"Approve\"], predicted))\n",
    "\n",
    "model_results = sba_test.copy()\n",
    "model_results[\"Logistic\"] = predicted"
   ]
  },
  {
   "cell_type": "markdown",
   "metadata": {},
   "source": [
    "Not much improvement over the accuracy. "
   ]
  },
  {
   "cell_type": "code",
   "execution_count": 24,
   "metadata": {},
   "outputs": [
    {
     "data": {
      "text/plain": [
       "<matplotlib.legend.Legend at 0x1f631055640>"
      ]
     },
     "execution_count": 24,
     "metadata": {},
     "output_type": "execute_result"
    },
    {
     "data": {
      "image/png": "[encoded data removed]",
      "text/plain": [
       "<Figure size 432x288 with 1 Axes>"
      ]
     },
     "metadata": {
      "needs_background": "light"
     },
     "output_type": "display_data"
    }
   ],
   "source": [
    "pred_proba = lm_pipe.predict_proba(sba_test[features])\n",
    "prediction_AUC = pred_proba[:,1]\n",
    "\n",
    "FPR, TPR, Threshold = roc_curve(sba_test[\"Approve\"],prediction_AUC)\n",
    "roc_auc = auc(FPR,TPR)\n",
    "\n",
    "# Plot\n",
    "plt.plot(FPR,TPR,label=f\"AUC{round(roc_auc,2)}\")\n",
    "plt.plot([0,1],[0,1])\n",
    "plt.title(\"Graph AUROC\")\n",
    "plt.legend()"
   ]
  },
  {
   "cell_type": "markdown",
   "metadata": {},
   "source": [
    "## Lasso Regression"
   ]
  },
  {
   "cell_type": "code",
   "execution_count": 25,
   "metadata": {},
   "outputs": [
    {
     "name": "stdout",
     "output_type": "stream",
     "text": [
      "[[   10 11542]\n",
      " [    6 55030]]\n",
      "              precision    recall  f1-score   support\n",
      "\n",
      "           0       0.62      0.00      0.00     11552\n",
      "           1       0.83      1.00      0.91     55036\n",
      "\n",
      "    accuracy                           0.83     66588\n",
      "   macro avg       0.73      0.50      0.45     66588\n",
      "weighted avg       0.79      0.83      0.75     66588\n",
      "\n"
     ]
    }
   ],
   "source": [
    "features = [\"NAICS\", \"Term\", \"SBA_Appv\", \"GrAppv\", \"NewExist\", \"DisbursementDate\"]\n",
    "tf_pipe = ColumnTransformer(\n",
    "    transformers=[\n",
    "    (\"naics\", naics_pipeline, [\"NAICS\"]),\n",
    "    (\"real_estate\", FunctionTransformer(backed_by_real_estate), [\"Term\"]),\n",
    "    (\"sba_portion\", FunctionTransformer(SBA_approved_portion), [\"SBA_Appv\", \"GrAppv\"]),\n",
    "    (\"new\", OneHotEncoder(sparse=False, drop=\"first\"), [\"NewExist\"]),\n",
    "    (\"recession\", FunctionTransformer(loan_active_during_recession), [\"DisbursementDate\", \"Term\"])\n",
    "    ]\n",
    ")\n",
    "lasso_pipe = Pipeline([\n",
    "    (\"columns\", tf_pipe),\n",
    "    (\"model\", LogisticRegression(penalty=\"l1\", max_iter=1000, solver=\"saga\"))\n",
    "\n",
    "])\n",
    "\n",
    "lasso_pipe.fit(training_data[features], training_data[\"Approve\"])\n",
    "predicted = lasso_pipe.predict(tuning_data[features])\n",
    "print(confusion_matrix(tuning_data[\"Approve\"], predicted))\n",
    "print(classification_report(tuning_data[\"Approve\"], predicted))"
   ]
  },
  {
   "cell_type": "code",
   "execution_count": 26,
   "metadata": {},
   "outputs": [
    {
     "name": "stdout",
     "output_type": "stream",
     "text": [
      "[[   99 11453]\n",
      " [   48 54988]]\n",
      "              precision    recall  f1-score   support\n",
      "\n",
      "           0       0.67      0.01      0.02     11552\n",
      "           1       0.83      1.00      0.91     55036\n",
      "\n",
      "    accuracy                           0.83     66588\n",
      "   macro avg       0.75      0.50      0.46     66588\n",
      "weighted avg       0.80      0.83      0.75     66588\n",
      "\n"
     ]
    }
   ],
   "source": [
    "features = [\"NewExist\", \"Term\", \"LowDoc\", \"NoEmp\", \"DisbursementGross\", \"SBA_Appv\", \"GrAppv\", \"DisbursementDate\", \"FranchiseCode\", \"ApprovalFY\", \"NAICS\", \"State\"]\n",
    "\n",
    "tf_pipe = ColumnTransformer(\n",
    "    transformers=[\n",
    "    (\"new\", OneHotEncoder(sparse=False, drop=\"first\"), [\"NewExist\"]),\n",
    "    (\"real_estate\", FunctionTransformer(backed_by_real_estate), [\"Term\"]),\n",
    "    (\"lowdoc\", OneHotEncoder(sparse=False, drop=\"first\"), [\"LowDoc\"]),\n",
    "    (\"noemp\", StandardScaler(), [\"NoEmp\"]),\n",
    "    (\"disbursmentgross\", disbrustment_gross_pipeline, [\"DisbursementGross\"]),\n",
    "    (\"sba_portion\", FunctionTransformer(SBA_approved_portion), [\"SBA_Appv\", \"GrAppv\"]),\n",
    "    (\"franchise\", FunctionTransformer(franchise_classifier), [\"FranchiseCode\"]),\n",
    "    (\"approvalfy\", FunctionTransformer(approvalyear), [\"ApprovalFY\"]),\n",
    "    (\"recession\", FunctionTransformer(loan_active_during_recession), [\"DisbursementDate\", \"Term\"]),\n",
    "    (\"naics\", naics_pipeline, [\"NAICS\"]),\n",
    "    (\"state\", OneHotEncoder(sparse=False), [\"State\"]),\n",
    "    ]\n",
    ")\n",
    "lasso_pipe = Pipeline([\n",
    "    (\"columns\", tf_pipe),\n",
    "    (\"model\", LogisticRegression(penalty=\"l1\", max_iter=1000, solver=\"saga\"))\n",
    "\n",
    "])\n",
    "\n",
    "lasso_pipe.fit(training_data[features], training_data[\"Approve\"])\n",
    "predicted = lasso_pipe.predict(tuning_data[features])\n",
    "print(confusion_matrix(tuning_data[\"Approve\"], predicted))\n",
    "print(classification_report(tuning_data[\"Approve\"], predicted))"
   ]
  },
  {
   "cell_type": "markdown",
   "metadata": {},
   "source": [
    "Few true negatives and false negatives."
   ]
  },
  {
   "cell_type": "markdown",
   "metadata": {},
   "source": [
    "##### Final Model"
   ]
  },
  {
   "cell_type": "code",
   "execution_count": 27,
   "metadata": {},
   "outputs": [
    {
     "name": "stdout",
     "output_type": "stream",
     "text": [
      "[[  147 11405]\n",
      " [   72 54964]]\n",
      "              precision    recall  f1-score   support\n",
      "\n",
      "           0       0.67      0.01      0.02     11552\n",
      "           1       0.83      1.00      0.91     55036\n",
      "\n",
      "    accuracy                           0.83     66588\n",
      "   macro avg       0.75      0.51      0.47     66588\n",
      "weighted avg       0.80      0.83      0.75     66588\n",
      "\n"
     ]
    }
   ],
   "source": [
    "features = [\"NewExist\", \"Term\", \"LowDoc\", \"DisbursementGross\", \"SBA_Appv\", \"GrAppv\", \"DisbursementDate\", \"FranchiseCode\", \"State\"]\n",
    "\n",
    "tf_pipe = ColumnTransformer(\n",
    "    transformers=[\n",
    "    (\"new\", OneHotEncoder(sparse=False, drop=\"first\"), [\"NewExist\"]),\n",
    "    (\"real_estate\", FunctionTransformer(backed_by_real_estate), [\"Term\"]),\n",
    "    (\"lowdoc\", OneHotEncoder(sparse=False, drop=\"first\"), [\"LowDoc\"]),\n",
    "    (\"disbursmentgross\", disbrustment_gross_pipeline, [\"DisbursementGross\"]),\n",
    "    (\"sba_portion\", FunctionTransformer(SBA_approved_portion), [\"SBA_Appv\", \"GrAppv\"]),\n",
    "    (\"recession\", FunctionTransformer(loan_active_during_recession), [\"DisbursementDate\", \"Term\"]),\n",
    "    (\"franchise\", FunctionTransformer(franchise_classifier), [\"FranchiseCode\"]),\n",
    "    (\"state\", OneHotEncoder(sparse=False), [\"State\"]),\n",
    "    ]\n",
    ")\n",
    "lasso_pipe = Pipeline([\n",
    "    (\"columns\", tf_pipe),\n",
    "    (\"model\", LogisticRegression(penalty=\"l1\", max_iter=1000, solver=\"saga\"))\n",
    "\n",
    "])\n",
    "\n",
    "lasso_pipe.fit(training_data[features], training_data[\"Approve\"])\n",
    "predicted = lasso_pipe.predict(tuning_data[features])\n",
    "print(confusion_matrix(tuning_data[\"Approve\"], predicted))\n",
    "print(classification_report(tuning_data[\"Approve\"], predicted))"
   ]
  },
  {
   "cell_type": "markdown",
   "metadata": {},
   "source": [
    "Similarly to previous, Few false negatives along with some true positives. Lets test over the Test data."
   ]
  },
  {
   "cell_type": "code",
   "execution_count": 28,
   "metadata": {},
   "outputs": [
    {
     "name": "stdout",
     "output_type": "stream",
     "text": [
      "[[   535  38325]\n",
      " [   254 182698]]\n",
      "              precision    recall  f1-score   support\n",
      "\n",
      "           0       0.68      0.01      0.03     38860\n",
      "           1       0.83      1.00      0.90    182952\n",
      "\n",
      "    accuracy                           0.83    221812\n",
      "   macro avg       0.75      0.51      0.47    221812\n",
      "weighted avg       0.80      0.83      0.75    221812\n",
      "\n"
     ]
    }
   ],
   "source": [
    "# Testing final model on test data\n",
    "\n",
    "predicted = lasso_pipe.predict(sba_test[features])\n",
    "lasso_tn, lasso_fp, lasso_fn, lasso_tp = confusion_matrix(sba_test[\"Approve\"], predicted).ravel()\n",
    "print(confusion_matrix(sba_test[\"Approve\"], predicted))\n",
    "print(classification_report(sba_test[\"Approve\"], predicted))\n",
    "\n",
    "model_results[\"Lasso\"] = predicted"
   ]
  },
  {
   "cell_type": "code",
   "execution_count": 29,
   "metadata": {},
   "outputs": [
    {
     "data": {
      "text/plain": [
       "<matplotlib.legend.Legend at 0x1f60576e8b0>"
      ]
     },
     "execution_count": 29,
     "metadata": {},
     "output_type": "execute_result"
    },
    {
     "data": {
      "image/png": "[encoded data removed]",
      "text/plain": [
       "<Figure size 432x288 with 1 Axes>"
      ]
     },
     "metadata": {
      "needs_background": "light"
     },
     "output_type": "display_data"
    }
   ],
   "source": [
    "pred_proba =lasso_pipe.predict_proba(sba_test[features])\n",
    "prediction_AUC = pred_proba[:,1]\n",
    "\n",
    "FPR, TPR, Threshold = roc_curve(sba_test[\"Approve\"],prediction_AUC)\n",
    "roc_auc = auc(FPR,TPR)\n",
    "\n",
    "# Plot\n",
    "plt.plot(FPR,TPR,label=f\"AUC{round(roc_auc,2)}\")\n",
    "plt.plot([0,1],[0,1])\n",
    "plt.title(\"Graph AUROC\")\n",
    "plt.legend()"
   ]
  },
  {
   "cell_type": "markdown",
   "metadata": {},
   "source": [
    "## ElasticNet"
   ]
  },
  {
   "cell_type": "code",
   "execution_count": 30,
   "metadata": {},
   "outputs": [
    {
     "name": "stdout",
     "output_type": "stream",
     "text": [
      "[[   10 11542]\n",
      " [    6 55030]]\n",
      "              precision    recall  f1-score   support\n",
      "\n",
      "           0       0.62      0.00      0.00     11552\n",
      "           1       0.83      1.00      0.91     55036\n",
      "\n",
      "    accuracy                           0.83     66588\n",
      "   macro avg       0.73      0.50      0.45     66588\n",
      "weighted avg       0.79      0.83      0.75     66588\n",
      "\n"
     ]
    }
   ],
   "source": [
    "features = [\"NAICS\", \"Term\", \"SBA_Appv\", \"GrAppv\", \"NewExist\", \"DisbursementDate\"]\n",
    "tf_pipe = ColumnTransformer(\n",
    "    transformers=[\n",
    "    (\"naics\", naics_pipeline, [\"NAICS\"]),\n",
    "    (\"real_estate\", FunctionTransformer(backed_by_real_estate), [\"Term\"]),\n",
    "    (\"sba_portion\", FunctionTransformer(SBA_approved_portion), [\"SBA_Appv\", \"GrAppv\"]),\n",
    "    (\"new\", OneHotEncoder(sparse=False, drop=\"first\"), [\"NewExist\"]),\n",
    "    (\"recession\", FunctionTransformer(loan_active_during_recession), [\"DisbursementDate\", \"Term\"])\n",
    "    ]\n",
    ")\n",
    "elastic_pipe = Pipeline([\n",
    "    (\"columns\", tf_pipe),\n",
    "    (\"model\", LogisticRegression(penalty=\"elasticnet\", max_iter=1000, solver=\"saga\", l1_ratio=0.5))\n",
    "\n",
    "])\n",
    "\n",
    "elastic_pipe.fit(training_data[features], training_data[\"Approve\"])\n",
    "predicted = elastic_pipe.predict(tuning_data[features])\n",
    "print(confusion_matrix(tuning_data[\"Approve\"], predicted))\n",
    "print(classification_report(tuning_data[\"Approve\"], predicted))"
   ]
  },
  {
   "cell_type": "code",
   "execution_count": 31,
   "metadata": {},
   "outputs": [
    {
     "name": "stdout",
     "output_type": "stream",
     "text": [
      "[[   99 11453]\n",
      " [   48 54988]]\n",
      "              precision    recall  f1-score   support\n",
      "\n",
      "           0       0.67      0.01      0.02     11552\n",
      "           1       0.83      1.00      0.91     55036\n",
      "\n",
      "    accuracy                           0.83     66588\n",
      "   macro avg       0.75      0.50      0.46     66588\n",
      "weighted avg       0.80      0.83      0.75     66588\n",
      "\n"
     ]
    }
   ],
   "source": [
    "features = [\"NewExist\", \"Term\", \"LowDoc\", \"NoEmp\", \"DisbursementGross\", \"SBA_Appv\", \"GrAppv\", \"DisbursementDate\", \"FranchiseCode\", \"ApprovalFY\", \"NAICS\", \"State\"]\n",
    "\n",
    "tf_pipe = ColumnTransformer(\n",
    "    transformers=[\n",
    "    (\"new\", OneHotEncoder(sparse=False, drop=\"first\"), [\"NewExist\"]),\n",
    "    (\"real_estate\", FunctionTransformer(backed_by_real_estate), [\"Term\"]),\n",
    "    (\"lowdoc\", OneHotEncoder(sparse=False, drop=\"first\"), [\"LowDoc\"]),\n",
    "    (\"noemp\", StandardScaler(), [\"NoEmp\"]),\n",
    "    (\"disbursmentgross\", disbrustment_gross_pipeline, [\"DisbursementGross\"]),\n",
    "    (\"sba_portion\", FunctionTransformer(SBA_approved_portion), [\"SBA_Appv\", \"GrAppv\"]),\n",
    "    (\"franchise\", FunctionTransformer(franchise_classifier), [\"FranchiseCode\"]),\n",
    "    (\"approvalfy\", FunctionTransformer(approvalyear), [\"ApprovalFY\"]),\n",
    "    (\"recession\", FunctionTransformer(loan_active_during_recession), [\"DisbursementDate\", \"Term\"]),\n",
    "    (\"naics\", naics_pipeline, [\"NAICS\"]),\n",
    "    (\"state\", OneHotEncoder(sparse=False), [\"State\"]),\n",
    "    ]\n",
    ")\n",
    "elastic_pipe = Pipeline([\n",
    "    (\"columns\", tf_pipe),\n",
    "    (\"model\", LogisticRegression(penalty=\"elasticnet\", max_iter=1000, solver=\"saga\", l1_ratio=0.5))\n",
    "\n",
    "])\n",
    "\n",
    "elastic_pipe.fit(training_data[features], training_data[\"Approve\"])\n",
    "predicted = elastic_pipe.predict(tuning_data[features])\n",
    "print(confusion_matrix(tuning_data[\"Approve\"], predicted))\n",
    "print(classification_report(tuning_data[\"Approve\"], predicted))"
   ]
  },
  {
   "cell_type": "markdown",
   "metadata": {},
   "source": [
    "Few true negatives along with false negatives."
   ]
  },
  {
   "cell_type": "markdown",
   "metadata": {},
   "source": [
    "##### Final Model"
   ]
  },
  {
   "cell_type": "code",
   "execution_count": 32,
   "metadata": {},
   "outputs": [
    {
     "name": "stdout",
     "output_type": "stream",
     "text": [
      "[[  147 11405]\n",
      " [   72 54964]]\n",
      "              precision    recall  f1-score   support\n",
      "\n",
      "           0       0.67      0.01      0.02     11552\n",
      "           1       0.83      1.00      0.91     55036\n",
      "\n",
      "    accuracy                           0.83     66588\n",
      "   macro avg       0.75      0.51      0.47     66588\n",
      "weighted avg       0.80      0.83      0.75     66588\n",
      "\n"
     ]
    }
   ],
   "source": [
    "features = [\"NewExist\", \"Term\", \"LowDoc\", \"DisbursementGross\", \"SBA_Appv\", \"GrAppv\", \"DisbursementDate\", \"FranchiseCode\", \"State\"]\n",
    "\n",
    "tf_pipe = ColumnTransformer(\n",
    "    transformers=[\n",
    "    (\"new\", OneHotEncoder(sparse=False, drop=\"first\"), [\"NewExist\"]),\n",
    "    (\"real_estate\", FunctionTransformer(backed_by_real_estate), [\"Term\"]),\n",
    "    (\"lowdoc\", OneHotEncoder(sparse=False, drop=\"first\"), [\"LowDoc\"]),\n",
    "    (\"disbursmentgross\", disbrustment_gross_pipeline, [\"DisbursementGross\"]),\n",
    "    (\"sba_portion\", FunctionTransformer(SBA_approved_portion), [\"SBA_Appv\", \"GrAppv\"]),\n",
    "    (\"recession\", FunctionTransformer(loan_active_during_recession), [\"DisbursementDate\", \"Term\"]),\n",
    "    (\"franchise\", FunctionTransformer(franchise_classifier), [\"FranchiseCode\"]),\n",
    "    (\"state\", OneHotEncoder(sparse=False), [\"State\"]),\n",
    "    ]\n",
    ")\n",
    "elastic_pipe = Pipeline([\n",
    "    (\"columns\", tf_pipe),\n",
    "    (\"model\", LogisticRegression(penalty=\"elasticnet\", max_iter=1000, solver=\"saga\", l1_ratio=0.5))\n",
    "\n",
    "])\n",
    "\n",
    "elastic_pipe.fit(training_data[features], training_data[\"Approve\"])\n",
    "predicted = elastic_pipe.predict(tuning_data[features])\n",
    "print(confusion_matrix(tuning_data[\"Approve\"], predicted))\n",
    "print(classification_report(tuning_data[\"Approve\"], predicted))"
   ]
  },
  {
   "cell_type": "markdown",
   "metadata": {},
   "source": [
    "Similarly to previous, Few false negatives along with some true positives. Lets test over the Test data."
   ]
  },
  {
   "cell_type": "code",
   "execution_count": 33,
   "metadata": {},
   "outputs": [
    {
     "name": "stdout",
     "output_type": "stream",
     "text": [
      "[[   535  38325]\n",
      " [   254 182698]]\n",
      "              precision    recall  f1-score   support\n",
      "\n",
      "           0       0.68      0.01      0.03     38860\n",
      "           1       0.83      1.00      0.90    182952\n",
      "\n",
      "    accuracy                           0.83    221812\n",
      "   macro avg       0.75      0.51      0.47    221812\n",
      "weighted avg       0.80      0.83      0.75    221812\n",
      "\n"
     ]
    }
   ],
   "source": [
    "# Testing final model on test data\n",
    "\n",
    "predicted = elastic_pipe.predict(sba_test[features])\n",
    "elastic_tn, elastic_fp, elastic_fn, elastic_tp = confusion_matrix(sba_test[\"Approve\"], predicted).ravel()\n",
    "print(confusion_matrix(sba_test[\"Approve\"], predicted))\n",
    "print(classification_report(sba_test[\"Approve\"], predicted))\n",
    "model_results[\"Elastic\"] = predicted"
   ]
  },
  {
   "cell_type": "code",
   "execution_count": 34,
   "metadata": {},
   "outputs": [
    {
     "data": {
      "text/plain": [
       "<matplotlib.legend.Legend at 0x1f6057529a0>"
      ]
     },
     "execution_count": 34,
     "metadata": {},
     "output_type": "execute_result"
    },
    {
     "data": {
      "image/png": "[encoded data removed]",
      "text/plain": [
       "<Figure size 432x288 with 1 Axes>"
      ]
     },
     "metadata": {
      "needs_background": "light"
     },
     "output_type": "display_data"
    }
   ],
   "source": [
    "pred_proba =elastic_pipe.predict_proba(sba_test[features])\n",
    "prediction_AUC = pred_proba[:,1]\n",
    "\n",
    "FPR, TPR, Threshold = roc_curve(sba_test[\"Approve\"],prediction_AUC)\n",
    "roc_auc = auc(FPR,TPR)\n",
    "\n",
    "# Plot\n",
    "plt.plot(FPR,TPR,label=f\"AUC{round(roc_auc,2)}\")\n",
    "plt.plot([0,1],[0,1])\n",
    "plt.title(\"Graph AUROC\")\n",
    "plt.legend()"
   ]
  },
  {
   "cell_type": "markdown",
   "metadata": {},
   "source": [
    "## Random Forest"
   ]
  },
  {
   "cell_type": "code",
   "execution_count": 35,
   "metadata": {},
   "outputs": [
    {
     "name": "stdout",
     "output_type": "stream",
     "text": [
      "[[ 2989  8563]\n",
      " [ 4649 50387]]\n",
      "              precision    recall  f1-score   support\n",
      "\n",
      "           0       0.39      0.26      0.31     11552\n",
      "           1       0.85      0.92      0.88     55036\n",
      "\n",
      "    accuracy                           0.80     66588\n",
      "   macro avg       0.62      0.59      0.60     66588\n",
      "weighted avg       0.77      0.80      0.78     66588\n",
      "\n"
     ]
    }
   ],
   "source": [
    "features = [\"NewExist\", \"Term\", \"LowDoc\", \"DisbursementGross\", \"SBA_Appv\", \"GrAppv\", \"DisbursementDate\", \"FranchiseCode\", \"State\"]\n",
    "\n",
    "tf_pipe = ColumnTransformer(\n",
    "    transformers=[\n",
    "    (\"new\", OneHotEncoder(sparse=False, drop=\"first\"), [\"NewExist\"]),\n",
    "    (\"real_estate\", FunctionTransformer(backed_by_real_estate), [\"Term\"]),\n",
    "    (\"lowdoc\", OneHotEncoder(sparse=False, drop=\"first\"), [\"LowDoc\"]),\n",
    "    (\"disbursmentgross\", disbrustment_gross_pipeline, [\"DisbursementGross\"]),\n",
    "    (\"sba_portion\", FunctionTransformer(SBA_approved_portion), [\"SBA_Appv\", \"GrAppv\"]),\n",
    "    (\"recession\", FunctionTransformer(loan_active_during_recession), [\"DisbursementDate\", \"Term\"]),\n",
    "    (\"franchise\", FunctionTransformer(franchise_classifier), [\"FranchiseCode\"]),\n",
    "    (\"state\", OneHotEncoder(sparse=False), [\"State\"]),\n",
    "    ]\n",
    ")\n",
    "random_pipe = Pipeline([\n",
    "    (\"columns\", tf_pipe),\n",
    "    (\"model\", RandomForestClassifier(random_state=101, n_estimators=150))\n",
    "\n",
    "])\n",
    "\n",
    "random_pipe.fit(training_data[features], training_data[\"Approve\"])\n",
    "predicted = random_pipe.predict(tuning_data[features])\n",
    "print(confusion_matrix(tuning_data[\"Approve\"], predicted))\n",
    "print(classification_report(tuning_data[\"Approve\"], predicted))"
   ]
  },
  {
   "cell_type": "markdown",
   "metadata": {},
   "source": [
    "Higher number of false negatives for this classifier."
   ]
  },
  {
   "cell_type": "markdown",
   "metadata": {},
   "source": [
    "##### Final Model"
   ]
  },
  {
   "cell_type": "code",
   "execution_count": 36,
   "metadata": {},
   "outputs": [
    {
     "name": "stdout",
     "output_type": "stream",
     "text": [
      "[[ 2983  8569]\n",
      " [ 4663 50373]]\n",
      "              precision    recall  f1-score   support\n",
      "\n",
      "           0       0.39      0.26      0.31     11552\n",
      "           1       0.85      0.92      0.88     55036\n",
      "\n",
      "    accuracy                           0.80     66588\n",
      "   macro avg       0.62      0.59      0.60     66588\n",
      "weighted avg       0.77      0.80      0.78     66588\n",
      "\n"
     ]
    }
   ],
   "source": [
    "features = [\"NewExist\", \"Term\", \"LowDoc\", \"DisbursementGross\", \"SBA_Appv\", \"GrAppv\", \"DisbursementDate\", \"FranchiseCode\", \"State\"]\n",
    "\n",
    "tf_pipe = ColumnTransformer(\n",
    "    transformers=[\n",
    "    (\"new\", OneHotEncoder(sparse=False, drop=\"first\"), [\"NewExist\"]),\n",
    "    (\"real_estate\", FunctionTransformer(backed_by_real_estate), [\"Term\"]),\n",
    "    (\"lowdoc\", OneHotEncoder(sparse=False, drop=\"first\"), [\"LowDoc\"]),\n",
    "    (\"disbursmentgross\", disbrustment_gross_pipeline, [\"DisbursementGross\"]),\n",
    "    (\"sba_portion\", FunctionTransformer(SBA_approved_portion), [\"SBA_Appv\", \"GrAppv\"]),\n",
    "    (\"recession\", FunctionTransformer(loan_active_during_recession), [\"DisbursementDate\", \"Term\"]),\n",
    "    (\"franchise\", FunctionTransformer(franchise_classifier), [\"FranchiseCode\"]),\n",
    "    (\"state\", OneHotEncoder(sparse=False), [\"State\"]),\n",
    "    ]\n",
    ")\n",
    "random_pipe = Pipeline([\n",
    "    (\"columns\", tf_pipe),\n",
    "    (\"model\", RandomForestClassifier(random_state=101))\n",
    "\n",
    "])\n",
    "\n",
    "random_pipe.fit(training_data[features], training_data[\"Approve\"])\n",
    "predicted = random_pipe.predict(tuning_data[features])\n",
    "print(confusion_matrix(tuning_data[\"Approve\"], predicted))\n",
    "print(classification_report(tuning_data[\"Approve\"], predicted))"
   ]
  },
  {
   "cell_type": "markdown",
   "metadata": {},
   "source": [
    "Similar to the previous model. Lets test over the Test data."
   ]
  },
  {
   "cell_type": "code",
   "execution_count": 39,
   "metadata": {},
   "outputs": [
    {
     "name": "stdout",
     "output_type": "stream",
     "text": [
      "[[  9887  28973]\n",
      " [ 15153 167799]]\n",
      "              precision    recall  f1-score   support\n",
      "\n",
      "           0       0.39      0.25      0.31     38860\n",
      "           1       0.85      0.92      0.88    182952\n",
      "\n",
      "    accuracy                           0.80    221812\n",
      "   macro avg       0.62      0.59      0.60    221812\n",
      "weighted avg       0.77      0.80      0.78    221812\n",
      "\n"
     ]
    }
   ],
   "source": [
    "predicted = random_pipe.predict(sba_test[features])\n",
    "rc_tn, rc_fp, rc_fn, rc_tp = confusion_matrix(sba_test[\"Approve\"], predicted).ravel()\n",
    "print(confusion_matrix(sba_test[\"Approve\"], predicted))\n",
    "print(classification_report(sba_test[\"Approve\"], predicted))\n",
    "model_results[\"Random Forest\"] = predicted"
   ]
  },
  {
   "cell_type": "code",
   "execution_count": 40,
   "metadata": {},
   "outputs": [
    {
     "data": {
      "text/plain": [
       "<matplotlib.legend.Legend at 0x1f62f2d8f10>"
      ]
     },
     "execution_count": 40,
     "metadata": {},
     "output_type": "execute_result"
    },
    {
     "data": {
      "image/png": "[encoded data removed]",
      "text/plain": [
       "<Figure size 432x288 with 1 Axes>"
      ]
     },
     "metadata": {
      "needs_background": "light"
     },
     "output_type": "display_data"
    }
   ],
   "source": [
    "pred_proba =random_pipe.predict_proba(sba_test[features])\n",
    "prediction_AUC = pred_proba[:,1]\n",
    "\n",
    "FPR, TPR, Threshold = roc_curve(sba_test[\"Approve\"],prediction_AUC)\n",
    "roc_auc = auc(FPR,TPR)\n",
    "\n",
    "# Plot\n",
    "plt.plot(FPR,TPR,label=f\"AUC{round(roc_auc,2)}\")\n",
    "plt.plot([0,1],[0,1])\n",
    "plt.title(\"Graph AUROC\")\n",
    "plt.legend()"
   ]
  },
  {
   "cell_type": "markdown",
   "metadata": {},
   "source": [
    "## Final Summary and Reflection"
   ]
  },
  {
   "cell_type": "code",
   "execution_count": 41,
   "metadata": {},
   "outputs": [],
   "source": [
    "summary = [\n",
    "            [\"Logistic regrssion\", lr_tn, lr_fp, lr_fn, lr_tp],\n",
    "            [\"Lasso\", lasso_fn, lasso_fp, lasso_fn, lasso_tp],\n",
    "            [\"Elastic net\", elastic_tn, elastic_fp, elastic_fn, elastic_tp],\n",
    "            [\"Random forest\", rc_tn, rc_fp, rc_fn, rc_tp]\n",
    "            ]\n",
    "df = pd.DataFrame(\n",
    "    summary, \n",
    "    columns=[\"Model Type\", \"True Negative\", \"False Positive\", \"False Negative\", \"True Positive\"]\n",
    ").set_index(\"Model Type\")"
   ]
  },
  {
   "cell_type": "code",
   "execution_count": 42,
   "metadata": {},
   "outputs": [
    {
     "data": {
      "text/plain": [
       "<AxesSubplot:xlabel='Model Type'>"
      ]
     },
     "execution_count": 42,
     "metadata": {},
     "output_type": "execute_result"
    },
    {
     "data": {
      "image/png": "[encoded data removed]",
      "text/plain": [
       "<Figure size 720x360 with 1 Axes>"
      ]
     },
     "metadata": {
      "needs_background": "light"
     },
     "output_type": "display_data"
    }
   ],
   "source": [
    "df[\"Accuracy\"] = (df[\"True Positive\"] + df[\"True Negative\"]) / (df[\"True Positive\"] + df[\"True Negative\"] + df[\"False Positive\"] + df[\"False Negative\"])\n",
    "df[\"Precision\"] = df[\"True Positive\"] / (df[\"True Positive\"] + df[\"False Positive\"])\n",
    "df[\"Recall\"] = df[\"True Positive\"] / (df[\"True Positive\"] + df[\"False Negative\"])\n",
    "df[\"Specificity\"] = df[\"True Negative\"] / (df[\"True Negative\"] + df[\"False Positive\"])\n",
    "df[\"False Negative Rate\"] = df[\"False Negative\"] / (df[\"False Negative\"] + df[\"True Negative\"])\n",
    "df[\"Cost\"] = df[\"False Negative\"] + df[\"False Positive\"]*5\n",
    "\n",
    "df[\"Accuracy\"].plot(kind=\"bar\", figsize=(10,5))"
   ]
  },
  {
   "cell_type": "markdown",
   "metadata": {},
   "source": [
    "Accuracy is almost same across the different models."
   ]
  },
  {
   "cell_type": "code",
   "execution_count": 43,
   "metadata": {},
   "outputs": [
    {
     "data": {
      "text/plain": [
       "<AxesSubplot:xlabel='Model Type'>"
      ]
     },
     "execution_count": 43,
     "metadata": {},
     "output_type": "execute_result"
    },
    {
     "data": {
      "image/png": "[encoded data removed]",
      "text/plain": [
       "<Figure size 720x360 with 1 Axes>"
      ]
     },
     "metadata": {
      "needs_background": "light"
     },
     "output_type": "display_data"
    }
   ],
   "source": [
    "df[\"Precision\"].plot(kind=\"bar\", figsize=(10,5))"
   ]
  },
  {
   "cell_type": "markdown",
   "metadata": {},
   "source": [
    "Precision is almost same across the different models."
   ]
  },
  {
   "cell_type": "code",
   "execution_count": 44,
   "metadata": {},
   "outputs": [
    {
     "data": {
      "text/plain": [
       "<AxesSubplot:xlabel='Model Type'>"
      ]
     },
     "execution_count": 44,
     "metadata": {},
     "output_type": "execute_result"
    },
    {
     "data": {
      "image/png": "[encoded data removed]",
      "text/plain": [
       "<Figure size 720x360 with 1 Axes>"
      ]
     },
     "metadata": {
      "needs_background": "light"
     },
     "output_type": "display_data"
    }
   ],
   "source": [
    "df[\"Recall\"].plot(kind=\"bar\", figsize=(10,5))"
   ]
  },
  {
   "cell_type": "markdown",
   "metadata": {},
   "source": [
    "Recall for the random forest classifier slightly lower."
   ]
  },
  {
   "cell_type": "code",
   "execution_count": 45,
   "metadata": {},
   "outputs": [
    {
     "data": {
      "text/plain": [
       "<AxesSubplot:xlabel='Model Type'>"
      ]
     },
     "execution_count": 45,
     "metadata": {},
     "output_type": "execute_result"
    },
    {
     "data": {
      "image/png": "[encoded data removed]",
      "text/plain": [
       "<Figure size 720x360 with 1 Axes>"
      ]
     },
     "metadata": {
      "needs_background": "light"
     },
     "output_type": "display_data"
    }
   ],
   "source": [
    "df[\"Specificity\"].plot(kind=\"bar\", figsize=(10,5))"
   ]
  },
  {
   "cell_type": "markdown",
   "metadata": {},
   "source": [
    "Specificity of Random forest it the highest as it predicted more defaulted loans."
   ]
  },
  {
   "cell_type": "code",
   "execution_count": 46,
   "metadata": {},
   "outputs": [
    {
     "data": {
      "text/plain": [
       "<AxesSubplot:xlabel='Model Type'>"
      ]
     },
     "execution_count": 46,
     "metadata": {},
     "output_type": "execute_result"
    },
    {
     "data": {
      "image/png": "[encoded data removed]",
      "text/plain": [
       "<Figure size 720x360 with 1 Axes>"
      ]
     },
     "metadata": {
      "needs_background": "light"
     },
     "output_type": "display_data"
    }
   ],
   "source": [
    "df[\"False Negative Rate\"].plot(kind=\"bar\", figsize=(10,5))"
   ]
  },
  {
   "cell_type": "markdown",
   "metadata": {},
   "source": [
    "False Negative rate is highest for the Random forest followed by Lasso model."
   ]
  },
  {
   "cell_type": "code",
   "execution_count": 47,
   "metadata": {},
   "outputs": [
    {
     "data": {
      "text/plain": [
       "<AxesSubplot:xlabel='Model Type'>"
      ]
     },
     "execution_count": 47,
     "metadata": {},
     "output_type": "execute_result"
    },
    {
     "data": {
      "image/png": "[encoded data removed]",
      "text/plain": [
       "<Figure size 720x360 with 1 Axes>"
      ]
     },
     "metadata": {
      "needs_background": "light"
     },
     "output_type": "display_data"
    }
   ],
   "source": [
    "df[\"Cost\"].plot(kind=\"bar\", figsize=(10,5))"
   ]
  },
  {
   "cell_type": "markdown",
   "metadata": {},
   "source": [
    "The Random forest model has the lowest cost among the all."
   ]
  },
  {
   "cell_type": "code",
   "execution_count": 48,
   "metadata": {},
   "outputs": [],
   "source": [
    "new_business = model_results[model_results[\"NewExist\"] == 2.0]\n",
    "existing_business = model_results[model_results[\"NewExist\"] == 1.0]\n",
    "summary = []\n",
    "for model in [\"Logistic\", \"Lasso\", \"Elastic\", \"Random Forest\"]:\n",
    "    tn, fp, fn, tp = confusion_matrix(new_business[\"Approve\"], new_business[model]).ravel()\n",
    "    fnr = fn / (fn + tp)\n",
    "    fpr = fp / (fp + tn)\n",
    "    precision = tp / (tp + fp)\n",
    "    summary.append([\"New\", model, fnr, fpr, precision])\n",
    "\n",
    "    tn, fp, fn, tp = confusion_matrix(existing_business[\"Approve\"], existing_business[model]).ravel()\n",
    "    fnr = fn / (fn + tp)\n",
    "    fpr = fp / (fp + tn)\n",
    "    precision = tp / (tp + fp)\n",
    "    summary.append([\"Existing\", model, fnr, fpr, precision])\n",
    "\n",
    "\n",
    "\n",
    "df = pd.DataFrame(\n",
    "    summary, \n",
    "    columns=[\"Business Type\", \"Model Type\", \"FNR\", \"FPR\", \"Precision\"]\n",
    ")"
   ]
  },
  {
   "cell_type": "code",
   "execution_count": 49,
   "metadata": {},
   "outputs": [
    {
     "data": {
      "text/plain": [
       "<seaborn.axisgrid.FacetGrid at 0x1f60008a820>"
      ]
     },
     "execution_count": 49,
     "metadata": {},
     "output_type": "execute_result"
    },
    {
     "data": {
      "image/png": "[encoded data removed]",
      "text/plain": [
       "<Figure size 438.25x360 with 1 Axes>"
      ]
     },
     "metadata": {
      "needs_background": "light"
     },
     "output_type": "display_data"
    }
   ],
   "source": [
    "sns.catplot(x=\"Model Type\", y=\"FNR\", hue=\"Business Type\", data=df, kind=\"bar\")"
   ]
  },
  {
   "cell_type": "markdown",
   "metadata": {},
   "source": [
    "False Negative rate is a bit higher for  new business."
   ]
  },
  {
   "cell_type": "code",
   "execution_count": 50,
   "metadata": {},
   "outputs": [
    {
     "data": {
      "text/plain": [
       "<seaborn.axisgrid.FacetGrid at 0x1f6000df700>"
      ]
     },
     "execution_count": 50,
     "metadata": {},
     "output_type": "execute_result"
    },
    {
     "data": {
      "image/png": "[encoded data removed]",
      "text/plain": [
       "<Figure size 438.25x360 with 1 Axes>"
      ]
     },
     "metadata": {
      "needs_background": "light"
     },
     "output_type": "display_data"
    }
   ],
   "source": [
    "sns.catplot(x=\"Model Type\", y=\"Precision\", hue=\"Business Type\", data=df, kind=\"bar\")"
   ]
  },
  {
   "cell_type": "markdown",
   "metadata": {},
   "source": [
    "Precision is higher for Existing business."
   ]
  },
  {
   "cell_type": "code",
   "execution_count": 51,
   "metadata": {},
   "outputs": [
    {
     "data": {
      "text/plain": [
       "<seaborn.axisgrid.FacetGrid at 0x1f6001b0130>"
      ]
     },
     "execution_count": 51,
     "metadata": {},
     "output_type": "execute_result"
    },
    {
     "data": {
      "image/png": "[encoded data removed]",
      "text/plain": [
       "<Figure size 438.25x360 with 1 Axes>"
      ]
     },
     "metadata": {
      "needs_background": "light"
     },
     "output_type": "display_data"
    }
   ],
   "source": [
    "sns.catplot(x=\"Model Type\", y=\"FPR\", hue=\"Business Type\", data=df, kind=\"bar\")"
   ]
  },
  {
   "cell_type": "markdown",
   "metadata": {},
   "source": [
    "False Positive Rate is higher for New Business."
   ]
  },
  {
   "cell_type": "markdown",
   "metadata": {},
   "source": [
    "Things I learned about the data.\n",
    "* Exploratory analysis of the data set.\n",
    "* Work with data to find important feature for classification\n",
    "* Preprocessing data such as cleaning null values, transforming categorical data using Dummy encoding, Standardizing data \n",
    "* Combining multiple features to generate a newer one that might have more impact on the model performances\n",
    "* Working with real world data is challenging. Sample data that we usually have balanced classes and performs pretty well in a simple model. But it might not be the same case for the real data. Classes might be imbalanced\n",
    "* Results might be what you expected while working with the real data. They require more Data analysis, feature engineering and modeling for better performance.\n",
    "* Not all features are important for prediction. Some features have higher impact on the model decision over other. Thus, the Feature engineering process is one the most significant step.\n",
    "* Correlated variables may be bad for the model. \n",
    "\n",
    "Things I learned about the models and performance.\n",
    "* Confusion matrix helps to quantify the model performance.\n",
    "* Accuracy is not the only measure of the model performance. Different scenarios require various metrics such as False negative rate or False Positive rate to be improved. \n",
    "* I tried using different algorithm for same set of features. Model inherently cannot be classified as good or bad. I assumed Random forest classifier to perform much better than Logistic Regression. But the improvement was not that significant. The performance of the model highly depends on the features being used and the feature engineering process.\n",
    "* Regularization discourages learning a more complex or flexible model, so as to avoid the risk of overfitting."
   ]
  }
 ],
 "metadata": {
  "interpreter": {
   "hash": "f58de355eaeeab151c79699a18b610ce44b8eeda43c73b39c5888f617d036b90"
  },
  "kernelspec": {
   "display_name": "Python 3",
   "language": "python",
   "name": "python3"
  },
  "language_info": {
   "codemirror_mode": {
    "name": "ipython",
    "version": 3
   },
   "file_extension": ".py",
   "mimetype": "text/x-python",
   "name": "python",
   "nbconvert_exporter": "python",
   "pygments_lexer": "ipython3",
   "version": "3.8.8"
  }
 },
 "nbformat": 4,
 "nbformat_minor": 2
}
