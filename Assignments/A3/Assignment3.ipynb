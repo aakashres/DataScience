{
 "cells": [
  {
   "cell_type": "markdown",
   "metadata": {},
   "source": [
    "# CS 533 Assignment 3\n",
    "## Introduction\n",
    "The key objective for this assignment is to figure out the correlation of health outcomes with the community's poverty level. The basic outlines of this assignment are:\n",
    "* Getting data from multiple sources\n",
    "* Integration those data into one to perform the required analysis\n",
    "* Use them to figure out the correlation\n",
    "\n",
    "We are going to operationalize these as follows:\n",
    "\n",
    "* Poverty rate: fraction of family households underneath the poverty line in 2014\n",
    "* Health outcomes:\n",
    "  * Mortality rates from infectious diseases in 2014\n",
    "  * Infant mortality rate in 2014\n",
    "* Unit of analysis: state\n",
    "\n",
    "\n",
    "## Environment Setup\n",
    "We will be using **pandas** and **numpy** for data processing and manipulation, **census** to provide access to Census API and fetch required data, **us** to get codes of necessary US states, and **seaborn** and **matplotlib** to visualize distributions and results. The **census** package will require an API key. [Request one here](https://api.census.gov/data/key_signup.html)"
   ]
  },
  {
   "cell_type": "code",
   "execution_count": 4,
   "metadata": {},
   "outputs": [],
   "source": [
    "import pandas as pd\n",
    "import numpy as np\n",
    "import seaborn as sns\n",
    "import matplotlib.pyplot as plt\n",
    "from census import Census"
   ]
  },
  {
   "cell_type": "code",
   "execution_count": 5,
   "metadata": {},
   "outputs": [],
   "source": [
    "c = Census(\"dc66950e8038b85d55fb6f692d5e69e38df8dee2\")"
   ]
  },
  {
   "cell_type": "markdown",
   "metadata": {},
   "source": [
    "## Data\n",
    "We’re going to get data from 3 sources. FIPS codes will be used to link these data sets.\n",
    "### 1. Income -US Census\n",
    "We will get _income data_ from the [US Census Bureau](https://www.census.gov/en.html). The US Census Bureau provides [API Interface](https://www.census.gov/data/developers.html) interfaced from the Census package."
   ]
  },
  {
   "cell_type": "code",
   "execution_count": 6,
   "metadata": {},
   "outputs": [
    {
     "data": {
      "text/html": [
       "<div>\n",
       "<style scoped>\n",
       "    .dataframe tbody tr th:only-of-type {\n",
       "        vertical-align: middle;\n",
       "    }\n",
       "\n",
       "    .dataframe tbody tr th {\n",
       "        vertical-align: top;\n",
       "    }\n",
       "\n",
       "    .dataframe thead th {\n",
       "        text-align: right;\n",
       "    }\n",
       "</style>\n",
       "<table border=\"1\" class=\"dataframe\">\n",
       "  <thead>\n",
       "    <tr style=\"text-align: right;\">\n",
       "      <th></th>\n",
       "      <th>NAME</th>\n",
       "      <th>B05010_001E</th>\n",
       "      <th>B05010_002E</th>\n",
       "      <th>state</th>\n",
       "    </tr>\n",
       "  </thead>\n",
       "  <tbody>\n",
       "    <tr>\n",
       "      <th>0</th>\n",
       "      <td>Alabama</td>\n",
       "      <td>1048560.0</td>\n",
       "      <td>281052.0</td>\n",
       "      <td>01</td>\n",
       "    </tr>\n",
       "    <tr>\n",
       "      <th>1</th>\n",
       "      <td>Alaska</td>\n",
       "      <td>179242.0</td>\n",
       "      <td>23963.0</td>\n",
       "      <td>02</td>\n",
       "    </tr>\n",
       "    <tr>\n",
       "      <th>2</th>\n",
       "      <td>Arizona</td>\n",
       "      <td>1532525.0</td>\n",
       "      <td>385737.0</td>\n",
       "      <td>04</td>\n",
       "    </tr>\n",
       "    <tr>\n",
       "      <th>3</th>\n",
       "      <td>Arkansas</td>\n",
       "      <td>663036.0</td>\n",
       "      <td>179070.0</td>\n",
       "      <td>05</td>\n",
       "    </tr>\n",
       "    <tr>\n",
       "      <th>4</th>\n",
       "      <td>California</td>\n",
       "      <td>8778017.0</td>\n",
       "      <td>1945049.0</td>\n",
       "      <td>06</td>\n",
       "    </tr>\n",
       "  </tbody>\n",
       "</table>\n",
       "</div>"
      ],
      "text/plain": [
       "         NAME  B05010_001E  B05010_002E state\n",
       "0     Alabama    1048560.0     281052.0    01\n",
       "1      Alaska     179242.0      23963.0    02\n",
       "2     Arizona    1532525.0     385737.0    04\n",
       "3    Arkansas     663036.0     179070.0    05\n",
       "4  California    8778017.0    1945049.0    06"
      ]
     },
     "execution_count": 6,
     "metadata": {},
     "output_type": "execute_result"
    }
   ],
   "source": [
    "state_pop = pd.DataFrame.from_records(c.acs5.state((\"NAME\", \"B05010_001E\", \"B05010_002E\"), \"*\", year=2014))\n",
    "state_pop.head()\n"
   ]
  },
  {
   "cell_type": "code",
   "execution_count": 7,
   "metadata": {},
   "outputs": [
    {
     "name": "stdout",
     "output_type": "stream",
     "text": [
      "<class 'pandas.core.frame.DataFrame'>\n",
      "RangeIndex: 52 entries, 0 to 51\n",
      "Data columns (total 4 columns):\n",
      " #   Column       Non-Null Count  Dtype  \n",
      "---  ------       --------------  -----  \n",
      " 0   NAME         52 non-null     object \n",
      " 1   B05010_001E  52 non-null     float64\n",
      " 2   B05010_002E  52 non-null     float64\n",
      " 3   state        52 non-null     object \n",
      "dtypes: float64(2), object(2)\n",
      "memory usage: 1.8+ KB\n"
     ]
    }
   ],
   "source": [
    "state_pop.info()"
   ]
  },
  {
   "cell_type": "markdown",
   "metadata": {},
   "source": [
    "### 2. Infectious Diseases — GHDx\n",
    "We will obtain infectious disease mortality rates from the [Global Health Data Exchange](http://ghdx.healthdata.org/record/ihme-data/united-states-infectious-disease-mortality-rates-county-1980-2014). These files contain county- and state-level mortality data from the U.S. from 1980 to 2014."
   ]
  },
  {
   "cell_type": "code",
   "execution_count": 8,
   "metadata": {},
   "outputs": [
    {
     "data": {
      "text/plain": [
       "dict_keys(['Tuberculosis', 'HIV AIDS', 'Diarrheal diseases', 'Lower respiratory infections', 'Meningitis', 'Hepatitis'])"
      ]
     },
     "execution_count": 8,
     "metadata": {},
     "output_type": "execute_result"
    }
   ],
   "source": [
    "diseases_sheets = pd.read_excel(\"IHME_USA_COUNTY_INFECT_DIS_MORT_1980_2014_NATIONAL_Y2018M03D27.XLSX\", sheet_name=None, header=1, skipfooter=2)\n",
    "diseases_sheets.keys()"
   ]
  },
  {
   "cell_type": "markdown",
   "metadata": {},
   "source": [
    "### 3. Infant Mortality — CDC\n",
    "The Centers for Disease Control and Prevention provide a table of [infant mortality data by state](https://www.cdc.gov/nchs/pressroom/sosmap/infant_mortality_rates/infant_mortality.htm)."
   ]
  },
  {
   "cell_type": "code",
   "execution_count": 9,
   "metadata": {},
   "outputs": [
    {
     "data": {
      "text/html": [
       "<div>\n",
       "<style scoped>\n",
       "    .dataframe tbody tr th:only-of-type {\n",
       "        vertical-align: middle;\n",
       "    }\n",
       "\n",
       "    .dataframe tbody tr th {\n",
       "        vertical-align: top;\n",
       "    }\n",
       "\n",
       "    .dataframe thead th {\n",
       "        text-align: right;\n",
       "    }\n",
       "</style>\n",
       "<table border=\"1\" class=\"dataframe\">\n",
       "  <thead>\n",
       "    <tr style=\"text-align: right;\">\n",
       "      <th></th>\n",
       "      <th>YEAR</th>\n",
       "      <th>STATE</th>\n",
       "      <th>RATE</th>\n",
       "      <th>DEATHS</th>\n",
       "      <th>URL</th>\n",
       "    </tr>\n",
       "  </thead>\n",
       "  <tbody>\n",
       "    <tr>\n",
       "      <th>0</th>\n",
       "      <td>2019</td>\n",
       "      <td>AL</td>\n",
       "      <td>7.89</td>\n",
       "      <td>449</td>\n",
       "      <td>/nchs/pressroom/states/alabama/al.htm</td>\n",
       "    </tr>\n",
       "    <tr>\n",
       "      <th>1</th>\n",
       "      <td>2019</td>\n",
       "      <td>AK</td>\n",
       "      <td>4.81</td>\n",
       "      <td>48</td>\n",
       "      <td>/nchs/pressroom/states/alaska/ak.htm</td>\n",
       "    </tr>\n",
       "    <tr>\n",
       "      <th>2</th>\n",
       "      <td>2019</td>\n",
       "      <td>AZ</td>\n",
       "      <td>5.24</td>\n",
       "      <td>429</td>\n",
       "      <td>/nchs/pressroom/states/arizona/az.htm</td>\n",
       "    </tr>\n",
       "    <tr>\n",
       "      <th>3</th>\n",
       "      <td>2019</td>\n",
       "      <td>AR</td>\n",
       "      <td>6.9</td>\n",
       "      <td>251</td>\n",
       "      <td>/nchs/pressroom/states/arkansas/ar.htm</td>\n",
       "    </tr>\n",
       "    <tr>\n",
       "      <th>4</th>\n",
       "      <td>2019</td>\n",
       "      <td>CA</td>\n",
       "      <td>4.06</td>\n",
       "      <td>1879</td>\n",
       "      <td>/nchs/pressroom/states/california/ca.htm</td>\n",
       "    </tr>\n",
       "  </tbody>\n",
       "</table>\n",
       "</div>"
      ],
      "text/plain": [
       "   YEAR STATE  RATE  DEATHS                                       URL\n",
       "0  2019    AL  7.89     449     /nchs/pressroom/states/alabama/al.htm\n",
       "1  2019    AK  4.81      48      /nchs/pressroom/states/alaska/ak.htm\n",
       "2  2019    AZ  5.24     429     /nchs/pressroom/states/arizona/az.htm\n",
       "3  2019    AR   6.9     251    /nchs/pressroom/states/arkansas/ar.htm\n",
       "4  2019    CA  4.06    1879  /nchs/pressroom/states/california/ca.htm"
      ]
     },
     "execution_count": 9,
     "metadata": {},
     "output_type": "execute_result"
    }
   ],
   "source": [
    "infant_mortality_rate_df = pd.read_csv(\"infant_mortality_rate_by_states.csv\")\n",
    "infant_mortality_rate_df.head()"
   ]
  },
  {
   "cell_type": "code",
   "execution_count": 10,
   "metadata": {},
   "outputs": [
    {
     "name": "stdout",
     "output_type": "stream",
     "text": [
      "<class 'pandas.core.frame.DataFrame'>\n",
      "RangeIndex: 350 entries, 0 to 349\n",
      "Data columns (total 5 columns):\n",
      " #   Column  Non-Null Count  Dtype \n",
      "---  ------  --------------  ----- \n",
      " 0   YEAR    350 non-null    int64 \n",
      " 1   STATE   350 non-null    object\n",
      " 2   RATE    350 non-null    object\n",
      " 3   DEATHS  350 non-null    int64 \n",
      " 4   URL     350 non-null    object\n",
      "dtypes: int64(2), object(3)\n",
      "memory usage: 13.8+ KB\n"
     ]
    }
   ],
   "source": [
    "infant_mortality_rate_df.info()"
   ]
  },
  {
   "cell_type": "markdown",
   "metadata": {},
   "source": [
    "### 4. FIPS Codes\n",
    "A [FIPS](https://en.wikipedia.org/wiki/FIPS_county_code) code is a numeric code that identifies a U.S. state or county. This FIPS code will be used to join all the data mentioned above. "
   ]
  },
  {
   "cell_type": "code",
   "execution_count": 11,
   "metadata": {},
   "outputs": [
    {
     "data": {
      "text/html": [
       "<div>\n",
       "<style scoped>\n",
       "    .dataframe tbody tr th:only-of-type {\n",
       "        vertical-align: middle;\n",
       "    }\n",
       "\n",
       "    .dataframe tbody tr th {\n",
       "        vertical-align: top;\n",
       "    }\n",
       "\n",
       "    .dataframe thead th {\n",
       "        text-align: right;\n",
       "    }\n",
       "</style>\n",
       "<table border=\"1\" class=\"dataframe\">\n",
       "  <thead>\n",
       "    <tr style=\"text-align: right;\">\n",
       "      <th></th>\n",
       "      <th>STATE</th>\n",
       "      <th>STATE_NAME</th>\n",
       "      <th>STATENS</th>\n",
       "    </tr>\n",
       "    <tr>\n",
       "      <th>STUSAB</th>\n",
       "      <th></th>\n",
       "      <th></th>\n",
       "      <th></th>\n",
       "    </tr>\n",
       "  </thead>\n",
       "  <tbody>\n",
       "    <tr>\n",
       "      <th>AL</th>\n",
       "      <td>1</td>\n",
       "      <td>Alabama</td>\n",
       "      <td>1779775</td>\n",
       "    </tr>\n",
       "    <tr>\n",
       "      <th>AK</th>\n",
       "      <td>2</td>\n",
       "      <td>Alaska</td>\n",
       "      <td>1785533</td>\n",
       "    </tr>\n",
       "    <tr>\n",
       "      <th>AZ</th>\n",
       "      <td>4</td>\n",
       "      <td>Arizona</td>\n",
       "      <td>1779777</td>\n",
       "    </tr>\n",
       "    <tr>\n",
       "      <th>AR</th>\n",
       "      <td>5</td>\n",
       "      <td>Arkansas</td>\n",
       "      <td>68085</td>\n",
       "    </tr>\n",
       "    <tr>\n",
       "      <th>CA</th>\n",
       "      <td>6</td>\n",
       "      <td>California</td>\n",
       "      <td>1779778</td>\n",
       "    </tr>\n",
       "  </tbody>\n",
       "</table>\n",
       "</div>"
      ],
      "text/plain": [
       "        STATE  STATE_NAME  STATENS\n",
       "STUSAB                            \n",
       "AL          1     Alabama  1779775\n",
       "AK          2      Alaska  1785533\n",
       "AZ          4     Arizona  1779777\n",
       "AR          5    Arkansas    68085\n",
       "CA          6  California  1779778"
      ]
     },
     "execution_count": 11,
     "metadata": {},
     "output_type": "execute_result"
    }
   ],
   "source": [
    "state_codes = pd.read_table(\"state.txt\", sep=\"|\")\n",
    "state_codes.set_index(\"STUSAB\", inplace=True)\n",
    "state_codes.head()"
   ]
  },
  {
   "cell_type": "code",
   "execution_count": 12,
   "metadata": {},
   "outputs": [
    {
     "name": "stdout",
     "output_type": "stream",
     "text": [
      "<class 'pandas.core.frame.DataFrame'>\n",
      "Index: 57 entries, AL to VI\n",
      "Data columns (total 3 columns):\n",
      " #   Column      Non-Null Count  Dtype \n",
      "---  ------      --------------  ----- \n",
      " 0   STATE       57 non-null     int64 \n",
      " 1   STATE_NAME  57 non-null     object\n",
      " 2   STATENS     57 non-null     int64 \n",
      "dtypes: int64(2), object(1)\n",
      "memory usage: 1.8+ KB\n"
     ]
    }
   ],
   "source": [
    "state_codes.info()"
   ]
  },
  {
   "cell_type": "markdown",
   "metadata": {},
   "source": [
    "## Analysis\n",
    "\n",
    "We are going to see if the poverty rate is related with health outcomes.\n",
    "\n",
    "#### Note: Function to calculate bootstrapped correlation"
   ]
  },
  {
   "cell_type": "code",
   "execution_count": 13,
   "metadata": {},
   "outputs": [],
   "source": [
    "def boostraped_correlation(dataframe, column1, column2):\n",
    "    NBOOT = 10000\n",
    "    boot_corrs = np.empty(NBOOT)\n",
    "    for i in range(NBOOT):\n",
    "        sample = dataframe.sample(n=len(dataframe), replace=True)\n",
    "        boot_corrs[i] = sample[column1].corr(sample[column2])\n",
    "    return boot_corrs, np.quantile(boot_corrs, [0.025, 0.975])"
   ]
  },
  {
   "cell_type": "markdown",
   "metadata": {},
   "source": [
    "### 1. Distribution of states poverty rate"
   ]
  },
  {
   "cell_type": "code",
   "execution_count": 14,
   "metadata": {},
   "outputs": [],
   "source": [
    "state_pop.rename(columns={\n",
    "    \"B05010_001E\": \"total\",\n",
    "    \"B05010_002E\": \"under_poverty_line\"\n",
    "}, inplace=True)\n",
    "state_pop[\"rate_under_poverty_line\"] = state_pop[\"under_poverty_line\"]/state_pop[\"total\"]\n",
    "state_pop = state_pop.astype({\"state\": \"i4\"})\n",
    "state_pop.set_index(\"state\", inplace=True)"
   ]
  },
  {
   "cell_type": "code",
   "execution_count": 15,
   "metadata": {},
   "outputs": [
    {
     "data": {
      "text/plain": [
       "count    52.000000\n",
       "mean      0.207473\n",
       "std       0.070696\n",
       "min       0.110946\n",
       "25%       0.153843\n",
       "50%       0.196620\n",
       "75%       0.247620\n",
       "max       0.566731\n",
       "Name: rate_under_poverty_line, dtype: float64"
      ]
     },
     "execution_count": 15,
     "metadata": {},
     "output_type": "execute_result"
    }
   ],
   "source": [
    "state_pop[\"rate_under_poverty_line\"].describe()"
   ]
  },
  {
   "cell_type": "markdown",
   "metadata": {},
   "source": [
    "The median is slightly lower that the mean value. This we might see a slightly right skewed distribution."
   ]
  },
  {
   "cell_type": "code",
   "execution_count": 16,
   "metadata": {},
   "outputs": [
    {
     "data": {
      "text/plain": [
       "Text(0.5, 1.0, 'Distribution of Poverty Rate')"
      ]
     },
     "execution_count": 16,
     "metadata": {},
     "output_type": "execute_result"
    },
    {
     "data": {
      "image/png": "[encoded data removed]",
      "text/plain": [
       "<Figure size 432x288 with 1 Axes>"
      ]
     },
     "metadata": {
      "needs_background": "light"
     },
     "output_type": "display_data"
    }
   ],
   "source": [
    "state_pop[\"rate_under_poverty_line\"].hist(bins=20)\n",
    "plt.xlabel(\"Poverty rate\")\n",
    "plt.ylabel(\"Frequency\")\n",
    "plt.title(\"Distribution of Poverty Rate\")"
   ]
  },
  {
   "cell_type": "markdown",
   "metadata": {},
   "source": [
    "We see that the distribution is not that skewed. Rather we see an outlier that pulled mean toward it causing it to be a little bit higher."
   ]
  },
  {
   "cell_type": "code",
   "execution_count": 17,
   "metadata": {},
   "outputs": [
    {
     "data": {
      "text/plain": [
       "Text(0, 0.5, 'States')"
      ]
     },
     "execution_count": 17,
     "metadata": {},
     "output_type": "execute_result"
    },
    {
     "data": {
      "image/png": "[encoded data removed]",
      "text/plain": [
       "<Figure size 1440x720 with 1 Axes>"
      ]
     },
     "metadata": {
      "needs_background": "light"
     },
     "output_type": "display_data"
    }
   ],
   "source": [
    "plt.figure(figsize=(20,10))\n",
    "sns.barplot(x=\"rate_under_poverty_line\", y=\"NAME\", data=state_pop, color=\"gray\")\n",
    "plt.xlabel(\"Fraction of houses under poverty line\")\n",
    "plt.ylabel(\"States\")"
   ]
  },
  {
   "cell_type": "markdown",
   "metadata": {},
   "source": [
    "We can see that Purto Rico has a higher poverty rate than others."
   ]
  },
  {
   "cell_type": "markdown",
   "metadata": {},
   "source": [
    "### 2. Relationship between Poverty rates and Mortality rates\n",
    "\n",
    "#### Scatter Plots and Correlation Coefficients"
   ]
  },
  {
   "cell_type": "code",
   "execution_count": 18,
   "metadata": {},
   "outputs": [],
   "source": [
    "df_meningitis = diseases_sheets[\"Meningitis\"]\n",
    "df_meningitis = df_meningitis[(df_meningitis[\"FIPS\"] > 0) &(df_meningitis[\"FIPS\"] < 100 )]\n",
    "df_meningitis = df_meningitis.rename(columns={\n",
    "    \"Mortality Rate, 2014*\": \"Mortality\"\n",
    "})\n",
    "df_meningitis[\"Mortality\"].replace(to_replace=r\"\\s*\\(.+\\)\",value= \"\", regex=True, inplace=True)\n",
    "df_meningitis = df_meningitis.astype({\"FIPS\": \"i4\", \"Mortality\": \"f8\"})\n",
    "df_meningitis = df_meningitis[[\"Location\", \"FIPS\", \"Mortality\"]]\n",
    "df_meningitis.set_index(\"FIPS\", inplace=True)\n",
    "df_meningitis = df_meningitis.join(state_pop)"
   ]
  },
  {
   "cell_type": "code",
   "execution_count": 19,
   "metadata": {},
   "outputs": [
    {
     "data": {
      "text/plain": [
       "count    51.000000\n",
       "mean      0.415490\n",
       "std       0.091985\n",
       "min       0.270000\n",
       "25%       0.345000\n",
       "50%       0.400000\n",
       "75%       0.470000\n",
       "max       0.660000\n",
       "Name: Mortality, dtype: float64"
      ]
     },
     "execution_count": 19,
     "metadata": {},
     "output_type": "execute_result"
    }
   ],
   "source": [
    "df_meningitis[\"Mortality\"].describe()"
   ]
  },
  {
   "cell_type": "markdown",
   "metadata": {},
   "source": [
    "The mean is a bit higher than the median causing the distribution to be slightly right skewed."
   ]
  },
  {
   "cell_type": "code",
   "execution_count": 20,
   "metadata": {},
   "outputs": [
    {
     "data": {
      "text/plain": [
       "Text(0.5, 1.0, 'Correlation between Meningitis Mortality rate and Poverty rate')"
      ]
     },
     "execution_count": 20,
     "metadata": {},
     "output_type": "execute_result"
    },
    {
     "data": {
      "image/png": "[encoded data removed]",
      "text/plain": [
       "<Figure size 432x288 with 1 Axes>"
      ]
     },
     "metadata": {
      "needs_background": "light"
     },
     "output_type": "display_data"
    }
   ],
   "source": [
    "sns.regplot(x=\"rate_under_poverty_line\", y=\"Mortality\", data=df_meningitis)\n",
    "plt.xlabel(\"Fraction of houses under poverty line\")\n",
    "plt.ylabel(\"Mortality rate due to Meningitis\")\n",
    "plt.title(\"Correlation between Meningitis Mortality rate and Poverty rate\")"
   ]
  },
  {
   "cell_type": "markdown",
   "metadata": {},
   "source": [
    "From the scatter plot and trend line, we can see that there is a positive correlation between Mortality rate due to Meningitis and the Poverty rate."
   ]
  },
  {
   "cell_type": "code",
   "execution_count": 21,
   "metadata": {},
   "outputs": [
    {
     "data": {
      "text/plain": [
       "0.7666266512876152"
      ]
     },
     "execution_count": 21,
     "metadata": {},
     "output_type": "execute_result"
    }
   ],
   "source": [
    "df_meningitis[\"Mortality\"].corr(df_meningitis[\"rate_under_poverty_line\"])"
   ]
  },
  {
   "cell_type": "markdown",
   "metadata": {},
   "source": [
    "The correlation coefficient is nearly equal to 0.77 justifying the graph. "
   ]
  },
  {
   "cell_type": "code",
   "execution_count": 22,
   "metadata": {},
   "outputs": [],
   "source": [
    "df_diarrheal = diseases_sheets[\"Diarrheal diseases\"]\n",
    "df_diarrheal = df_diarrheal[(df_diarrheal[\"FIPS\"] > 0) &(df_diarrheal[\"FIPS\"] < 100 )]\n",
    "df_diarrheal = df_diarrheal.rename(columns={\n",
    "    \"Mortality Rate, 2014*\": \"Mortality\"\n",
    "})\n",
    "df_diarrheal[\"Mortality\"].replace(to_replace=r\"\\s*\\(.+\\)\",value= \"\", regex=True, inplace=True)\n",
    "df_diarrheal = df_diarrheal.astype({\"FIPS\": \"i4\", \"Mortality\": \"f8\"})\n",
    "df_diarrheal = df_diarrheal[[\"Location\", \"FIPS\", \"Mortality\"]]\n",
    "df_diarrheal.set_index(\"FIPS\", inplace=True)\n",
    "df_diarrheal = df_diarrheal.join(state_pop)"
   ]
  },
  {
   "cell_type": "code",
   "execution_count": 23,
   "metadata": {},
   "outputs": [
    {
     "data": {
      "text/plain": [
       "count    51.000000\n",
       "mean      2.356667\n",
       "std       0.714162\n",
       "min       0.490000\n",
       "25%       1.810000\n",
       "50%       2.310000\n",
       "75%       2.850000\n",
       "max       4.080000\n",
       "Name: Mortality, dtype: float64"
      ]
     },
     "execution_count": 23,
     "metadata": {},
     "output_type": "execute_result"
    }
   ],
   "source": [
    "df_diarrheal[\"Mortality\"].describe()"
   ]
  },
  {
   "cell_type": "markdown",
   "metadata": {},
   "source": [
    "The mean is a bit higher than the median causing the distribution to be slightly right skewed."
   ]
  },
  {
   "cell_type": "code",
   "execution_count": 24,
   "metadata": {},
   "outputs": [
    {
     "data": {
      "text/plain": [
       "Text(0.5, 1.0, 'Correlation between Diarrheal Mortality rate and Poverty rate')"
      ]
     },
     "execution_count": 24,
     "metadata": {},
     "output_type": "execute_result"
    },
    {
     "data": {
      "image/png": "[encoded data removed]",
      "text/plain": [
       "<Figure size 432x288 with 1 Axes>"
      ]
     },
     "metadata": {
      "needs_background": "light"
     },
     "output_type": "display_data"
    }
   ],
   "source": [
    "sns.regplot(x=\"rate_under_poverty_line\", y=\"Mortality\", data=df_diarrheal)\n",
    "plt.xlabel(\"Fraction of houses under poverty line\")\n",
    "plt.ylabel(\"Mortality rate due to Diarrheal\")\n",
    "plt.title(\"Correlation between Diarrheal Mortality rate and Poverty rate\")"
   ]
  },
  {
   "cell_type": "markdown",
   "metadata": {},
   "source": [
    "From the scatter plot and trend line, we can see that there is almost no correlation between Mortality rate due to Diarrheal Disease and the Poverty rate."
   ]
  },
  {
   "cell_type": "code",
   "execution_count": 25,
   "metadata": {},
   "outputs": [
    {
     "data": {
      "text/plain": [
       "-0.005990448531004337"
      ]
     },
     "execution_count": 25,
     "metadata": {},
     "output_type": "execute_result"
    }
   ],
   "source": [
    "df_diarrheal[\"Mortality\"].corr(df_diarrheal[\"rate_under_poverty_line\"])"
   ]
  },
  {
   "cell_type": "markdown",
   "metadata": {},
   "source": [
    "The correlation coefficient is nearly equal to 0 justifying the graph. "
   ]
  },
  {
   "cell_type": "markdown",
   "metadata": {},
   "source": [
    "#### Bootstrapped Correlation Coefficients "
   ]
  },
  {
   "cell_type": "code",
   "execution_count": 26,
   "metadata": {},
   "outputs": [
    {
     "data": {
      "text/plain": [
       "array([0.62924497, 0.8649942 ])"
      ]
     },
     "execution_count": 26,
     "metadata": {},
     "output_type": "execute_result"
    }
   ],
   "source": [
    "sample_dist_meningitis_mortality, ci95_meningitis_mortality = boostraped_correlation(df_meningitis, \"Mortality\", \"rate_under_poverty_line\")\n",
    "ci95_meningitis_mortality"
   ]
  },
  {
   "cell_type": "markdown",
   "metadata": {},
   "source": [
    "The Bootstrapped Confidence Interval for Correlation Coefficients is 0.63 to 0.86."
   ]
  },
  {
   "cell_type": "code",
   "execution_count": 27,
   "metadata": {},
   "outputs": [
    {
     "data": {
      "image/png": "[encoded data removed]",
      "text/plain": [
       "<Figure size 432x288 with 1 Axes>"
      ]
     },
     "metadata": {
      "needs_background": "light"
     },
     "output_type": "display_data"
    }
   ],
   "source": [
    "sns.histplot(sample_dist_meningitis_mortality)\n",
    "lb, ub = ci95_meningitis_mortality\n",
    "plt.axvline(lb, color=\"gray\")\n",
    "plt.axvline(ub, color=\"gray\")\n",
    "plt.title(\"Bootstrap Distribution of r\")\n",
    "plt.ylabel(\"Density\")\n",
    "plt.xlabel(\"Correlation Between Meningitis Mortality rate and Poverty rate\")\n",
    "plt.show()"
   ]
  },
  {
   "cell_type": "markdown",
   "metadata": {},
   "source": [
    "The graphs shows the Bootstrapped Sample Distribution of Correlation coefficient. "
   ]
  },
  {
   "cell_type": "code",
   "execution_count": 28,
   "metadata": {},
   "outputs": [
    {
     "data": {
      "text/plain": [
       "array([-0.28790998,  0.28135356])"
      ]
     },
     "execution_count": 28,
     "metadata": {},
     "output_type": "execute_result"
    }
   ],
   "source": [
    "sample_dist_diarrheal_mortality, ci95_diarrheal_mortality = boostraped_correlation(df_diarrheal, \"Mortality\", \"rate_under_poverty_line\")\n",
    "ci95_diarrheal_mortality"
   ]
  },
  {
   "cell_type": "markdown",
   "metadata": {},
   "source": [
    "The Bootstrapped Confidence Interval for Correlation Coefficients is -0.28 to 0.27."
   ]
  },
  {
   "cell_type": "code",
   "execution_count": 29,
   "metadata": {},
   "outputs": [
    {
     "data": {
      "image/png": "[encoded data removed]",
      "text/plain": [
       "<Figure size 432x288 with 1 Axes>"
      ]
     },
     "metadata": {
      "needs_background": "light"
     },
     "output_type": "display_data"
    }
   ],
   "source": [
    "sns.histplot(sample_dist_diarrheal_mortality)\n",
    "lb, ub = ci95_diarrheal_mortality\n",
    "plt.axvline(lb, color=\"gray\")\n",
    "plt.axvline(ub, color=\"gray\")\n",
    "plt.title(\"Bootstrap Distribution of r\")\n",
    "plt.ylabel(\"Density\")\n",
    "plt.xlabel(\"Correlation Between Meningitis Diarrheal rate and Poverty rate\")\n",
    "plt.show()"
   ]
  },
  {
   "cell_type": "markdown",
   "metadata": {},
   "source": [
    "The graphs shows the Bootstrapped Sample Distribution of Correlation coefficient. "
   ]
  },
  {
   "cell_type": "markdown",
   "metadata": {},
   "source": [
    "### 3. Relationship between Poverty rates and Infant Mortality rates\n",
    "\n",
    "\n",
    "#### Scatter Plots and Correlation Coefficients"
   ]
  },
  {
   "cell_type": "code",
   "execution_count": 30,
   "metadata": {},
   "outputs": [],
   "source": [
    "infant_mortality_rate_df = infant_mortality_rate_df[infant_mortality_rate_df[\"YEAR\"] == 2014]\n",
    "infant_mortality_rate_df = pd.merge(left=infant_mortality_rate_df, right=state_codes, left_on=\"STATE\", right_index=True)\n",
    "infant_mortality_rate_df = infant_mortality_rate_df[[\"STATE\", \"RATE\", \"DEATHS\", \"STATE_y\"]]\n",
    "infant_mortality_rate_df.rename(columns={\n",
    "    \"STATE_y\": \"STATE_CODE\"\n",
    "}, inplace=True)\n",
    "infant_mortality_rate_df = infant_mortality_rate_df.astype({\n",
    "    \"RATE\": \"f8\"\n",
    "})\n",
    "infant_mortality_rate_df.set_index(\"STATE_CODE\", inplace=True)\n",
    "infant_mortality_rate_df = infant_mortality_rate_df.join(state_pop)"
   ]
  },
  {
   "cell_type": "code",
   "execution_count": 38,
   "metadata": {},
   "outputs": [
    {
     "data": {
      "text/plain": [
       "count    50.000000\n",
       "mean      5.935000\n",
       "std       1.148879\n",
       "min       4.320000\n",
       "25%       4.935000\n",
       "50%       5.870000\n",
       "75%       6.722500\n",
       "max       8.670000\n",
       "Name: RATE, dtype: float64"
      ]
     },
     "execution_count": 38,
     "metadata": {},
     "output_type": "execute_result"
    }
   ],
   "source": [
    "infant_mortality_rate_df[\"RATE\"].describe()"
   ]
  },
  {
   "cell_type": "markdown",
   "metadata": {},
   "source": [
    "The mean is a bit higher than the median causing the distribution to be slightly right skewed."
   ]
  },
  {
   "cell_type": "code",
   "execution_count": 32,
   "metadata": {},
   "outputs": [
    {
     "data": {
      "text/plain": [
       "Text(0.5, 1.0, 'Correlation between Infant Mortality rate and Poverty rate')"
      ]
     },
     "execution_count": 32,
     "metadata": {},
     "output_type": "execute_result"
    },
    {
     "data": {
      "image/png": "[encoded data removed]",
      "text/plain": [
       "<Figure size 432x288 with 1 Axes>"
      ]
     },
     "metadata": {
      "needs_background": "light"
     },
     "output_type": "display_data"
    }
   ],
   "source": [
    "sns.regplot(x=\"rate_under_poverty_line\", y=\"RATE\", data=infant_mortality_rate_df)\n",
    "plt.xlabel(\"Fraction of houses under poverty line\")\n",
    "plt.ylabel(\"Infant Mortality rate\")\n",
    "plt.title(\"Correlation between Infant Mortality rate and Poverty rate\")"
   ]
  },
  {
   "cell_type": "markdown",
   "metadata": {},
   "source": [
    "From the scatter plot and trend line, we can see that there is a positive correlation between Infant Mortality rate and the Poverty rate."
   ]
  },
  {
   "cell_type": "code",
   "execution_count": 33,
   "metadata": {},
   "outputs": [
    {
     "data": {
      "text/plain": [
       "0.6154666056611093"
      ]
     },
     "execution_count": 33,
     "metadata": {},
     "output_type": "execute_result"
    }
   ],
   "source": [
    "infant_mortality_rate_df[\"RATE\"].corr(infant_mortality_rate_df[\"rate_under_poverty_line\"])"
   ]
  },
  {
   "cell_type": "markdown",
   "metadata": {},
   "source": [
    "The correlation coefficient is nearly equal to 0.62 justifying the graph. "
   ]
  },
  {
   "cell_type": "markdown",
   "metadata": {},
   "source": [
    "#### Bootstrapped Correlation Coefficients "
   ]
  },
  {
   "cell_type": "code",
   "execution_count": 34,
   "metadata": {},
   "outputs": [
    {
     "data": {
      "text/plain": [
       "array([0.3937046 , 0.78650367])"
      ]
     },
     "execution_count": 34,
     "metadata": {},
     "output_type": "execute_result"
    }
   ],
   "source": [
    "sample_dist_infant_mortality, ci95_infant_mortality = boostraped_correlation(infant_mortality_rate_df, \"RATE\", \"rate_under_poverty_line\")\n",
    "ci95_infant_mortality"
   ]
  },
  {
   "cell_type": "markdown",
   "metadata": {},
   "source": [
    "The Bootstrapped Confidence Interval for Correlation Coefficients is 0.39 to 0.79."
   ]
  },
  {
   "cell_type": "code",
   "execution_count": 35,
   "metadata": {},
   "outputs": [
    {
     "data": {
      "image/png": "[encoded data removed]",
      "text/plain": [
       "<Figure size 432x288 with 1 Axes>"
      ]
     },
     "metadata": {
      "needs_background": "light"
     },
     "output_type": "display_data"
    }
   ],
   "source": [
    "sns.histplot(sample_dist_infant_mortality)\n",
    "lb, ub = ci95_infant_mortality\n",
    "plt.axvline(lb, color=\"gray\")\n",
    "plt.axvline(ub, color=\"gray\")\n",
    "plt.title(\"Bootstrap Distribution of r\")\n",
    "plt.ylabel(\"Density\")\n",
    "plt.xlabel(\"Correlation between Infant Mortality rate and Poverty rate\")\n",
    "plt.show()"
   ]
  },
  {
   "cell_type": "markdown",
   "metadata": {},
   "source": [
    "The graphs shows the Bootstrapped Sample Distribution of Correlation coefficient. "
   ]
  },
  {
   "cell_type": "markdown",
   "metadata": {},
   "source": [
    "## Summary\n",
    "\n",
    "The primary purpose of this assignment was to learn about collecting data from various data sources, manipulating data and integrating them into a required format in order to perform required analysis. This assignment was about correlating various data set attributes and study relationship between the variables i.e. How poverty rate is correlated to health outcomes such as Mortality rate from Infectious Disease and Infant Mortality rate.\n",
    "\n",
    "The first thing we learned from this assignment is about preparing data for the analysis. The purpose of this assignment was to find the relation of poverty rate with various mortality rates. The data needed for this analysis was a report containing Income data and death rates due to multiple diseases and conditions.   We used the US census data to get the Income report. Similarly, we used Global Health Exchange data for Mortality rate due to diseases and the Center for Disease Control for Infant Mortality rate. We also learned about linking various data set to widen the variable set. Some data sets can be linked readily, and some need to be processed to connect with a shared variable. One of the learnings of this assignment was the relation of poverty rate with the mortality rate and how correlation coefficient can help. We also learned to bootstrap the confidence interval for the correlation coefficient. Other than the correlation coefficient, a Scatter plot seems to be very useful for visualizing the relationship. \n",
    "\n",
    "The advantage of using correlation is to uncover the relationship that may not have been found. But it cannot provide a conclusive result that why the connection exists and which variable is responsible for influencing the other.  All we can do with the information is study the relationships between phenomena to see how each one affects the other. Knowing that one change can create additional alternations can be beneficial when looking for unique outcomes. Still, it fails to answer the question of “why” that is sometimes necessary for research. Correlation doesn’t mean causation.\n",
    "\n",
    "For this assignment, we are using data from three different sources. The analysis requires us to link these data to study the relationship.  It required some pre-processing as the common variable that links the table was not the same.  We used an extra FIPS code table to link Infant mortality rate data to that of Census data. Also, for the health data, the value for mortality rate was not in the standard format. It required some data parsing and manipulations. As we look into the data, we find some of the missing values of Mortality rates for different disease which gets dropped while joining with census data. Data we used were collected via different sources and some of them were inconsistent that resulted in dropping of some values."
   ]
  }
 ],
 "metadata": {
  "interpreter": {
   "hash": "f58de355eaeeab151c79699a18b610ce44b8eeda43c73b39c5888f617d036b90"
  },
  "kernelspec": {
   "display_name": "Python 3.8.8 64-bit ('base': conda)",
   "name": "python3"
  },
  "language_info": {
   "codemirror_mode": {
    "name": "ipython",
    "version": 3
   },
   "file_extension": ".py",
   "mimetype": "text/x-python",
   "name": "python",
   "nbconvert_exporter": "python",
   "pygments_lexer": "ipython3",
   "version": "3.8.8"
  }
 },
 "nbformat": 4,
 "nbformat_minor": 2
}
