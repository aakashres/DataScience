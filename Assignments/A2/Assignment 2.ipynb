{
 "cells": [
  {
   "cell_type": "markdown",
   "metadata": {},
   "source": [
    "# CS 533 Assignment 2\n",
    "## Introduction\n",
    "The basic outlines of this assignment are:\n",
    "* Getting data and processing them into required format\n",
    "* Visualizing information\n",
    "* Inferring conclusions form the data\n",
    "\n",
    "## Environment Setup\n",
    "\n",
    "We will be using pandas and numpy for data processing and manipulation, Scipy for testing hypothesis and inferring results and seaborn and matplotlib to visualize distributions and results."
   ]
  },
  {
   "cell_type": "code",
   "execution_count": 1,
   "metadata": {},
   "outputs": [],
   "source": [
    "import pandas as pd\n",
    "import numpy as np\n",
    "import scipy.stats as sps\n",
    "import seaborn as sns\n",
    "import matplotlib.pyplot as plt"
   ]
  },
  {
   "cell_type": "markdown",
   "metadata": {},
   "source": [
    "## Data\n",
    "The data we will be using for this assignment is [**HETREC**](https://grouplens.org/datasets/hetrec-2011/) [**Movie Data**](https://files.grouplens.org/datasets/hetrec2011/hetrec2011-movielens-2k-v2.zip) from MovieLens, IMDb and Rotten Tomatoes. This dataset is an extension of MovieLens10M dataset, published by GroupLens research group. It links the movies of MovieLens dataset with their corresponding web pages at [Internet Movie Database](http://www.imdb.com ) (IMDb) and [Rotten Tomatoes](http://www.rottentomatoes.com) movie review systems.\n",
    "\n",
    "The most used files in this assignment will be the Movies file, User-Movie rating file, and Movie-Genre file. The columns we will be using for this assignment are:\n",
    "1. rtAllCriticsRating\n",
    "2. rtTopCriticsRating\n",
    "3. rtAudienceRating\n",
    "4. movie lens average rating\n",
    "5. count of movie lens user rating\n",
    "\n",
    "For movie rating values, 0 rating score can be considered as a missing value. So, replacing 0 from the rating column with np.NaN as required. Sample code is shown below.\n",
    "```\n",
    "movies.loc[movies[\"rtAllCriticsRating\"] == 0, \"rtAllCriticsRating\"] = np.nan\n",
    "movies.loc[movies[\"rtTopCriticsRating\"] == 0, \"rtTopCriticsRating\"] = np.nan\n",
    "```"
   ]
  },
  {
   "cell_type": "code",
   "execution_count": 2,
   "metadata": {},
   "outputs": [
    {
     "data": {
      "text/html": [
       "<div>\n",
       "<style scoped>\n",
       "    .dataframe tbody tr th:only-of-type {\n",
       "        vertical-align: middle;\n",
       "    }\n",
       "\n",
       "    .dataframe tbody tr th {\n",
       "        vertical-align: top;\n",
       "    }\n",
       "\n",
       "    .dataframe thead th {\n",
       "        text-align: right;\n",
       "    }\n",
       "</style>\n",
       "<table border=\"1\" class=\"dataframe\">\n",
       "  <thead>\n",
       "    <tr style=\"text-align: right;\">\n",
       "      <th></th>\n",
       "      <th>title</th>\n",
       "      <th>imdbID</th>\n",
       "      <th>spanishTitle</th>\n",
       "      <th>imdbPictureURL</th>\n",
       "      <th>year</th>\n",
       "      <th>rtID</th>\n",
       "      <th>rtAllCriticsRating</th>\n",
       "      <th>rtAllCriticsNumReviews</th>\n",
       "      <th>rtAllCriticsNumFresh</th>\n",
       "      <th>rtAllCriticsNumRotten</th>\n",
       "      <th>rtAllCriticsScore</th>\n",
       "      <th>rtTopCriticsRating</th>\n",
       "      <th>rtTopCriticsNumReviews</th>\n",
       "      <th>rtTopCriticsNumFresh</th>\n",
       "      <th>rtTopCriticsNumRotten</th>\n",
       "      <th>rtTopCriticsScore</th>\n",
       "      <th>rtAudienceRating</th>\n",
       "      <th>rtAudienceNumRatings</th>\n",
       "      <th>rtAudienceScore</th>\n",
       "      <th>rtPictureURL</th>\n",
       "    </tr>\n",
       "    <tr>\n",
       "      <th>id</th>\n",
       "      <th></th>\n",
       "      <th></th>\n",
       "      <th></th>\n",
       "      <th></th>\n",
       "      <th></th>\n",
       "      <th></th>\n",
       "      <th></th>\n",
       "      <th></th>\n",
       "      <th></th>\n",
       "      <th></th>\n",
       "      <th></th>\n",
       "      <th></th>\n",
       "      <th></th>\n",
       "      <th></th>\n",
       "      <th></th>\n",
       "      <th></th>\n",
       "      <th></th>\n",
       "      <th></th>\n",
       "      <th></th>\n",
       "      <th></th>\n",
       "    </tr>\n",
       "  </thead>\n",
       "  <tbody>\n",
       "    <tr>\n",
       "      <th>1</th>\n",
       "      <td>Toy story</td>\n",
       "      <td>114709</td>\n",
       "      <td>Toy story (juguetes)</td>\n",
       "      <td>http://ia.media-imdb.com/images/M/MV5BMTMwNDU0...</td>\n",
       "      <td>1995</td>\n",
       "      <td>toy_story</td>\n",
       "      <td>9.0</td>\n",
       "      <td>73.0</td>\n",
       "      <td>73.0</td>\n",
       "      <td>0.0</td>\n",
       "      <td>100.0</td>\n",
       "      <td>8.5</td>\n",
       "      <td>17.0</td>\n",
       "      <td>17.0</td>\n",
       "      <td>0.0</td>\n",
       "      <td>100.0</td>\n",
       "      <td>3.7</td>\n",
       "      <td>102338.0</td>\n",
       "      <td>81.0</td>\n",
       "      <td>http://content7.flixster.com/movie/10/93/63/10...</td>\n",
       "    </tr>\n",
       "    <tr>\n",
       "      <th>2</th>\n",
       "      <td>Jumanji</td>\n",
       "      <td>113497</td>\n",
       "      <td>Jumanji</td>\n",
       "      <td>http://ia.media-imdb.com/images/M/MV5BMzM5NjE1...</td>\n",
       "      <td>1995</td>\n",
       "      <td>1068044-jumanji</td>\n",
       "      <td>5.6</td>\n",
       "      <td>28.0</td>\n",
       "      <td>13.0</td>\n",
       "      <td>15.0</td>\n",
       "      <td>46.0</td>\n",
       "      <td>5.8</td>\n",
       "      <td>5.0</td>\n",
       "      <td>2.0</td>\n",
       "      <td>3.0</td>\n",
       "      <td>40.0</td>\n",
       "      <td>3.2</td>\n",
       "      <td>44587.0</td>\n",
       "      <td>61.0</td>\n",
       "      <td>http://content8.flixster.com/movie/56/79/73/56...</td>\n",
       "    </tr>\n",
       "    <tr>\n",
       "      <th>3</th>\n",
       "      <td>Grumpy Old Men</td>\n",
       "      <td>107050</td>\n",
       "      <td>Dos viejos gruï¿½ones</td>\n",
       "      <td>http://ia.media-imdb.com/images/M/MV5BMTI5MTgy...</td>\n",
       "      <td>1993</td>\n",
       "      <td>grumpy_old_men</td>\n",
       "      <td>5.9</td>\n",
       "      <td>36.0</td>\n",
       "      <td>24.0</td>\n",
       "      <td>12.0</td>\n",
       "      <td>66.0</td>\n",
       "      <td>7.0</td>\n",
       "      <td>6.0</td>\n",
       "      <td>5.0</td>\n",
       "      <td>1.0</td>\n",
       "      <td>83.0</td>\n",
       "      <td>3.2</td>\n",
       "      <td>10489.0</td>\n",
       "      <td>66.0</td>\n",
       "      <td>http://content6.flixster.com/movie/25/60/25602...</td>\n",
       "    </tr>\n",
       "    <tr>\n",
       "      <th>4</th>\n",
       "      <td>Waiting to Exhale</td>\n",
       "      <td>114885</td>\n",
       "      <td>Esperando un respiro</td>\n",
       "      <td>http://ia.media-imdb.com/images/M/MV5BMTczMTMy...</td>\n",
       "      <td>1995</td>\n",
       "      <td>waiting_to_exhale</td>\n",
       "      <td>5.6</td>\n",
       "      <td>25.0</td>\n",
       "      <td>14.0</td>\n",
       "      <td>11.0</td>\n",
       "      <td>56.0</td>\n",
       "      <td>5.5</td>\n",
       "      <td>11.0</td>\n",
       "      <td>5.0</td>\n",
       "      <td>6.0</td>\n",
       "      <td>45.0</td>\n",
       "      <td>3.3</td>\n",
       "      <td>5666.0</td>\n",
       "      <td>79.0</td>\n",
       "      <td>http://content9.flixster.com/movie/10/94/17/10...</td>\n",
       "    </tr>\n",
       "    <tr>\n",
       "      <th>5</th>\n",
       "      <td>Father of the Bride Part II</td>\n",
       "      <td>113041</td>\n",
       "      <td>Vuelve el padre de la novia (Ahora tambiï¿½n a...</td>\n",
       "      <td>http://ia.media-imdb.com/images/M/MV5BMTg1NDc2...</td>\n",
       "      <td>1995</td>\n",
       "      <td>father_of_the_bride_part_ii</td>\n",
       "      <td>5.3</td>\n",
       "      <td>19.0</td>\n",
       "      <td>9.0</td>\n",
       "      <td>10.0</td>\n",
       "      <td>47.0</td>\n",
       "      <td>5.4</td>\n",
       "      <td>5.0</td>\n",
       "      <td>1.0</td>\n",
       "      <td>4.0</td>\n",
       "      <td>20.0</td>\n",
       "      <td>3.0</td>\n",
       "      <td>13761.0</td>\n",
       "      <td>64.0</td>\n",
       "      <td>http://content8.flixster.com/movie/25/54/25542...</td>\n",
       "    </tr>\n",
       "  </tbody>\n",
       "</table>\n",
       "</div>"
      ],
      "text/plain": [
       "                          title  imdbID  \\\n",
       "id                                        \n",
       "1                     Toy story  114709   \n",
       "2                       Jumanji  113497   \n",
       "3                Grumpy Old Men  107050   \n",
       "4             Waiting to Exhale  114885   \n",
       "5   Father of the Bride Part II  113041   \n",
       "\n",
       "                                         spanishTitle  \\\n",
       "id                                                      \n",
       "1                                Toy story (juguetes)   \n",
       "2                                             Jumanji   \n",
       "3                               Dos viejos gruï¿½ones   \n",
       "4                                Esperando un respiro   \n",
       "5   Vuelve el padre de la novia (Ahora tambiï¿½n a...   \n",
       "\n",
       "                                       imdbPictureURL  year  \\\n",
       "id                                                            \n",
       "1   http://ia.media-imdb.com/images/M/MV5BMTMwNDU0...  1995   \n",
       "2   http://ia.media-imdb.com/images/M/MV5BMzM5NjE1...  1995   \n",
       "3   http://ia.media-imdb.com/images/M/MV5BMTI5MTgy...  1993   \n",
       "4   http://ia.media-imdb.com/images/M/MV5BMTczMTMy...  1995   \n",
       "5   http://ia.media-imdb.com/images/M/MV5BMTg1NDc2...  1995   \n",
       "\n",
       "                           rtID  rtAllCriticsRating  rtAllCriticsNumReviews  \\\n",
       "id                                                                            \n",
       "1                     toy_story                 9.0                    73.0   \n",
       "2               1068044-jumanji                 5.6                    28.0   \n",
       "3                grumpy_old_men                 5.9                    36.0   \n",
       "4             waiting_to_exhale                 5.6                    25.0   \n",
       "5   father_of_the_bride_part_ii                 5.3                    19.0   \n",
       "\n",
       "    rtAllCriticsNumFresh  rtAllCriticsNumRotten  rtAllCriticsScore  \\\n",
       "id                                                                   \n",
       "1                   73.0                    0.0              100.0   \n",
       "2                   13.0                   15.0               46.0   \n",
       "3                   24.0                   12.0               66.0   \n",
       "4                   14.0                   11.0               56.0   \n",
       "5                    9.0                   10.0               47.0   \n",
       "\n",
       "    rtTopCriticsRating  rtTopCriticsNumReviews  rtTopCriticsNumFresh  \\\n",
       "id                                                                     \n",
       "1                  8.5                    17.0                  17.0   \n",
       "2                  5.8                     5.0                   2.0   \n",
       "3                  7.0                     6.0                   5.0   \n",
       "4                  5.5                    11.0                   5.0   \n",
       "5                  5.4                     5.0                   1.0   \n",
       "\n",
       "    rtTopCriticsNumRotten  rtTopCriticsScore  rtAudienceRating  \\\n",
       "id                                                               \n",
       "1                     0.0              100.0               3.7   \n",
       "2                     3.0               40.0               3.2   \n",
       "3                     1.0               83.0               3.2   \n",
       "4                     6.0               45.0               3.3   \n",
       "5                     4.0               20.0               3.0   \n",
       "\n",
       "    rtAudienceNumRatings  rtAudienceScore  \\\n",
       "id                                          \n",
       "1               102338.0             81.0   \n",
       "2                44587.0             61.0   \n",
       "3                10489.0             66.0   \n",
       "4                 5666.0             79.0   \n",
       "5                13761.0             64.0   \n",
       "\n",
       "                                         rtPictureURL  \n",
       "id                                                     \n",
       "1   http://content7.flixster.com/movie/10/93/63/10...  \n",
       "2   http://content8.flixster.com/movie/56/79/73/56...  \n",
       "3   http://content6.flixster.com/movie/25/60/25602...  \n",
       "4   http://content9.flixster.com/movie/10/94/17/10...  \n",
       "5   http://content8.flixster.com/movie/25/54/25542...  "
      ]
     },
     "execution_count": 2,
     "metadata": {},
     "output_type": "execute_result"
    }
   ],
   "source": [
    "movies = pd.read_csv(\"hetrec2011-movielens-2k-v2/movies.dat\", delimiter=\"\\t\", encoding=\"latin1\", na_values=[\"\\\\N\"])\n",
    "movies.set_index(\"id\", inplace=True)\n",
    "movies.head()\n"
   ]
  },
  {
   "cell_type": "code",
   "execution_count": 3,
   "metadata": {},
   "outputs": [
    {
     "name": "stdout",
     "output_type": "stream",
     "text": [
      "<class 'pandas.core.frame.DataFrame'>\n",
      "Int64Index: 10197 entries, 1 to 65133\n",
      "Data columns (total 20 columns):\n",
      " #   Column                  Non-Null Count  Dtype  \n",
      "---  ------                  --------------  -----  \n",
      " 0   title                   10197 non-null  object \n",
      " 1   imdbID                  10197 non-null  int64  \n",
      " 2   spanishTitle            10197 non-null  object \n",
      " 3   imdbPictureURL          10016 non-null  object \n",
      " 4   year                    10197 non-null  int64  \n",
      " 5   rtID                    9886 non-null   object \n",
      " 6   rtAllCriticsRating      9967 non-null   float64\n",
      " 7   rtAllCriticsNumReviews  9967 non-null   float64\n",
      " 8   rtAllCriticsNumFresh    9967 non-null   float64\n",
      " 9   rtAllCriticsNumRotten   9967 non-null   float64\n",
      " 10  rtAllCriticsScore       9967 non-null   float64\n",
      " 11  rtTopCriticsRating      9967 non-null   float64\n",
      " 12  rtTopCriticsNumReviews  9967 non-null   float64\n",
      " 13  rtTopCriticsNumFresh    9967 non-null   float64\n",
      " 14  rtTopCriticsNumRotten   9967 non-null   float64\n",
      " 15  rtTopCriticsScore       9967 non-null   float64\n",
      " 16  rtAudienceRating        9967 non-null   float64\n",
      " 17  rtAudienceNumRatings    9967 non-null   float64\n",
      " 18  rtAudienceScore         9967 non-null   float64\n",
      " 19  rtPictureURL            9967 non-null   object \n",
      "dtypes: float64(13), int64(2), object(5)\n",
      "memory usage: 1.6+ MB\n"
     ]
    }
   ],
   "source": [
    "movies.info()"
   ]
  },
  {
   "cell_type": "markdown",
   "metadata": {},
   "source": [
    "The movies.dat data set has 10197 movies and 20 variables.  Among 10197, only 9967 are rated. Thus we might have some missing data that needs to be handled."
   ]
  },
  {
   "cell_type": "code",
   "execution_count": 4,
   "metadata": {},
   "outputs": [
    {
     "data": {
      "text/html": [
       "<div>\n",
       "<style scoped>\n",
       "    .dataframe tbody tr th:only-of-type {\n",
       "        vertical-align: middle;\n",
       "    }\n",
       "\n",
       "    .dataframe tbody tr th {\n",
       "        vertical-align: top;\n",
       "    }\n",
       "\n",
       "    .dataframe thead th {\n",
       "        text-align: right;\n",
       "    }\n",
       "</style>\n",
       "<table border=\"1\" class=\"dataframe\">\n",
       "  <thead>\n",
       "    <tr style=\"text-align: right;\">\n",
       "      <th></th>\n",
       "      <th>userID</th>\n",
       "      <th>movieID</th>\n",
       "      <th>rating</th>\n",
       "      <th>timestamp</th>\n",
       "    </tr>\n",
       "  </thead>\n",
       "  <tbody>\n",
       "    <tr>\n",
       "      <th>0</th>\n",
       "      <td>75</td>\n",
       "      <td>3</td>\n",
       "      <td>1.0</td>\n",
       "      <td>1162160236000</td>\n",
       "    </tr>\n",
       "    <tr>\n",
       "      <th>1</th>\n",
       "      <td>75</td>\n",
       "      <td>32</td>\n",
       "      <td>4.5</td>\n",
       "      <td>1162160624000</td>\n",
       "    </tr>\n",
       "    <tr>\n",
       "      <th>2</th>\n",
       "      <td>75</td>\n",
       "      <td>110</td>\n",
       "      <td>4.0</td>\n",
       "      <td>1162161008000</td>\n",
       "    </tr>\n",
       "    <tr>\n",
       "      <th>3</th>\n",
       "      <td>75</td>\n",
       "      <td>160</td>\n",
       "      <td>2.0</td>\n",
       "      <td>1162160212000</td>\n",
       "    </tr>\n",
       "    <tr>\n",
       "      <th>4</th>\n",
       "      <td>75</td>\n",
       "      <td>163</td>\n",
       "      <td>4.0</td>\n",
       "      <td>1162160970000</td>\n",
       "    </tr>\n",
       "  </tbody>\n",
       "</table>\n",
       "</div>"
      ],
      "text/plain": [
       "   userID  movieID  rating      timestamp\n",
       "0      75        3     1.0  1162160236000\n",
       "1      75       32     4.5  1162160624000\n",
       "2      75      110     4.0  1162161008000\n",
       "3      75      160     2.0  1162160212000\n",
       "4      75      163     4.0  1162160970000"
      ]
     },
     "execution_count": 4,
     "metadata": {},
     "output_type": "execute_result"
    }
   ],
   "source": [
    "ratings = pd.read_table(\"hetrec2011-movielens-2k-v2/user_ratedmovies-timestamps.dat\",  delimiter=\"\\t\", encoding=\"latin1\", na_values=[\"\\\\N\"])\n",
    "ratings.head()"
   ]
  },
  {
   "cell_type": "code",
   "execution_count": 5,
   "metadata": {},
   "outputs": [
    {
     "name": "stdout",
     "output_type": "stream",
     "text": [
      "<class 'pandas.core.frame.DataFrame'>\n",
      "RangeIndex: 855598 entries, 0 to 855597\n",
      "Data columns (total 4 columns):\n",
      " #   Column     Non-Null Count   Dtype  \n",
      "---  ------     --------------   -----  \n",
      " 0   userID     855598 non-null  int64  \n",
      " 1   movieID    855598 non-null  int64  \n",
      " 2   rating     855598 non-null  float64\n",
      " 3   timestamp  855598 non-null  int64  \n",
      "dtypes: float64(1), int64(3)\n",
      "memory usage: 26.1 MB\n"
     ]
    }
   ],
   "source": [
    "ratings.info()"
   ]
  },
  {
   "cell_type": "markdown",
   "metadata": {},
   "source": [
    "The user_ratedmovies-timestamps.dat file has 855598  rows and 4 variables. This file contains the ratings of the movies provided by each particular user. It also includes the timestamps when the ratings were provided."
   ]
  },
  {
   "cell_type": "code",
   "execution_count": 6,
   "metadata": {},
   "outputs": [
    {
     "data": {
      "text/html": [
       "<div>\n",
       "<style scoped>\n",
       "    .dataframe tbody tr th:only-of-type {\n",
       "        vertical-align: middle;\n",
       "    }\n",
       "\n",
       "    .dataframe tbody tr th {\n",
       "        vertical-align: top;\n",
       "    }\n",
       "\n",
       "    .dataframe thead th {\n",
       "        text-align: right;\n",
       "    }\n",
       "</style>\n",
       "<table border=\"1\" class=\"dataframe\">\n",
       "  <thead>\n",
       "    <tr style=\"text-align: right;\">\n",
       "      <th></th>\n",
       "      <th>movieID</th>\n",
       "      <th>genre</th>\n",
       "    </tr>\n",
       "  </thead>\n",
       "  <tbody>\n",
       "    <tr>\n",
       "      <th>0</th>\n",
       "      <td>1</td>\n",
       "      <td>Adventure</td>\n",
       "    </tr>\n",
       "    <tr>\n",
       "      <th>1</th>\n",
       "      <td>1</td>\n",
       "      <td>Animation</td>\n",
       "    </tr>\n",
       "    <tr>\n",
       "      <th>2</th>\n",
       "      <td>1</td>\n",
       "      <td>Children</td>\n",
       "    </tr>\n",
       "    <tr>\n",
       "      <th>3</th>\n",
       "      <td>1</td>\n",
       "      <td>Comedy</td>\n",
       "    </tr>\n",
       "    <tr>\n",
       "      <th>4</th>\n",
       "      <td>1</td>\n",
       "      <td>Fantasy</td>\n",
       "    </tr>\n",
       "  </tbody>\n",
       "</table>\n",
       "</div>"
      ],
      "text/plain": [
       "   movieID      genre\n",
       "0        1  Adventure\n",
       "1        1  Animation\n",
       "2        1   Children\n",
       "3        1     Comedy\n",
       "4        1    Fantasy"
      ]
     },
     "execution_count": 6,
     "metadata": {},
     "output_type": "execute_result"
    }
   ],
   "source": [
    "genres = pd.read_table(\"hetrec2011-movielens-2k-v2/movie_genres.dat\",  delimiter=\"\\t\", encoding=\"latin1\", na_values=[\"\\\\N\"])\n",
    "genres.head()"
   ]
  },
  {
   "cell_type": "code",
   "execution_count": 7,
   "metadata": {},
   "outputs": [
    {
     "name": "stdout",
     "output_type": "stream",
     "text": [
      "<class 'pandas.core.frame.DataFrame'>\n",
      "RangeIndex: 20809 entries, 0 to 20808\n",
      "Data columns (total 2 columns):\n",
      " #   Column   Non-Null Count  Dtype \n",
      "---  ------   --------------  ----- \n",
      " 0   movieID  20809 non-null  int64 \n",
      " 1   genre    20809 non-null  object\n",
      "dtypes: int64(1), object(1)\n",
      "memory usage: 325.3+ KB\n"
     ]
    }
   ],
   "source": [
    "genres.info()"
   ]
  },
  {
   "cell_type": "markdown",
   "metadata": {},
   "source": [
    "The movie_genre.dat file has 20809   rows and 2 variables. This file contains the genres of the movies."
   ]
  },
  {
   "cell_type": "markdown",
   "metadata": {},
   "source": [
    "## Analysis\n",
    "\n",
    "### 1. Comparing Ratings\n",
    "\n",
    "#### Distribution of Rotten Tomatoes Critic Rating and Mean rating by user from Movie Lense\n",
    "\n",
    "As you can see that rtAllCriticsRating has a min value of zero. zero rating value doesn't make sense so this can be replaced by np.NaN. Similar for other mentioned ratings too.\n",
    "\n",
    "##### All Critics Rating"
   ]
  },
  {
   "cell_type": "code",
   "execution_count": 8,
   "metadata": {},
   "outputs": [
    {
     "data": {
      "text/plain": [
       "count    8441.000000\n",
       "mean        6.068404\n",
       "std         1.526898\n",
       "min         1.200000\n",
       "25%         5.000000\n",
       "50%         6.200000\n",
       "75%         7.200000\n",
       "max         9.600000\n",
       "Name: rtAllCriticsRating, dtype: float64"
      ]
     },
     "execution_count": 8,
     "metadata": {},
     "output_type": "execute_result"
    }
   ],
   "source": [
    "movies.loc[movies[\"rtAllCriticsRating\"] == 0, \"rtAllCriticsRating\"] = np.nan\n",
    "movies[\"rtAllCriticsRating\"].describe()"
   ]
  },
  {
   "cell_type": "markdown",
   "metadata": {},
   "source": [
    "Mean is 6.07 and median is 6.20. The distribution is slightly skewed."
   ]
  },
  {
   "cell_type": "code",
   "execution_count": 9,
   "metadata": {},
   "outputs": [
    {
     "data": {
      "text/plain": [
       "Text(0.5, 1.0, 'Distribution of All Critics Rating')"
      ]
     },
     "execution_count": 9,
     "metadata": {},
     "output_type": "execute_result"
    },
    {
     "data": {
      "image/png": "[encoded data removed]",
      "text/plain": [
       "<Figure size 360x360 with 1 Axes>"
      ]
     },
     "metadata": {
      "needs_background": "light"
     },
     "output_type": "display_data"
    }
   ],
   "source": [
    "sns.displot(movies[\"rtAllCriticsRating\"])\n",
    "plt.xlabel(\"All Critics Rating\")\n",
    "plt.ylabel(\"Frequency of rating\")\n",
    "plt.title(\"Distribution of All Critics Rating\")"
   ]
  },
  {
   "cell_type": "markdown",
   "metadata": {},
   "source": [
    "The distribution is slightly left skewed.\n",
    "\n",
    "##### Top Critics Rating"
   ]
  },
  {
   "cell_type": "code",
   "execution_count": 10,
   "metadata": {},
   "outputs": [
    {
     "data": {
      "text/plain": [
       "count    4662.000000\n",
       "mean        5.930330\n",
       "std         1.534093\n",
       "min         1.600000\n",
       "25%         4.800000\n",
       "50%         6.100000\n",
       "75%         7.100000\n",
       "max        10.000000\n",
       "Name: rtTopCriticsRating, dtype: float64"
      ]
     },
     "execution_count": 10,
     "metadata": {},
     "output_type": "execute_result"
    }
   ],
   "source": [
    "movies.loc[movies[\"rtTopCriticsRating\"] == 0, \"rtTopCriticsRating\"] = np.nan\n",
    "movies[\"rtTopCriticsRating\"].describe()"
   ]
  },
  {
   "cell_type": "markdown",
   "metadata": {},
   "source": [
    "The mean is 5.93 and the median is 6.1. There is a slight skew in the distribution."
   ]
  },
  {
   "cell_type": "code",
   "execution_count": 11,
   "metadata": {},
   "outputs": [
    {
     "data": {
      "text/plain": [
       "Text(0.5, 1.0, 'Distribution of Top Critics Rating')"
      ]
     },
     "execution_count": 11,
     "metadata": {},
     "output_type": "execute_result"
    },
    {
     "data": {
      "image/png": "[encoded data removed]",
      "text/plain": [
       "<Figure size 360x360 with 1 Axes>"
      ]
     },
     "metadata": {
      "needs_background": "light"
     },
     "output_type": "display_data"
    }
   ],
   "source": [
    "sns.displot(movies[\"rtTopCriticsRating\"])\n",
    "plt.xlabel(\"Top Critics Rating\")\n",
    "plt.ylabel(\"Frequency of rating\")\n",
    "plt.title(\"Distribution of Top Critics Rating\")"
   ]
  },
  {
   "cell_type": "markdown",
   "metadata": {},
   "source": [
    "A slight left skew can be seen in the distribution.\n",
    "\n",
    "##### Audience Rating"
   ]
  },
  {
   "cell_type": "code",
   "execution_count": 12,
   "metadata": {},
   "outputs": [
    {
     "data": {
      "text/plain": [
       "count    7345.000000\n",
       "mean        3.389258\n",
       "std         0.454034\n",
       "min         1.500000\n",
       "25%         3.100000\n",
       "50%         3.400000\n",
       "75%         3.700000\n",
       "max         5.000000\n",
       "Name: rtAudienceRating, dtype: float64"
      ]
     },
     "execution_count": 12,
     "metadata": {},
     "output_type": "execute_result"
    }
   ],
   "source": [
    "movies.loc[movies[\"rtAudienceRating\"] == 0, \"rtAudienceRating\"] = np.nan\n",
    "movies[\"rtAudienceRating\"].describe()"
   ]
  },
  {
   "cell_type": "markdown",
   "metadata": {},
   "source": [
    "The mean is 3.39 and the median is 3.4. Both value are almost similar and indicates almost no skewness."
   ]
  },
  {
   "cell_type": "code",
   "execution_count": 13,
   "metadata": {},
   "outputs": [
    {
     "data": {
      "text/plain": [
       "Text(0.5, 1.0, 'Distribution of Audience Rating')"
      ]
     },
     "execution_count": 13,
     "metadata": {},
     "output_type": "execute_result"
    },
    {
     "data": {
      "image/png": "[encoded data removed]",
      "text/plain": [
       "<Figure size 360x360 with 1 Axes>"
      ]
     },
     "metadata": {
      "needs_background": "light"
     },
     "output_type": "display_data"
    }
   ],
   "source": [
    "sns.displot(movies[\"rtAudienceRating\"])\n",
    "plt.xlabel(\"Audience Rating\")\n",
    "plt.ylabel(\"Frequency of rating\")\n",
    "plt.title(\"Distribution of Audience Rating\")"
   ]
  },
  {
   "cell_type": "markdown",
   "metadata": {},
   "source": [
    "The distribution is almost symmetrical or normal.\n",
    "\n",
    "##### MovieLens Average User Rating"
   ]
  },
  {
   "cell_type": "code",
   "execution_count": 14,
   "metadata": {},
   "outputs": [
    {
     "data": {
      "text/plain": [
       "count    10109.000000\n",
       "mean         3.213406\n",
       "std          0.640538\n",
       "min          0.500000\n",
       "25%          2.851293\n",
       "50%          3.312415\n",
       "75%          3.681452\n",
       "max          5.000000\n",
       "Name: mlAvgRating, dtype: float64"
      ]
     },
     "execution_count": 14,
     "metadata": {},
     "output_type": "execute_result"
    }
   ],
   "source": [
    "movie_stats = ratings.groupby(\"movieID\")[\"rating\"].agg([\"count\", \"mean\"]).rename(columns={\n",
    "    \"count\": \"mlNumRatings\",\n",
    "    \"mean\": \"mlAvgRating\"\n",
    "})\n",
    "movie_info = movies.join(movie_stats)\n",
    "movie_info[\"mlNumRatings\"].fillna(0, inplace=True)\n",
    "movie_info.loc[movie_info[\"mlAvgRating\"] == 0, \"mlAvgRating\"] = np.nan\n",
    "movie_info[\"mlAvgRating\"].describe()"
   ]
  },
  {
   "cell_type": "markdown",
   "metadata": {},
   "source": [
    "The mean is 3.21 and the median is 3.31 indicating a skewed distribution."
   ]
  },
  {
   "cell_type": "code",
   "execution_count": 15,
   "metadata": {},
   "outputs": [
    {
     "data": {
      "text/plain": [
       "Text(0.5, 1.0, 'Distribution of Movie Lens Average User Rating')"
      ]
     },
     "execution_count": 15,
     "metadata": {},
     "output_type": "execute_result"
    },
    {
     "data": {
      "image/png": "[encoded data removed]",
      "text/plain": [
       "<Figure size 360x360 with 1 Axes>"
      ]
     },
     "metadata": {
      "needs_background": "light"
     },
     "output_type": "display_data"
    }
   ],
   "source": [
    "sns.displot(movie_info[\"mlAvgRating\"])\n",
    "plt.xlabel(\"Movie lens Average User Rating\")\n",
    "plt.ylabel(\"Frequency of rating\")\n",
    "plt.title(\"Distribution of Movie Lens Average User Rating\")"
   ]
  },
  {
   "cell_type": "markdown",
   "metadata": {},
   "source": [
    "The distribution is left skewed.\n",
    "\n",
    "#### Distribution of Rating difference of All critics and Top Critics ratings"
   ]
  },
  {
   "cell_type": "code",
   "execution_count": 16,
   "metadata": {},
   "outputs": [
    {
     "data": {
      "text/plain": [
       "count    4662.000000\n",
       "mean        0.094123\n",
       "std         0.549673\n",
       "min        -2.200000\n",
       "25%        -0.200000\n",
       "50%         0.100000\n",
       "75%         0.400000\n",
       "max         3.200000\n",
       "Name: all_top_diff, dtype: float64"
      ]
     },
     "execution_count": 16,
     "metadata": {},
     "output_type": "execute_result"
    }
   ],
   "source": [
    "movies[\"all_top_diff\"] = movies[\"rtAllCriticsRating\"] - movies[\"rtTopCriticsRating\"]\n",
    "movies[\"all_top_diff\"].describe()"
   ]
  },
  {
   "cell_type": "markdown",
   "metadata": {},
   "source": [
    "The value of mean and median is almost same indicating no skewness or a symmetrical distribution."
   ]
  },
  {
   "cell_type": "code",
   "execution_count": 17,
   "metadata": {},
   "outputs": [
    {
     "data": {
      "text/plain": [
       "Text(0.5, 1.0, 'Distribution of Difference in All and Top Critic rating')"
      ]
     },
     "execution_count": 17,
     "metadata": {},
     "output_type": "execute_result"
    },
    {
     "data": {
      "image/png": "[encoded data removed]",
      "text/plain": [
       "<Figure size 360x360 with 1 Axes>"
      ]
     },
     "metadata": {
      "needs_background": "light"
     },
     "output_type": "display_data"
    }
   ],
   "source": [
    "sns.displot(movies[\"all_top_diff\"])\n",
    "plt.xlabel(\"Diff in all and top critic rating\")\n",
    "plt.ylabel(\"Frequency of rating\")\n",
    "plt.title(\"Distribution of Difference in All and Top Critic rating\")"
   ]
  },
  {
   "cell_type": "markdown",
   "metadata": {},
   "source": [
    "Mean and Median of difference between All Critics Rating and Top Critics rating is almost equal and the distribution is not skewed. For most of the movies, both has similar values but there are movies with different ratings too.\n",
    "\n",
    "#### Paired T-tests\n",
    "\n",
    "1. Do the data indicate a difference between the ratings given to movies by all critics and those given by top critics?\n",
    "2. Do the data indicate a difference between the average audience rating RottenTomatoes users give to a movie and the mean rating MovieLens users give to it?\n"
   ]
  },
  {
   "cell_type": "code",
   "execution_count": 18,
   "metadata": {},
   "outputs": [
    {
     "data": {
      "text/plain": [
       "Ttest_relResult(statistic=11.691646881769836, pvalue=3.8130588929989856e-31)"
      ]
     },
     "execution_count": 18,
     "metadata": {},
     "output_type": "execute_result"
    }
   ],
   "source": [
    "sps.ttest_rel(movies[\"rtAllCriticsRating\"], movies[\"rtTopCriticsRating\"], nan_policy=\"omit\")"
   ]
  },
  {
   "cell_type": "markdown",
   "metadata": {},
   "source": [
    "The p value is less than 0.05. We reject the Null Hypothesis. There is a significant difference between All critic rating and Top critic rating."
   ]
  },
  {
   "cell_type": "code",
   "execution_count": 19,
   "metadata": {},
   "outputs": [
    {
     "data": {
      "text/plain": [
       "Ttest_relResult(statistic=27.766895811705442, pvalue=2.038842597476695e-161)"
      ]
     },
     "execution_count": 19,
     "metadata": {},
     "output_type": "execute_result"
    }
   ],
   "source": [
    "sps.ttest_rel(movie_info[\"rtAudienceRating\"], movie_info[\"mlAvgRating\"], nan_policy=\"omit\")\n"
   ]
  },
  {
   "cell_type": "markdown",
   "metadata": {},
   "source": [
    "The p value is less than 0.05. We reject the Null Hypothesis. There is a significant difference between Rotten Tomatoes Audience rating and Movie lens User rating.\n",
    "\n",
    "\n",
    "Paired T-tests is relatable because we are comparing two variables from the same sample i.e. two attribute of the same movies.\n",
    "\n",
    "\n"
   ]
  },
  {
   "cell_type": "markdown",
   "metadata": {},
   "source": [
    "### 2. Confidence Interval"
   ]
  },
  {
   "cell_type": "code",
   "execution_count": 20,
   "metadata": {},
   "outputs": [],
   "source": [
    "rng = np.random.default_rng(20200913)\n",
    "\n",
    "def mean_estimate(values):\n",
    "    obs = values.dropna() \n",
    "    mean = obs.mean()\n",
    "    se = obs.sem()\n",
    "    ci_width = 1.96 * se\n",
    "    if obs.count() == 0:\n",
    "        return\n",
    "    return pd.Series({\n",
    "        \"mean\": mean,\n",
    "        \"std\": obs.std(),\n",
    "        \"count\": obs.count(),\n",
    "        \"se\": obs.sem(),\n",
    "        \"ci_width\": ci_width,\n",
    "        \"ci_min\": mean - ci_width,\n",
    "        \"ci_max\": mean + ci_width\n",
    "    })\n",
    "\n",
    "def boot_mean_estimate(values, nboot=10000):\n",
    "    obs = values.dropna() \n",
    "    mean = np.mean(obs)\n",
    "    n = obs.count()\n",
    "    if n == 0:\n",
    "        return\n",
    "    boot_means = [np.mean(rng.choice(obs, size=n)) for i in range(nboot)]\n",
    "    ci_low, ci_high = np.quantile(boot_means, [0.025, 0.975])\n",
    "    return pd.Series({\n",
    "        \"mean\": mean,\n",
    "        \"count\": n,\n",
    "        \"ci_low\": ci_low,\n",
    "        \"ci_high\": ci_high\n",
    "    })"
   ]
  },
  {
   "cell_type": "markdown",
   "metadata": {},
   "source": [
    "#### Standard Error Method"
   ]
  },
  {
   "cell_type": "code",
   "execution_count": 21,
   "metadata": {},
   "outputs": [
    {
     "data": {
      "text/html": [
       "<div>\n",
       "<style scoped>\n",
       "    .dataframe tbody tr th:only-of-type {\n",
       "        vertical-align: middle;\n",
       "    }\n",
       "\n",
       "    .dataframe tbody tr th {\n",
       "        vertical-align: top;\n",
       "    }\n",
       "\n",
       "    .dataframe thead th {\n",
       "        text-align: right;\n",
       "    }\n",
       "</style>\n",
       "<table border=\"1\" class=\"dataframe\">\n",
       "  <thead>\n",
       "    <tr style=\"text-align: right;\">\n",
       "      <th></th>\n",
       "      <th>mean</th>\n",
       "      <th>std</th>\n",
       "      <th>count</th>\n",
       "      <th>se</th>\n",
       "      <th>ci_width</th>\n",
       "      <th>ci_min</th>\n",
       "      <th>ci_max</th>\n",
       "    </tr>\n",
       "    <tr>\n",
       "      <th>genre</th>\n",
       "      <th></th>\n",
       "      <th></th>\n",
       "      <th></th>\n",
       "      <th></th>\n",
       "      <th></th>\n",
       "      <th></th>\n",
       "      <th></th>\n",
       "    </tr>\n",
       "  </thead>\n",
       "  <tbody>\n",
       "    <tr>\n",
       "      <th>Film-Noir</th>\n",
       "      <td>7.253543</td>\n",
       "      <td>1.273527</td>\n",
       "      <td>127.0</td>\n",
       "      <td>0.113007</td>\n",
       "      <td>0.221494</td>\n",
       "      <td>7.032049</td>\n",
       "      <td>7.475038</td>\n",
       "    </tr>\n",
       "    <tr>\n",
       "      <th>Documentary</th>\n",
       "      <td>7.129641</td>\n",
       "      <td>0.979147</td>\n",
       "      <td>334.0</td>\n",
       "      <td>0.053577</td>\n",
       "      <td>0.105010</td>\n",
       "      <td>7.024631</td>\n",
       "      <td>7.234651</td>\n",
       "    </tr>\n",
       "    <tr>\n",
       "      <th>IMAX</th>\n",
       "      <td>6.950000</td>\n",
       "      <td>0.747440</td>\n",
       "      <td>16.0</td>\n",
       "      <td>0.186860</td>\n",
       "      <td>0.366246</td>\n",
       "      <td>6.583754</td>\n",
       "      <td>7.316246</td>\n",
       "    </tr>\n",
       "    <tr>\n",
       "      <th>War</th>\n",
       "      <td>6.753351</td>\n",
       "      <td>1.354775</td>\n",
       "      <td>388.0</td>\n",
       "      <td>0.068778</td>\n",
       "      <td>0.134805</td>\n",
       "      <td>6.618545</td>\n",
       "      <td>6.888156</td>\n",
       "    </tr>\n",
       "    <tr>\n",
       "      <th>Western</th>\n",
       "      <td>6.613472</td>\n",
       "      <td>1.394007</td>\n",
       "      <td>193.0</td>\n",
       "      <td>0.100343</td>\n",
       "      <td>0.196672</td>\n",
       "      <td>6.416800</td>\n",
       "      <td>6.810143</td>\n",
       "    </tr>\n",
       "    <tr>\n",
       "      <th>Musical</th>\n",
       "      <td>6.483573</td>\n",
       "      <td>1.319328</td>\n",
       "      <td>347.0</td>\n",
       "      <td>0.070825</td>\n",
       "      <td>0.138817</td>\n",
       "      <td>6.344756</td>\n",
       "      <td>6.622391</td>\n",
       "    </tr>\n",
       "    <tr>\n",
       "      <th>Drama</th>\n",
       "      <td>6.462657</td>\n",
       "      <td>1.337138</td>\n",
       "      <td>4306.0</td>\n",
       "      <td>0.020377</td>\n",
       "      <td>0.039939</td>\n",
       "      <td>6.422718</td>\n",
       "      <td>6.502596</td>\n",
       "    </tr>\n",
       "    <tr>\n",
       "      <th>Animation</th>\n",
       "      <td>6.343404</td>\n",
       "      <td>1.393417</td>\n",
       "      <td>235.0</td>\n",
       "      <td>0.090897</td>\n",
       "      <td>0.178157</td>\n",
       "      <td>6.165247</td>\n",
       "      <td>6.521561</td>\n",
       "    </tr>\n",
       "    <tr>\n",
       "      <th>Mystery</th>\n",
       "      <td>6.228571</td>\n",
       "      <td>1.488513</td>\n",
       "      <td>434.0</td>\n",
       "      <td>0.071451</td>\n",
       "      <td>0.140044</td>\n",
       "      <td>6.088528</td>\n",
       "      <td>6.368615</td>\n",
       "    </tr>\n",
       "    <tr>\n",
       "      <th>Romance</th>\n",
       "      <td>6.194744</td>\n",
       "      <td>1.432974</td>\n",
       "      <td>1427.0</td>\n",
       "      <td>0.037934</td>\n",
       "      <td>0.074350</td>\n",
       "      <td>6.120394</td>\n",
       "      <td>6.269094</td>\n",
       "    </tr>\n",
       "    <tr>\n",
       "      <th>Crime</th>\n",
       "      <td>6.161612</td>\n",
       "      <td>1.494892</td>\n",
       "      <td>943.0</td>\n",
       "      <td>0.048680</td>\n",
       "      <td>0.095414</td>\n",
       "      <td>6.066198</td>\n",
       "      <td>6.257025</td>\n",
       "    </tr>\n",
       "    <tr>\n",
       "      <th>Fantasy</th>\n",
       "      <td>6.023362</td>\n",
       "      <td>1.577800</td>\n",
       "      <td>458.0</td>\n",
       "      <td>0.073726</td>\n",
       "      <td>0.144502</td>\n",
       "      <td>5.878860</td>\n",
       "      <td>6.167865</td>\n",
       "    </tr>\n",
       "    <tr>\n",
       "      <th>Adventure</th>\n",
       "      <td>5.952876</td>\n",
       "      <td>1.519157</td>\n",
       "      <td>817.0</td>\n",
       "      <td>0.053149</td>\n",
       "      <td>0.104171</td>\n",
       "      <td>5.848705</td>\n",
       "      <td>6.057048</td>\n",
       "    </tr>\n",
       "    <tr>\n",
       "      <th>Thriller</th>\n",
       "      <td>5.856680</td>\n",
       "      <td>1.503450</td>\n",
       "      <td>1452.0</td>\n",
       "      <td>0.039455</td>\n",
       "      <td>0.077332</td>\n",
       "      <td>5.779348</td>\n",
       "      <td>5.934013</td>\n",
       "    </tr>\n",
       "    <tr>\n",
       "      <th>Children</th>\n",
       "      <td>5.779864</td>\n",
       "      <td>1.532010</td>\n",
       "      <td>442.0</td>\n",
       "      <td>0.072870</td>\n",
       "      <td>0.142826</td>\n",
       "      <td>5.637039</td>\n",
       "      <td>5.922690</td>\n",
       "    </tr>\n",
       "    <tr>\n",
       "      <th>Comedy</th>\n",
       "      <td>5.732409</td>\n",
       "      <td>1.546115</td>\n",
       "      <td>3030.0</td>\n",
       "      <td>0.028088</td>\n",
       "      <td>0.055052</td>\n",
       "      <td>5.677357</td>\n",
       "      <td>5.787462</td>\n",
       "    </tr>\n",
       "    <tr>\n",
       "      <th>Action</th>\n",
       "      <td>5.574497</td>\n",
       "      <td>1.560583</td>\n",
       "      <td>1192.0</td>\n",
       "      <td>0.045201</td>\n",
       "      <td>0.088594</td>\n",
       "      <td>5.485903</td>\n",
       "      <td>5.663091</td>\n",
       "    </tr>\n",
       "    <tr>\n",
       "      <th>Sci-Fi</th>\n",
       "      <td>5.567601</td>\n",
       "      <td>1.554942</td>\n",
       "      <td>571.0</td>\n",
       "      <td>0.065072</td>\n",
       "      <td>0.127542</td>\n",
       "      <td>5.440059</td>\n",
       "      <td>5.695142</td>\n",
       "    </tr>\n",
       "    <tr>\n",
       "      <th>Horror</th>\n",
       "      <td>5.471046</td>\n",
       "      <td>1.601864</td>\n",
       "      <td>784.0</td>\n",
       "      <td>0.057209</td>\n",
       "      <td>0.112130</td>\n",
       "      <td>5.358915</td>\n",
       "      <td>5.583176</td>\n",
       "    </tr>\n",
       "  </tbody>\n",
       "</table>\n",
       "</div>"
      ],
      "text/plain": [
       "                 mean       std   count        se  ci_width    ci_min  \\\n",
       "genre                                                                   \n",
       "Film-Noir    7.253543  1.273527   127.0  0.113007  0.221494  7.032049   \n",
       "Documentary  7.129641  0.979147   334.0  0.053577  0.105010  7.024631   \n",
       "IMAX         6.950000  0.747440    16.0  0.186860  0.366246  6.583754   \n",
       "War          6.753351  1.354775   388.0  0.068778  0.134805  6.618545   \n",
       "Western      6.613472  1.394007   193.0  0.100343  0.196672  6.416800   \n",
       "Musical      6.483573  1.319328   347.0  0.070825  0.138817  6.344756   \n",
       "Drama        6.462657  1.337138  4306.0  0.020377  0.039939  6.422718   \n",
       "Animation    6.343404  1.393417   235.0  0.090897  0.178157  6.165247   \n",
       "Mystery      6.228571  1.488513   434.0  0.071451  0.140044  6.088528   \n",
       "Romance      6.194744  1.432974  1427.0  0.037934  0.074350  6.120394   \n",
       "Crime        6.161612  1.494892   943.0  0.048680  0.095414  6.066198   \n",
       "Fantasy      6.023362  1.577800   458.0  0.073726  0.144502  5.878860   \n",
       "Adventure    5.952876  1.519157   817.0  0.053149  0.104171  5.848705   \n",
       "Thriller     5.856680  1.503450  1452.0  0.039455  0.077332  5.779348   \n",
       "Children     5.779864  1.532010   442.0  0.072870  0.142826  5.637039   \n",
       "Comedy       5.732409  1.546115  3030.0  0.028088  0.055052  5.677357   \n",
       "Action       5.574497  1.560583  1192.0  0.045201  0.088594  5.485903   \n",
       "Sci-Fi       5.567601  1.554942   571.0  0.065072  0.127542  5.440059   \n",
       "Horror       5.471046  1.601864   784.0  0.057209  0.112130  5.358915   \n",
       "\n",
       "               ci_max  \n",
       "genre                  \n",
       "Film-Noir    7.475038  \n",
       "Documentary  7.234651  \n",
       "IMAX         7.316246  \n",
       "War          6.888156  \n",
       "Western      6.810143  \n",
       "Musical      6.622391  \n",
       "Drama        6.502596  \n",
       "Animation    6.521561  \n",
       "Mystery      6.368615  \n",
       "Romance      6.269094  \n",
       "Crime        6.257025  \n",
       "Fantasy      6.167865  \n",
       "Adventure    6.057048  \n",
       "Thriller     5.934013  \n",
       "Children     5.922690  \n",
       "Comedy       5.787462  \n",
       "Action       5.663091  \n",
       "Sci-Fi       5.695142  \n",
       "Horror       5.583176  "
      ]
     },
     "execution_count": 21,
     "metadata": {},
     "output_type": "execute_result"
    }
   ],
   "source": [
    "movies_genre = genres.join(movie_info, on=\"movieID\")\n",
    "movies_by_genre = movies_genre.groupby([\"genre\"])\n",
    "movies_by_genre[\"rtAllCriticsRating\"].apply(mean_estimate).unstack().sort_values(\"mean\", ascending=False)\n"
   ]
  },
  {
   "cell_type": "markdown",
   "metadata": {},
   "source": [
    "Does it look like the top two genres have different mean critic ratings? Does it look like the top and bottom genres have different mean critic ratings? Defend your answers using the confidence intervals.\n",
    "\n",
    "The top two genres are Flim-Noir and Documentry. The sample means from the above data for Film-Noir is 7.25 and Documentary is 7.12 which is different. But the confidence interval for these two genres overlaps. As the CI interval of the two genre overlaps, there is a chance that the actual mean of these two genre can be same some times. \n",
    "\n",
    "The top and bottom genre is Film-Noir with the sample mean 7.25 and Horror with the sample mean 5.47. The confidence interval of these 2 genre are far apart and it can be said that the actual mean of these 2 genre will be different most of the time.\n"
   ]
  },
  {
   "cell_type": "markdown",
   "metadata": {},
   "source": [
    "#### Bootstraping"
   ]
  },
  {
   "cell_type": "code",
   "execution_count": 22,
   "metadata": {},
   "outputs": [
    {
     "data": {
      "text/html": [
       "<div>\n",
       "<style scoped>\n",
       "    .dataframe tbody tr th:only-of-type {\n",
       "        vertical-align: middle;\n",
       "    }\n",
       "\n",
       "    .dataframe tbody tr th {\n",
       "        vertical-align: top;\n",
       "    }\n",
       "\n",
       "    .dataframe thead th {\n",
       "        text-align: right;\n",
       "    }\n",
       "</style>\n",
       "<table border=\"1\" class=\"dataframe\">\n",
       "  <thead>\n",
       "    <tr style=\"text-align: right;\">\n",
       "      <th></th>\n",
       "      <th>mean</th>\n",
       "      <th>count</th>\n",
       "      <th>ci_low</th>\n",
       "      <th>ci_high</th>\n",
       "    </tr>\n",
       "    <tr>\n",
       "      <th>genre</th>\n",
       "      <th></th>\n",
       "      <th></th>\n",
       "      <th></th>\n",
       "      <th></th>\n",
       "    </tr>\n",
       "  </thead>\n",
       "  <tbody>\n",
       "    <tr>\n",
       "      <th>Film-Noir</th>\n",
       "      <td>7.253543</td>\n",
       "      <td>127.0</td>\n",
       "      <td>7.029921</td>\n",
       "      <td>7.467717</td>\n",
       "    </tr>\n",
       "    <tr>\n",
       "      <th>Documentary</th>\n",
       "      <td>7.129641</td>\n",
       "      <td>334.0</td>\n",
       "      <td>7.020951</td>\n",
       "      <td>7.235030</td>\n",
       "    </tr>\n",
       "    <tr>\n",
       "      <th>IMAX</th>\n",
       "      <td>6.950000</td>\n",
       "      <td>16.0</td>\n",
       "      <td>6.606250</td>\n",
       "      <td>7.306250</td>\n",
       "    </tr>\n",
       "    <tr>\n",
       "      <th>War</th>\n",
       "      <td>6.753351</td>\n",
       "      <td>388.0</td>\n",
       "      <td>6.618557</td>\n",
       "      <td>6.887113</td>\n",
       "    </tr>\n",
       "    <tr>\n",
       "      <th>Western</th>\n",
       "      <td>6.613472</td>\n",
       "      <td>193.0</td>\n",
       "      <td>6.412435</td>\n",
       "      <td>6.805699</td>\n",
       "    </tr>\n",
       "    <tr>\n",
       "      <th>Musical</th>\n",
       "      <td>6.483573</td>\n",
       "      <td>347.0</td>\n",
       "      <td>6.345814</td>\n",
       "      <td>6.621909</td>\n",
       "    </tr>\n",
       "    <tr>\n",
       "      <th>Drama</th>\n",
       "      <td>6.462657</td>\n",
       "      <td>4306.0</td>\n",
       "      <td>6.422734</td>\n",
       "      <td>6.502323</td>\n",
       "    </tr>\n",
       "    <tr>\n",
       "      <th>Animation</th>\n",
       "      <td>6.343404</td>\n",
       "      <td>235.0</td>\n",
       "      <td>6.167660</td>\n",
       "      <td>6.519574</td>\n",
       "    </tr>\n",
       "    <tr>\n",
       "      <th>Mystery</th>\n",
       "      <td>6.228571</td>\n",
       "      <td>434.0</td>\n",
       "      <td>6.088249</td>\n",
       "      <td>6.367972</td>\n",
       "    </tr>\n",
       "    <tr>\n",
       "      <th>Romance</th>\n",
       "      <td>6.194744</td>\n",
       "      <td>1427.0</td>\n",
       "      <td>6.119690</td>\n",
       "      <td>6.270922</td>\n",
       "    </tr>\n",
       "    <tr>\n",
       "      <th>Crime</th>\n",
       "      <td>6.161612</td>\n",
       "      <td>943.0</td>\n",
       "      <td>6.067017</td>\n",
       "      <td>6.256734</td>\n",
       "    </tr>\n",
       "    <tr>\n",
       "      <th>Fantasy</th>\n",
       "      <td>6.023362</td>\n",
       "      <td>458.0</td>\n",
       "      <td>5.879907</td>\n",
       "      <td>6.170311</td>\n",
       "    </tr>\n",
       "    <tr>\n",
       "      <th>Adventure</th>\n",
       "      <td>5.952876</td>\n",
       "      <td>817.0</td>\n",
       "      <td>5.847858</td>\n",
       "      <td>6.056429</td>\n",
       "    </tr>\n",
       "    <tr>\n",
       "      <th>Thriller</th>\n",
       "      <td>5.856680</td>\n",
       "      <td>1452.0</td>\n",
       "      <td>5.779475</td>\n",
       "      <td>5.934160</td>\n",
       "    </tr>\n",
       "    <tr>\n",
       "      <th>Children</th>\n",
       "      <td>5.779864</td>\n",
       "      <td>442.0</td>\n",
       "      <td>5.635294</td>\n",
       "      <td>5.919457</td>\n",
       "    </tr>\n",
       "    <tr>\n",
       "      <th>Comedy</th>\n",
       "      <td>5.732409</td>\n",
       "      <td>3030.0</td>\n",
       "      <td>5.677855</td>\n",
       "      <td>5.786272</td>\n",
       "    </tr>\n",
       "    <tr>\n",
       "      <th>Action</th>\n",
       "      <td>5.574497</td>\n",
       "      <td>1192.0</td>\n",
       "      <td>5.487408</td>\n",
       "      <td>5.662334</td>\n",
       "    </tr>\n",
       "    <tr>\n",
       "      <th>Sci-Fi</th>\n",
       "      <td>5.567601</td>\n",
       "      <td>571.0</td>\n",
       "      <td>5.438529</td>\n",
       "      <td>5.694225</td>\n",
       "    </tr>\n",
       "    <tr>\n",
       "      <th>Horror</th>\n",
       "      <td>5.471046</td>\n",
       "      <td>784.0</td>\n",
       "      <td>5.356626</td>\n",
       "      <td>5.583039</td>\n",
       "    </tr>\n",
       "  </tbody>\n",
       "</table>\n",
       "</div>"
      ],
      "text/plain": [
       "                 mean   count    ci_low   ci_high\n",
       "genre                                            \n",
       "Film-Noir    7.253543   127.0  7.029921  7.467717\n",
       "Documentary  7.129641   334.0  7.020951  7.235030\n",
       "IMAX         6.950000    16.0  6.606250  7.306250\n",
       "War          6.753351   388.0  6.618557  6.887113\n",
       "Western      6.613472   193.0  6.412435  6.805699\n",
       "Musical      6.483573   347.0  6.345814  6.621909\n",
       "Drama        6.462657  4306.0  6.422734  6.502323\n",
       "Animation    6.343404   235.0  6.167660  6.519574\n",
       "Mystery      6.228571   434.0  6.088249  6.367972\n",
       "Romance      6.194744  1427.0  6.119690  6.270922\n",
       "Crime        6.161612   943.0  6.067017  6.256734\n",
       "Fantasy      6.023362   458.0  5.879907  6.170311\n",
       "Adventure    5.952876   817.0  5.847858  6.056429\n",
       "Thriller     5.856680  1452.0  5.779475  5.934160\n",
       "Children     5.779864   442.0  5.635294  5.919457\n",
       "Comedy       5.732409  3030.0  5.677855  5.786272\n",
       "Action       5.574497  1192.0  5.487408  5.662334\n",
       "Sci-Fi       5.567601   571.0  5.438529  5.694225\n",
       "Horror       5.471046   784.0  5.356626  5.583039"
      ]
     },
     "execution_count": 22,
     "metadata": {},
     "output_type": "execute_result"
    }
   ],
   "source": [
    "movies_by_genre[\"rtAllCriticsRating\"].apply(boot_mean_estimate).unstack().sort_values(\"mean\", ascending=False)"
   ]
  },
  {
   "cell_type": "markdown",
   "metadata": {},
   "source": [
    "Does this look the same as the standard error CIs?\n",
    "\n",
    "This CI looks almost similar to that of Standard Errors CI with very small differences in value that will get ingored if we round the value to 2 or 3 decimal places.\n",
    "\n"
   ]
  },
  {
   "cell_type": "markdown",
   "metadata": {},
   "source": [
    "### 3. Popularity and Bootstraps"
   ]
  },
  {
   "cell_type": "code",
   "execution_count": 23,
   "metadata": {},
   "outputs": [
    {
     "data": {
      "text/plain": [
       "(45.0, 0.0)"
      ]
     },
     "execution_count": 23,
     "metadata": {},
     "output_type": "execute_result"
    }
   ],
   "source": [
    "def boot_ind_median(s1, s2, nboot=10000):\n",
    "    obs1 = s1.dropna()\n",
    "    obs2 = s2.dropna()\n",
    "    n1 = len(obs1)\n",
    "    n2 = len(obs2)\n",
    "    pool = pd.concat([obs1, obs2])\n",
    "    md = np.median(obs1) - np.median(obs2)\n",
    "    \n",
    "    b1 = np.array([np.median(rng.choice(pool, size=n1)) for i in range(nboot)])\n",
    "    b2 = np.array([np.median(rng.choice(pool, size=n2)) for i in range(nboot)])\n",
    "    \n",
    "    return md, np.mean(np.abs(b1 - b2) >= np.abs(md))\n",
    "\n",
    "def boot_ind_mean(s1, s2, nboot=10000):\n",
    "    obs1 = s1.dropna()\n",
    "    obs2 = s2.dropna()\n",
    "    n1 = len(obs1)\n",
    "    n2 = len(obs2)\n",
    "    pool = pd.concat([obs1, obs2])\n",
    "    md = np.mean(obs1) - np.mean(obs2)\n",
    "    \n",
    "    b1 = np.array([np.mean(rng.choice(pool, size=n1)) for i in range(nboot)])\n",
    "    b2 = np.array([np.mean(rng.choice(pool, size=n2)) for i in range(nboot)])\n",
    "    \n",
    "    return md, np.mean(np.abs(b1 - b2) >= np.abs(md))\n",
    "\n",
    "\n",
    "movies_info_genre = genres.join(movie_info, on=\"movieID\")\n",
    "action = movies_info_genre[movies_info_genre[\"genre\"] == \"Action\"]\n",
    "documentary = movies_info_genre[movies_info_genre[\"genre\"] == \"Documentary\"]\n",
    "boot_ind_median(action[\"mlNumRatings\"], documentary[\"mlNumRatings\"])"
   ]
  },
  {
   "cell_type": "code",
   "execution_count": 24,
   "metadata": {},
   "outputs": [
    {
     "data": {
      "text/plain": [
       "56.0"
      ]
     },
     "execution_count": 24,
     "metadata": {},
     "output_type": "execute_result"
    }
   ],
   "source": [
    "action[\"mlNumRatings\"].median()"
   ]
  },
  {
   "cell_type": "code",
   "execution_count": 25,
   "metadata": {},
   "outputs": [
    {
     "data": {
      "text/plain": [
       "11.0"
      ]
     },
     "execution_count": 25,
     "metadata": {},
     "output_type": "execute_result"
    }
   ],
   "source": [
    "documentary[\"mlNumRatings\"].median()"
   ]
  },
  {
   "cell_type": "markdown",
   "metadata": {},
   "source": [
    "The p values is less than 0.05. We reject the null hypothesis that  action and documentary movies have same median number of ratings. The median number of ratings for action movie is 56 and for documentary is 11."
   ]
  },
  {
   "cell_type": "code",
   "execution_count": 26,
   "metadata": {},
   "outputs": [
    {
     "data": {
      "text/plain": [
       "(4866.0, 0.0)"
      ]
     },
     "execution_count": 26,
     "metadata": {},
     "output_type": "execute_result"
    }
   ],
   "source": [
    "action = movies_info_genre[movies_info_genre[\"genre\"] == \"Action\"]\n",
    "documentary = movies_info_genre[movies_info_genre[\"genre\"] == \"Documentary\"]\n",
    "boot_ind_median(action[\"rtAudienceNumRatings\"], documentary[\"rtAudienceNumRatings\"])"
   ]
  },
  {
   "cell_type": "code",
   "execution_count": 27,
   "metadata": {},
   "outputs": [
    {
     "data": {
      "text/plain": [
       "5353.0"
      ]
     },
     "execution_count": 27,
     "metadata": {},
     "output_type": "execute_result"
    }
   ],
   "source": [
    "action[\"rtAudienceNumRatings\"].median()"
   ]
  },
  {
   "cell_type": "code",
   "execution_count": 28,
   "metadata": {},
   "outputs": [
    {
     "data": {
      "text/plain": [
       "487.0"
      ]
     },
     "execution_count": 28,
     "metadata": {},
     "output_type": "execute_result"
    }
   ],
   "source": [
    "documentary[\"rtAudienceNumRatings\"].median()"
   ]
  },
  {
   "cell_type": "markdown",
   "metadata": {},
   "source": [
    "The p values is less than 0.05. We reject the null hypothesis that  action and documentary movies have same median number of ratings. The median number of ratings for action movie is 5353 and for documentary is 487."
   ]
  },
  {
   "cell_type": "code",
   "execution_count": 29,
   "metadata": {},
   "outputs": [
    {
     "data": {
      "text/plain": [
       "(-1.5551440742675675, 0.0)"
      ]
     },
     "execution_count": 29,
     "metadata": {},
     "output_type": "execute_result"
    }
   ],
   "source": [
    "boot_ind_mean(action[\"rtAllCriticsRating\"], documentary[\"rtAllCriticsRating\"])"
   ]
  },
  {
   "cell_type": "code",
   "execution_count": 30,
   "metadata": {},
   "outputs": [
    {
     "data": {
      "text/plain": [
       "Ttest_indResult(statistic=-22.185618813162428, pvalue=1.748825424429425e-86)"
      ]
     },
     "execution_count": 30,
     "metadata": {},
     "output_type": "execute_result"
    }
   ],
   "source": [
    "sps.ttest_ind(action[\"rtAllCriticsRating\"], documentary[\"rtAllCriticsRating\"], nan_policy=\"omit\", equal_var=False)"
   ]
  },
  {
   "cell_type": "code",
   "execution_count": 31,
   "metadata": {},
   "outputs": [
    {
     "data": {
      "text/plain": [
       "count    1192.000000\n",
       "mean        5.574497\n",
       "std         1.560583\n",
       "min         1.400000\n",
       "25%         4.400000\n",
       "50%         5.600000\n",
       "75%         6.725000\n",
       "max         9.200000\n",
       "Name: rtAllCriticsRating, dtype: float64"
      ]
     },
     "execution_count": 31,
     "metadata": {},
     "output_type": "execute_result"
    }
   ],
   "source": [
    "action[\"rtAllCriticsRating\"].describe()"
   ]
  },
  {
   "cell_type": "code",
   "execution_count": 32,
   "metadata": {},
   "outputs": [
    {
     "data": {
      "text/plain": [
       "count    334.000000\n",
       "mean       7.129641\n",
       "std        0.979147\n",
       "min        2.600000\n",
       "25%        6.600000\n",
       "50%        7.300000\n",
       "75%        7.800000\n",
       "max        9.100000\n",
       "Name: rtAllCriticsRating, dtype: float64"
      ]
     },
     "execution_count": 32,
     "metadata": {},
     "output_type": "execute_result"
    }
   ],
   "source": [
    "documentary[\"rtAllCriticsRating\"].describe()"
   ]
  },
  {
   "cell_type": "markdown",
   "metadata": {},
   "source": [
    "The p values is less than 0.05. We reject the null hypothesis that  action and documentary movies have same mean All Critics ratings."
   ]
  },
  {
   "cell_type": "markdown",
   "metadata": {},
   "source": [
    "## Reflection\n",
    "Write 2 paragraphs about what you have learned through this assignment.\n",
    "\n",
    "The primary purpose of this assignment was to learn about getting the data, processing and formatting them, visualizing the information, and inferring conclusions. The data set used for this assignment was HETREC Movie Data that contains movies and the ratings and scores provided by critics and audiences from IMDB and Rotten Tomatoes. It links these data with the MovieLens data set. \n",
    "\n",
    "The first thing we learned from this assignment is about the data. Usually, the data set will contain separate files that hold information, and these data need to be joined or merged to get the complete report. The value that the variables hold has a different meaning.  A zero in the number of ratings might have a sense, but the same zero in rating value has no meaning. So before using data for calculation and inference, it must be preprocessed.  Handling missing data is very much crucial as it might lead to a misleading result. The other thing we learned is about the different types of T-test, such as One-sample  T-test, Two-sample T-tests, and Paired T-tests for testing hypotheses. These T-tests are crucial for inferring the information about the whole population given a sample population. Also, the how to use and when to use the tests. We learned about Confidence Interval that a certain percent of the time, with sampling and computational procedures, the interval computed will hold the actual mean value. We learned about Bootstrapping mechanism, i.e., resampling a sample to save repetitive and expensive sampling from the existing population.  "
   ]
  }
 ],
 "metadata": {
  "interpreter": {
   "hash": "f58de355eaeeab151c79699a18b610ce44b8eeda43c73b39c5888f617d036b90"
  },
  "kernelspec": {
   "display_name": "Python 3.8.8 64-bit ('base': conda)",
   "name": "python3"
  },
  "language_info": {
   "codemirror_mode": {
    "name": "ipython",
    "version": 3
   },
   "file_extension": ".py",
   "mimetype": "text/x-python",
   "name": "python",
   "nbconvert_exporter": "python",
   "pygments_lexer": "ipython3",
   "version": "3.8.8"
  }
 },
 "nbformat": 4,
 "nbformat_minor": 2
}
