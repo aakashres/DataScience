{
 "cells": [
  {
   "cell_type": "markdown",
   "metadata": {},
   "source": [
    "# Week 4 Probability \n",
    "Team Superb\n",
    "* Aakash\n",
    "* Amanda\n",
    "* Aaron\n",
    "* Sara"
   ]
  },
  {
   "cell_type": "code",
   "execution_count": 28,
   "metadata": {},
   "outputs": [],
   "source": [
    "import pandas as pd\n",
    "import numpy as np\n",
    "import matplotlib.pyplot as plt"
   ]
  },
  {
   "cell_type": "code",
   "execution_count": 29,
   "metadata": {},
   "outputs": [
    {
     "data": {
      "text/html": [
       "<div>\n",
       "<style scoped>\n",
       "    .dataframe tbody tr th:only-of-type {\n",
       "        vertical-align: middle;\n",
       "    }\n",
       "\n",
       "    .dataframe tbody tr th {\n",
       "        vertical-align: top;\n",
       "    }\n",
       "\n",
       "    .dataframe thead th {\n",
       "        text-align: right;\n",
       "    }\n",
       "</style>\n",
       "<table border=\"1\" class=\"dataframe\">\n",
       "  <thead>\n",
       "    <tr style=\"text-align: right;\">\n",
       "      <th></th>\n",
       "      <th>Selected</th>\n",
       "      <th>LoanNr_ChkDgt</th>\n",
       "      <th>Name</th>\n",
       "      <th>City</th>\n",
       "      <th>State</th>\n",
       "      <th>Zip</th>\n",
       "      <th>Bank</th>\n",
       "      <th>BankState</th>\n",
       "      <th>NAICS</th>\n",
       "      <th>ApprovalDate</th>\n",
       "      <th>...</th>\n",
       "      <th>ChgOffPrinGr</th>\n",
       "      <th>GrAppv</th>\n",
       "      <th>SBA_Appv</th>\n",
       "      <th>New</th>\n",
       "      <th>RealEstate</th>\n",
       "      <th>Portion</th>\n",
       "      <th>Recession</th>\n",
       "      <th>daysterm</th>\n",
       "      <th>xx</th>\n",
       "      <th>Default</th>\n",
       "    </tr>\n",
       "  </thead>\n",
       "  <tbody>\n",
       "    <tr>\n",
       "      <th>0</th>\n",
       "      <td>0</td>\n",
       "      <td>1004285007</td>\n",
       "      <td>SIMPLEX OFFICE SOLUTIONS</td>\n",
       "      <td>ANAHEIM</td>\n",
       "      <td>CA</td>\n",
       "      <td>92801</td>\n",
       "      <td>CALIFORNIA BANK &amp; TRUST</td>\n",
       "      <td>CA</td>\n",
       "      <td>532420</td>\n",
       "      <td>15074</td>\n",
       "      <td>...</td>\n",
       "      <td>0</td>\n",
       "      <td>30000</td>\n",
       "      <td>15000</td>\n",
       "      <td>0</td>\n",
       "      <td>0</td>\n",
       "      <td>0.5</td>\n",
       "      <td>0</td>\n",
       "      <td>1080</td>\n",
       "      <td>16175.0</td>\n",
       "      <td>0</td>\n",
       "    </tr>\n",
       "    <tr>\n",
       "      <th>1</th>\n",
       "      <td>1</td>\n",
       "      <td>1004535010</td>\n",
       "      <td>DREAM HOME REALTY</td>\n",
       "      <td>TORRANCE</td>\n",
       "      <td>CA</td>\n",
       "      <td>90505</td>\n",
       "      <td>CALIFORNIA BANK &amp; TRUST</td>\n",
       "      <td>CA</td>\n",
       "      <td>531210</td>\n",
       "      <td>15130</td>\n",
       "      <td>...</td>\n",
       "      <td>0</td>\n",
       "      <td>30000</td>\n",
       "      <td>15000</td>\n",
       "      <td>0</td>\n",
       "      <td>0</td>\n",
       "      <td>0.5</td>\n",
       "      <td>1</td>\n",
       "      <td>1680</td>\n",
       "      <td>17658.0</td>\n",
       "      <td>0</td>\n",
       "    </tr>\n",
       "    <tr>\n",
       "      <th>2</th>\n",
       "      <td>0</td>\n",
       "      <td>1005005006</td>\n",
       "      <td>Winset, Inc. dba Bankers Hill</td>\n",
       "      <td>SAN DIEGO</td>\n",
       "      <td>CA</td>\n",
       "      <td>92103</td>\n",
       "      <td>CALIFORNIA BANK &amp; TRUST</td>\n",
       "      <td>CA</td>\n",
       "      <td>531210</td>\n",
       "      <td>15188</td>\n",
       "      <td>...</td>\n",
       "      <td>0</td>\n",
       "      <td>30000</td>\n",
       "      <td>15000</td>\n",
       "      <td>0</td>\n",
       "      <td>0</td>\n",
       "      <td>0.5</td>\n",
       "      <td>0</td>\n",
       "      <td>1080</td>\n",
       "      <td>16298.0</td>\n",
       "      <td>0</td>\n",
       "    </tr>\n",
       "    <tr>\n",
       "      <th>3</th>\n",
       "      <td>1</td>\n",
       "      <td>1005535001</td>\n",
       "      <td>Shiva Management</td>\n",
       "      <td>SAN DIEGO</td>\n",
       "      <td>CA</td>\n",
       "      <td>92108</td>\n",
       "      <td>CALIFORNIA BANK &amp; TRUST</td>\n",
       "      <td>CA</td>\n",
       "      <td>531312</td>\n",
       "      <td>15719</td>\n",
       "      <td>...</td>\n",
       "      <td>0</td>\n",
       "      <td>50000</td>\n",
       "      <td>25000</td>\n",
       "      <td>0</td>\n",
       "      <td>0</td>\n",
       "      <td>0.5</td>\n",
       "      <td>0</td>\n",
       "      <td>1080</td>\n",
       "      <td>16816.0</td>\n",
       "      <td>0</td>\n",
       "    </tr>\n",
       "    <tr>\n",
       "      <th>4</th>\n",
       "      <td>1</td>\n",
       "      <td>1005996006</td>\n",
       "      <td>GOLD CROWN HOME LOANS, INC</td>\n",
       "      <td>LOS ANGELES</td>\n",
       "      <td>CA</td>\n",
       "      <td>91345</td>\n",
       "      <td>SBA - EDF ENFORCEMENT ACTION</td>\n",
       "      <td>CO</td>\n",
       "      <td>531390</td>\n",
       "      <td>16840</td>\n",
       "      <td>...</td>\n",
       "      <td>0</td>\n",
       "      <td>343000</td>\n",
       "      <td>343000</td>\n",
       "      <td>0</td>\n",
       "      <td>1</td>\n",
       "      <td>1.0</td>\n",
       "      <td>0</td>\n",
       "      <td>7200</td>\n",
       "      <td>24103.0</td>\n",
       "      <td>0</td>\n",
       "    </tr>\n",
       "  </tbody>\n",
       "</table>\n",
       "<p>5 rows × 35 columns</p>\n",
       "</div>"
      ],
      "text/plain": [
       "   Selected  LoanNr_ChkDgt                           Name         City State  \\\n",
       "0         0     1004285007       SIMPLEX OFFICE SOLUTIONS      ANAHEIM    CA   \n",
       "1         1     1004535010              DREAM HOME REALTY     TORRANCE    CA   \n",
       "2         0     1005005006  Winset, Inc. dba Bankers Hill    SAN DIEGO    CA   \n",
       "3         1     1005535001               Shiva Management    SAN DIEGO    CA   \n",
       "4         1     1005996006     GOLD CROWN HOME LOANS, INC  LOS ANGELES    CA   \n",
       "\n",
       "     Zip                          Bank BankState   NAICS  ApprovalDate  ...  \\\n",
       "0  92801       CALIFORNIA BANK & TRUST        CA  532420         15074  ...   \n",
       "1  90505       CALIFORNIA BANK & TRUST        CA  531210         15130  ...   \n",
       "2  92103       CALIFORNIA BANK & TRUST        CA  531210         15188  ...   \n",
       "3  92108       CALIFORNIA BANK & TRUST        CA  531312         15719  ...   \n",
       "4  91345  SBA - EDF ENFORCEMENT ACTION        CO  531390         16840  ...   \n",
       "\n",
       "   ChgOffPrinGr  GrAppv  SBA_Appv  New  RealEstate  Portion  Recession  \\\n",
       "0             0   30000     15000    0           0      0.5          0   \n",
       "1             0   30000     15000    0           0      0.5          1   \n",
       "2             0   30000     15000    0           0      0.5          0   \n",
       "3             0   50000     25000    0           0      0.5          0   \n",
       "4             0  343000    343000    0           1      1.0          0   \n",
       "\n",
       "   daysterm       xx Default  \n",
       "0      1080  16175.0       0  \n",
       "1      1680  17658.0       0  \n",
       "2      1080  16298.0       0  \n",
       "3      1080  16816.0       0  \n",
       "4      7200  24103.0       0  \n",
       "\n",
       "[5 rows x 35 columns]"
      ]
     },
     "execution_count": 29,
     "metadata": {},
     "output_type": "execute_result"
    }
   ],
   "source": [
    "df = pd.read_csv(\"SBA/SBAcase.11.13.17.csv\")\n",
    "df.head()"
   ]
  },
  {
   "cell_type": "markdown",
   "metadata": {},
   "source": [
    "## Default"
   ]
  },
  {
   "cell_type": "code",
   "execution_count": 45,
   "metadata": {},
   "outputs": [
    {
     "data": {
      "text/plain": [
       "0.3263558515699334"
      ]
     },
     "execution_count": 45,
     "metadata": {},
     "output_type": "execute_result"
    }
   ],
   "source": [
    "prob_default = df[\"Default\"].sum()/df[\"Default\"].count()\n",
    "# prob_default = df[\"Default\"].mean()\n",
    "prob_default\n"
   ]
  },
  {
   "cell_type": "code",
   "execution_count": 31,
   "metadata": {},
   "outputs": [],
   "source": [
    "prob_loan_paid_full = 1 - prob_default"
   ]
  },
  {
   "cell_type": "code",
   "execution_count": 32,
   "metadata": {},
   "outputs": [
    {
     "data": {
      "image/png": "[encoded data removed]",
      "text/plain": [
       "<Figure size 432x288 with 1 Axes>"
      ]
     },
     "metadata": {
      "needs_background": "light"
     },
     "output_type": "display_data"
    }
   ],
   "source": [
    "objects = (\"Default\", \"Loan Paid Full\")\n",
    "prob = [prob_default, prob_loan_paid_full]\n",
    "y_pos = np.arange(len(objects))\n",
    "\n",
    "plt.bar(y_pos, prob, align='center', alpha=0.5)\n",
    "plt.xticks(y_pos, objects)\n",
    "plt.ylabel('Probability')\n",
    "plt.xlabel('Loan Type')\n",
    "plt.title('Type of  loan payment')\n",
    "\n",
    "plt.show()\n"
   ]
  },
  {
   "cell_type": "markdown",
   "metadata": {},
   "source": [
    "These are marginal probabilities.\n",
    "\n",
    "## Conditional Probability"
   ]
  },
  {
   "cell_type": "code",
   "execution_count": 33,
   "metadata": {},
   "outputs": [
    {
     "data": {
      "text/plain": [
       "0.345679012345679"
      ]
     },
     "execution_count": 33,
     "metadata": {},
     "output_type": "execute_result"
    }
   ],
   "source": [
    "df_default_new = df[(df.Default == 1) & (df.NewExist == 2)]\n",
    "df_new = df[(df.NewExist == 2)]\n",
    "cond_prob_def_new = len(df_default_new)/len(df_new)\n",
    "cond_prob_def_new"
   ]
  },
  {
   "cell_type": "code",
   "execution_count": 34,
   "metadata": {},
   "outputs": [
    {
     "data": {
      "text/plain": [
       "0.32319819819819817"
      ]
     },
     "execution_count": 34,
     "metadata": {},
     "output_type": "execute_result"
    }
   ],
   "source": [
    "df_default_existing = df[(df.Default == 1) & (df.NewExist == 1)]\n",
    "df_existing = df[(df.NewExist == 1)]\n",
    "cond_prob_def_existing = len(df_default_existing)/len(df_existing)\n",
    "cond_prob_def_existing"
   ]
  },
  {
   "cell_type": "code",
   "execution_count": 35,
   "metadata": {},
   "outputs": [
    {
     "data": {
      "image/png": "[encoded data removed]",
      "text/plain": [
       "<Figure size 432x288 with 1 Axes>"
      ]
     },
     "metadata": {
      "needs_background": "light"
     },
     "output_type": "display_data"
    }
   ],
   "source": [
    "objects = [\"P(Default|New)\", \"P(Default|Existing)\"]\n",
    "prob = [cond_prob_def_new, cond_prob_def_existing]\n",
    "y_pos = np.arange(len(objects))\n",
    "\n",
    "plt.bar(y_pos, prob, align='center', alpha=0.5)\n",
    "plt.xticks(y_pos, objects)\n",
    "plt.ylabel('Probability')\n",
    "plt.ylabel('Conditional Probability')\n",
    "plt.title('Conditinal Probablity of Loan type based on business type')\n",
    "plt.show()\n",
    "\n"
   ]
  },
  {
   "cell_type": "markdown",
   "metadata": {},
   "source": [
    "## Numeric Variables"
   ]
  },
  {
   "cell_type": "code",
   "execution_count": 51,
   "metadata": {},
   "outputs": [
    {
     "data": {
      "text/plain": [
       "count    6.860000e+02\n",
       "mean     6.122140e+04\n",
       "std      1.221802e+05\n",
       "min      1.610000e+02\n",
       "25%      1.713800e+04\n",
       "50%      3.306050e+04\n",
       "75%      4.979050e+04\n",
       "max      1.509550e+06\n",
       "Name: ChgOffPrinGr, dtype: float64"
      ]
     },
     "execution_count": 51,
     "metadata": {},
     "output_type": "execute_result"
    }
   ],
   "source": [
    "df_charge_off = df[(df.Default == 1)][\"ChgOffPrinGr\"]\n",
    "df_charge_off.describe()"
   ]
  },
  {
   "cell_type": "code",
   "execution_count": 54,
   "metadata": {},
   "outputs": [
    {
     "data": {
      "text/plain": [
       "<AxesSubplot:title={'center':'Distribution of Charge Off amount'}, xlabel='Charge Off amount', ylabel='Count'>"
      ]
     },
     "execution_count": 54,
     "metadata": {},
     "output_type": "execute_result"
    },
    {
     "data": {
      "image/png": "[encoded data removed]",
      "text/plain": [
       "<Figure size 432x288 with 1 Axes>"
      ]
     },
     "metadata": {
      "needs_background": "light"
     },
     "output_type": "display_data"
    }
   ],
   "source": [
    "plt.xlabel(\"Charge Off amount\")\n",
    "plt.ylabel(\"Count\")\n",
    "plt.title(\"Distribution of Charge Off amount\")\n",
    "df_charge_off.hist(bins=50)"
   ]
  },
  {
   "cell_type": "code",
   "execution_count": 55,
   "metadata": {},
   "outputs": [
    {
     "data": {
      "text/plain": [
       "1.0"
      ]
     },
     "execution_count": 55,
     "metadata": {},
     "output_type": "execute_result"
    }
   ],
   "source": [
    "len(df[(df.ChgOffPrinGr > 0) & (df.Default == 1) & (df.NewExist == 2)]) / len(df_default_new)"
   ]
  },
  {
   "cell_type": "code",
   "execution_count": 56,
   "metadata": {},
   "outputs": [
    {
     "data": {
      "text/plain": [
       "1.0"
      ]
     },
     "execution_count": 56,
     "metadata": {},
     "output_type": "execute_result"
    }
   ],
   "source": [
    "len(df[(df.ChgOffPrinGr > 0) & (df.Default == 1) & (df.NewExist == 1)]) / len(df_default_existing)"
   ]
  },
  {
   "cell_type": "code",
   "execution_count": null,
   "metadata": {},
   "outputs": [],
   "source": []
  }
 ],
 "metadata": {
  "interpreter": {
   "hash": "f58de355eaeeab151c79699a18b610ce44b8eeda43c73b39c5888f617d036b90"
  },
  "kernelspec": {
   "display_name": "Python 3.8.8 64-bit ('base': conda)",
   "name": "python3"
  },
  "language_info": {
   "codemirror_mode": {
    "name": "ipython",
    "version": 3
   },
   "file_extension": ".py",
   "mimetype": "text/x-python",
   "name": "python",
   "nbconvert_exporter": "python",
   "pygments_lexer": "ipython3",
   "version": "3.8.8"
  }
 },
 "nbformat": 4,
 "nbformat_minor": 2
}
