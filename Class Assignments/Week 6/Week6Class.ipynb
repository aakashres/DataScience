{
 "cells": [
  {
   "cell_type": "markdown",
   "metadata": {},
   "source": [
    "# Week 6 Exercise - Census Data\n",
    "\n",
    "This exercise has you apply two things:\n",
    "\n",
    "- Obtaining data from the census (see the [tutorial notebook](https://cs533.ekstrandom.net/f21/resources/tutorials/UsingTheCensus/)\n",
    "- Plotting two related numeric variables\n",
    "\n",
    "The guiding question for this notebook is “is a higher level of college education in the population correlated with income?”\n",
    "\n",
    "Let's go!"
   ]
  },
  {
   "cell_type": "markdown",
   "metadata": {},
   "source": [
    "## Setup\n",
    "\n",
    "We first need to make sure we have the `census` and `US` packages:"
   ]
  },
  {
   "cell_type": "code",
   "execution_count": 110,
   "metadata": {},
   "outputs": [],
   "source": [
    "\n",
    "# %pip install census us"
   ]
  },
  {
   "cell_type": "markdown",
   "metadata": {},
   "source": [
    "And then we can import:"
   ]
  },
  {
   "cell_type": "code",
   "execution_count": 111,
   "metadata": {},
   "outputs": [],
   "source": [
    "import pandas as pd\n",
    "import numpy as np\n",
    "import seaborn as sns\n",
    "import matplotlib.pyplot as plt\n",
    "from census import Census\n",
    "from us import states`"
   ]
  },
  {
   "cell_type": "markdown",
   "metadata": {},
   "source": [
    "And set up a census object (replace API KEY with your API key):"
   ]
  },
  {
   "cell_type": "code",
   "execution_count": 112,
   "metadata": {},
   "outputs": [],
   "source": [
    "c = Census('dc66950e8038b85d55fb6f692d5e69e38df8dee2')"
   ]
  },
  {
   "cell_type": "markdown",
   "metadata": {},
   "source": [
    "## Census Data\n",
    "\n",
    "The census data comes in a variety of *files*. These files include:\n",
    "\n",
    "- `sf1` — Summary File 1, containing complete count information on the *decennial* census.\n",
    "- `acs1` — American Community Survey, a supplementary annual survey of a sample of the population carried out by the census bureau every year.\n",
    "\n",
    "Both of these files are accessed in the same way, via the Census object, but they contain different variables.  Each contains thousands of variables.\n",
    "\n",
    "This notebook focuses on the ACS.  The [variable list](https://api.census.gov/data/2014/acs/acs5/variables.html) describes these variables, and the ones of interest are all reported as **estimated population counts**.  That means variable `B06009_003E` is an estimate, based on the sample, of the number of people in a geographic region whose highest educational attainment is a high school degree.\n",
    "\n",
    "To fetch data, we need to know three things:\n",
    "\n",
    "- The *geographic level* we want: county or state?\n",
    "- *Which* geographic area(s)?\n",
    "- The variables to retrieve.\n",
    "- The year. We're going to use 2014.\n",
    "\n",
    "Variables in turn are nested. Many variables are estimated population counts; for these, one variable is the total population, and others are counts within subgroups.  Look at the variable list to see how these are described:\n",
    "\n",
    "- `B01001_001E` is the estimated total population\n",
    "- `B01001_002E` is the estimated male population\n",
    "- `B01001_026E` is the estimated female population\n",
    "\n",
    "There are variables for a *lot* of different breakdowns.\n",
    "\n",
    "The API returns a list of dictionaries containing the variables.  Let's get the gender population estimate for Idaho:"
   ]
  },
  {
   "cell_type": "code",
   "execution_count": 113,
   "metadata": {},
   "outputs": [
    {
     "data": {
      "text/plain": [
       "[{'NAME': 'Idaho',\n",
       "  'B01001_001E': 1634464.0,\n",
       "  'B01001_002E': 817050.0,\n",
       "  'B01001_026E': 817414.0,\n",
       "  'state': '16'}]"
      ]
     },
     "execution_count": 113,
     "metadata": {},
     "output_type": "execute_result"
    }
   ],
   "source": [
    "c.acs1.state(('NAME', 'B01001_001E', 'B01001_002E', 'B01001_026E'), states.ID.fips, year=2014)"
   ]
  },
  {
   "cell_type": "markdown",
   "metadata": {},
   "source": [
    "Regions are identified by **FIPS codes**: numeric codes that identify states and counties.  Each state has a 2-digit FIPS code, and the `us.states` module lets us look up a state's FIPS code.  (We can also get a [table of them](https://www.census.gov/library/reference/code-lists/ansi/ansi-codes-for-states.html).)\n",
    "\n",
    "Each county's code is a 5-digit number: its state code, followed by 3 digits to identify the county.\n",
    "\n",
    "When calling `state`, we can provide `'*'` instead of a FIPS code to request all states, and use Pandas `from_records` to make a data frame:"
   ]
  },
  {
   "cell_type": "code",
   "execution_count": 114,
   "metadata": {},
   "outputs": [
    {
     "data": {
      "text/html": [
       "<div>\n",
       "<style scoped>\n",
       "    .dataframe tbody tr th:only-of-type {\n",
       "        vertical-align: middle;\n",
       "    }\n",
       "\n",
       "    .dataframe tbody tr th {\n",
       "        vertical-align: top;\n",
       "    }\n",
       "\n",
       "    .dataframe thead th {\n",
       "        text-align: right;\n",
       "    }\n",
       "</style>\n",
       "<table border=\"1\" class=\"dataframe\">\n",
       "  <thead>\n",
       "    <tr style=\"text-align: right;\">\n",
       "      <th></th>\n",
       "      <th>NAME</th>\n",
       "      <th>B01001_001E</th>\n",
       "      <th>B01001_002E</th>\n",
       "      <th>B01001_026E</th>\n",
       "      <th>state</th>\n",
       "    </tr>\n",
       "  </thead>\n",
       "  <tbody>\n",
       "    <tr>\n",
       "      <th>0</th>\n",
       "      <td>Alabama</td>\n",
       "      <td>4849377.0</td>\n",
       "      <td>2347969.0</td>\n",
       "      <td>2501408.0</td>\n",
       "      <td>01</td>\n",
       "    </tr>\n",
       "    <tr>\n",
       "      <th>1</th>\n",
       "      <td>Alaska</td>\n",
       "      <td>736732.0</td>\n",
       "      <td>385582.0</td>\n",
       "      <td>351150.0</td>\n",
       "      <td>02</td>\n",
       "    </tr>\n",
       "    <tr>\n",
       "      <th>2</th>\n",
       "      <td>Arizona</td>\n",
       "      <td>6731484.0</td>\n",
       "      <td>3342946.0</td>\n",
       "      <td>3388538.0</td>\n",
       "      <td>04</td>\n",
       "    </tr>\n",
       "    <tr>\n",
       "      <th>3</th>\n",
       "      <td>Arkansas</td>\n",
       "      <td>2966369.0</td>\n",
       "      <td>1456778.0</td>\n",
       "      <td>1509591.0</td>\n",
       "      <td>05</td>\n",
       "    </tr>\n",
       "    <tr>\n",
       "      <th>4</th>\n",
       "      <td>California</td>\n",
       "      <td>38802500.0</td>\n",
       "      <td>19264457.0</td>\n",
       "      <td>19538043.0</td>\n",
       "      <td>06</td>\n",
       "    </tr>\n",
       "  </tbody>\n",
       "</table>\n",
       "</div>"
      ],
      "text/plain": [
       "         NAME  B01001_001E  B01001_002E  B01001_026E state\n",
       "0     Alabama    4849377.0    2347969.0    2501408.0    01\n",
       "1      Alaska     736732.0     385582.0     351150.0    02\n",
       "2     Arizona    6731484.0    3342946.0    3388538.0    04\n",
       "3    Arkansas    2966369.0    1456778.0    1509591.0    05\n",
       "4  California   38802500.0   19264457.0   19538043.0    06"
      ]
     },
     "execution_count": 114,
     "metadata": {},
     "output_type": "execute_result"
    }
   ],
   "source": [
    "gender_pop = pd.DataFrame.from_records(\n",
    "    c.acs1.state(('NAME', 'B01001_001E', 'B01001_002E', 'B01001_026E'), '*', year=2014)\n",
    ")\n",
    "gender_pop.head()"
   ]
  },
  {
   "cell_type": "code",
   "execution_count": 115,
   "metadata": {},
   "outputs": [
    {
     "name": "stdout",
     "output_type": "stream",
     "text": [
      "<class 'pandas.core.frame.DataFrame'>\n",
      "RangeIndex: 52 entries, 0 to 51\n",
      "Data columns (total 5 columns):\n",
      " #   Column       Non-Null Count  Dtype  \n",
      "---  ------       --------------  -----  \n",
      " 0   NAME         52 non-null     object \n",
      " 1   B01001_001E  52 non-null     float64\n",
      " 2   B01001_002E  52 non-null     float64\n",
      " 3   B01001_026E  52 non-null     float64\n",
      " 4   state        52 non-null     object \n",
      "dtypes: float64(3), object(2)\n",
      "memory usage: 2.2+ KB\n"
     ]
    }
   ],
   "source": [
    "gender_pop.info()"
   ]
  },
  {
   "cell_type": "markdown",
   "metadata": {},
   "source": [
    "Why is total a string?  Let's make it an int:"
   ]
  },
  {
   "cell_type": "code",
   "execution_count": 116,
   "metadata": {},
   "outputs": [
    {
     "name": "stdout",
     "output_type": "stream",
     "text": [
      "<class 'pandas.core.frame.DataFrame'>\n",
      "RangeIndex: 52 entries, 0 to 51\n",
      "Data columns (total 5 columns):\n",
      " #   Column       Non-Null Count  Dtype \n",
      "---  ------       --------------  ----- \n",
      " 0   NAME         52 non-null     object\n",
      " 1   B01001_001E  52 non-null     int32 \n",
      " 2   B01001_002E  52 non-null     int32 \n",
      " 3   B01001_026E  52 non-null     int32 \n",
      " 4   state        52 non-null     object\n",
      "dtypes: int32(3), object(2)\n",
      "memory usage: 1.5+ KB\n"
     ]
    }
   ],
   "source": [
    "gender_pop['B01001_001E'] = gender_pop['B01001_001E'].astype('i4')\n",
    "gender_pop['B01001_002E'] = gender_pop['B01001_002E'].astype('i4')\n",
    "gender_pop['B01001_026E'] = gender_pop['B01001_026E'].astype('i4')\n",
    "gender_pop.info()"
   ]
  },
  {
   "cell_type": "markdown",
   "metadata": {},
   "source": [
    "✅ **Todo:** do the following:\n",
    "\n",
    "- Rename the columns to have meaningful names\n",
    "- Compute the fraction of the population that is female in each state\n",
    "- Plot the distribution of '% female'"
   ]
  },
  {
   "cell_type": "code",
   "execution_count": 117,
   "metadata": {},
   "outputs": [
    {
     "name": "stdout",
     "output_type": "stream",
     "text": [
      "<class 'pandas.core.frame.DataFrame'>\n",
      "RangeIndex: 52 entries, 0 to 51\n",
      "Data columns (total 6 columns):\n",
      " #   Column             Non-Null Count  Dtype  \n",
      "---  ------             --------------  -----  \n",
      " 0   NAME               52 non-null     object \n",
      " 1   total_population   52 non-null     int32  \n",
      " 2   male_population    52 non-null     int32  \n",
      " 3   female_population  52 non-null     int32  \n",
      " 4   state              52 non-null     object \n",
      " 5   % female           52 non-null     float64\n",
      "dtypes: float64(1), int32(3), object(2)\n",
      "memory usage: 2.0+ KB\n"
     ]
    }
   ],
   "source": [
    "gender_pop = gender_pop.rename(columns={\n",
    "    \"B01001_001E\": \"total_population\",\n",
    "    \"B01001_002E\": \"male_population\",\n",
    "    \"B01001_026E\": \"female_population\"\n",
    "})\n",
    "gender_pop[\"% female\"] = (gender_pop[\"female_population\"]/gender_pop[\"total_population\"])*100\n",
    "gender_pop.info()"
   ]
  },
  {
   "cell_type": "code",
   "execution_count": 118,
   "metadata": {},
   "outputs": [
    {
     "data": {
      "text/plain": [
       "<seaborn.axisgrid.FacetGrid at 0x29c5781d970>"
      ]
     },
     "execution_count": 118,
     "metadata": {},
     "output_type": "execute_result"
    },
    {
     "data": {
      "image/png": "[encoded data removed]",
      "text/plain": [
       "<Figure size 360x360 with 1 Axes>"
      ]
     },
     "metadata": {
      "needs_background": "light"
     },
     "output_type": "display_data"
    }
   ],
   "source": [
    "sns.displot(gender_pop[\"% female\"])"
   ]
  },
  {
   "cell_type": "markdown",
   "metadata": {},
   "source": [
    "`## Educational Attainment and Income\n",
    "\n",
    "The [06009](https://www.socialexplorer.com/data/ACS2014_5yr/metadata/?ds=ACS14_5yr&table=B06009) variables (`B06009_001E` and subcounts) report the number of people whose highest education is at at different levels. `B06009_002E` is people who have not completed high school, etc.  The [07011](https://www.socialexplorer.com/data/ACS2014_5yr/metadata/?ds=ACS14_5yr&table=B07011) variable reports the median income (`B07011_001E` is an estimate of median income - it is one of the variables that is *not* reported as a population count).\n",
    "\n",
    "1. Fetch these variables for all states.\n",
    "2. Compute the **fraction** of the population that has at least completed college.  Look at the variable list to see which variables you will need.\n",
    "3. Show the distribution of this variable."
   ]
  },
  {
   "cell_type": "code",
   "execution_count": 126,
   "metadata": {
    "scrolled": true
   },
   "outputs": [
    {
     "data": {
      "text/html": [
       "<div>\n",
       "<style scoped>\n",
       "    .dataframe tbody tr th:only-of-type {\n",
       "        vertical-align: middle;\n",
       "    }\n",
       "\n",
       "    .dataframe tbody tr th {\n",
       "        vertical-align: top;\n",
       "    }\n",
       "\n",
       "    .dataframe thead th {\n",
       "        text-align: right;\n",
       "    }\n",
       "</style>\n",
       "<table border=\"1\" class=\"dataframe\">\n",
       "  <thead>\n",
       "    <tr style=\"text-align: right;\">\n",
       "      <th></th>\n",
       "      <th>NAME</th>\n",
       "      <th>total</th>\n",
       "      <th>some_college_associate</th>\n",
       "      <th>bachelors</th>\n",
       "      <th>grad_prof</th>\n",
       "      <th>median_income</th>\n",
       "      <th>state</th>\n",
       "      <th>atleast_college</th>\n",
       "    </tr>\n",
       "  </thead>\n",
       "  <tbody>\n",
       "    <tr>\n",
       "      <th>0</th>\n",
       "      <td>Alabama</td>\n",
       "      <td>3256766.0</td>\n",
       "      <td>965935.0</td>\n",
       "      <td>478058.0</td>\n",
       "      <td>286349.0</td>\n",
       "      <td>22327.0</td>\n",
       "      <td>01</td>\n",
       "      <td>23.471352</td>\n",
       "    </tr>\n",
       "    <tr>\n",
       "      <th>1</th>\n",
       "      <td>Alaska</td>\n",
       "      <td>465149.0</td>\n",
       "      <td>169645.0</td>\n",
       "      <td>85634.0</td>\n",
       "      <td>44630.0</td>\n",
       "      <td>31557.0</td>\n",
       "      <td>02</td>\n",
       "      <td>28.004790</td>\n",
       "    </tr>\n",
       "    <tr>\n",
       "      <th>2</th>\n",
       "      <td>Arizona</td>\n",
       "      <td>4436226.0</td>\n",
       "      <td>1515336.0</td>\n",
       "      <td>765784.0</td>\n",
       "      <td>456508.0</td>\n",
       "      <td>26070.0</td>\n",
       "      <td>04</td>\n",
       "      <td>27.552519</td>\n",
       "    </tr>\n",
       "    <tr>\n",
       "      <th>3</th>\n",
       "      <td>Arkansas</td>\n",
       "      <td>1968414.0</td>\n",
       "      <td>571933.0</td>\n",
       "      <td>272411.0</td>\n",
       "      <td>148547.0</td>\n",
       "      <td>22179.0</td>\n",
       "      <td>05</td>\n",
       "      <td>21.385643</td>\n",
       "    </tr>\n",
       "    <tr>\n",
       "      <th>4</th>\n",
       "      <td>California</td>\n",
       "      <td>25654292.0</td>\n",
       "      <td>7563244.0</td>\n",
       "      <td>5120162.0</td>\n",
       "      <td>3016508.0</td>\n",
       "      <td>26997.0</td>\n",
       "      <td>06</td>\n",
       "      <td>31.716603</td>\n",
       "    </tr>\n",
       "  </tbody>\n",
       "</table>\n",
       "</div>"
      ],
      "text/plain": [
       "         NAME       total  some_college_associate  bachelors  grad_prof  \\\n",
       "0     Alabama   3256766.0                965935.0   478058.0   286349.0   \n",
       "1      Alaska    465149.0                169645.0    85634.0    44630.0   \n",
       "2     Arizona   4436226.0               1515336.0   765784.0   456508.0   \n",
       "3    Arkansas   1968414.0                571933.0   272411.0   148547.0   \n",
       "4  California  25654292.0               7563244.0  5120162.0  3016508.0   \n",
       "\n",
       "   median_income state  atleast_college  \n",
       "0        22327.0    01        23.471352  \n",
       "1        31557.0    02        28.004790  \n",
       "2        26070.0    04        27.552519  \n",
       "3        22179.0    05        21.385643  \n",
       "4        26997.0    06        31.716603  "
      ]
     },
     "execution_count": 126,
     "metadata": {},
     "output_type": "execute_result"
    }
   ],
   "source": [
    "fetch_variables = (\n",
    "    \"NAME\",\n",
    "    \"B06009_001E\",\n",
    "    \"B06009_004E\",\n",
    "    \"B06009_005E\",\n",
    "    \"B06009_006E\",\n",
    "    \"B07011_001E\"\n",
    ")\n",
    "ed_income = pd.DataFrame.from_records(\n",
    "    c.acs1.state(fetch_variables, '*', year=2014)\n",
    ").rename(columns ={\n",
    "        \"B06009_001E\": \"total\",\n",
    "        \"B06009_004E\": \"some_college_associate\",\n",
    "        \"B06009_005E\": \"bachelors\",\n",
    "        \"B06009_006E\": \"grad_prof\",\n",
    "        \"B07011_001E\": \"median_income\",\n",
    "    })\n",
    "ed_income[\"atleast_college\"] = ((ed_income[\"bachelors\"] + ed_income[\"grad_prof\"])* 100) /ed_income[\"total\"]\n",
    "ed_income.head()"
   ]
  },
  {
   "cell_type": "markdown",
   "metadata": {},
   "source": [
    "Not all variables are counts! `B07011_001E` is the **median income** for a region.\n",
    "\n",
    "Fetch it too, and show *its* distribution!"
   ]
  },
  {
   "cell_type": "code",
   "execution_count": 120,
   "metadata": {},
   "outputs": [
    {
     "data": {
      "text/plain": [
       "<seaborn.axisgrid.FacetGrid at 0x29c5a1f9130>"
      ]
     },
     "execution_count": 120,
     "metadata": {},
     "output_type": "execute_result"
    },
    {
     "data": {
      "image/png": "[encoded data removed]",
      "text/plain": [
       "<Figure size 360x360 with 1 Axes>"
      ]
     },
     "metadata": {
      "needs_background": "light"
     },
     "output_type": "display_data"
    }
   ],
   "source": [
    "sns.displot(ed_income[\"median_income\"])"
   ]
  },
  {
   "cell_type": "markdown",
   "metadata": {},
   "source": [
    "\n",
    "Now, look at the question: do states with a higher fraction of their education college-educated have higher median incomes?  Show with a scatterplot and compute a correlation coefficient (Pandas `.corr` method)."
   ]
  },
  {
   "cell_type": "code",
   "execution_count": 127,
   "metadata": {},
   "outputs": [
    {
     "data": {
      "image/png": "[encoded data removed]",
      "text/plain": [
       "<Figure size 432x288 with 1 Axes>"
      ]
     },
     "metadata": {
      "needs_background": "light"
     },
     "output_type": "display_data"
    }
   ],
   "source": [
    "sns.scatterplot(x='atleast_college', y='median_income', data=ed_income)\n",
    "plt.show()"
   ]
  },
  {
   "cell_type": "code",
   "execution_count": 128,
   "metadata": {},
   "outputs": [
    {
     "data": {
      "text/plain": [
       "0.8559252302571804"
      ]
     },
     "execution_count": 128,
     "metadata": {},
     "output_type": "execute_result"
    }
   ],
   "source": [
    "ed_income['atleast_college'].corr(ed_income['median_income'])"
   ]
  },
  {
   "cell_type": "markdown",
   "metadata": {},
   "source": [
    "## County Level\n",
    "\n",
    "(if you have time)\n",
    "\n",
    "The `c.acs1.state_county` method fetches county-level data.  For example, to fetch data from counties in Idaho:"
   ]
  },
  {
   "cell_type": "markdown",
   "metadata": {},
   "source": [
    "A lot of counties are missing, because there is not enough sample data from them.\n",
    "\n",
    "You can provide `'*'` for both state and county, to get all counties in the US (for which data is available).\n",
    "\n",
    "Look at education and income at the county level!"
   ]
  },
  {
   "cell_type": "code",
   "execution_count": 131,
   "metadata": {},
   "outputs": [
    {
     "data": {
      "text/html": [
       "<div>\n",
       "<style scoped>\n",
       "    .dataframe tbody tr th:only-of-type {\n",
       "        vertical-align: middle;\n",
       "    }\n",
       "\n",
       "    .dataframe tbody tr th {\n",
       "        vertical-align: top;\n",
       "    }\n",
       "\n",
       "    .dataframe thead th {\n",
       "        text-align: right;\n",
       "    }\n",
       "</style>\n",
       "<table border=\"1\" class=\"dataframe\">\n",
       "  <thead>\n",
       "    <tr style=\"text-align: right;\">\n",
       "      <th></th>\n",
       "      <th>NAME</th>\n",
       "      <th>total</th>\n",
       "      <th>some_college_associate</th>\n",
       "      <th>bachelors</th>\n",
       "      <th>grad_prof</th>\n",
       "      <th>median_income</th>\n",
       "      <th>state</th>\n",
       "      <th>county</th>\n",
       "      <th>atleast_college</th>\n",
       "    </tr>\n",
       "  </thead>\n",
       "  <tbody>\n",
       "    <tr>\n",
       "      <th>0</th>\n",
       "      <td>Santa Cruz County, California</td>\n",
       "      <td>175924.0</td>\n",
       "      <td>53195.0</td>\n",
       "      <td>42919.0</td>\n",
       "      <td>26595.0</td>\n",
       "      <td>27000.0</td>\n",
       "      <td>06</td>\n",
       "      <td>087</td>\n",
       "      <td>39.513654</td>\n",
       "    </tr>\n",
       "    <tr>\n",
       "      <th>1</th>\n",
       "      <td>Shasta County, California</td>\n",
       "      <td>125999.0</td>\n",
       "      <td>58360.0</td>\n",
       "      <td>16808.0</td>\n",
       "      <td>9365.0</td>\n",
       "      <td>22980.0</td>\n",
       "      <td>06</td>\n",
       "      <td>089</td>\n",
       "      <td>20.772387</td>\n",
       "    </tr>\n",
       "    <tr>\n",
       "      <th>2</th>\n",
       "      <td>Solano County, California</td>\n",
       "      <td>289822.0</td>\n",
       "      <td>116027.0</td>\n",
       "      <td>52014.0</td>\n",
       "      <td>20201.0</td>\n",
       "      <td>30657.0</td>\n",
       "      <td>06</td>\n",
       "      <td>095</td>\n",
       "      <td>24.917018</td>\n",
       "    </tr>\n",
       "    <tr>\n",
       "      <th>3</th>\n",
       "      <td>Sonoma County, California</td>\n",
       "      <td>352785.0</td>\n",
       "      <td>117681.0</td>\n",
       "      <td>80145.0</td>\n",
       "      <td>42789.0</td>\n",
       "      <td>30722.0</td>\n",
       "      <td>06</td>\n",
       "      <td>097</td>\n",
       "      <td>34.846720</td>\n",
       "    </tr>\n",
       "    <tr>\n",
       "      <th>4</th>\n",
       "      <td>Stanislaus County, California</td>\n",
       "      <td>332346.0</td>\n",
       "      <td>113109.0</td>\n",
       "      <td>38013.0</td>\n",
       "      <td>18547.0</td>\n",
       "      <td>23227.0</td>\n",
       "      <td>06</td>\n",
       "      <td>099</td>\n",
       "      <td>17.018409</td>\n",
       "    </tr>\n",
       "  </tbody>\n",
       "</table>\n",
       "</div>"
      ],
      "text/plain": [
       "                            NAME     total  some_college_associate  bachelors  \\\n",
       "0  Santa Cruz County, California  175924.0                 53195.0    42919.0   \n",
       "1      Shasta County, California  125999.0                 58360.0    16808.0   \n",
       "2      Solano County, California  289822.0                116027.0    52014.0   \n",
       "3      Sonoma County, California  352785.0                117681.0    80145.0   \n",
       "4  Stanislaus County, California  332346.0                113109.0    38013.0   \n",
       "\n",
       "   grad_prof  median_income state county  atleast_college  \n",
       "0    26595.0        27000.0    06    087        39.513654  \n",
       "1     9365.0        22980.0    06    089        20.772387  \n",
       "2    20201.0        30657.0    06    095        24.917018  \n",
       "3    42789.0        30722.0    06    097        34.846720  \n",
       "4    18547.0        23227.0    06    099        17.018409  "
      ]
     },
     "execution_count": 131,
     "metadata": {},
     "output_type": "execute_result"
    }
   ],
   "source": [
    "county_income = pd.DataFrame.from_records(\n",
    "    c.acs1.state_county(fetch_variables, '*', '*', year=2014)\n",
    ").rename(columns ={\n",
    "        \"B06009_001E\": \"total\",\n",
    "        \"B06009_004E\": \"some_college_associate\",\n",
    "        \"B06009_005E\": \"bachelors\",\n",
    "        \"B06009_006E\": \"grad_prof\",\n",
    "        \"B07011_001E\": \"median_income\",\n",
    "    })\n",
    "\n",
    "county_income[\"atleast_college\"] = ((county_income[\"bachelors\"] + county_income[\"grad_prof\"])* 100) /county_income[\"total\"]\n",
    "county_income.head()"
   ]
  },
  {
   "cell_type": "code",
   "execution_count": 132,
   "metadata": {},
   "outputs": [
    {
     "data": {
      "text/plain": [
       "0.6960967404711904"
      ]
     },
     "execution_count": 132,
     "metadata": {},
     "output_type": "execute_result"
    }
   ],
   "source": [
    "county_income['atleast_college'].corr(county_income['median_income'])"
   ]
  },
  {
   "cell_type": "code",
   "execution_count": 133,
   "metadata": {},
   "outputs": [
    {
     "data": {
      "image/png": "[encoded data removed]",
      "text/plain": [
       "<Figure size 432x288 with 1 Axes>"
      ]
     },
     "metadata": {
      "needs_background": "light"
     },
     "output_type": "display_data"
    }
   ],
   "source": [
    "sns.scatterplot(x='atleast_college', y='median_income', data=county_income)\n",
    "plt.show()"
   ]
  }
 ],
 "metadata": {
  "interpreter": {
   "hash": "f58de355eaeeab151c79699a18b610ce44b8eeda43c73b39c5888f617d036b90"
  },
  "kernelspec": {
   "display_name": "Python 3.8.8 64-bit ('base': conda)",
   "name": "python3"
  },
  "language_info": {
   "codemirror_mode": {
    "name": "ipython",
    "version": 3
   },
   "file_extension": ".py",
   "mimetype": "text/x-python",
   "name": "python",
   "nbconvert_exporter": "python",
   "pygments_lexer": "ipython3",
   "version": "3.8.8"
  }
 },
 "nbformat": 4,
 "nbformat_minor": 4
}
