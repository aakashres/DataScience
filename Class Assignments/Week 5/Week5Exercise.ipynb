{
 "cells": [
  {
   "cell_type": "markdown",
   "source": [
    "# Week 5 Application Exercise\n",
    "\n",
    "This is the starting notebook for the Week 5 application exercise.  It is intended to demonstrate several things:\n",
    "\n",
    "- The use of simulation as a tool for understanding statistical methods\n",
    "- Performing hypothesis tests\n",
    "- The difference between paired and two-sample tests\n",
    "\n",
    "Save the notebook file and `.py` file into the same folder to start work on the assignment.\n",
    "\n",
    "Please treat the experiment as a black box and infer its behavior using the statistical techniques we have learned in class.  After class, I invite you to look at its source code and see how it works.\n",
    "\n",
    "The core idea of this is to identify whether “fabulators” under condition A have higher (or lower) nonsense production than under condition B.  The code will describe an experimental design, and allow you to “run” the experiment to draw samples."
   ],
   "metadata": {}
  },
  {
   "cell_type": "markdown",
   "source": [
    "## Software Requirements\n",
    "\n",
    "This exercise requires an additional Python package that is not included in a default Anaconda install - the [seedbank](https://seedbank.lenskit.org) library.  You can install this with Pip:\n",
    "\n",
    "    pip install seedbank\n",
    "\n",
    "It's also available in Conda-Forge:\n",
    "\n",
    "    conda install -c conda-forge seedbank\n",
    "    \n",
    "Because it only has a few dependencies, and they are all included in almost all base Conda environments, the Pip installation works fine, and doesn't mix packages between Conda repositories."
   ],
   "metadata": {}
  },
  {
   "cell_type": "markdown",
   "source": [
    "## Setup\n",
    "\n",
    "This project requires an additional \n",
    "\n",
    "We need to do our usual imports:"
   ],
   "metadata": {}
  },
  {
   "cell_type": "code",
   "execution_count": 1,
   "source": [
    "import pandas as pd\r\n",
    "import numpy as np\r\n",
    "import scipy.stats as stats\r\n",
    "import statsmodels.api as sm\r\n",
    "import seaborn as sns\r\n",
    "import matplotlib.pyplot as plt"
   ],
   "outputs": [],
   "metadata": {}
  },
  {
   "cell_type": "markdown",
   "source": [
    "Because we are using random number generation, we want to **seed** the random number generator.  If we initialize it with the a fixed seed, re-running the notebook repeatedly will produce the same results.  This is useful for debugging and reproducibility.  We'll often want to re-run with a *different* seed before submitting, just to make sure that our results aren't accidentally the result of a pathological choice of random seeds.\n",
    "\n",
    "The Seedbank library initializes and seeds a wide range of Python random number generators.  The basic usage is to directly seed with a call to `initialize` (for teaching notebooks, I often use the current date as my random seed):\n",
    "\n",
    "    import seedbank\n",
    "    seedbank.initialize(20210923)\n",
    "\n",
    "However, if we all ran that code, we would all get the same results, but for this exercise I would like different teams to get *different* results.  Therefore, we will take advantage of another Seedbank feature that allows us to specify additional string keys that get incorporated into the random seed.  In the following cell, edit it to use your team name:"
   ],
   "metadata": {}
  },
  {
   "cell_type": "code",
   "execution_count": 2,
   "source": [
    "TEAM_NAME = 'Superb'\r\n",
    "import seedbank\r\n",
    "seedbank.initialize(20210923, TEAM_NAME)"
   ],
   "outputs": [
    {
     "output_type": "execute_result",
     "data": {
      "text/plain": [
       "SeedSequence(\n",
       "    entropy=20210923,\n",
       "    spawn_key=(array([4049955277, 4289374129, 1726998685,  908397139], dtype=uint32),),\n",
       ")"
      ]
     },
     "metadata": {},
     "execution_count": 2
    }
   ],
   "metadata": {}
  },
  {
   "cell_type": "markdown",
   "source": [
    "The last piece is to import our custom module to get a 'world' from which we can sample:"
   ],
   "metadata": {}
  },
  {
   "cell_type": "code",
   "execution_count": 3,
   "source": [
    "from cs533_w5_world import Experiment"
   ],
   "outputs": [],
   "metadata": {}
  },
  {
   "cell_type": "markdown",
   "source": [
    "And then create our experiment:"
   ],
   "metadata": {}
  },
  {
   "cell_type": "code",
   "execution_count": 4,
   "source": [
    "exp = Experiment()"
   ],
   "outputs": [],
   "metadata": {}
  },
  {
   "cell_type": "markdown",
   "source": [
    "## Getting Data\n",
    "\n",
    "We first need to know where our data is coming from.  The experiment describes itself:"
   ],
   "metadata": {}
  },
  {
   "cell_type": "code",
   "execution_count": 5,
   "source": [
    "print(exp.describe())"
   ],
   "outputs": [
    {
     "output_type": "stream",
     "name": "stdout",
     "text": [
      "This experiment measures the nonsense output of fabulators trained at different\n",
      "schools to see if they produce nonsense at different rates.\n",
      "\n",
      "It measures how much nonsense each fabulator produces in a 10-minute period under\n",
      "identical conditions.\n",
      "\n",
      "Your goal is to measure assess whether school A's fabulators produce more (or less)\n",
      "nonsense than those from school B.\n"
     ]
    }
   ],
   "metadata": {}
  },
  {
   "cell_type": "markdown",
   "source": [
    "We can run an instance of this experiment with size 50:"
   ],
   "metadata": {}
  },
  {
   "cell_type": "code",
   "execution_count": 6,
   "source": [
    "SAMPLE_SIZE = 50\r\n",
    "data = exp.run_experiment(SAMPLE_SIZE)\r\n",
    "data"
   ],
   "outputs": [
    {
     "output_type": "execute_result",
     "data": {
      "text/html": [
       "<div>\n",
       "<style scoped>\n",
       "    .dataframe tbody tr th:only-of-type {\n",
       "        vertical-align: middle;\n",
       "    }\n",
       "\n",
       "    .dataframe tbody tr th {\n",
       "        vertical-align: top;\n",
       "    }\n",
       "\n",
       "    .dataframe thead th {\n",
       "        text-align: right;\n",
       "    }\n",
       "</style>\n",
       "<table border=\"1\" class=\"dataframe\">\n",
       "  <thead>\n",
       "    <tr style=\"text-align: right;\">\n",
       "      <th></th>\n",
       "      <th>subject</th>\n",
       "      <th>School</th>\n",
       "      <th>Nonsense</th>\n",
       "    </tr>\n",
       "  </thead>\n",
       "  <tbody>\n",
       "    <tr>\n",
       "      <th>0</th>\n",
       "      <td>1</td>\n",
       "      <td>A</td>\n",
       "      <td>492.230040</td>\n",
       "    </tr>\n",
       "    <tr>\n",
       "      <th>1</th>\n",
       "      <td>2</td>\n",
       "      <td>A</td>\n",
       "      <td>499.327658</td>\n",
       "    </tr>\n",
       "    <tr>\n",
       "      <th>2</th>\n",
       "      <td>3</td>\n",
       "      <td>A</td>\n",
       "      <td>496.955495</td>\n",
       "    </tr>\n",
       "    <tr>\n",
       "      <th>3</th>\n",
       "      <td>4</td>\n",
       "      <td>A</td>\n",
       "      <td>489.110491</td>\n",
       "    </tr>\n",
       "    <tr>\n",
       "      <th>4</th>\n",
       "      <td>5</td>\n",
       "      <td>A</td>\n",
       "      <td>489.807691</td>\n",
       "    </tr>\n",
       "    <tr>\n",
       "      <th>...</th>\n",
       "      <td>...</td>\n",
       "      <td>...</td>\n",
       "      <td>...</td>\n",
       "    </tr>\n",
       "    <tr>\n",
       "      <th>95</th>\n",
       "      <td>96</td>\n",
       "      <td>B</td>\n",
       "      <td>474.983101</td>\n",
       "    </tr>\n",
       "    <tr>\n",
       "      <th>96</th>\n",
       "      <td>97</td>\n",
       "      <td>B</td>\n",
       "      <td>538.775143</td>\n",
       "    </tr>\n",
       "    <tr>\n",
       "      <th>97</th>\n",
       "      <td>98</td>\n",
       "      <td>B</td>\n",
       "      <td>501.743352</td>\n",
       "    </tr>\n",
       "    <tr>\n",
       "      <th>98</th>\n",
       "      <td>99</td>\n",
       "      <td>B</td>\n",
       "      <td>466.908164</td>\n",
       "    </tr>\n",
       "    <tr>\n",
       "      <th>99</th>\n",
       "      <td>100</td>\n",
       "      <td>B</td>\n",
       "      <td>530.777849</td>\n",
       "    </tr>\n",
       "  </tbody>\n",
       "</table>\n",
       "<p>100 rows × 3 columns</p>\n",
       "</div>"
      ],
      "text/plain": [
       "    subject School    Nonsense\n",
       "0         1      A  492.230040\n",
       "1         2      A  499.327658\n",
       "2         3      A  496.955495\n",
       "3         4      A  489.110491\n",
       "4         5      A  489.807691\n",
       "..      ...    ...         ...\n",
       "95       96      B  474.983101\n",
       "96       97      B  538.775143\n",
       "97       98      B  501.743352\n",
       "98       99      B  466.908164\n",
       "99      100      B  530.777849\n",
       "\n",
       "[100 rows x 3 columns]"
      ]
     },
     "metadata": {},
     "execution_count": 6
    }
   ],
   "metadata": {}
  },
  {
   "cell_type": "markdown",
   "source": [
    "## Comparing Conditions/Groups\n",
    "\n",
    "Review the experiment description.  You need to compare A and B with a *t*-test, but the precise details will depend on your experiment structure.\n",
    "\n",
    "✅ Do you need to use a **paired** t-test or an **independent two-sample** t-test for this analysis?"
   ],
   "metadata": {}
  },
  {
   "cell_type": "markdown",
   "source": [
    "We will use independent two-sample t test because we are analyzing nonsense produced by two group of schools."
   ],
   "metadata": {}
  },
  {
   "cell_type": "markdown",
   "source": [
    "✅ What is the **null hypothesis** for the test with this data?"
   ],
   "metadata": {}
  },
  {
   "cell_type": "markdown",
   "source": [
    "The mean nonsense value for both school's fabulators  is same."
   ],
   "metadata": {}
  },
  {
   "cell_type": "markdown",
   "source": [
    "✅ Compute the means of both groups or conditions:"
   ],
   "metadata": {}
  },
  {
   "cell_type": "code",
   "execution_count": 15,
   "source": [
    "group_a = data[data[\"School\"] == \"A\"]\r\n",
    "group_b = data[data[\"School\"] == \"B\"]\r\n",
    "mean_a = group_a[\"Nonsense\"].mean()\r\n",
    "mean_b = group_b[\"Nonsense\"].mean()"
   ],
   "outputs": [],
   "metadata": {}
  },
  {
   "cell_type": "markdown",
   "source": [
    "✅ Compute the *difference* in means. How much more nonsense is produced in A vs. B?\n",
    "\n",
    "This is also called the *effect size* (or specifically, the *unstandardized effect size*)."
   ],
   "metadata": {}
  },
  {
   "cell_type": "code",
   "execution_count": 17,
   "source": [
    "diff = mean_b - mean_a\r\n",
    "diff"
   ],
   "outputs": [
    {
     "output_type": "execute_result",
     "data": {
      "text/plain": [
       "0.7090985296188137"
      ]
     },
     "metadata": {},
     "execution_count": 17
    }
   ],
   "metadata": {}
  },
  {
   "cell_type": "markdown",
   "source": [
    "✅ Run the appropriate *t*-test to test if this difference is statistically significant and obtain a *p*-value:"
   ],
   "metadata": {}
  },
  {
   "cell_type": "code",
   "execution_count": 19,
   "source": [
    "stats.ttest_ind(group_a[\"Nonsense\"], group_b[\"Nonsense\"], nan_policy=\"omit\")"
   ],
   "outputs": [
    {
     "output_type": "execute_result",
     "data": {
      "text/plain": [
       "Ttest_indResult(statistic=-0.2349683687736111, pvalue=0.8147235475400832)"
      ]
     },
     "metadata": {},
     "execution_count": 19
    }
   ],
   "metadata": {}
  },
  {
   "cell_type": "markdown",
   "source": [
    "✅ What does this result mean?"
   ],
   "metadata": {}
  },
  {
   "cell_type": "markdown",
   "source": [
    "p = 0.81 > 0.05. If school A and school B"
   ],
   "metadata": {}
  },
  {
   "cell_type": "markdown",
   "source": [
    "## Bootstrap\n",
    "\n",
    "✅ Bootstrap a confidence interval for the effect size (note that the bootstrap procedure will differ between paired and unpaired analyses):"
   ],
   "metadata": {}
  },
  {
   "cell_type": "code",
   "execution_count": null,
   "source": [],
   "outputs": [],
   "metadata": {}
  },
  {
   "cell_type": "markdown",
   "source": [
    "## Sampling Distribution\n",
    "\n",
    "✅ Compute the effect size of **100 runs** of your experiment.  Describe the distribution of these effect sizes numerically and graphically."
   ],
   "metadata": {}
  },
  {
   "cell_type": "code",
   "execution_count": null,
   "source": [],
   "outputs": [],
   "metadata": {}
  },
  {
   "cell_type": "markdown",
   "source": [
    "⚠ While the confidence interval above will likely be close percentiles of the effect size distribution, they are not the same thing.  **Why is that?**"
   ],
   "metadata": {}
  },
  {
   "cell_type": "markdown",
   "source": [
    "## The Answers\n",
    "\n",
    "The experiment can tell you the answers (do **not** run this until you have completed the rest):"
   ],
   "metadata": {}
  },
  {
   "cell_type": "code",
   "execution_count": null,
   "source": [
    "exp.answers()"
   ],
   "outputs": [],
   "metadata": {}
  },
  {
   "cell_type": "markdown",
   "source": [
    "## Other Analysis\n",
    "\n",
    "If you have time, create a second experiment with the opposite configuration of your initial.  The experiment class takes a `paired` option that you can use to force a paired or unpaired design by passing `True` or `False`:\n",
    "\n",
    "    exp2 = Experiment(paired=True)\n",
    "\n",
    "If you needed a paired analysis above, create an unpaired experiment (`paired=False`); if you used an independent analysis above, create a paired analysis. Repeat as much of your analysis as you can with the new experimental design."
   ],
   "metadata": {}
  },
  {
   "cell_type": "code",
   "execution_count": null,
   "source": [],
   "outputs": [],
   "metadata": {}
  }
 ],
 "metadata": {
  "kernelspec": {
   "name": "python3",
   "display_name": "Python 3.8.8 64-bit ('base': conda)"
  },
  "language_info": {
   "codemirror_mode": {
    "name": "ipython",
    "version": 3
   },
   "file_extension": ".py",
   "mimetype": "text/x-python",
   "name": "python",
   "nbconvert_exporter": "python",
   "pygments_lexer": "ipython3",
   "version": "3.8.8"
  },
  "interpreter": {
   "hash": "f58de355eaeeab151c79699a18b610ce44b8eeda43c73b39c5888f617d036b90"
  }
 },
 "nbformat": 4,
 "nbformat_minor": 5
}